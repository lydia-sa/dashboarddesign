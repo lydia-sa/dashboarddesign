{
 "cells": [
  {
   "cell_type": "markdown",
   "source": [
    "## Aufgaben 3"
   ],
   "metadata": {
    "collapsed": false
   }
  },
  {
   "cell_type": "markdown",
   "source": [
    "### (a) Datensatz einlesen\n",
    " Schreiben Sie Python-Code, mit dem Sie Ihren Datensatz einlesen können. Ihre erste Aufgabe ist es, die Daten in ein entsprechendes Datenformat zu transformieren, um es später vom Dashboard zugreifbar zu machen. Sie können die Daten entweder online zugreifen oder aber die Daten lokal auf Ihrem Rechner speichern und dort dann einlesen. Sind die Daten zu gross, dann lesen Sie nur einen Teil der Daten ein.\n",
    "\n"
   ],
   "metadata": {
    "collapsed": false
   }
  },
  {
   "cell_type": "code",
   "execution_count": 4,
   "outputs": [],
   "source": [
    "import pandas as pd"
   ],
   "metadata": {
    "collapsed": false
   }
  },
  {
   "cell_type": "code",
   "execution_count": 7,
   "outputs": [],
   "source": [
    "df = pd.read_csv(\"Dataset_videogames sales.csv\", sep=';')"
   ],
   "metadata": {
    "collapsed": false
   }
  },
  {
   "cell_type": "code",
   "execution_count": 8,
   "outputs": [
    {
     "data": {
      "text/plain": "   Rank                      Name Platform Platform Company type of console   \n0     1                Wii Sports      Wii         Nintendo              TV  \\\n1     2         Super Mario Bros.      NES         Nintendo              TV   \n2     3            Mario Kart Wii      Wii         Nintendo              TV   \n3     4         Wii Sports Resort      Wii         Nintendo              TV   \n4     5  Pokemon Red/Pokemon Blue       GB         Nintendo        Portable   \n\n     Year         Genre Publisher  NA_Sales  EU_Sales  JP_Sales  Other_Sales   \n0  2006.0        Sports  Nintendo     41.49     29.02      3.77         8.46  \\\n1  1985.0      Platform  Nintendo     29.08      3.58      6.81         0.77   \n2  2008.0        Racing  Nintendo     15.85     12.88      3.79         3.31   \n3  2009.0        Sports  Nintendo     15.75     11.01      3.28         2.96   \n4  1996.0  Role-Playing  Nintendo     11.27      8.89     10.22         1.00   \n\n   Global_Sales  \n0         82.74  \n1         40.24  \n2         35.82  \n3         33.00  \n4         31.37  ",
      "text/html": "<div>\n<style scoped>\n    .dataframe tbody tr th:only-of-type {\n        vertical-align: middle;\n    }\n\n    .dataframe tbody tr th {\n        vertical-align: top;\n    }\n\n    .dataframe thead th {\n        text-align: right;\n    }\n</style>\n<table border=\"1\" class=\"dataframe\">\n  <thead>\n    <tr style=\"text-align: right;\">\n      <th></th>\n      <th>Rank</th>\n      <th>Name</th>\n      <th>Platform</th>\n      <th>Platform Company</th>\n      <th>type of console</th>\n      <th>Year</th>\n      <th>Genre</th>\n      <th>Publisher</th>\n      <th>NA_Sales</th>\n      <th>EU_Sales</th>\n      <th>JP_Sales</th>\n      <th>Other_Sales</th>\n      <th>Global_Sales</th>\n    </tr>\n  </thead>\n  <tbody>\n    <tr>\n      <th>0</th>\n      <td>1</td>\n      <td>Wii Sports</td>\n      <td>Wii</td>\n      <td>Nintendo</td>\n      <td>TV</td>\n      <td>2006.0</td>\n      <td>Sports</td>\n      <td>Nintendo</td>\n      <td>41.49</td>\n      <td>29.02</td>\n      <td>3.77</td>\n      <td>8.46</td>\n      <td>82.74</td>\n    </tr>\n    <tr>\n      <th>1</th>\n      <td>2</td>\n      <td>Super Mario Bros.</td>\n      <td>NES</td>\n      <td>Nintendo</td>\n      <td>TV</td>\n      <td>1985.0</td>\n      <td>Platform</td>\n      <td>Nintendo</td>\n      <td>29.08</td>\n      <td>3.58</td>\n      <td>6.81</td>\n      <td>0.77</td>\n      <td>40.24</td>\n    </tr>\n    <tr>\n      <th>2</th>\n      <td>3</td>\n      <td>Mario Kart Wii</td>\n      <td>Wii</td>\n      <td>Nintendo</td>\n      <td>TV</td>\n      <td>2008.0</td>\n      <td>Racing</td>\n      <td>Nintendo</td>\n      <td>15.85</td>\n      <td>12.88</td>\n      <td>3.79</td>\n      <td>3.31</td>\n      <td>35.82</td>\n    </tr>\n    <tr>\n      <th>3</th>\n      <td>4</td>\n      <td>Wii Sports Resort</td>\n      <td>Wii</td>\n      <td>Nintendo</td>\n      <td>TV</td>\n      <td>2009.0</td>\n      <td>Sports</td>\n      <td>Nintendo</td>\n      <td>15.75</td>\n      <td>11.01</td>\n      <td>3.28</td>\n      <td>2.96</td>\n      <td>33.00</td>\n    </tr>\n    <tr>\n      <th>4</th>\n      <td>5</td>\n      <td>Pokemon Red/Pokemon Blue</td>\n      <td>GB</td>\n      <td>Nintendo</td>\n      <td>Portable</td>\n      <td>1996.0</td>\n      <td>Role-Playing</td>\n      <td>Nintendo</td>\n      <td>11.27</td>\n      <td>8.89</td>\n      <td>10.22</td>\n      <td>1.00</td>\n      <td>31.37</td>\n    </tr>\n  </tbody>\n</table>\n</div>"
     },
     "execution_count": 8,
     "metadata": {},
     "output_type": "execute_result"
    }
   ],
   "source": [
    "df.head()"
   ],
   "metadata": {
    "collapsed": false
   }
  },
  {
   "cell_type": "code",
   "execution_count": 9,
   "outputs": [
    {
     "name": "stdout",
     "output_type": "stream",
     "text": [
      "<class 'pandas.core.frame.DataFrame'>\n",
      "RangeIndex: 16598 entries, 0 to 16597\n",
      "Data columns (total 13 columns):\n",
      " #   Column            Non-Null Count  Dtype  \n",
      "---  ------            --------------  -----  \n",
      " 0   Rank              16598 non-null  int64  \n",
      " 1   Name              16598 non-null  object \n",
      " 2   Platform          16572 non-null  object \n",
      " 3   Platform Company  16572 non-null  object \n",
      " 4   type of console   16572 non-null  object \n",
      " 5   Year              16301 non-null  float64\n",
      " 6   Genre             16572 non-null  object \n",
      " 7   Publisher         16514 non-null  object \n",
      " 8   NA_Sales          16572 non-null  float64\n",
      " 9   EU_Sales          16572 non-null  float64\n",
      " 10  JP_Sales          16572 non-null  float64\n",
      " 11  Other_Sales       16572 non-null  float64\n",
      " 12  Global_Sales      16572 non-null  float64\n",
      "dtypes: float64(6), int64(1), object(6)\n",
      "memory usage: 1.6+ MB\n"
     ]
    }
   ],
   "source": [
    "df.info()"
   ],
   "metadata": {
    "collapsed": false
   }
  },
  {
   "cell_type": "markdown",
   "source": [
    "### (b) Filterfunktion\n",
    "\n",
    "Implementieren Sie schon eine Filterfunktion, mit der man die Daten auch nur teilweise bezüglich eines oder mehrerer Attribute/Eigenschaften nutzen kann. (4 P.) Für welche Filteroptionen haben Sie sich entschieden? (1 P.)\n"
   ],
   "metadata": {
    "collapsed": false
   }
  },
  {
   "cell_type": "code",
   "execution_count": null,
   "outputs": [],
   "source": [
    "df_plattform = df['Platform']\n"
   ],
   "metadata": {
    "collapsed": false
   }
  },
  {
   "cell_type": "markdown",
   "source": [
    "## Aufgabe 4 – Diagramme und Visualisierungen mit Plotly\n"
   ],
   "metadata": {
    "collapsed": false
   }
  },
  {
   "cell_type": "markdown",
   "source": [
    "### (a) Diagramm\n",
    "Erzeugen Sie aus Ihrem Datensatz aus Aufgabe 3 ein Diagramm mit Plotly, das Sie in Ihrem Dashboard verwenden möchten. (5 P.) Interpretieren Sie das Diagramm, indem Sie Bezug auf die dargestellten Daten nehmen. (5 P.) Erzeugen Sie einen Screenshot des Streudiagrammes und fügen Sie diesen in das Lösungs-pdf ein.\n"
   ],
   "metadata": {
    "collapsed": false
   }
  },
  {
   "cell_type": "code",
   "execution_count": 12,
   "outputs": [
    {
     "data": {
      "application/vnd.plotly.v1+json": {
       "data": [
        {
         "hovertemplate": "Platform=2600<br>Year=%{x}<br>Global_Sales=%{y}<extra></extra>",
         "legendgroup": "2600",
         "line": {
          "color": "#636efa",
          "dash": "solid"
         },
         "marker": {
          "symbol": "circle"
         },
         "mode": "lines",
         "name": "2600",
         "orientation": "v",
         "showlegend": true,
         "x": [
          1980.0,
          1981.0,
          1982.0,
          1983.0,
          1984.0,
          1985.0,
          1986.0,
          1987.0,
          1988.0,
          1989.0
         ],
         "xaxis": "x",
         "y": [
          11.379999999999999,
          35.77,
          28.86,
          5.83,
          0.27,
          0.45,
          0.6599999999999999,
          1.98,
          0.75,
          0.62
         ],
         "yaxis": "y",
         "type": "scatter"
        },
        {
         "hovertemplate": "Platform=NES<br>Year=%{x}<br>Global_Sales=%{y}<extra></extra>",
         "legendgroup": "NES",
         "line": {
          "color": "#EF553B",
          "dash": "solid"
         },
         "marker": {
          "symbol": "circle"
         },
         "mode": "lines",
         "name": "NES",
         "orientation": "v",
         "showlegend": true,
         "x": [
          1983.0,
          1984.0,
          1985.0,
          1986.0,
          1987.0,
          1988.0,
          1989.0,
          1990.0,
          1991.0,
          1992.0,
          1993.0,
          1994.0
         ],
         "xaxis": "x",
         "y": [
          10.96,
          50.089999999999996,
          53.440000000000005,
          36.41,
          19.759999999999998,
          45.01,
          7.85,
          15.74,
          6.11,
          1.9800000000000002,
          3.61,
          0.11
         ],
         "yaxis": "y",
         "type": "scatter"
        },
        {
         "hovertemplate": "Platform=DS<br>Year=%{x}<br>Global_Sales=%{y}<extra></extra>",
         "legendgroup": "DS",
         "line": {
          "color": "#00cc96",
          "dash": "solid"
         },
         "marker": {
          "symbol": "circle"
         },
         "mode": "lines",
         "name": "DS",
         "orientation": "v",
         "showlegend": true,
         "x": [
          1985.0,
          2004.0,
          2005.0,
          2006.0,
          2007.0,
          2008.0,
          2009.0,
          2010.0,
          2011.0,
          2012.0,
          2013.0,
          2014.0,
          2020.0
         ],
         "xaxis": "x",
         "y": [
          0.02,
          17.46,
          131.4,
          121.15,
          149.36,
          147.89,
          121.99,
          87.98,
          27.8,
          11.64,
          1.96,
          0.02,
          0.29
         ],
         "yaxis": "y",
         "type": "scatter"
        },
        {
         "hovertemplate": "Platform=PC<br>Year=%{x}<br>Global_Sales=%{y}<extra></extra>",
         "legendgroup": "PC",
         "line": {
          "color": "#ab63fa",
          "dash": "solid"
         },
         "marker": {
          "symbol": "circle"
         },
         "mode": "lines",
         "name": "PC",
         "orientation": "v",
         "showlegend": true,
         "x": [
          1985.0,
          1988.0,
          1992.0,
          1994.0,
          1995.0,
          1996.0,
          1997.0,
          1998.0,
          1999.0,
          2000.0,
          2001.0,
          2002.0,
          2003.0,
          2004.0,
          2005.0,
          2006.0,
          2007.0,
          2008.0,
          2009.0,
          2010.0,
          2011.0,
          2012.0,
          2013.0,
          2014.0,
          2015.0,
          2016.0
         ],
         "xaxis": "x",
         "y": [
          0.03,
          0.03,
          3.02,
          12.85,
          4.2299999999999995,
          10.59,
          11.26,
          3.2800000000000002,
          4.75,
          4.680000000000001,
          5.510000000000001,
          8.6,
          8.959999999999999,
          10.46,
          4.47,
          2.97,
          9.4,
          12.67,
          17.16,
          24.46,
          35.25,
          23.53,
          12.83,
          13.39,
          8.07,
          2.6
         ],
         "yaxis": "y",
         "type": "scatter"
        },
        {
         "hovertemplate": "Platform=GB<br>Year=%{x}<br>Global_Sales=%{y}<extra></extra>",
         "legendgroup": "GB",
         "line": {
          "color": "#FFA15A",
          "dash": "solid"
         },
         "marker": {
          "symbol": "circle"
         },
         "mode": "lines",
         "name": "GB",
         "orientation": "v",
         "showlegend": true,
         "x": [
          1988.0,
          1989.0,
          1990.0,
          1991.0,
          1992.0,
          1994.0,
          1995.0,
          1996.0,
          1997.0,
          1998.0,
          1999.0,
          2000.0,
          2001.0
         ],
         "xaxis": "x",
         "y": [
          1.43,
          64.98,
          4.89,
          5.57,
          25.48,
          12.17,
          3.5999999999999996,
          36.02,
          6.37,
          26.900000000000002,
          38.01,
          19.76,
          9.24
         ],
         "yaxis": "y",
         "type": "scatter"
        },
        {
         "hovertemplate": "Platform=GEN<br>Year=%{x}<br>Global_Sales=%{y}<extra></extra>",
         "legendgroup": "GEN",
         "line": {
          "color": "#19d3f3",
          "dash": "solid"
         },
         "marker": {
          "symbol": "circle"
         },
         "mode": "lines",
         "name": "GEN",
         "orientation": "v",
         "showlegend": true,
         "x": [
          1990.0,
          1991.0,
          1992.0,
          1993.0,
          1994.0
         ],
         "xaxis": "x",
         "y": [
          2.6,
          4.34,
          12.66,
          0.65,
          8.11
         ],
         "yaxis": "y",
         "type": "scatter"
        },
        {
         "hovertemplate": "Platform=SNES<br>Year=%{x}<br>Global_Sales=%{y}<extra></extra>",
         "legendgroup": "SNES",
         "line": {
          "color": "#FF6692",
          "dash": "solid"
         },
         "marker": {
          "symbol": "circle"
         },
         "mode": "lines",
         "name": "SNES",
         "orientation": "v",
         "showlegend": true,
         "x": [
          1990.0,
          1991.0,
          1992.0,
          1993.0,
          1994.0,
          1995.0,
          1996.0,
          1997.0,
          1998.0,
          1999.0
         ],
         "xaxis": "x",
         "y": [
          26.16,
          16.21,
          32.98,
          40.01,
          35.08,
          32.21,
          15.93,
          0.99,
          0.22000000000000003,
          0.26
         ],
         "yaxis": "y",
         "type": "scatter"
        },
        {
         "hovertemplate": "Platform=GG<br>Year=%{x}<br>Global_Sales=%{y}<extra></extra>",
         "legendgroup": "GG",
         "line": {
          "color": "#B6E880",
          "dash": "solid"
         },
         "marker": {
          "symbol": "circle"
         },
         "mode": "lines",
         "name": "GG",
         "orientation": "v",
         "showlegend": true,
         "x": [
          1992.0
         ],
         "xaxis": "x",
         "y": [
          0.04
         ],
         "yaxis": "y",
         "type": "scatter"
        },
        {
         "hovertemplate": "Platform=NG<br>Year=%{x}<br>Global_Sales=%{y}<extra></extra>",
         "legendgroup": "NG",
         "line": {
          "color": "#FF97FF",
          "dash": "solid"
         },
         "marker": {
          "symbol": "circle"
         },
         "mode": "lines",
         "name": "NG",
         "orientation": "v",
         "showlegend": true,
         "x": [
          1993.0,
          1994.0,
          1995.0,
          1996.0
         ],
         "xaxis": "x",
         "y": [
          0.21000000000000002,
          0.8,
          0.33,
          0.1
         ],
         "yaxis": "y",
         "type": "scatter"
        },
        {
         "hovertemplate": "Platform=SCD<br>Year=%{x}<br>Global_Sales=%{y}<extra></extra>",
         "legendgroup": "SCD",
         "line": {
          "color": "#FECB52",
          "dash": "solid"
         },
         "marker": {
          "symbol": "circle"
         },
         "mode": "lines",
         "name": "SCD",
         "orientation": "v",
         "showlegend": true,
         "x": [
          1993.0,
          1994.0
         ],
         "xaxis": "x",
         "y": [
          1.5,
          0.37
         ],
         "yaxis": "y",
         "type": "scatter"
        },
        {
         "hovertemplate": "Platform=3DO<br>Year=%{x}<br>Global_Sales=%{y}<extra></extra>",
         "legendgroup": "3DO",
         "line": {
          "color": "#636efa",
          "dash": "solid"
         },
         "marker": {
          "symbol": "circle"
         },
         "mode": "lines",
         "name": "3DO",
         "orientation": "v",
         "showlegend": true,
         "x": [
          1994.0,
          1995.0
         ],
         "xaxis": "x",
         "y": [
          0.02,
          0.08
         ],
         "yaxis": "y",
         "type": "scatter"
        },
        {
         "hovertemplate": "Platform=PS<br>Year=%{x}<br>Global_Sales=%{y}<extra></extra>",
         "legendgroup": "PS",
         "line": {
          "color": "#EF553B",
          "dash": "solid"
         },
         "marker": {
          "symbol": "circle"
         },
         "mode": "lines",
         "name": "PS",
         "orientation": "v",
         "showlegend": true,
         "x": [
          1994.0,
          1995.0,
          1996.0,
          1997.0,
          1998.0,
          1999.0,
          2000.0,
          2001.0,
          2002.0,
          2003.0
         ],
         "xaxis": "x",
         "y": [
          6.0200000000000005,
          35.92,
          94.68,
          136.08,
          169.58,
          144.57,
          96.28,
          35.52,
          6.6899999999999995,
          2.05
         ],
         "yaxis": "y",
         "type": "scatter"
        },
        {
         "hovertemplate": "Platform=SAT<br>Year=%{x}<br>Global_Sales=%{y}<extra></extra>",
         "legendgroup": "SAT",
         "line": {
          "color": "#00cc96",
          "dash": "solid"
         },
         "marker": {
          "symbol": "circle"
         },
         "mode": "lines",
         "name": "SAT",
         "orientation": "v",
         "showlegend": true,
         "x": [
          1994.0,
          1995.0,
          1996.0,
          1997.0,
          1998.0,
          1999.0
         ],
         "xaxis": "x",
         "y": [
          3.64,
          11.58,
          7.69,
          6.7700000000000005,
          3.82,
          0.09
         ],
         "yaxis": "y",
         "type": "scatter"
        },
        {
         "hovertemplate": "Platform=TG16<br>Year=%{x}<br>Global_Sales=%{y}<extra></extra>",
         "legendgroup": "TG16",
         "line": {
          "color": "#ab63fa",
          "dash": "solid"
         },
         "marker": {
          "symbol": "circle"
         },
         "mode": "lines",
         "name": "TG16",
         "orientation": "v",
         "showlegend": true,
         "x": [
          1995.0
         ],
         "xaxis": "x",
         "y": [
          0.16
         ],
         "yaxis": "y",
         "type": "scatter"
        },
        {
         "hovertemplate": "Platform=N64<br>Year=%{x}<br>Global_Sales=%{y}<extra></extra>",
         "legendgroup": "N64",
         "line": {
          "color": "#FFA15A",
          "dash": "solid"
         },
         "marker": {
          "symbol": "circle"
         },
         "mode": "lines",
         "name": "N64",
         "orientation": "v",
         "showlegend": true,
         "x": [
          1996.0,
          1997.0,
          1998.0,
          1999.0,
          2000.0,
          2001.0,
          2002.0
         ],
         "xaxis": "x",
         "y": [
          34.11,
          39.51,
          49.28,
          57.96,
          34.01,
          3.26,
          0.08
         ],
         "yaxis": "y",
         "type": "scatter"
        },
        {
         "hovertemplate": "Platform=PCFX<br>Year=%{x}<br>Global_Sales=%{y}<extra></extra>",
         "legendgroup": "PCFX",
         "line": {
          "color": "#19d3f3",
          "dash": "solid"
         },
         "marker": {
          "symbol": "circle"
         },
         "mode": "lines",
         "name": "PCFX",
         "orientation": "v",
         "showlegend": true,
         "x": [
          1996.0
         ],
         "xaxis": "x",
         "y": [
          0.03
         ],
         "yaxis": "y",
         "type": "scatter"
        },
        {
         "hovertemplate": "Platform=DC<br>Year=%{x}<br>Global_Sales=%{y}<extra></extra>",
         "legendgroup": "DC",
         "line": {
          "color": "#FF6692",
          "dash": "solid"
         },
         "marker": {
          "symbol": "circle"
         },
         "mode": "lines",
         "name": "DC",
         "orientation": "v",
         "showlegend": true,
         "x": [
          1998.0,
          1999.0,
          2000.0,
          2001.0,
          2002.0,
          2007.0,
          2008.0
         ],
         "xaxis": "x",
         "y": [
          3.39,
          5.17,
          5.99,
          1.07,
          0.29,
          0.02,
          0.04
         ],
         "yaxis": "y",
         "type": "scatter"
        },
        {
         "hovertemplate": "Platform=WS<br>Year=%{x}<br>Global_Sales=%{y}<extra></extra>",
         "legendgroup": "WS",
         "line": {
          "color": "#B6E880",
          "dash": "solid"
         },
         "marker": {
          "symbol": "circle"
         },
         "mode": "lines",
         "name": "WS",
         "orientation": "v",
         "showlegend": true,
         "x": [
          1999.0,
          2000.0,
          2001.0
         ],
         "xaxis": "x",
         "y": [
          0.46,
          0.68,
          0.28
         ],
         "yaxis": "y",
         "type": "scatter"
        },
        {
         "hovertemplate": "Platform=GBA<br>Year=%{x}<br>Global_Sales=%{y}<extra></extra>",
         "legendgroup": "GBA",
         "line": {
          "color": "#FF97FF",
          "dash": "solid"
         },
         "marker": {
          "symbol": "circle"
         },
         "mode": "lines",
         "name": "GBA",
         "orientation": "v",
         "showlegend": true,
         "x": [
          2000.0,
          2001.0,
          2002.0,
          2003.0,
          2004.0,
          2005.0,
          2006.0,
          2007.0
         ],
         "xaxis": "x",
         "y": [
          0.06,
          61.62,
          74.38,
          56.730000000000004,
          78.09,
          33.9,
          5.35,
          3.43
         ],
         "yaxis": "y",
         "type": "scatter"
        },
        {
         "hovertemplate": "Platform=PS2<br>Year=%{x}<br>Global_Sales=%{y}<extra></extra>",
         "legendgroup": "PS2",
         "line": {
          "color": "#FECB52",
          "dash": "solid"
         },
         "marker": {
          "symbol": "circle"
         },
         "mode": "lines",
         "name": "PS2",
         "orientation": "v",
         "showlegend": true,
         "x": [
          2000.0,
          2001.0,
          2002.0,
          2003.0,
          2004.0,
          2005.0,
          2006.0,
          2007.0,
          2008.0,
          2009.0,
          2010.0,
          2011.0
         ],
         "xaxis": "x",
         "y": [
          39.11,
          166.43,
          205.4,
          184.29,
          211.78,
          160.65,
          103.42,
          75.99,
          53.83,
          26.45,
          5.63,
          0.47000000000000003
         ],
         "yaxis": "y",
         "type": "scatter"
        },
        {
         "hovertemplate": "Platform=XB<br>Year=%{x}<br>Global_Sales=%{y}<extra></extra>",
         "legendgroup": "XB",
         "line": {
          "color": "#636efa",
          "dash": "solid"
         },
         "marker": {
          "symbol": "circle"
         },
         "mode": "lines",
         "name": "XB",
         "orientation": "v",
         "showlegend": true,
         "x": [
          2000.0,
          2001.0,
          2002.0,
          2003.0,
          2004.0,
          2005.0,
          2006.0,
          2007.0,
          2008.0
         ],
         "xaxis": "x",
         "y": [
          0.99,
          22.24,
          48.15,
          55.160000000000004,
          65.5,
          49.17,
          10.15,
          0.5499999999999999,
          0.18
         ],
         "yaxis": "y",
         "type": "scatter"
        },
        {
         "hovertemplate": "Platform=GC<br>Year=%{x}<br>Global_Sales=%{y}<extra></extra>",
         "legendgroup": "GC",
         "line": {
          "color": "#EF553B",
          "dash": "solid"
         },
         "marker": {
          "symbol": "circle"
         },
         "mode": "lines",
         "name": "GC",
         "orientation": "v",
         "showlegend": true,
         "x": [
          2001.0,
          2002.0,
          2003.0,
          2004.0,
          2005.0,
          2006.0,
          2007.0
         ],
         "xaxis": "x",
         "y": [
          26.3,
          51.93,
          50.660000000000004,
          28.89,
          27.8,
          11.290000000000001,
          0.27
         ],
         "yaxis": "y",
         "type": "scatter"
        },
        {
         "hovertemplate": "Platform=PSP<br>Year=%{x}<br>Global_Sales=%{y}<extra></extra>",
         "legendgroup": "PSP",
         "line": {
          "color": "#00cc96",
          "dash": "solid"
         },
         "marker": {
          "symbol": "circle"
         },
         "mode": "lines",
         "name": "PSP",
         "orientation": "v",
         "showlegend": true,
         "x": [
          2004.0,
          2005.0,
          2006.0,
          2007.0,
          2008.0,
          2009.0,
          2010.0,
          2011.0,
          2012.0,
          2013.0,
          2014.0,
          2015.0
         ],
         "xaxis": "x",
         "y": [
          7.13,
          44.23,
          55.85,
          47.48,
          34.68,
          38.07,
          35.09,
          17.66,
          7.66,
          3.19,
          0.24,
          0.12
         ],
         "yaxis": "y",
         "type": "scatter"
        },
        {
         "hovertemplate": "Platform=X360<br>Year=%{x}<br>Global_Sales=%{y}<extra></extra>",
         "legendgroup": "X360",
         "line": {
          "color": "#ab63fa",
          "dash": "solid"
         },
         "marker": {
          "symbol": "circle"
         },
         "mode": "lines",
         "name": "X360",
         "orientation": "v",
         "showlegend": true,
         "x": [
          2005.0,
          2006.0,
          2007.0,
          2008.0,
          2009.0,
          2010.0,
          2011.0,
          2012.0,
          2013.0,
          2014.0,
          2015.0,
          2016.0
         ],
         "xaxis": "x",
         "y": [
          8.32,
          51.88,
          95.84,
          135.76,
          120.75,
          171.02,
          145.04,
          100.86,
          89.59,
          36.42,
          13.05,
          0.8300000000000001
         ],
         "yaxis": "y",
         "type": "scatter"
        },
        {
         "hovertemplate": "Platform=PS3<br>Year=%{x}<br>Global_Sales=%{y}<extra></extra>",
         "legendgroup": "PS3",
         "line": {
          "color": "#FFA15A",
          "dash": "solid"
         },
         "marker": {
          "symbol": "circle"
         },
         "mode": "lines",
         "name": "PS3",
         "orientation": "v",
         "showlegend": true,
         "x": [
          2006.0,
          2007.0,
          2008.0,
          2009.0,
          2010.0,
          2011.0,
          2012.0,
          2013.0,
          2014.0,
          2015.0,
          2016.0
         ],
         "xaxis": "x",
         "y": [
          21.07,
          73.81,
          119.69,
          132.34,
          144.42,
          159.37,
          109.28,
          117.33,
          50.96,
          18.18,
          2.59
         ],
         "yaxis": "y",
         "type": "scatter"
        },
        {
         "hovertemplate": "Platform=Wii<br>Year=%{x}<br>Global_Sales=%{y}<extra></extra>",
         "legendgroup": "Wii",
         "line": {
          "color": "#19d3f3",
          "dash": "solid"
         },
         "marker": {
          "symbol": "circle"
         },
         "mode": "lines",
         "name": "Wii",
         "orientation": "v",
         "showlegend": true,
         "x": [
          2006.0,
          2007.0,
          2008.0,
          2009.0,
          2010.0,
          2011.0,
          2012.0,
          2013.0,
          2014.0,
          2015.0
         ],
         "xaxis": "x",
         "y": [
          137.91,
          154.97,
          174.16,
          210.44,
          131.8,
          62.41,
          22.77,
          9.36,
          4.4399999999999995,
          1.55
         ],
         "yaxis": "y",
         "type": "scatter"
        },
        {
         "hovertemplate": "Platform=3DS<br>Year=%{x}<br>Global_Sales=%{y}<extra></extra>",
         "legendgroup": "3DS",
         "line": {
          "color": "#FF6692",
          "dash": "solid"
         },
         "marker": {
          "symbol": "circle"
         },
         "mode": "lines",
         "name": "3DS",
         "orientation": "v",
         "showlegend": true,
         "x": [
          2011.0,
          2012.0,
          2013.0,
          2014.0,
          2015.0,
          2016.0
         ],
         "xaxis": "x",
         "y": [
          62.53,
          51.14,
          55.88,
          43.14,
          26.99,
          6.6000000000000005
         ],
         "yaxis": "y",
         "type": "scatter"
        },
        {
         "hovertemplate": "Platform=PSV<br>Year=%{x}<br>Global_Sales=%{y}<extra></extra>",
         "legendgroup": "PSV",
         "line": {
          "color": "#B6E880",
          "dash": "solid"
         },
         "marker": {
          "symbol": "circle"
         },
         "mode": "lines",
         "name": "PSV",
         "orientation": "v",
         "showlegend": true,
         "x": [
          2011.0,
          2012.0,
          2013.0,
          2014.0,
          2015.0,
          2016.0,
          2017.0
         ],
         "xaxis": "x",
         "y": [
          5.15,
          18.53,
          12.48,
          14.5,
          7.0,
          3.4,
          0.02
         ],
         "yaxis": "y",
         "type": "scatter"
        },
        {
         "hovertemplate": "Platform=WiiU<br>Year=%{x}<br>Global_Sales=%{y}<extra></extra>",
         "legendgroup": "WiiU",
         "line": {
          "color": "#FF97FF",
          "dash": "solid"
         },
         "marker": {
          "symbol": "circle"
         },
         "mode": "lines",
         "name": "WiiU",
         "orientation": "v",
         "showlegend": true,
         "x": [
          2012.0,
          2013.0,
          2014.0,
          2015.0,
          2016.0
         ],
         "xaxis": "x",
         "y": [
          17.84,
          21.84,
          22.509999999999998,
          16.38,
          3.29
         ],
         "yaxis": "y",
         "type": "scatter"
        },
        {
         "hovertemplate": "Platform=PS4<br>Year=%{x}<br>Global_Sales=%{y}<extra></extra>",
         "legendgroup": "PS4",
         "line": {
          "color": "#FECB52",
          "dash": "solid"
         },
         "marker": {
          "symbol": "circle"
         },
         "mode": "lines",
         "name": "PS4",
         "orientation": "v",
         "showlegend": true,
         "x": [
          2013.0,
          2014.0,
          2015.0,
          2016.0,
          2017.0
         ],
         "xaxis": "x",
         "y": [
          24.76,
          98.76,
          115.24,
          39.25,
          0.03
         ],
         "yaxis": "y",
         "type": "scatter"
        },
        {
         "hovertemplate": "Platform=XOne<br>Year=%{x}<br>Global_Sales=%{y}<extra></extra>",
         "legendgroup": "XOne",
         "line": {
          "color": "#636efa",
          "dash": "solid"
         },
         "marker": {
          "symbol": "circle"
         },
         "mode": "lines",
         "name": "XOne",
         "orientation": "v",
         "showlegend": true,
         "x": [
          2013.0,
          2014.0,
          2015.0,
          2016.0
         ],
         "xaxis": "x",
         "y": [
          18.6,
          52.43,
          57.66,
          12.37
         ],
         "yaxis": "y",
         "type": "scatter"
        }
       ],
       "layout": {
        "template": {
         "data": {
          "histogram2dcontour": [
           {
            "type": "histogram2dcontour",
            "colorbar": {
             "outlinewidth": 0,
             "ticks": ""
            },
            "colorscale": [
             [
              0.0,
              "#0d0887"
             ],
             [
              0.1111111111111111,
              "#46039f"
             ],
             [
              0.2222222222222222,
              "#7201a8"
             ],
             [
              0.3333333333333333,
              "#9c179e"
             ],
             [
              0.4444444444444444,
              "#bd3786"
             ],
             [
              0.5555555555555556,
              "#d8576b"
             ],
             [
              0.6666666666666666,
              "#ed7953"
             ],
             [
              0.7777777777777778,
              "#fb9f3a"
             ],
             [
              0.8888888888888888,
              "#fdca26"
             ],
             [
              1.0,
              "#f0f921"
             ]
            ]
           }
          ],
          "choropleth": [
           {
            "type": "choropleth",
            "colorbar": {
             "outlinewidth": 0,
             "ticks": ""
            }
           }
          ],
          "histogram2d": [
           {
            "type": "histogram2d",
            "colorbar": {
             "outlinewidth": 0,
             "ticks": ""
            },
            "colorscale": [
             [
              0.0,
              "#0d0887"
             ],
             [
              0.1111111111111111,
              "#46039f"
             ],
             [
              0.2222222222222222,
              "#7201a8"
             ],
             [
              0.3333333333333333,
              "#9c179e"
             ],
             [
              0.4444444444444444,
              "#bd3786"
             ],
             [
              0.5555555555555556,
              "#d8576b"
             ],
             [
              0.6666666666666666,
              "#ed7953"
             ],
             [
              0.7777777777777778,
              "#fb9f3a"
             ],
             [
              0.8888888888888888,
              "#fdca26"
             ],
             [
              1.0,
              "#f0f921"
             ]
            ]
           }
          ],
          "heatmap": [
           {
            "type": "heatmap",
            "colorbar": {
             "outlinewidth": 0,
             "ticks": ""
            },
            "colorscale": [
             [
              0.0,
              "#0d0887"
             ],
             [
              0.1111111111111111,
              "#46039f"
             ],
             [
              0.2222222222222222,
              "#7201a8"
             ],
             [
              0.3333333333333333,
              "#9c179e"
             ],
             [
              0.4444444444444444,
              "#bd3786"
             ],
             [
              0.5555555555555556,
              "#d8576b"
             ],
             [
              0.6666666666666666,
              "#ed7953"
             ],
             [
              0.7777777777777778,
              "#fb9f3a"
             ],
             [
              0.8888888888888888,
              "#fdca26"
             ],
             [
              1.0,
              "#f0f921"
             ]
            ]
           }
          ],
          "heatmapgl": [
           {
            "type": "heatmapgl",
            "colorbar": {
             "outlinewidth": 0,
             "ticks": ""
            },
            "colorscale": [
             [
              0.0,
              "#0d0887"
             ],
             [
              0.1111111111111111,
              "#46039f"
             ],
             [
              0.2222222222222222,
              "#7201a8"
             ],
             [
              0.3333333333333333,
              "#9c179e"
             ],
             [
              0.4444444444444444,
              "#bd3786"
             ],
             [
              0.5555555555555556,
              "#d8576b"
             ],
             [
              0.6666666666666666,
              "#ed7953"
             ],
             [
              0.7777777777777778,
              "#fb9f3a"
             ],
             [
              0.8888888888888888,
              "#fdca26"
             ],
             [
              1.0,
              "#f0f921"
             ]
            ]
           }
          ],
          "contourcarpet": [
           {
            "type": "contourcarpet",
            "colorbar": {
             "outlinewidth": 0,
             "ticks": ""
            }
           }
          ],
          "contour": [
           {
            "type": "contour",
            "colorbar": {
             "outlinewidth": 0,
             "ticks": ""
            },
            "colorscale": [
             [
              0.0,
              "#0d0887"
             ],
             [
              0.1111111111111111,
              "#46039f"
             ],
             [
              0.2222222222222222,
              "#7201a8"
             ],
             [
              0.3333333333333333,
              "#9c179e"
             ],
             [
              0.4444444444444444,
              "#bd3786"
             ],
             [
              0.5555555555555556,
              "#d8576b"
             ],
             [
              0.6666666666666666,
              "#ed7953"
             ],
             [
              0.7777777777777778,
              "#fb9f3a"
             ],
             [
              0.8888888888888888,
              "#fdca26"
             ],
             [
              1.0,
              "#f0f921"
             ]
            ]
           }
          ],
          "surface": [
           {
            "type": "surface",
            "colorbar": {
             "outlinewidth": 0,
             "ticks": ""
            },
            "colorscale": [
             [
              0.0,
              "#0d0887"
             ],
             [
              0.1111111111111111,
              "#46039f"
             ],
             [
              0.2222222222222222,
              "#7201a8"
             ],
             [
              0.3333333333333333,
              "#9c179e"
             ],
             [
              0.4444444444444444,
              "#bd3786"
             ],
             [
              0.5555555555555556,
              "#d8576b"
             ],
             [
              0.6666666666666666,
              "#ed7953"
             ],
             [
              0.7777777777777778,
              "#fb9f3a"
             ],
             [
              0.8888888888888888,
              "#fdca26"
             ],
             [
              1.0,
              "#f0f921"
             ]
            ]
           }
          ],
          "mesh3d": [
           {
            "type": "mesh3d",
            "colorbar": {
             "outlinewidth": 0,
             "ticks": ""
            }
           }
          ],
          "scatter": [
           {
            "fillpattern": {
             "fillmode": "overlay",
             "size": 10,
             "solidity": 0.2
            },
            "type": "scatter"
           }
          ],
          "parcoords": [
           {
            "type": "parcoords",
            "line": {
             "colorbar": {
              "outlinewidth": 0,
              "ticks": ""
             }
            }
           }
          ],
          "scatterpolargl": [
           {
            "type": "scatterpolargl",
            "marker": {
             "colorbar": {
              "outlinewidth": 0,
              "ticks": ""
             }
            }
           }
          ],
          "bar": [
           {
            "error_x": {
             "color": "#2a3f5f"
            },
            "error_y": {
             "color": "#2a3f5f"
            },
            "marker": {
             "line": {
              "color": "#E5ECF6",
              "width": 0.5
             },
             "pattern": {
              "fillmode": "overlay",
              "size": 10,
              "solidity": 0.2
             }
            },
            "type": "bar"
           }
          ],
          "scattergeo": [
           {
            "type": "scattergeo",
            "marker": {
             "colorbar": {
              "outlinewidth": 0,
              "ticks": ""
             }
            }
           }
          ],
          "scatterpolar": [
           {
            "type": "scatterpolar",
            "marker": {
             "colorbar": {
              "outlinewidth": 0,
              "ticks": ""
             }
            }
           }
          ],
          "histogram": [
           {
            "marker": {
             "pattern": {
              "fillmode": "overlay",
              "size": 10,
              "solidity": 0.2
             }
            },
            "type": "histogram"
           }
          ],
          "scattergl": [
           {
            "type": "scattergl",
            "marker": {
             "colorbar": {
              "outlinewidth": 0,
              "ticks": ""
             }
            }
           }
          ],
          "scatter3d": [
           {
            "type": "scatter3d",
            "line": {
             "colorbar": {
              "outlinewidth": 0,
              "ticks": ""
             }
            },
            "marker": {
             "colorbar": {
              "outlinewidth": 0,
              "ticks": ""
             }
            }
           }
          ],
          "scattermapbox": [
           {
            "type": "scattermapbox",
            "marker": {
             "colorbar": {
              "outlinewidth": 0,
              "ticks": ""
             }
            }
           }
          ],
          "scatterternary": [
           {
            "type": "scatterternary",
            "marker": {
             "colorbar": {
              "outlinewidth": 0,
              "ticks": ""
             }
            }
           }
          ],
          "scattercarpet": [
           {
            "type": "scattercarpet",
            "marker": {
             "colorbar": {
              "outlinewidth": 0,
              "ticks": ""
             }
            }
           }
          ],
          "carpet": [
           {
            "aaxis": {
             "endlinecolor": "#2a3f5f",
             "gridcolor": "white",
             "linecolor": "white",
             "minorgridcolor": "white",
             "startlinecolor": "#2a3f5f"
            },
            "baxis": {
             "endlinecolor": "#2a3f5f",
             "gridcolor": "white",
             "linecolor": "white",
             "minorgridcolor": "white",
             "startlinecolor": "#2a3f5f"
            },
            "type": "carpet"
           }
          ],
          "table": [
           {
            "cells": {
             "fill": {
              "color": "#EBF0F8"
             },
             "line": {
              "color": "white"
             }
            },
            "header": {
             "fill": {
              "color": "#C8D4E3"
             },
             "line": {
              "color": "white"
             }
            },
            "type": "table"
           }
          ],
          "barpolar": [
           {
            "marker": {
             "line": {
              "color": "#E5ECF6",
              "width": 0.5
             },
             "pattern": {
              "fillmode": "overlay",
              "size": 10,
              "solidity": 0.2
             }
            },
            "type": "barpolar"
           }
          ],
          "pie": [
           {
            "automargin": true,
            "type": "pie"
           }
          ]
         },
         "layout": {
          "autotypenumbers": "strict",
          "colorway": [
           "#636efa",
           "#EF553B",
           "#00cc96",
           "#ab63fa",
           "#FFA15A",
           "#19d3f3",
           "#FF6692",
           "#B6E880",
           "#FF97FF",
           "#FECB52"
          ],
          "font": {
           "color": "#2a3f5f"
          },
          "hovermode": "closest",
          "hoverlabel": {
           "align": "left"
          },
          "paper_bgcolor": "white",
          "plot_bgcolor": "#E5ECF6",
          "polar": {
           "bgcolor": "#E5ECF6",
           "angularaxis": {
            "gridcolor": "white",
            "linecolor": "white",
            "ticks": ""
           },
           "radialaxis": {
            "gridcolor": "white",
            "linecolor": "white",
            "ticks": ""
           }
          },
          "ternary": {
           "bgcolor": "#E5ECF6",
           "aaxis": {
            "gridcolor": "white",
            "linecolor": "white",
            "ticks": ""
           },
           "baxis": {
            "gridcolor": "white",
            "linecolor": "white",
            "ticks": ""
           },
           "caxis": {
            "gridcolor": "white",
            "linecolor": "white",
            "ticks": ""
           }
          },
          "coloraxis": {
           "colorbar": {
            "outlinewidth": 0,
            "ticks": ""
           }
          },
          "colorscale": {
           "sequential": [
            [
             0.0,
             "#0d0887"
            ],
            [
             0.1111111111111111,
             "#46039f"
            ],
            [
             0.2222222222222222,
             "#7201a8"
            ],
            [
             0.3333333333333333,
             "#9c179e"
            ],
            [
             0.4444444444444444,
             "#bd3786"
            ],
            [
             0.5555555555555556,
             "#d8576b"
            ],
            [
             0.6666666666666666,
             "#ed7953"
            ],
            [
             0.7777777777777778,
             "#fb9f3a"
            ],
            [
             0.8888888888888888,
             "#fdca26"
            ],
            [
             1.0,
             "#f0f921"
            ]
           ],
           "sequentialminus": [
            [
             0.0,
             "#0d0887"
            ],
            [
             0.1111111111111111,
             "#46039f"
            ],
            [
             0.2222222222222222,
             "#7201a8"
            ],
            [
             0.3333333333333333,
             "#9c179e"
            ],
            [
             0.4444444444444444,
             "#bd3786"
            ],
            [
             0.5555555555555556,
             "#d8576b"
            ],
            [
             0.6666666666666666,
             "#ed7953"
            ],
            [
             0.7777777777777778,
             "#fb9f3a"
            ],
            [
             0.8888888888888888,
             "#fdca26"
            ],
            [
             1.0,
             "#f0f921"
            ]
           ],
           "diverging": [
            [
             0,
             "#8e0152"
            ],
            [
             0.1,
             "#c51b7d"
            ],
            [
             0.2,
             "#de77ae"
            ],
            [
             0.3,
             "#f1b6da"
            ],
            [
             0.4,
             "#fde0ef"
            ],
            [
             0.5,
             "#f7f7f7"
            ],
            [
             0.6,
             "#e6f5d0"
            ],
            [
             0.7,
             "#b8e186"
            ],
            [
             0.8,
             "#7fbc41"
            ],
            [
             0.9,
             "#4d9221"
            ],
            [
             1,
             "#276419"
            ]
           ]
          },
          "xaxis": {
           "gridcolor": "white",
           "linecolor": "white",
           "ticks": "",
           "title": {
            "standoff": 15
           },
           "zerolinecolor": "white",
           "automargin": true,
           "zerolinewidth": 2
          },
          "yaxis": {
           "gridcolor": "white",
           "linecolor": "white",
           "ticks": "",
           "title": {
            "standoff": 15
           },
           "zerolinecolor": "white",
           "automargin": true,
           "zerolinewidth": 2
          },
          "scene": {
           "xaxis": {
            "backgroundcolor": "#E5ECF6",
            "gridcolor": "white",
            "linecolor": "white",
            "showbackground": true,
            "ticks": "",
            "zerolinecolor": "white",
            "gridwidth": 2
           },
           "yaxis": {
            "backgroundcolor": "#E5ECF6",
            "gridcolor": "white",
            "linecolor": "white",
            "showbackground": true,
            "ticks": "",
            "zerolinecolor": "white",
            "gridwidth": 2
           },
           "zaxis": {
            "backgroundcolor": "#E5ECF6",
            "gridcolor": "white",
            "linecolor": "white",
            "showbackground": true,
            "ticks": "",
            "zerolinecolor": "white",
            "gridwidth": 2
           }
          },
          "shapedefaults": {
           "line": {
            "color": "#2a3f5f"
           }
          },
          "annotationdefaults": {
           "arrowcolor": "#2a3f5f",
           "arrowhead": 0,
           "arrowwidth": 1
          },
          "geo": {
           "bgcolor": "white",
           "landcolor": "#E5ECF6",
           "subunitcolor": "white",
           "showland": true,
           "showlakes": true,
           "lakecolor": "white"
          },
          "title": {
           "x": 0.05
          },
          "mapbox": {
           "style": "light"
          }
         }
        },
        "xaxis": {
         "anchor": "y",
         "domain": [
          0.0,
          1.0
         ],
         "title": {
          "text": "Year"
         }
        },
        "yaxis": {
         "anchor": "x",
         "domain": [
          0.0,
          1.0
         ],
         "title": {
          "text": "Global_Sales"
         }
        },
        "legend": {
         "title": {
          "text": "Platform"
         },
         "tracegroupgap": 0
        },
        "margin": {
         "t": 60
        }
       },
       "config": {
        "plotlyServerURL": "https://plot.ly"
       }
      },
      "text/html": "<div>                            <div id=\"4d36f585-9fbf-4883-a3a2-035993f1307b\" class=\"plotly-graph-div\" style=\"height:525px; width:100%;\"></div>            <script type=\"text/javascript\">                require([\"plotly\"], function(Plotly) {                    window.PLOTLYENV=window.PLOTLYENV || {};                                    if (document.getElementById(\"4d36f585-9fbf-4883-a3a2-035993f1307b\")) {                    Plotly.newPlot(                        \"4d36f585-9fbf-4883-a3a2-035993f1307b\",                        [{\"hovertemplate\":\"Platform=2600<br>Year=%{x}<br>Global_Sales=%{y}<extra></extra>\",\"legendgroup\":\"2600\",\"line\":{\"color\":\"#636efa\",\"dash\":\"solid\"},\"marker\":{\"symbol\":\"circle\"},\"mode\":\"lines\",\"name\":\"2600\",\"orientation\":\"v\",\"showlegend\":true,\"x\":[1980.0,1981.0,1982.0,1983.0,1984.0,1985.0,1986.0,1987.0,1988.0,1989.0],\"xaxis\":\"x\",\"y\":[11.379999999999999,35.77,28.86,5.83,0.27,0.45,0.6599999999999999,1.98,0.75,0.62],\"yaxis\":\"y\",\"type\":\"scatter\"},{\"hovertemplate\":\"Platform=NES<br>Year=%{x}<br>Global_Sales=%{y}<extra></extra>\",\"legendgroup\":\"NES\",\"line\":{\"color\":\"#EF553B\",\"dash\":\"solid\"},\"marker\":{\"symbol\":\"circle\"},\"mode\":\"lines\",\"name\":\"NES\",\"orientation\":\"v\",\"showlegend\":true,\"x\":[1983.0,1984.0,1985.0,1986.0,1987.0,1988.0,1989.0,1990.0,1991.0,1992.0,1993.0,1994.0],\"xaxis\":\"x\",\"y\":[10.96,50.089999999999996,53.440000000000005,36.41,19.759999999999998,45.01,7.85,15.74,6.11,1.9800000000000002,3.61,0.11],\"yaxis\":\"y\",\"type\":\"scatter\"},{\"hovertemplate\":\"Platform=DS<br>Year=%{x}<br>Global_Sales=%{y}<extra></extra>\",\"legendgroup\":\"DS\",\"line\":{\"color\":\"#00cc96\",\"dash\":\"solid\"},\"marker\":{\"symbol\":\"circle\"},\"mode\":\"lines\",\"name\":\"DS\",\"orientation\":\"v\",\"showlegend\":true,\"x\":[1985.0,2004.0,2005.0,2006.0,2007.0,2008.0,2009.0,2010.0,2011.0,2012.0,2013.0,2014.0,2020.0],\"xaxis\":\"x\",\"y\":[0.02,17.46,131.4,121.15,149.36,147.89,121.99,87.98,27.8,11.64,1.96,0.02,0.29],\"yaxis\":\"y\",\"type\":\"scatter\"},{\"hovertemplate\":\"Platform=PC<br>Year=%{x}<br>Global_Sales=%{y}<extra></extra>\",\"legendgroup\":\"PC\",\"line\":{\"color\":\"#ab63fa\",\"dash\":\"solid\"},\"marker\":{\"symbol\":\"circle\"},\"mode\":\"lines\",\"name\":\"PC\",\"orientation\":\"v\",\"showlegend\":true,\"x\":[1985.0,1988.0,1992.0,1994.0,1995.0,1996.0,1997.0,1998.0,1999.0,2000.0,2001.0,2002.0,2003.0,2004.0,2005.0,2006.0,2007.0,2008.0,2009.0,2010.0,2011.0,2012.0,2013.0,2014.0,2015.0,2016.0],\"xaxis\":\"x\",\"y\":[0.03,0.03,3.02,12.85,4.2299999999999995,10.59,11.26,3.2800000000000002,4.75,4.680000000000001,5.510000000000001,8.6,8.959999999999999,10.46,4.47,2.97,9.4,12.67,17.16,24.46,35.25,23.53,12.83,13.39,8.07,2.6],\"yaxis\":\"y\",\"type\":\"scatter\"},{\"hovertemplate\":\"Platform=GB<br>Year=%{x}<br>Global_Sales=%{y}<extra></extra>\",\"legendgroup\":\"GB\",\"line\":{\"color\":\"#FFA15A\",\"dash\":\"solid\"},\"marker\":{\"symbol\":\"circle\"},\"mode\":\"lines\",\"name\":\"GB\",\"orientation\":\"v\",\"showlegend\":true,\"x\":[1988.0,1989.0,1990.0,1991.0,1992.0,1994.0,1995.0,1996.0,1997.0,1998.0,1999.0,2000.0,2001.0],\"xaxis\":\"x\",\"y\":[1.43,64.98,4.89,5.57,25.48,12.17,3.5999999999999996,36.02,6.37,26.900000000000002,38.01,19.76,9.24],\"yaxis\":\"y\",\"type\":\"scatter\"},{\"hovertemplate\":\"Platform=GEN<br>Year=%{x}<br>Global_Sales=%{y}<extra></extra>\",\"legendgroup\":\"GEN\",\"line\":{\"color\":\"#19d3f3\",\"dash\":\"solid\"},\"marker\":{\"symbol\":\"circle\"},\"mode\":\"lines\",\"name\":\"GEN\",\"orientation\":\"v\",\"showlegend\":true,\"x\":[1990.0,1991.0,1992.0,1993.0,1994.0],\"xaxis\":\"x\",\"y\":[2.6,4.34,12.66,0.65,8.11],\"yaxis\":\"y\",\"type\":\"scatter\"},{\"hovertemplate\":\"Platform=SNES<br>Year=%{x}<br>Global_Sales=%{y}<extra></extra>\",\"legendgroup\":\"SNES\",\"line\":{\"color\":\"#FF6692\",\"dash\":\"solid\"},\"marker\":{\"symbol\":\"circle\"},\"mode\":\"lines\",\"name\":\"SNES\",\"orientation\":\"v\",\"showlegend\":true,\"x\":[1990.0,1991.0,1992.0,1993.0,1994.0,1995.0,1996.0,1997.0,1998.0,1999.0],\"xaxis\":\"x\",\"y\":[26.16,16.21,32.98,40.01,35.08,32.21,15.93,0.99,0.22000000000000003,0.26],\"yaxis\":\"y\",\"type\":\"scatter\"},{\"hovertemplate\":\"Platform=GG<br>Year=%{x}<br>Global_Sales=%{y}<extra></extra>\",\"legendgroup\":\"GG\",\"line\":{\"color\":\"#B6E880\",\"dash\":\"solid\"},\"marker\":{\"symbol\":\"circle\"},\"mode\":\"lines\",\"name\":\"GG\",\"orientation\":\"v\",\"showlegend\":true,\"x\":[1992.0],\"xaxis\":\"x\",\"y\":[0.04],\"yaxis\":\"y\",\"type\":\"scatter\"},{\"hovertemplate\":\"Platform=NG<br>Year=%{x}<br>Global_Sales=%{y}<extra></extra>\",\"legendgroup\":\"NG\",\"line\":{\"color\":\"#FF97FF\",\"dash\":\"solid\"},\"marker\":{\"symbol\":\"circle\"},\"mode\":\"lines\",\"name\":\"NG\",\"orientation\":\"v\",\"showlegend\":true,\"x\":[1993.0,1994.0,1995.0,1996.0],\"xaxis\":\"x\",\"y\":[0.21000000000000002,0.8,0.33,0.1],\"yaxis\":\"y\",\"type\":\"scatter\"},{\"hovertemplate\":\"Platform=SCD<br>Year=%{x}<br>Global_Sales=%{y}<extra></extra>\",\"legendgroup\":\"SCD\",\"line\":{\"color\":\"#FECB52\",\"dash\":\"solid\"},\"marker\":{\"symbol\":\"circle\"},\"mode\":\"lines\",\"name\":\"SCD\",\"orientation\":\"v\",\"showlegend\":true,\"x\":[1993.0,1994.0],\"xaxis\":\"x\",\"y\":[1.5,0.37],\"yaxis\":\"y\",\"type\":\"scatter\"},{\"hovertemplate\":\"Platform=3DO<br>Year=%{x}<br>Global_Sales=%{y}<extra></extra>\",\"legendgroup\":\"3DO\",\"line\":{\"color\":\"#636efa\",\"dash\":\"solid\"},\"marker\":{\"symbol\":\"circle\"},\"mode\":\"lines\",\"name\":\"3DO\",\"orientation\":\"v\",\"showlegend\":true,\"x\":[1994.0,1995.0],\"xaxis\":\"x\",\"y\":[0.02,0.08],\"yaxis\":\"y\",\"type\":\"scatter\"},{\"hovertemplate\":\"Platform=PS<br>Year=%{x}<br>Global_Sales=%{y}<extra></extra>\",\"legendgroup\":\"PS\",\"line\":{\"color\":\"#EF553B\",\"dash\":\"solid\"},\"marker\":{\"symbol\":\"circle\"},\"mode\":\"lines\",\"name\":\"PS\",\"orientation\":\"v\",\"showlegend\":true,\"x\":[1994.0,1995.0,1996.0,1997.0,1998.0,1999.0,2000.0,2001.0,2002.0,2003.0],\"xaxis\":\"x\",\"y\":[6.0200000000000005,35.92,94.68,136.08,169.58,144.57,96.28,35.52,6.6899999999999995,2.05],\"yaxis\":\"y\",\"type\":\"scatter\"},{\"hovertemplate\":\"Platform=SAT<br>Year=%{x}<br>Global_Sales=%{y}<extra></extra>\",\"legendgroup\":\"SAT\",\"line\":{\"color\":\"#00cc96\",\"dash\":\"solid\"},\"marker\":{\"symbol\":\"circle\"},\"mode\":\"lines\",\"name\":\"SAT\",\"orientation\":\"v\",\"showlegend\":true,\"x\":[1994.0,1995.0,1996.0,1997.0,1998.0,1999.0],\"xaxis\":\"x\",\"y\":[3.64,11.58,7.69,6.7700000000000005,3.82,0.09],\"yaxis\":\"y\",\"type\":\"scatter\"},{\"hovertemplate\":\"Platform=TG16<br>Year=%{x}<br>Global_Sales=%{y}<extra></extra>\",\"legendgroup\":\"TG16\",\"line\":{\"color\":\"#ab63fa\",\"dash\":\"solid\"},\"marker\":{\"symbol\":\"circle\"},\"mode\":\"lines\",\"name\":\"TG16\",\"orientation\":\"v\",\"showlegend\":true,\"x\":[1995.0],\"xaxis\":\"x\",\"y\":[0.16],\"yaxis\":\"y\",\"type\":\"scatter\"},{\"hovertemplate\":\"Platform=N64<br>Year=%{x}<br>Global_Sales=%{y}<extra></extra>\",\"legendgroup\":\"N64\",\"line\":{\"color\":\"#FFA15A\",\"dash\":\"solid\"},\"marker\":{\"symbol\":\"circle\"},\"mode\":\"lines\",\"name\":\"N64\",\"orientation\":\"v\",\"showlegend\":true,\"x\":[1996.0,1997.0,1998.0,1999.0,2000.0,2001.0,2002.0],\"xaxis\":\"x\",\"y\":[34.11,39.51,49.28,57.96,34.01,3.26,0.08],\"yaxis\":\"y\",\"type\":\"scatter\"},{\"hovertemplate\":\"Platform=PCFX<br>Year=%{x}<br>Global_Sales=%{y}<extra></extra>\",\"legendgroup\":\"PCFX\",\"line\":{\"color\":\"#19d3f3\",\"dash\":\"solid\"},\"marker\":{\"symbol\":\"circle\"},\"mode\":\"lines\",\"name\":\"PCFX\",\"orientation\":\"v\",\"showlegend\":true,\"x\":[1996.0],\"xaxis\":\"x\",\"y\":[0.03],\"yaxis\":\"y\",\"type\":\"scatter\"},{\"hovertemplate\":\"Platform=DC<br>Year=%{x}<br>Global_Sales=%{y}<extra></extra>\",\"legendgroup\":\"DC\",\"line\":{\"color\":\"#FF6692\",\"dash\":\"solid\"},\"marker\":{\"symbol\":\"circle\"},\"mode\":\"lines\",\"name\":\"DC\",\"orientation\":\"v\",\"showlegend\":true,\"x\":[1998.0,1999.0,2000.0,2001.0,2002.0,2007.0,2008.0],\"xaxis\":\"x\",\"y\":[3.39,5.17,5.99,1.07,0.29,0.02,0.04],\"yaxis\":\"y\",\"type\":\"scatter\"},{\"hovertemplate\":\"Platform=WS<br>Year=%{x}<br>Global_Sales=%{y}<extra></extra>\",\"legendgroup\":\"WS\",\"line\":{\"color\":\"#B6E880\",\"dash\":\"solid\"},\"marker\":{\"symbol\":\"circle\"},\"mode\":\"lines\",\"name\":\"WS\",\"orientation\":\"v\",\"showlegend\":true,\"x\":[1999.0,2000.0,2001.0],\"xaxis\":\"x\",\"y\":[0.46,0.68,0.28],\"yaxis\":\"y\",\"type\":\"scatter\"},{\"hovertemplate\":\"Platform=GBA<br>Year=%{x}<br>Global_Sales=%{y}<extra></extra>\",\"legendgroup\":\"GBA\",\"line\":{\"color\":\"#FF97FF\",\"dash\":\"solid\"},\"marker\":{\"symbol\":\"circle\"},\"mode\":\"lines\",\"name\":\"GBA\",\"orientation\":\"v\",\"showlegend\":true,\"x\":[2000.0,2001.0,2002.0,2003.0,2004.0,2005.0,2006.0,2007.0],\"xaxis\":\"x\",\"y\":[0.06,61.62,74.38,56.730000000000004,78.09,33.9,5.35,3.43],\"yaxis\":\"y\",\"type\":\"scatter\"},{\"hovertemplate\":\"Platform=PS2<br>Year=%{x}<br>Global_Sales=%{y}<extra></extra>\",\"legendgroup\":\"PS2\",\"line\":{\"color\":\"#FECB52\",\"dash\":\"solid\"},\"marker\":{\"symbol\":\"circle\"},\"mode\":\"lines\",\"name\":\"PS2\",\"orientation\":\"v\",\"showlegend\":true,\"x\":[2000.0,2001.0,2002.0,2003.0,2004.0,2005.0,2006.0,2007.0,2008.0,2009.0,2010.0,2011.0],\"xaxis\":\"x\",\"y\":[39.11,166.43,205.4,184.29,211.78,160.65,103.42,75.99,53.83,26.45,5.63,0.47000000000000003],\"yaxis\":\"y\",\"type\":\"scatter\"},{\"hovertemplate\":\"Platform=XB<br>Year=%{x}<br>Global_Sales=%{y}<extra></extra>\",\"legendgroup\":\"XB\",\"line\":{\"color\":\"#636efa\",\"dash\":\"solid\"},\"marker\":{\"symbol\":\"circle\"},\"mode\":\"lines\",\"name\":\"XB\",\"orientation\":\"v\",\"showlegend\":true,\"x\":[2000.0,2001.0,2002.0,2003.0,2004.0,2005.0,2006.0,2007.0,2008.0],\"xaxis\":\"x\",\"y\":[0.99,22.24,48.15,55.160000000000004,65.5,49.17,10.15,0.5499999999999999,0.18],\"yaxis\":\"y\",\"type\":\"scatter\"},{\"hovertemplate\":\"Platform=GC<br>Year=%{x}<br>Global_Sales=%{y}<extra></extra>\",\"legendgroup\":\"GC\",\"line\":{\"color\":\"#EF553B\",\"dash\":\"solid\"},\"marker\":{\"symbol\":\"circle\"},\"mode\":\"lines\",\"name\":\"GC\",\"orientation\":\"v\",\"showlegend\":true,\"x\":[2001.0,2002.0,2003.0,2004.0,2005.0,2006.0,2007.0],\"xaxis\":\"x\",\"y\":[26.3,51.93,50.660000000000004,28.89,27.8,11.290000000000001,0.27],\"yaxis\":\"y\",\"type\":\"scatter\"},{\"hovertemplate\":\"Platform=PSP<br>Year=%{x}<br>Global_Sales=%{y}<extra></extra>\",\"legendgroup\":\"PSP\",\"line\":{\"color\":\"#00cc96\",\"dash\":\"solid\"},\"marker\":{\"symbol\":\"circle\"},\"mode\":\"lines\",\"name\":\"PSP\",\"orientation\":\"v\",\"showlegend\":true,\"x\":[2004.0,2005.0,2006.0,2007.0,2008.0,2009.0,2010.0,2011.0,2012.0,2013.0,2014.0,2015.0],\"xaxis\":\"x\",\"y\":[7.13,44.23,55.85,47.48,34.68,38.07,35.09,17.66,7.66,3.19,0.24,0.12],\"yaxis\":\"y\",\"type\":\"scatter\"},{\"hovertemplate\":\"Platform=X360<br>Year=%{x}<br>Global_Sales=%{y}<extra></extra>\",\"legendgroup\":\"X360\",\"line\":{\"color\":\"#ab63fa\",\"dash\":\"solid\"},\"marker\":{\"symbol\":\"circle\"},\"mode\":\"lines\",\"name\":\"X360\",\"orientation\":\"v\",\"showlegend\":true,\"x\":[2005.0,2006.0,2007.0,2008.0,2009.0,2010.0,2011.0,2012.0,2013.0,2014.0,2015.0,2016.0],\"xaxis\":\"x\",\"y\":[8.32,51.88,95.84,135.76,120.75,171.02,145.04,100.86,89.59,36.42,13.05,0.8300000000000001],\"yaxis\":\"y\",\"type\":\"scatter\"},{\"hovertemplate\":\"Platform=PS3<br>Year=%{x}<br>Global_Sales=%{y}<extra></extra>\",\"legendgroup\":\"PS3\",\"line\":{\"color\":\"#FFA15A\",\"dash\":\"solid\"},\"marker\":{\"symbol\":\"circle\"},\"mode\":\"lines\",\"name\":\"PS3\",\"orientation\":\"v\",\"showlegend\":true,\"x\":[2006.0,2007.0,2008.0,2009.0,2010.0,2011.0,2012.0,2013.0,2014.0,2015.0,2016.0],\"xaxis\":\"x\",\"y\":[21.07,73.81,119.69,132.34,144.42,159.37,109.28,117.33,50.96,18.18,2.59],\"yaxis\":\"y\",\"type\":\"scatter\"},{\"hovertemplate\":\"Platform=Wii<br>Year=%{x}<br>Global_Sales=%{y}<extra></extra>\",\"legendgroup\":\"Wii\",\"line\":{\"color\":\"#19d3f3\",\"dash\":\"solid\"},\"marker\":{\"symbol\":\"circle\"},\"mode\":\"lines\",\"name\":\"Wii\",\"orientation\":\"v\",\"showlegend\":true,\"x\":[2006.0,2007.0,2008.0,2009.0,2010.0,2011.0,2012.0,2013.0,2014.0,2015.0],\"xaxis\":\"x\",\"y\":[137.91,154.97,174.16,210.44,131.8,62.41,22.77,9.36,4.4399999999999995,1.55],\"yaxis\":\"y\",\"type\":\"scatter\"},{\"hovertemplate\":\"Platform=3DS<br>Year=%{x}<br>Global_Sales=%{y}<extra></extra>\",\"legendgroup\":\"3DS\",\"line\":{\"color\":\"#FF6692\",\"dash\":\"solid\"},\"marker\":{\"symbol\":\"circle\"},\"mode\":\"lines\",\"name\":\"3DS\",\"orientation\":\"v\",\"showlegend\":true,\"x\":[2011.0,2012.0,2013.0,2014.0,2015.0,2016.0],\"xaxis\":\"x\",\"y\":[62.53,51.14,55.88,43.14,26.99,6.6000000000000005],\"yaxis\":\"y\",\"type\":\"scatter\"},{\"hovertemplate\":\"Platform=PSV<br>Year=%{x}<br>Global_Sales=%{y}<extra></extra>\",\"legendgroup\":\"PSV\",\"line\":{\"color\":\"#B6E880\",\"dash\":\"solid\"},\"marker\":{\"symbol\":\"circle\"},\"mode\":\"lines\",\"name\":\"PSV\",\"orientation\":\"v\",\"showlegend\":true,\"x\":[2011.0,2012.0,2013.0,2014.0,2015.0,2016.0,2017.0],\"xaxis\":\"x\",\"y\":[5.15,18.53,12.48,14.5,7.0,3.4,0.02],\"yaxis\":\"y\",\"type\":\"scatter\"},{\"hovertemplate\":\"Platform=WiiU<br>Year=%{x}<br>Global_Sales=%{y}<extra></extra>\",\"legendgroup\":\"WiiU\",\"line\":{\"color\":\"#FF97FF\",\"dash\":\"solid\"},\"marker\":{\"symbol\":\"circle\"},\"mode\":\"lines\",\"name\":\"WiiU\",\"orientation\":\"v\",\"showlegend\":true,\"x\":[2012.0,2013.0,2014.0,2015.0,2016.0],\"xaxis\":\"x\",\"y\":[17.84,21.84,22.509999999999998,16.38,3.29],\"yaxis\":\"y\",\"type\":\"scatter\"},{\"hovertemplate\":\"Platform=PS4<br>Year=%{x}<br>Global_Sales=%{y}<extra></extra>\",\"legendgroup\":\"PS4\",\"line\":{\"color\":\"#FECB52\",\"dash\":\"solid\"},\"marker\":{\"symbol\":\"circle\"},\"mode\":\"lines\",\"name\":\"PS4\",\"orientation\":\"v\",\"showlegend\":true,\"x\":[2013.0,2014.0,2015.0,2016.0,2017.0],\"xaxis\":\"x\",\"y\":[24.76,98.76,115.24,39.25,0.03],\"yaxis\":\"y\",\"type\":\"scatter\"},{\"hovertemplate\":\"Platform=XOne<br>Year=%{x}<br>Global_Sales=%{y}<extra></extra>\",\"legendgroup\":\"XOne\",\"line\":{\"color\":\"#636efa\",\"dash\":\"solid\"},\"marker\":{\"symbol\":\"circle\"},\"mode\":\"lines\",\"name\":\"XOne\",\"orientation\":\"v\",\"showlegend\":true,\"x\":[2013.0,2014.0,2015.0,2016.0],\"xaxis\":\"x\",\"y\":[18.6,52.43,57.66,12.37],\"yaxis\":\"y\",\"type\":\"scatter\"}],                        {\"template\":{\"data\":{\"histogram2dcontour\":[{\"type\":\"histogram2dcontour\",\"colorbar\":{\"outlinewidth\":0,\"ticks\":\"\"},\"colorscale\":[[0.0,\"#0d0887\"],[0.1111111111111111,\"#46039f\"],[0.2222222222222222,\"#7201a8\"],[0.3333333333333333,\"#9c179e\"],[0.4444444444444444,\"#bd3786\"],[0.5555555555555556,\"#d8576b\"],[0.6666666666666666,\"#ed7953\"],[0.7777777777777778,\"#fb9f3a\"],[0.8888888888888888,\"#fdca26\"],[1.0,\"#f0f921\"]]}],\"choropleth\":[{\"type\":\"choropleth\",\"colorbar\":{\"outlinewidth\":0,\"ticks\":\"\"}}],\"histogram2d\":[{\"type\":\"histogram2d\",\"colorbar\":{\"outlinewidth\":0,\"ticks\":\"\"},\"colorscale\":[[0.0,\"#0d0887\"],[0.1111111111111111,\"#46039f\"],[0.2222222222222222,\"#7201a8\"],[0.3333333333333333,\"#9c179e\"],[0.4444444444444444,\"#bd3786\"],[0.5555555555555556,\"#d8576b\"],[0.6666666666666666,\"#ed7953\"],[0.7777777777777778,\"#fb9f3a\"],[0.8888888888888888,\"#fdca26\"],[1.0,\"#f0f921\"]]}],\"heatmap\":[{\"type\":\"heatmap\",\"colorbar\":{\"outlinewidth\":0,\"ticks\":\"\"},\"colorscale\":[[0.0,\"#0d0887\"],[0.1111111111111111,\"#46039f\"],[0.2222222222222222,\"#7201a8\"],[0.3333333333333333,\"#9c179e\"],[0.4444444444444444,\"#bd3786\"],[0.5555555555555556,\"#d8576b\"],[0.6666666666666666,\"#ed7953\"],[0.7777777777777778,\"#fb9f3a\"],[0.8888888888888888,\"#fdca26\"],[1.0,\"#f0f921\"]]}],\"heatmapgl\":[{\"type\":\"heatmapgl\",\"colorbar\":{\"outlinewidth\":0,\"ticks\":\"\"},\"colorscale\":[[0.0,\"#0d0887\"],[0.1111111111111111,\"#46039f\"],[0.2222222222222222,\"#7201a8\"],[0.3333333333333333,\"#9c179e\"],[0.4444444444444444,\"#bd3786\"],[0.5555555555555556,\"#d8576b\"],[0.6666666666666666,\"#ed7953\"],[0.7777777777777778,\"#fb9f3a\"],[0.8888888888888888,\"#fdca26\"],[1.0,\"#f0f921\"]]}],\"contourcarpet\":[{\"type\":\"contourcarpet\",\"colorbar\":{\"outlinewidth\":0,\"ticks\":\"\"}}],\"contour\":[{\"type\":\"contour\",\"colorbar\":{\"outlinewidth\":0,\"ticks\":\"\"},\"colorscale\":[[0.0,\"#0d0887\"],[0.1111111111111111,\"#46039f\"],[0.2222222222222222,\"#7201a8\"],[0.3333333333333333,\"#9c179e\"],[0.4444444444444444,\"#bd3786\"],[0.5555555555555556,\"#d8576b\"],[0.6666666666666666,\"#ed7953\"],[0.7777777777777778,\"#fb9f3a\"],[0.8888888888888888,\"#fdca26\"],[1.0,\"#f0f921\"]]}],\"surface\":[{\"type\":\"surface\",\"colorbar\":{\"outlinewidth\":0,\"ticks\":\"\"},\"colorscale\":[[0.0,\"#0d0887\"],[0.1111111111111111,\"#46039f\"],[0.2222222222222222,\"#7201a8\"],[0.3333333333333333,\"#9c179e\"],[0.4444444444444444,\"#bd3786\"],[0.5555555555555556,\"#d8576b\"],[0.6666666666666666,\"#ed7953\"],[0.7777777777777778,\"#fb9f3a\"],[0.8888888888888888,\"#fdca26\"],[1.0,\"#f0f921\"]]}],\"mesh3d\":[{\"type\":\"mesh3d\",\"colorbar\":{\"outlinewidth\":0,\"ticks\":\"\"}}],\"scatter\":[{\"fillpattern\":{\"fillmode\":\"overlay\",\"size\":10,\"solidity\":0.2},\"type\":\"scatter\"}],\"parcoords\":[{\"type\":\"parcoords\",\"line\":{\"colorbar\":{\"outlinewidth\":0,\"ticks\":\"\"}}}],\"scatterpolargl\":[{\"type\":\"scatterpolargl\",\"marker\":{\"colorbar\":{\"outlinewidth\":0,\"ticks\":\"\"}}}],\"bar\":[{\"error_x\":{\"color\":\"#2a3f5f\"},\"error_y\":{\"color\":\"#2a3f5f\"},\"marker\":{\"line\":{\"color\":\"#E5ECF6\",\"width\":0.5},\"pattern\":{\"fillmode\":\"overlay\",\"size\":10,\"solidity\":0.2}},\"type\":\"bar\"}],\"scattergeo\":[{\"type\":\"scattergeo\",\"marker\":{\"colorbar\":{\"outlinewidth\":0,\"ticks\":\"\"}}}],\"scatterpolar\":[{\"type\":\"scatterpolar\",\"marker\":{\"colorbar\":{\"outlinewidth\":0,\"ticks\":\"\"}}}],\"histogram\":[{\"marker\":{\"pattern\":{\"fillmode\":\"overlay\",\"size\":10,\"solidity\":0.2}},\"type\":\"histogram\"}],\"scattergl\":[{\"type\":\"scattergl\",\"marker\":{\"colorbar\":{\"outlinewidth\":0,\"ticks\":\"\"}}}],\"scatter3d\":[{\"type\":\"scatter3d\",\"line\":{\"colorbar\":{\"outlinewidth\":0,\"ticks\":\"\"}},\"marker\":{\"colorbar\":{\"outlinewidth\":0,\"ticks\":\"\"}}}],\"scattermapbox\":[{\"type\":\"scattermapbox\",\"marker\":{\"colorbar\":{\"outlinewidth\":0,\"ticks\":\"\"}}}],\"scatterternary\":[{\"type\":\"scatterternary\",\"marker\":{\"colorbar\":{\"outlinewidth\":0,\"ticks\":\"\"}}}],\"scattercarpet\":[{\"type\":\"scattercarpet\",\"marker\":{\"colorbar\":{\"outlinewidth\":0,\"ticks\":\"\"}}}],\"carpet\":[{\"aaxis\":{\"endlinecolor\":\"#2a3f5f\",\"gridcolor\":\"white\",\"linecolor\":\"white\",\"minorgridcolor\":\"white\",\"startlinecolor\":\"#2a3f5f\"},\"baxis\":{\"endlinecolor\":\"#2a3f5f\",\"gridcolor\":\"white\",\"linecolor\":\"white\",\"minorgridcolor\":\"white\",\"startlinecolor\":\"#2a3f5f\"},\"type\":\"carpet\"}],\"table\":[{\"cells\":{\"fill\":{\"color\":\"#EBF0F8\"},\"line\":{\"color\":\"white\"}},\"header\":{\"fill\":{\"color\":\"#C8D4E3\"},\"line\":{\"color\":\"white\"}},\"type\":\"table\"}],\"barpolar\":[{\"marker\":{\"line\":{\"color\":\"#E5ECF6\",\"width\":0.5},\"pattern\":{\"fillmode\":\"overlay\",\"size\":10,\"solidity\":0.2}},\"type\":\"barpolar\"}],\"pie\":[{\"automargin\":true,\"type\":\"pie\"}]},\"layout\":{\"autotypenumbers\":\"strict\",\"colorway\":[\"#636efa\",\"#EF553B\",\"#00cc96\",\"#ab63fa\",\"#FFA15A\",\"#19d3f3\",\"#FF6692\",\"#B6E880\",\"#FF97FF\",\"#FECB52\"],\"font\":{\"color\":\"#2a3f5f\"},\"hovermode\":\"closest\",\"hoverlabel\":{\"align\":\"left\"},\"paper_bgcolor\":\"white\",\"plot_bgcolor\":\"#E5ECF6\",\"polar\":{\"bgcolor\":\"#E5ECF6\",\"angularaxis\":{\"gridcolor\":\"white\",\"linecolor\":\"white\",\"ticks\":\"\"},\"radialaxis\":{\"gridcolor\":\"white\",\"linecolor\":\"white\",\"ticks\":\"\"}},\"ternary\":{\"bgcolor\":\"#E5ECF6\",\"aaxis\":{\"gridcolor\":\"white\",\"linecolor\":\"white\",\"ticks\":\"\"},\"baxis\":{\"gridcolor\":\"white\",\"linecolor\":\"white\",\"ticks\":\"\"},\"caxis\":{\"gridcolor\":\"white\",\"linecolor\":\"white\",\"ticks\":\"\"}},\"coloraxis\":{\"colorbar\":{\"outlinewidth\":0,\"ticks\":\"\"}},\"colorscale\":{\"sequential\":[[0.0,\"#0d0887\"],[0.1111111111111111,\"#46039f\"],[0.2222222222222222,\"#7201a8\"],[0.3333333333333333,\"#9c179e\"],[0.4444444444444444,\"#bd3786\"],[0.5555555555555556,\"#d8576b\"],[0.6666666666666666,\"#ed7953\"],[0.7777777777777778,\"#fb9f3a\"],[0.8888888888888888,\"#fdca26\"],[1.0,\"#f0f921\"]],\"sequentialminus\":[[0.0,\"#0d0887\"],[0.1111111111111111,\"#46039f\"],[0.2222222222222222,\"#7201a8\"],[0.3333333333333333,\"#9c179e\"],[0.4444444444444444,\"#bd3786\"],[0.5555555555555556,\"#d8576b\"],[0.6666666666666666,\"#ed7953\"],[0.7777777777777778,\"#fb9f3a\"],[0.8888888888888888,\"#fdca26\"],[1.0,\"#f0f921\"]],\"diverging\":[[0,\"#8e0152\"],[0.1,\"#c51b7d\"],[0.2,\"#de77ae\"],[0.3,\"#f1b6da\"],[0.4,\"#fde0ef\"],[0.5,\"#f7f7f7\"],[0.6,\"#e6f5d0\"],[0.7,\"#b8e186\"],[0.8,\"#7fbc41\"],[0.9,\"#4d9221\"],[1,\"#276419\"]]},\"xaxis\":{\"gridcolor\":\"white\",\"linecolor\":\"white\",\"ticks\":\"\",\"title\":{\"standoff\":15},\"zerolinecolor\":\"white\",\"automargin\":true,\"zerolinewidth\":2},\"yaxis\":{\"gridcolor\":\"white\",\"linecolor\":\"white\",\"ticks\":\"\",\"title\":{\"standoff\":15},\"zerolinecolor\":\"white\",\"automargin\":true,\"zerolinewidth\":2},\"scene\":{\"xaxis\":{\"backgroundcolor\":\"#E5ECF6\",\"gridcolor\":\"white\",\"linecolor\":\"white\",\"showbackground\":true,\"ticks\":\"\",\"zerolinecolor\":\"white\",\"gridwidth\":2},\"yaxis\":{\"backgroundcolor\":\"#E5ECF6\",\"gridcolor\":\"white\",\"linecolor\":\"white\",\"showbackground\":true,\"ticks\":\"\",\"zerolinecolor\":\"white\",\"gridwidth\":2},\"zaxis\":{\"backgroundcolor\":\"#E5ECF6\",\"gridcolor\":\"white\",\"linecolor\":\"white\",\"showbackground\":true,\"ticks\":\"\",\"zerolinecolor\":\"white\",\"gridwidth\":2}},\"shapedefaults\":{\"line\":{\"color\":\"#2a3f5f\"}},\"annotationdefaults\":{\"arrowcolor\":\"#2a3f5f\",\"arrowhead\":0,\"arrowwidth\":1},\"geo\":{\"bgcolor\":\"white\",\"landcolor\":\"#E5ECF6\",\"subunitcolor\":\"white\",\"showland\":true,\"showlakes\":true,\"lakecolor\":\"white\"},\"title\":{\"x\":0.05},\"mapbox\":{\"style\":\"light\"}}},\"xaxis\":{\"anchor\":\"y\",\"domain\":[0.0,1.0],\"title\":{\"text\":\"Year\"}},\"yaxis\":{\"anchor\":\"x\",\"domain\":[0.0,1.0],\"title\":{\"text\":\"Global_Sales\"}},\"legend\":{\"title\":{\"text\":\"Platform\"},\"tracegroupgap\":0},\"margin\":{\"t\":60}},                        {\"responsive\": true}                    ).then(function(){\n                            \nvar gd = document.getElementById('4d36f585-9fbf-4883-a3a2-035993f1307b');\nvar x = new MutationObserver(function (mutations, observer) {{\n        var display = window.getComputedStyle(gd).display;\n        if (!display || display === 'none') {{\n            console.log([gd, 'removed!']);\n            Plotly.purge(gd);\n            observer.disconnect();\n        }}\n}});\n\n// Listen for the removal of the full notebook cells\nvar notebookContainer = gd.closest('#notebook-container');\nif (notebookContainer) {{\n    x.observe(notebookContainer, {childList: true});\n}}\n\n// Listen for the clearing of the current output cell\nvar outputEl = gd.closest('.output');\nif (outputEl) {{\n    x.observe(outputEl, {childList: true});\n}}\n\n                        })                };                });            </script>        </div>"
     },
     "metadata": {},
     "output_type": "display_data"
    }
   ],
   "source": [
    "import plotly.express as px\n",
    "\n",
    "df = df.groupby(['Year', 'Platform'], as_index=False)['Global_Sales'].sum()\n",
    "\n",
    "line_fig = px.line(df, x='Year', y='Global_Sales', color='Platform')\n",
    "line_fig.show()"
   ],
   "metadata": {
    "collapsed": false
   }
  },
  {
   "cell_type": "markdown",
   "source": [
    "### (b) Variabel Varianten\n",
    "In diesem Aufgabenteil sollen Sie das Diagramm aus (a) so erweitern, dass es Variationen in den visuellen Variablen erlaubt, also etwa eine andere Farbe, andere Formen, ein anderes Layout oder aber textuelle Ergänzungen. Erzeugen Sie einen Screenshot des Streudiagrammes und fügen Sie diesen in das Lösungs-pdf ein. (5 P.)"
   ],
   "metadata": {
    "collapsed": false
   }
  },
  {
   "cell_type": "code",
   "execution_count": null,
   "outputs": [],
   "source": [],
   "metadata": {
    "collapsed": false
   }
  }
 ],
 "metadata": {
  "kernelspec": {
   "display_name": "Python 3",
   "language": "python",
   "name": "python3"
  },
  "language_info": {
   "codemirror_mode": {
    "name": "ipython",
    "version": 2
   },
   "file_extension": ".py",
   "mimetype": "text/x-python",
   "name": "python",
   "nbconvert_exporter": "python",
   "pygments_lexer": "ipython2",
   "version": "2.7.6"
  }
 },
 "nbformat": 4,
 "nbformat_minor": 0
}
