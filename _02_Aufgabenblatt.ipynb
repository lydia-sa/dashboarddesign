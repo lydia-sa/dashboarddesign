{
 "cells": [
  {
   "cell_type": "markdown",
   "metadata": {},
   "source": [
    "## Aufgaben 3"
   ]
  },
  {
   "cell_type": "markdown",
   "metadata": {},
   "source": [
    "### (a) Datensatz einlesen\n",
    " Schreiben Sie Python-Code, mit dem Sie Ihren Datensatz einlesen können. Ihre erste Aufgabe ist es, die Daten in ein entsprechendes Datenformat zu transformieren, um es später vom Dashboard zugreifbar zu machen. Sie können die Daten entweder online zugreifen oder aber die Daten lokal auf Ihrem Rechner speichern und dort dann einlesen. Sind die Daten zu gross, dann lesen Sie nur einen Teil der Daten ein.\n",
    "\n"
   ]
  },
  {
   "cell_type": "code",
   "execution_count": 47,
   "metadata": {},
   "outputs": [],
   "source": [
    "import pandas as pd\n",
    "\n",
    "import plotly.graph_objects as go\n",
    "\n",
    "\n",
    "from dash import Dash, dcc, html, Input, Output, callback\n",
    "import plotly.express as px\n",
    "\n",
    "from matplotlib import pyplot as plt\n",
    "import matplotlib as mpl\n"
   ]
  },
  {
   "cell_type": "code",
   "execution_count": 48,
   "metadata": {},
   "outputs": [],
   "source": [
    "#import data\n",
    "df = pd.read_csv('Dataset_videogames sales.csv', sep=';')"
   ]
  },
  {
   "cell_type": "code",
   "execution_count": 49,
   "metadata": {},
   "outputs": [
    {
     "data": {
      "text/plain": "   Rank                      Name Platform Platform Company type of console   \n0     1                Wii Sports      Wii         Nintendo              TV  \\\n1     2         Super Mario Bros.      NES         Nintendo              TV   \n2     3            Mario Kart Wii      Wii         Nintendo              TV   \n3     4         Wii Sports Resort      Wii         Nintendo              TV   \n4     5  Pokemon Red/Pokemon Blue       GB         Nintendo        Portable   \n\n     Year         Genre Publisher  NA_Sales  EU_Sales  JP_Sales  Other_Sales   \n0  2006.0        Sports  Nintendo     41.49     29.02      3.77         8.46  \\\n1  1985.0      Platform  Nintendo     29.08      3.58      6.81         0.77   \n2  2008.0        Racing  Nintendo     15.85     12.88      3.79         3.31   \n3  2009.0        Sports  Nintendo     15.75     11.01      3.28         2.96   \n4  1996.0  Role-Playing  Nintendo     11.27      8.89     10.22         1.00   \n\n   Global_Sales  \n0         82.74  \n1         40.24  \n2         35.82  \n3         33.00  \n4         31.37  ",
      "text/html": "<div>\n<style scoped>\n    .dataframe tbody tr th:only-of-type {\n        vertical-align: middle;\n    }\n\n    .dataframe tbody tr th {\n        vertical-align: top;\n    }\n\n    .dataframe thead th {\n        text-align: right;\n    }\n</style>\n<table border=\"1\" class=\"dataframe\">\n  <thead>\n    <tr style=\"text-align: right;\">\n      <th></th>\n      <th>Rank</th>\n      <th>Name</th>\n      <th>Platform</th>\n      <th>Platform Company</th>\n      <th>type of console</th>\n      <th>Year</th>\n      <th>Genre</th>\n      <th>Publisher</th>\n      <th>NA_Sales</th>\n      <th>EU_Sales</th>\n      <th>JP_Sales</th>\n      <th>Other_Sales</th>\n      <th>Global_Sales</th>\n    </tr>\n  </thead>\n  <tbody>\n    <tr>\n      <th>0</th>\n      <td>1</td>\n      <td>Wii Sports</td>\n      <td>Wii</td>\n      <td>Nintendo</td>\n      <td>TV</td>\n      <td>2006.0</td>\n      <td>Sports</td>\n      <td>Nintendo</td>\n      <td>41.49</td>\n      <td>29.02</td>\n      <td>3.77</td>\n      <td>8.46</td>\n      <td>82.74</td>\n    </tr>\n    <tr>\n      <th>1</th>\n      <td>2</td>\n      <td>Super Mario Bros.</td>\n      <td>NES</td>\n      <td>Nintendo</td>\n      <td>TV</td>\n      <td>1985.0</td>\n      <td>Platform</td>\n      <td>Nintendo</td>\n      <td>29.08</td>\n      <td>3.58</td>\n      <td>6.81</td>\n      <td>0.77</td>\n      <td>40.24</td>\n    </tr>\n    <tr>\n      <th>2</th>\n      <td>3</td>\n      <td>Mario Kart Wii</td>\n      <td>Wii</td>\n      <td>Nintendo</td>\n      <td>TV</td>\n      <td>2008.0</td>\n      <td>Racing</td>\n      <td>Nintendo</td>\n      <td>15.85</td>\n      <td>12.88</td>\n      <td>3.79</td>\n      <td>3.31</td>\n      <td>35.82</td>\n    </tr>\n    <tr>\n      <th>3</th>\n      <td>4</td>\n      <td>Wii Sports Resort</td>\n      <td>Wii</td>\n      <td>Nintendo</td>\n      <td>TV</td>\n      <td>2009.0</td>\n      <td>Sports</td>\n      <td>Nintendo</td>\n      <td>15.75</td>\n      <td>11.01</td>\n      <td>3.28</td>\n      <td>2.96</td>\n      <td>33.00</td>\n    </tr>\n    <tr>\n      <th>4</th>\n      <td>5</td>\n      <td>Pokemon Red/Pokemon Blue</td>\n      <td>GB</td>\n      <td>Nintendo</td>\n      <td>Portable</td>\n      <td>1996.0</td>\n      <td>Role-Playing</td>\n      <td>Nintendo</td>\n      <td>11.27</td>\n      <td>8.89</td>\n      <td>10.22</td>\n      <td>1.00</td>\n      <td>31.37</td>\n    </tr>\n  </tbody>\n</table>\n</div>"
     },
     "execution_count": 49,
     "metadata": {},
     "output_type": "execute_result"
    }
   ],
   "source": [
    "#have a look at the data\n",
    "df.head()"
   ]
  },
  {
   "cell_type": "code",
   "execution_count": 50,
   "metadata": {},
   "outputs": [
    {
     "name": "stdout",
     "output_type": "stream",
     "text": [
      "<class 'pandas.core.frame.DataFrame'>\n",
      "RangeIndex: 16598 entries, 0 to 16597\n",
      "Data columns (total 13 columns):\n",
      " #   Column            Non-Null Count  Dtype  \n",
      "---  ------            --------------  -----  \n",
      " 0   Rank              16598 non-null  int64  \n",
      " 1   Name              16598 non-null  object \n",
      " 2   Platform          16572 non-null  object \n",
      " 3   Platform Company  16572 non-null  object \n",
      " 4   type of console   16572 non-null  object \n",
      " 5   Year              16301 non-null  float64\n",
      " 6   Genre             16572 non-null  object \n",
      " 7   Publisher         16514 non-null  object \n",
      " 8   NA_Sales          16572 non-null  float64\n",
      " 9   EU_Sales          16572 non-null  float64\n",
      " 10  JP_Sales          16572 non-null  float64\n",
      " 11  Other_Sales       16572 non-null  float64\n",
      " 12  Global_Sales      16572 non-null  float64\n",
      "dtypes: float64(6), int64(1), object(6)\n",
      "memory usage: 1.6+ MB\n"
     ]
    }
   ],
   "source": [
    "#have a look at the data type\n",
    "df.info()"
   ]
  },
  {
   "cell_type": "code",
   "execution_count": 53,
   "outputs": [],
   "source": [
    "#transform column title to short name\n",
    "df.columns = df.columns.str.replace('Global_Sales', 'Global')\n",
    "df.columns = df.columns.str.replace('NA_Sales', 'North America')\n",
    "df.columns = df.columns.str.replace('EU_Sales', 'Europe')\n",
    "df.columns = df.columns.str.replace('JP_Sales', 'Japan')\n",
    "df.columns = df.columns.str.replace('Other_Sales', 'Others')\n",
    "df.columns = df.columns.str.replace('type of console', 'Console')\n",
    "df.columns = df.columns.str.replace('Platform Company', 'Company')\n",
    "\n",
    "# all values in column \"Platform\" to strings (for sorting filter and so on):\n",
    "df['Platform'] = df['Platform'].map(str)\n",
    "\n",
    "# fill na\n",
    "df = df.fillna('none')"
   ],
   "metadata": {
    "collapsed": false
   }
  },
  {
   "cell_type": "markdown",
   "metadata": {},
   "source": [
    "### (b) Filterfunktion\n",
    "\n",
    "Implementieren Sie schon eine Filterfunktion, mit der man die Daten auch nur teilweise bezüglich eines oder mehrerer Attribute/Eigenschaften nutzen kann. (4 P.) Für welche Filteroptionen haben Sie sich entschieden? (1 P.)\n"
   ]
  },
  {
   "cell_type": "code",
   "execution_count": null,
   "outputs": [],
   "source": [
    "# Filter Dropdown \"Platform\"\n",
    "\n",
    "app = Dash(__name__)\n",
    "\n",
    "app.layout = html.Div([\n",
    "    dcc.Dropdown(id='dropdown_platform',\n",
    "                 options=sorted([{'label': i, 'value': i} for i in df['Platform'].unique()], key = lambda x: x['label']),\n",
    "                 style= {'width':'40%'}\n",
    "                 ),\n",
    "    html.Div(id='output-container')\n",
    "])\n",
    "\n",
    "@app.callback(\n",
    "    Output('output-container', 'children'),\n",
    "    Input('dropdown_platform', 'value')\n",
    ")\n",
    "def update_output(value):\n",
    "\n",
    "    return f'You have selected {value}'\n",
    "\n",
    "\n",
    "if __name__ == '__main__':\n",
    "    app.run_server(debug=False)"
   ],
   "metadata": {
    "collapsed": false,
    "pycharm": {
     "is_executing": true
    }
   }
  },
  {
   "cell_type": "markdown",
   "source": [
    "### mehr Filters... und Testing"
   ],
   "metadata": {
    "collapsed": false
   }
  },
  {
   "cell_type": "code",
   "execution_count": 61,
   "outputs": [
    {
     "name": "stdout",
     "output_type": "stream",
     "text": [
      "Dash is running on http://127.0.0.1:8050/\n",
      "\n",
      " * Serving Flask app '__main__'\n",
      " * Debug mode: off\n"
     ]
    },
    {
     "name": "stderr",
     "output_type": "stream",
     "text": [
      "WARNING: This is a development server. Do not use it in a production deployment. Use a production WSGI server instead.\n",
      " * Running on http://127.0.0.1:8050\n",
      "Press CTRL+C to quit\n",
      "127.0.0.1 - - [07/May/2023 17:13:25] \"GET / HTTP/1.1\" 200 -\n",
      "127.0.0.1 - - [07/May/2023 17:13:25] \"GET /_dash-layout HTTP/1.1\" 200 -\n",
      "127.0.0.1 - - [07/May/2023 17:13:25] \"GET /_dash-dependencies HTTP/1.1\" 200 -\n",
      "127.0.0.1 - - [07/May/2023 17:13:25] \"GET /_dash-component-suites/dash/dcc/async-dropdown.js HTTP/1.1\" 304 -\n",
      "127.0.0.1 - - [07/May/2023 17:13:25] \"POST /_dash-update-component HTTP/1.1\" 200 -\n",
      "127.0.0.1 - - [07/May/2023 17:13:26] \"GET / HTTP/1.1\" 200 -\n",
      "127.0.0.1 - - [07/May/2023 17:13:26] \"GET /_dash-layout HTTP/1.1\" 200 -\n",
      "127.0.0.1 - - [07/May/2023 17:13:26] \"GET /_dash-dependencies HTTP/1.1\" 200 -\n",
      "127.0.0.1 - - [07/May/2023 17:13:26] \"GET /_dash-component-suites/dash/dcc/async-dropdown.js HTTP/1.1\" 304 -\n",
      "127.0.0.1 - - [07/May/2023 17:13:26] \"POST /_dash-update-component HTTP/1.1\" 200 -\n",
      "127.0.0.1 - - [07/May/2023 17:13:29] \"POST /_dash-update-component HTTP/1.1\" 200 -\n",
      "127.0.0.1 - - [07/May/2023 17:13:36] \"POST /_dash-update-component HTTP/1.1\" 200 -\n",
      "127.0.0.1 - - [07/May/2023 17:13:40] \"POST /_dash-update-component HTTP/1.1\" 200 -\n",
      "127.0.0.1 - - [07/May/2023 17:14:00] \"POST /_dash-update-component HTTP/1.1\" 200 -\n",
      "127.0.0.1 - - [07/May/2023 17:14:14] \"POST /_dash-update-component HTTP/1.1\" 200 -\n",
      "127.0.0.1 - - [07/May/2023 17:14:21] \"POST /_dash-update-component HTTP/1.1\" 200 -\n",
      "127.0.0.1 - - [07/May/2023 17:14:24] \"POST /_dash-update-component HTTP/1.1\" 200 -\n"
     ]
    }
   ],
   "source": [
    "#generarting a table out of the datafame\n",
    "def generate_table(dataframe, max_rows=30):\n",
    "    return html.Table(\n",
    "        # Header\n",
    "        [html.Tr([html.Th(col) for col in dataframe.columns])] +\n",
    "\n",
    "        # Body\n",
    "        [html.Tr([\n",
    "            html.Td(dataframe.iloc[i][col]) for col in dataframe.columns\n",
    "        ]) for i in range(min(len(dataframe), max_rows))]\n",
    "    )\n",
    "\n",
    "#building more than one dropdown\n",
    "app = Dash(__name__)\n",
    "\n",
    "app.layout = html.Div([\n",
    "    dcc.Dropdown(id='dd_platform',\n",
    "                 options=sorted([{'label': i, 'value': i} for i in df['Platform'].unique()], key = lambda x: x['label']),\n",
    "                 placeholder='select a platform',\n",
    "                 style= {'width':'50%'}\n",
    "                 ),\n",
    "\n",
    "    dcc.Dropdown(id='dd_genre',\n",
    "                 options=sorted([{'label': i, 'value': i} for i in df['Genre'].unique()], key = lambda x: x['label']),\n",
    "                 placeholder='select a genre',\n",
    "                 style= {'width':'50%'}\n",
    "                 ),\n",
    "\n",
    "    dcc.Dropdown(id='dd_console',\n",
    "                 options=sorted([{'label': i, 'value': i} for i in df['Console'].unique()], key = lambda x: x['label']),\n",
    "                 placeholder='select a console',\n",
    "                 style= {'width':'50%'}\n",
    "                 ),\n",
    "\n",
    "    dcc.Dropdown(id='dd_company',\n",
    "                 options=sorted([{'label': i, 'value': i} for i in df['Company'].unique()], key = lambda x: x['label']),\n",
    "                 placeholder='select a company',\n",
    "                 style= {'width':'50%'}\n",
    "                 ),\n",
    "\n",
    "    dcc.Dropdown(id='dd_publisher',\n",
    "                 options=sorted([{'label': i, 'value': i} for i in df['Publisher'].unique()], key = lambda x: x['label']),\n",
    "                 placeholder='select a publisher',\n",
    "                 style= {'width':'50%'}\n",
    "                 ),\n",
    "\n",
    "    html.Div(id='output-container')\n",
    "])\n",
    "\n",
    "@app.callback(\n",
    "    Output('output-container', 'children'),\n",
    "    Input('dd_platform', 'value'),\n",
    "    Input('dd_genre', 'value'),\n",
    "    Input('dd_console', 'value'),\n",
    "    Input('dd_company', 'value'),\n",
    "    Input('dd_publisher', 'value'),\n",
    ")\n",
    "def update_output(dd_platform_value, dd_genre_value, dd_console_value, dd_company_value, dd_publisher_value):\n",
    "    dff = df.copy()\n",
    "\n",
    "    #Platform column filtering\n",
    "    if dd_platform_value != None:\n",
    "    #dff = df[df.Platform.str.contains('|'.join(dd_value))]  # Option für Mehrfachfilter\n",
    "        dff = dff[dff['Platform'] == dd_platform_value]\n",
    "\n",
    "    #Genre column filtering\n",
    "    if dd_genre_value != None:\n",
    "        dff = dff[dff['Genre'] == dd_genre_value]\n",
    "\n",
    "    #Console column filtering\n",
    "    if dd_console_value != None:\n",
    "        dff = dff[dff['Console'] == dd_console_value]\n",
    "\n",
    "    #Company column filtering\n",
    "    if dd_company_value != None:\n",
    "        dff = dff[dff['Company'] == dd_company_value]\n",
    "\n",
    "    #Publisher column filtering\n",
    "    if dd_publisher_value != None:\n",
    "        dff = dff[dff['Publisher'] == dd_publisher_value]\n",
    "\n",
    "    else:\n",
    "        dff = dff\n",
    "    return generate_table(dff)\n",
    "\n",
    "if __name__ == '__main__':\n",
    "    app.run_server(debug=False)"
   ],
   "metadata": {
    "collapsed": false
   }
  },
  {
   "cell_type": "markdown",
   "metadata": {},
   "source": [
    "## Aufgabe 4 – Diagramme und Visualisierungen mit Plotly\n"
   ]
  },
  {
   "cell_type": "markdown",
   "metadata": {},
   "source": [
    "### (a) Diagramm\n",
    "Erzeugen Sie aus Ihrem Datensatz aus Aufgabe 3 ein Diagramm mit Plotly, das Sie in Ihrem Dashboard verwenden möchten. (5 P.) Interpretieren Sie das Diagramm, indem Sie Bezug auf die dargestellten Daten nehmen. (5 P.) Erzeugen Sie einen Screenshot des Streudiagrammes und fügen Sie diesen in das Lösungs-pdf ein.\n"
   ]
  },
  {
   "cell_type": "code",
   "execution_count": 40,
   "outputs": [
    {
     "data": {
      "application/vnd.plotly.v1+json": {
       "data": [
        {
         "alignmentgroup": "True",
         "hovertemplate": "variable=North America<br>Platform=%{x}<br>value=%{y}<extra></extra>",
         "legendgroup": "North America",
         "marker": {
          "color": "#1a889d",
          "pattern": {
           "shape": ""
          }
         },
         "name": "North America",
         "offsetgroup": "North America",
         "orientation": "v",
         "showlegend": true,
         "textposition": "auto",
         "x": [
          "Wii",
          "DS",
          "GB",
          "X360",
          "PS3",
          "NES",
          "PS2",
          "3DS",
          "SNES",
          "GBA",
          "PS4",
          "N64",
          "PS"
         ],
         "xaxis": "x",
         "y": [
          138.7,
          62.47,
          66.35,
          81.52,
          36.230000000000004,
          65.55,
          34.69,
          19.03,
          18.77,
          10.399999999999999,
          9.57,
          6.91,
          4.02
         ],
         "yaxis": "y",
         "type": "bar"
        },
        {
         "alignmentgroup": "True",
         "hovertemplate": "variable=Europe<br>Platform=%{x}<br>value=%{y}<extra></extra>",
         "legendgroup": "Europe",
         "marker": {
          "color": "#4da3b3",
          "pattern": {
           "shape": ""
          }
         },
         "name": "Europe",
         "offsetgroup": "Europe",
         "orientation": "v",
         "showlegend": true,
         "textposition": "auto",
         "x": [
          "Wii",
          "DS",
          "GB",
          "X360",
          "PS3",
          "NES",
          "PS2",
          "3DS",
          "SNES",
          "GBA",
          "PS4",
          "N64",
          "PS"
         ],
         "xaxis": "x",
         "y": [
          94.95,
          59.62,
          27.12,
          34.75,
          37.74,
          7.65,
          15.5,
          14.32,
          5.9,
          6.55,
          11.62,
          2.85,
          3.87
         ],
         "yaxis": "y",
         "type": "bar"
        },
        {
         "alignmentgroup": "True",
         "hovertemplate": "variable=Japan<br>Platform=%{x}<br>value=%{y}<extra></extra>",
         "legendgroup": "Japan",
         "marker": {
          "color": "#80bdc9",
          "pattern": {
           "shape": ""
          }
         },
         "name": "Japan",
         "offsetgroup": "Japan",
         "orientation": "v",
         "showlegend": true,
         "textposition": "auto",
         "x": [
          "Wii",
          "DS",
          "GB",
          "X360",
          "PS3",
          "NES",
          "PS2",
          "3DS",
          "SNES",
          "GBA",
          "PS4",
          "N64",
          "PS"
         ],
         "xaxis": "x",
         "y": [
          28.46,
          44.27,
          31.63,
          1.0,
          4.22,
          10.93,
          4.15,
          12.219999999999999,
          5.66,
          8.53,
          0.71,
          1.91,
          2.54
         ],
         "yaxis": "y",
         "type": "bar"
        },
        {
         "alignmentgroup": "True",
         "hovertemplate": "variable=Others<br>Platform=%{x}<br>value=%{y}<extra></extra>",
         "legendgroup": "Others",
         "marker": {
          "color": "#b3d7de",
          "pattern": {
           "shape": ""
          }
         },
         "name": "Others",
         "offsetgroup": "Others",
         "orientation": "v",
         "showlegend": true,
         "textposition": "auto",
         "x": [
          "Wii",
          "DS",
          "GB",
          "X360",
          "PS3",
          "NES",
          "PS2",
          "3DS",
          "SNES",
          "GBA",
          "PS4",
          "N64",
          "PS"
         ],
         "xaxis": "x",
         "y": [
          26.630000000000003,
          15.62,
          3.59,
          10.97,
          15.48,
          1.7,
          22.34,
          3.1100000000000003,
          0.8400000000000001,
          0.85,
          4.33,
          0.23,
          0.52
         ],
         "yaxis": "y",
         "type": "bar"
        }
       ],
       "layout": {
        "template": {
         "data": {
          "histogram2dcontour": [
           {
            "type": "histogram2dcontour",
            "colorbar": {
             "outlinewidth": 0,
             "ticks": ""
            },
            "colorscale": [
             [
              0.0,
              "#0d0887"
             ],
             [
              0.1111111111111111,
              "#46039f"
             ],
             [
              0.2222222222222222,
              "#7201a8"
             ],
             [
              0.3333333333333333,
              "#9c179e"
             ],
             [
              0.4444444444444444,
              "#bd3786"
             ],
             [
              0.5555555555555556,
              "#d8576b"
             ],
             [
              0.6666666666666666,
              "#ed7953"
             ],
             [
              0.7777777777777778,
              "#fb9f3a"
             ],
             [
              0.8888888888888888,
              "#fdca26"
             ],
             [
              1.0,
              "#f0f921"
             ]
            ]
           }
          ],
          "choropleth": [
           {
            "type": "choropleth",
            "colorbar": {
             "outlinewidth": 0,
             "ticks": ""
            }
           }
          ],
          "histogram2d": [
           {
            "type": "histogram2d",
            "colorbar": {
             "outlinewidth": 0,
             "ticks": ""
            },
            "colorscale": [
             [
              0.0,
              "#0d0887"
             ],
             [
              0.1111111111111111,
              "#46039f"
             ],
             [
              0.2222222222222222,
              "#7201a8"
             ],
             [
              0.3333333333333333,
              "#9c179e"
             ],
             [
              0.4444444444444444,
              "#bd3786"
             ],
             [
              0.5555555555555556,
              "#d8576b"
             ],
             [
              0.6666666666666666,
              "#ed7953"
             ],
             [
              0.7777777777777778,
              "#fb9f3a"
             ],
             [
              0.8888888888888888,
              "#fdca26"
             ],
             [
              1.0,
              "#f0f921"
             ]
            ]
           }
          ],
          "heatmap": [
           {
            "type": "heatmap",
            "colorbar": {
             "outlinewidth": 0,
             "ticks": ""
            },
            "colorscale": [
             [
              0.0,
              "#0d0887"
             ],
             [
              0.1111111111111111,
              "#46039f"
             ],
             [
              0.2222222222222222,
              "#7201a8"
             ],
             [
              0.3333333333333333,
              "#9c179e"
             ],
             [
              0.4444444444444444,
              "#bd3786"
             ],
             [
              0.5555555555555556,
              "#d8576b"
             ],
             [
              0.6666666666666666,
              "#ed7953"
             ],
             [
              0.7777777777777778,
              "#fb9f3a"
             ],
             [
              0.8888888888888888,
              "#fdca26"
             ],
             [
              1.0,
              "#f0f921"
             ]
            ]
           }
          ],
          "heatmapgl": [
           {
            "type": "heatmapgl",
            "colorbar": {
             "outlinewidth": 0,
             "ticks": ""
            },
            "colorscale": [
             [
              0.0,
              "#0d0887"
             ],
             [
              0.1111111111111111,
              "#46039f"
             ],
             [
              0.2222222222222222,
              "#7201a8"
             ],
             [
              0.3333333333333333,
              "#9c179e"
             ],
             [
              0.4444444444444444,
              "#bd3786"
             ],
             [
              0.5555555555555556,
              "#d8576b"
             ],
             [
              0.6666666666666666,
              "#ed7953"
             ],
             [
              0.7777777777777778,
              "#fb9f3a"
             ],
             [
              0.8888888888888888,
              "#fdca26"
             ],
             [
              1.0,
              "#f0f921"
             ]
            ]
           }
          ],
          "contourcarpet": [
           {
            "type": "contourcarpet",
            "colorbar": {
             "outlinewidth": 0,
             "ticks": ""
            }
           }
          ],
          "contour": [
           {
            "type": "contour",
            "colorbar": {
             "outlinewidth": 0,
             "ticks": ""
            },
            "colorscale": [
             [
              0.0,
              "#0d0887"
             ],
             [
              0.1111111111111111,
              "#46039f"
             ],
             [
              0.2222222222222222,
              "#7201a8"
             ],
             [
              0.3333333333333333,
              "#9c179e"
             ],
             [
              0.4444444444444444,
              "#bd3786"
             ],
             [
              0.5555555555555556,
              "#d8576b"
             ],
             [
              0.6666666666666666,
              "#ed7953"
             ],
             [
              0.7777777777777778,
              "#fb9f3a"
             ],
             [
              0.8888888888888888,
              "#fdca26"
             ],
             [
              1.0,
              "#f0f921"
             ]
            ]
           }
          ],
          "surface": [
           {
            "type": "surface",
            "colorbar": {
             "outlinewidth": 0,
             "ticks": ""
            },
            "colorscale": [
             [
              0.0,
              "#0d0887"
             ],
             [
              0.1111111111111111,
              "#46039f"
             ],
             [
              0.2222222222222222,
              "#7201a8"
             ],
             [
              0.3333333333333333,
              "#9c179e"
             ],
             [
              0.4444444444444444,
              "#bd3786"
             ],
             [
              0.5555555555555556,
              "#d8576b"
             ],
             [
              0.6666666666666666,
              "#ed7953"
             ],
             [
              0.7777777777777778,
              "#fb9f3a"
             ],
             [
              0.8888888888888888,
              "#fdca26"
             ],
             [
              1.0,
              "#f0f921"
             ]
            ]
           }
          ],
          "mesh3d": [
           {
            "type": "mesh3d",
            "colorbar": {
             "outlinewidth": 0,
             "ticks": ""
            }
           }
          ],
          "scatter": [
           {
            "fillpattern": {
             "fillmode": "overlay",
             "size": 10,
             "solidity": 0.2
            },
            "type": "scatter"
           }
          ],
          "parcoords": [
           {
            "type": "parcoords",
            "line": {
             "colorbar": {
              "outlinewidth": 0,
              "ticks": ""
             }
            }
           }
          ],
          "scatterpolargl": [
           {
            "type": "scatterpolargl",
            "marker": {
             "colorbar": {
              "outlinewidth": 0,
              "ticks": ""
             }
            }
           }
          ],
          "bar": [
           {
            "error_x": {
             "color": "#2a3f5f"
            },
            "error_y": {
             "color": "#2a3f5f"
            },
            "marker": {
             "line": {
              "color": "#E5ECF6",
              "width": 0.5
             },
             "pattern": {
              "fillmode": "overlay",
              "size": 10,
              "solidity": 0.2
             }
            },
            "type": "bar"
           }
          ],
          "scattergeo": [
           {
            "type": "scattergeo",
            "marker": {
             "colorbar": {
              "outlinewidth": 0,
              "ticks": ""
             }
            }
           }
          ],
          "scatterpolar": [
           {
            "type": "scatterpolar",
            "marker": {
             "colorbar": {
              "outlinewidth": 0,
              "ticks": ""
             }
            }
           }
          ],
          "histogram": [
           {
            "marker": {
             "pattern": {
              "fillmode": "overlay",
              "size": 10,
              "solidity": 0.2
             }
            },
            "type": "histogram"
           }
          ],
          "scattergl": [
           {
            "type": "scattergl",
            "marker": {
             "colorbar": {
              "outlinewidth": 0,
              "ticks": ""
             }
            }
           }
          ],
          "scatter3d": [
           {
            "type": "scatter3d",
            "line": {
             "colorbar": {
              "outlinewidth": 0,
              "ticks": ""
             }
            },
            "marker": {
             "colorbar": {
              "outlinewidth": 0,
              "ticks": ""
             }
            }
           }
          ],
          "scattermapbox": [
           {
            "type": "scattermapbox",
            "marker": {
             "colorbar": {
              "outlinewidth": 0,
              "ticks": ""
             }
            }
           }
          ],
          "scatterternary": [
           {
            "type": "scatterternary",
            "marker": {
             "colorbar": {
              "outlinewidth": 0,
              "ticks": ""
             }
            }
           }
          ],
          "scattercarpet": [
           {
            "type": "scattercarpet",
            "marker": {
             "colorbar": {
              "outlinewidth": 0,
              "ticks": ""
             }
            }
           }
          ],
          "carpet": [
           {
            "aaxis": {
             "endlinecolor": "#2a3f5f",
             "gridcolor": "white",
             "linecolor": "white",
             "minorgridcolor": "white",
             "startlinecolor": "#2a3f5f"
            },
            "baxis": {
             "endlinecolor": "#2a3f5f",
             "gridcolor": "white",
             "linecolor": "white",
             "minorgridcolor": "white",
             "startlinecolor": "#2a3f5f"
            },
            "type": "carpet"
           }
          ],
          "table": [
           {
            "cells": {
             "fill": {
              "color": "#EBF0F8"
             },
             "line": {
              "color": "white"
             }
            },
            "header": {
             "fill": {
              "color": "#C8D4E3"
             },
             "line": {
              "color": "white"
             }
            },
            "type": "table"
           }
          ],
          "barpolar": [
           {
            "marker": {
             "line": {
              "color": "#E5ECF6",
              "width": 0.5
             },
             "pattern": {
              "fillmode": "overlay",
              "size": 10,
              "solidity": 0.2
             }
            },
            "type": "barpolar"
           }
          ],
          "pie": [
           {
            "automargin": true,
            "type": "pie"
           }
          ]
         },
         "layout": {
          "autotypenumbers": "strict",
          "colorway": [
           "#636efa",
           "#EF553B",
           "#00cc96",
           "#ab63fa",
           "#FFA15A",
           "#19d3f3",
           "#FF6692",
           "#B6E880",
           "#FF97FF",
           "#FECB52"
          ],
          "font": {
           "color": "#2a3f5f"
          },
          "hovermode": "closest",
          "hoverlabel": {
           "align": "left"
          },
          "paper_bgcolor": "white",
          "plot_bgcolor": "#E5ECF6",
          "polar": {
           "bgcolor": "#E5ECF6",
           "angularaxis": {
            "gridcolor": "white",
            "linecolor": "white",
            "ticks": ""
           },
           "radialaxis": {
            "gridcolor": "white",
            "linecolor": "white",
            "ticks": ""
           }
          },
          "ternary": {
           "bgcolor": "#E5ECF6",
           "aaxis": {
            "gridcolor": "white",
            "linecolor": "white",
            "ticks": ""
           },
           "baxis": {
            "gridcolor": "white",
            "linecolor": "white",
            "ticks": ""
           },
           "caxis": {
            "gridcolor": "white",
            "linecolor": "white",
            "ticks": ""
           }
          },
          "coloraxis": {
           "colorbar": {
            "outlinewidth": 0,
            "ticks": ""
           }
          },
          "colorscale": {
           "sequential": [
            [
             0.0,
             "#0d0887"
            ],
            [
             0.1111111111111111,
             "#46039f"
            ],
            [
             0.2222222222222222,
             "#7201a8"
            ],
            [
             0.3333333333333333,
             "#9c179e"
            ],
            [
             0.4444444444444444,
             "#bd3786"
            ],
            [
             0.5555555555555556,
             "#d8576b"
            ],
            [
             0.6666666666666666,
             "#ed7953"
            ],
            [
             0.7777777777777778,
             "#fb9f3a"
            ],
            [
             0.8888888888888888,
             "#fdca26"
            ],
            [
             1.0,
             "#f0f921"
            ]
           ],
           "sequentialminus": [
            [
             0.0,
             "#0d0887"
            ],
            [
             0.1111111111111111,
             "#46039f"
            ],
            [
             0.2222222222222222,
             "#7201a8"
            ],
            [
             0.3333333333333333,
             "#9c179e"
            ],
            [
             0.4444444444444444,
             "#bd3786"
            ],
            [
             0.5555555555555556,
             "#d8576b"
            ],
            [
             0.6666666666666666,
             "#ed7953"
            ],
            [
             0.7777777777777778,
             "#fb9f3a"
            ],
            [
             0.8888888888888888,
             "#fdca26"
            ],
            [
             1.0,
             "#f0f921"
            ]
           ],
           "diverging": [
            [
             0,
             "#8e0152"
            ],
            [
             0.1,
             "#c51b7d"
            ],
            [
             0.2,
             "#de77ae"
            ],
            [
             0.3,
             "#f1b6da"
            ],
            [
             0.4,
             "#fde0ef"
            ],
            [
             0.5,
             "#f7f7f7"
            ],
            [
             0.6,
             "#e6f5d0"
            ],
            [
             0.7,
             "#b8e186"
            ],
            [
             0.8,
             "#7fbc41"
            ],
            [
             0.9,
             "#4d9221"
            ],
            [
             1,
             "#276419"
            ]
           ]
          },
          "xaxis": {
           "gridcolor": "white",
           "linecolor": "white",
           "ticks": "",
           "title": {
            "standoff": 15
           },
           "zerolinecolor": "white",
           "automargin": true,
           "zerolinewidth": 2
          },
          "yaxis": {
           "gridcolor": "white",
           "linecolor": "white",
           "ticks": "",
           "title": {
            "standoff": 15
           },
           "zerolinecolor": "white",
           "automargin": true,
           "zerolinewidth": 2
          },
          "scene": {
           "xaxis": {
            "backgroundcolor": "#E5ECF6",
            "gridcolor": "white",
            "linecolor": "white",
            "showbackground": true,
            "ticks": "",
            "zerolinecolor": "white",
            "gridwidth": 2
           },
           "yaxis": {
            "backgroundcolor": "#E5ECF6",
            "gridcolor": "white",
            "linecolor": "white",
            "showbackground": true,
            "ticks": "",
            "zerolinecolor": "white",
            "gridwidth": 2
           },
           "zaxis": {
            "backgroundcolor": "#E5ECF6",
            "gridcolor": "white",
            "linecolor": "white",
            "showbackground": true,
            "ticks": "",
            "zerolinecolor": "white",
            "gridwidth": 2
           }
          },
          "shapedefaults": {
           "line": {
            "color": "#2a3f5f"
           }
          },
          "annotationdefaults": {
           "arrowcolor": "#2a3f5f",
           "arrowhead": 0,
           "arrowwidth": 1
          },
          "geo": {
           "bgcolor": "white",
           "landcolor": "#E5ECF6",
           "subunitcolor": "white",
           "showland": true,
           "showlakes": true,
           "lakecolor": "white"
          },
          "title": {
           "x": 0.05
          },
          "mapbox": {
           "style": "light"
          }
         }
        },
        "xaxis": {
         "anchor": "y",
         "domain": [
          0.0,
          1.0
         ],
         "title": {
          "text": "Platform"
         },
         "showline": true,
         "linewidth": 1,
         "linecolor": "black"
        },
        "yaxis": {
         "anchor": "x",
         "domain": [
          0.0,
          1.0
         ],
         "title": {
          "text": "number of sales (in million)"
         },
         "showline": true,
         "linewidth": 1,
         "linecolor": "black"
        },
        "legend": {
         "title": {
          "text": "  Area"
         },
         "tracegroupgap": 0,
         "yanchor": "top",
         "y": 0.99,
         "xanchor": "right",
         "x": 0.99
        },
        "margin": {
         "t": 60
        },
        "barmode": "relative",
        "plot_bgcolor": "white",
        "paper_bgcolor": "white"
       },
       "config": {
        "plotlyServerURL": "https://plot.ly"
       }
      },
      "text/html": "<div>                            <div id=\"43320f35-deb4-40b0-be8b-9f3b12fe1e2b\" class=\"plotly-graph-div\" style=\"height:525px; width:100%;\"></div>            <script type=\"text/javascript\">                require([\"plotly\"], function(Plotly) {                    window.PLOTLYENV=window.PLOTLYENV || {};                                    if (document.getElementById(\"43320f35-deb4-40b0-be8b-9f3b12fe1e2b\")) {                    Plotly.newPlot(                        \"43320f35-deb4-40b0-be8b-9f3b12fe1e2b\",                        [{\"alignmentgroup\":\"True\",\"hovertemplate\":\"variable=North America<br>Platform=%{x}<br>value=%{y}<extra></extra>\",\"legendgroup\":\"North America\",\"marker\":{\"color\":\"#1a889d\",\"pattern\":{\"shape\":\"\"}},\"name\":\"North America\",\"offsetgroup\":\"North America\",\"orientation\":\"v\",\"showlegend\":true,\"textposition\":\"auto\",\"x\":[\"Wii\",\"DS\",\"GB\",\"X360\",\"PS3\",\"NES\",\"PS2\",\"3DS\",\"SNES\",\"GBA\",\"PS4\",\"N64\",\"PS\"],\"xaxis\":\"x\",\"y\":[138.7,62.47,66.35,81.52,36.230000000000004,65.55,34.69,19.03,18.77,10.399999999999999,9.57,6.91,4.02],\"yaxis\":\"y\",\"type\":\"bar\"},{\"alignmentgroup\":\"True\",\"hovertemplate\":\"variable=Europe<br>Platform=%{x}<br>value=%{y}<extra></extra>\",\"legendgroup\":\"Europe\",\"marker\":{\"color\":\"#4da3b3\",\"pattern\":{\"shape\":\"\"}},\"name\":\"Europe\",\"offsetgroup\":\"Europe\",\"orientation\":\"v\",\"showlegend\":true,\"textposition\":\"auto\",\"x\":[\"Wii\",\"DS\",\"GB\",\"X360\",\"PS3\",\"NES\",\"PS2\",\"3DS\",\"SNES\",\"GBA\",\"PS4\",\"N64\",\"PS\"],\"xaxis\":\"x\",\"y\":[94.95,59.62,27.12,34.75,37.74,7.65,15.5,14.32,5.9,6.55,11.62,2.85,3.87],\"yaxis\":\"y\",\"type\":\"bar\"},{\"alignmentgroup\":\"True\",\"hovertemplate\":\"variable=Japan<br>Platform=%{x}<br>value=%{y}<extra></extra>\",\"legendgroup\":\"Japan\",\"marker\":{\"color\":\"#80bdc9\",\"pattern\":{\"shape\":\"\"}},\"name\":\"Japan\",\"offsetgroup\":\"Japan\",\"orientation\":\"v\",\"showlegend\":true,\"textposition\":\"auto\",\"x\":[\"Wii\",\"DS\",\"GB\",\"X360\",\"PS3\",\"NES\",\"PS2\",\"3DS\",\"SNES\",\"GBA\",\"PS4\",\"N64\",\"PS\"],\"xaxis\":\"x\",\"y\":[28.46,44.27,31.63,1.0,4.22,10.93,4.15,12.219999999999999,5.66,8.53,0.71,1.91,2.54],\"yaxis\":\"y\",\"type\":\"bar\"},{\"alignmentgroup\":\"True\",\"hovertemplate\":\"variable=Others<br>Platform=%{x}<br>value=%{y}<extra></extra>\",\"legendgroup\":\"Others\",\"marker\":{\"color\":\"#b3d7de\",\"pattern\":{\"shape\":\"\"}},\"name\":\"Others\",\"offsetgroup\":\"Others\",\"orientation\":\"v\",\"showlegend\":true,\"textposition\":\"auto\",\"x\":[\"Wii\",\"DS\",\"GB\",\"X360\",\"PS3\",\"NES\",\"PS2\",\"3DS\",\"SNES\",\"GBA\",\"PS4\",\"N64\",\"PS\"],\"xaxis\":\"x\",\"y\":[26.630000000000003,15.62,3.59,10.97,15.48,1.7,22.34,3.1100000000000003,0.8400000000000001,0.85,4.33,0.23,0.52],\"yaxis\":\"y\",\"type\":\"bar\"}],                        {\"template\":{\"data\":{\"histogram2dcontour\":[{\"type\":\"histogram2dcontour\",\"colorbar\":{\"outlinewidth\":0,\"ticks\":\"\"},\"colorscale\":[[0.0,\"#0d0887\"],[0.1111111111111111,\"#46039f\"],[0.2222222222222222,\"#7201a8\"],[0.3333333333333333,\"#9c179e\"],[0.4444444444444444,\"#bd3786\"],[0.5555555555555556,\"#d8576b\"],[0.6666666666666666,\"#ed7953\"],[0.7777777777777778,\"#fb9f3a\"],[0.8888888888888888,\"#fdca26\"],[1.0,\"#f0f921\"]]}],\"choropleth\":[{\"type\":\"choropleth\",\"colorbar\":{\"outlinewidth\":0,\"ticks\":\"\"}}],\"histogram2d\":[{\"type\":\"histogram2d\",\"colorbar\":{\"outlinewidth\":0,\"ticks\":\"\"},\"colorscale\":[[0.0,\"#0d0887\"],[0.1111111111111111,\"#46039f\"],[0.2222222222222222,\"#7201a8\"],[0.3333333333333333,\"#9c179e\"],[0.4444444444444444,\"#bd3786\"],[0.5555555555555556,\"#d8576b\"],[0.6666666666666666,\"#ed7953\"],[0.7777777777777778,\"#fb9f3a\"],[0.8888888888888888,\"#fdca26\"],[1.0,\"#f0f921\"]]}],\"heatmap\":[{\"type\":\"heatmap\",\"colorbar\":{\"outlinewidth\":0,\"ticks\":\"\"},\"colorscale\":[[0.0,\"#0d0887\"],[0.1111111111111111,\"#46039f\"],[0.2222222222222222,\"#7201a8\"],[0.3333333333333333,\"#9c179e\"],[0.4444444444444444,\"#bd3786\"],[0.5555555555555556,\"#d8576b\"],[0.6666666666666666,\"#ed7953\"],[0.7777777777777778,\"#fb9f3a\"],[0.8888888888888888,\"#fdca26\"],[1.0,\"#f0f921\"]]}],\"heatmapgl\":[{\"type\":\"heatmapgl\",\"colorbar\":{\"outlinewidth\":0,\"ticks\":\"\"},\"colorscale\":[[0.0,\"#0d0887\"],[0.1111111111111111,\"#46039f\"],[0.2222222222222222,\"#7201a8\"],[0.3333333333333333,\"#9c179e\"],[0.4444444444444444,\"#bd3786\"],[0.5555555555555556,\"#d8576b\"],[0.6666666666666666,\"#ed7953\"],[0.7777777777777778,\"#fb9f3a\"],[0.8888888888888888,\"#fdca26\"],[1.0,\"#f0f921\"]]}],\"contourcarpet\":[{\"type\":\"contourcarpet\",\"colorbar\":{\"outlinewidth\":0,\"ticks\":\"\"}}],\"contour\":[{\"type\":\"contour\",\"colorbar\":{\"outlinewidth\":0,\"ticks\":\"\"},\"colorscale\":[[0.0,\"#0d0887\"],[0.1111111111111111,\"#46039f\"],[0.2222222222222222,\"#7201a8\"],[0.3333333333333333,\"#9c179e\"],[0.4444444444444444,\"#bd3786\"],[0.5555555555555556,\"#d8576b\"],[0.6666666666666666,\"#ed7953\"],[0.7777777777777778,\"#fb9f3a\"],[0.8888888888888888,\"#fdca26\"],[1.0,\"#f0f921\"]]}],\"surface\":[{\"type\":\"surface\",\"colorbar\":{\"outlinewidth\":0,\"ticks\":\"\"},\"colorscale\":[[0.0,\"#0d0887\"],[0.1111111111111111,\"#46039f\"],[0.2222222222222222,\"#7201a8\"],[0.3333333333333333,\"#9c179e\"],[0.4444444444444444,\"#bd3786\"],[0.5555555555555556,\"#d8576b\"],[0.6666666666666666,\"#ed7953\"],[0.7777777777777778,\"#fb9f3a\"],[0.8888888888888888,\"#fdca26\"],[1.0,\"#f0f921\"]]}],\"mesh3d\":[{\"type\":\"mesh3d\",\"colorbar\":{\"outlinewidth\":0,\"ticks\":\"\"}}],\"scatter\":[{\"fillpattern\":{\"fillmode\":\"overlay\",\"size\":10,\"solidity\":0.2},\"type\":\"scatter\"}],\"parcoords\":[{\"type\":\"parcoords\",\"line\":{\"colorbar\":{\"outlinewidth\":0,\"ticks\":\"\"}}}],\"scatterpolargl\":[{\"type\":\"scatterpolargl\",\"marker\":{\"colorbar\":{\"outlinewidth\":0,\"ticks\":\"\"}}}],\"bar\":[{\"error_x\":{\"color\":\"#2a3f5f\"},\"error_y\":{\"color\":\"#2a3f5f\"},\"marker\":{\"line\":{\"color\":\"#E5ECF6\",\"width\":0.5},\"pattern\":{\"fillmode\":\"overlay\",\"size\":10,\"solidity\":0.2}},\"type\":\"bar\"}],\"scattergeo\":[{\"type\":\"scattergeo\",\"marker\":{\"colorbar\":{\"outlinewidth\":0,\"ticks\":\"\"}}}],\"scatterpolar\":[{\"type\":\"scatterpolar\",\"marker\":{\"colorbar\":{\"outlinewidth\":0,\"ticks\":\"\"}}}],\"histogram\":[{\"marker\":{\"pattern\":{\"fillmode\":\"overlay\",\"size\":10,\"solidity\":0.2}},\"type\":\"histogram\"}],\"scattergl\":[{\"type\":\"scattergl\",\"marker\":{\"colorbar\":{\"outlinewidth\":0,\"ticks\":\"\"}}}],\"scatter3d\":[{\"type\":\"scatter3d\",\"line\":{\"colorbar\":{\"outlinewidth\":0,\"ticks\":\"\"}},\"marker\":{\"colorbar\":{\"outlinewidth\":0,\"ticks\":\"\"}}}],\"scattermapbox\":[{\"type\":\"scattermapbox\",\"marker\":{\"colorbar\":{\"outlinewidth\":0,\"ticks\":\"\"}}}],\"scatterternary\":[{\"type\":\"scatterternary\",\"marker\":{\"colorbar\":{\"outlinewidth\":0,\"ticks\":\"\"}}}],\"scattercarpet\":[{\"type\":\"scattercarpet\",\"marker\":{\"colorbar\":{\"outlinewidth\":0,\"ticks\":\"\"}}}],\"carpet\":[{\"aaxis\":{\"endlinecolor\":\"#2a3f5f\",\"gridcolor\":\"white\",\"linecolor\":\"white\",\"minorgridcolor\":\"white\",\"startlinecolor\":\"#2a3f5f\"},\"baxis\":{\"endlinecolor\":\"#2a3f5f\",\"gridcolor\":\"white\",\"linecolor\":\"white\",\"minorgridcolor\":\"white\",\"startlinecolor\":\"#2a3f5f\"},\"type\":\"carpet\"}],\"table\":[{\"cells\":{\"fill\":{\"color\":\"#EBF0F8\"},\"line\":{\"color\":\"white\"}},\"header\":{\"fill\":{\"color\":\"#C8D4E3\"},\"line\":{\"color\":\"white\"}},\"type\":\"table\"}],\"barpolar\":[{\"marker\":{\"line\":{\"color\":\"#E5ECF6\",\"width\":0.5},\"pattern\":{\"fillmode\":\"overlay\",\"size\":10,\"solidity\":0.2}},\"type\":\"barpolar\"}],\"pie\":[{\"automargin\":true,\"type\":\"pie\"}]},\"layout\":{\"autotypenumbers\":\"strict\",\"colorway\":[\"#636efa\",\"#EF553B\",\"#00cc96\",\"#ab63fa\",\"#FFA15A\",\"#19d3f3\",\"#FF6692\",\"#B6E880\",\"#FF97FF\",\"#FECB52\"],\"font\":{\"color\":\"#2a3f5f\"},\"hovermode\":\"closest\",\"hoverlabel\":{\"align\":\"left\"},\"paper_bgcolor\":\"white\",\"plot_bgcolor\":\"#E5ECF6\",\"polar\":{\"bgcolor\":\"#E5ECF6\",\"angularaxis\":{\"gridcolor\":\"white\",\"linecolor\":\"white\",\"ticks\":\"\"},\"radialaxis\":{\"gridcolor\":\"white\",\"linecolor\":\"white\",\"ticks\":\"\"}},\"ternary\":{\"bgcolor\":\"#E5ECF6\",\"aaxis\":{\"gridcolor\":\"white\",\"linecolor\":\"white\",\"ticks\":\"\"},\"baxis\":{\"gridcolor\":\"white\",\"linecolor\":\"white\",\"ticks\":\"\"},\"caxis\":{\"gridcolor\":\"white\",\"linecolor\":\"white\",\"ticks\":\"\"}},\"coloraxis\":{\"colorbar\":{\"outlinewidth\":0,\"ticks\":\"\"}},\"colorscale\":{\"sequential\":[[0.0,\"#0d0887\"],[0.1111111111111111,\"#46039f\"],[0.2222222222222222,\"#7201a8\"],[0.3333333333333333,\"#9c179e\"],[0.4444444444444444,\"#bd3786\"],[0.5555555555555556,\"#d8576b\"],[0.6666666666666666,\"#ed7953\"],[0.7777777777777778,\"#fb9f3a\"],[0.8888888888888888,\"#fdca26\"],[1.0,\"#f0f921\"]],\"sequentialminus\":[[0.0,\"#0d0887\"],[0.1111111111111111,\"#46039f\"],[0.2222222222222222,\"#7201a8\"],[0.3333333333333333,\"#9c179e\"],[0.4444444444444444,\"#bd3786\"],[0.5555555555555556,\"#d8576b\"],[0.6666666666666666,\"#ed7953\"],[0.7777777777777778,\"#fb9f3a\"],[0.8888888888888888,\"#fdca26\"],[1.0,\"#f0f921\"]],\"diverging\":[[0,\"#8e0152\"],[0.1,\"#c51b7d\"],[0.2,\"#de77ae\"],[0.3,\"#f1b6da\"],[0.4,\"#fde0ef\"],[0.5,\"#f7f7f7\"],[0.6,\"#e6f5d0\"],[0.7,\"#b8e186\"],[0.8,\"#7fbc41\"],[0.9,\"#4d9221\"],[1,\"#276419\"]]},\"xaxis\":{\"gridcolor\":\"white\",\"linecolor\":\"white\",\"ticks\":\"\",\"title\":{\"standoff\":15},\"zerolinecolor\":\"white\",\"automargin\":true,\"zerolinewidth\":2},\"yaxis\":{\"gridcolor\":\"white\",\"linecolor\":\"white\",\"ticks\":\"\",\"title\":{\"standoff\":15},\"zerolinecolor\":\"white\",\"automargin\":true,\"zerolinewidth\":2},\"scene\":{\"xaxis\":{\"backgroundcolor\":\"#E5ECF6\",\"gridcolor\":\"white\",\"linecolor\":\"white\",\"showbackground\":true,\"ticks\":\"\",\"zerolinecolor\":\"white\",\"gridwidth\":2},\"yaxis\":{\"backgroundcolor\":\"#E5ECF6\",\"gridcolor\":\"white\",\"linecolor\":\"white\",\"showbackground\":true,\"ticks\":\"\",\"zerolinecolor\":\"white\",\"gridwidth\":2},\"zaxis\":{\"backgroundcolor\":\"#E5ECF6\",\"gridcolor\":\"white\",\"linecolor\":\"white\",\"showbackground\":true,\"ticks\":\"\",\"zerolinecolor\":\"white\",\"gridwidth\":2}},\"shapedefaults\":{\"line\":{\"color\":\"#2a3f5f\"}},\"annotationdefaults\":{\"arrowcolor\":\"#2a3f5f\",\"arrowhead\":0,\"arrowwidth\":1},\"geo\":{\"bgcolor\":\"white\",\"landcolor\":\"#E5ECF6\",\"subunitcolor\":\"white\",\"showland\":true,\"showlakes\":true,\"lakecolor\":\"white\"},\"title\":{\"x\":0.05},\"mapbox\":{\"style\":\"light\"}}},\"xaxis\":{\"anchor\":\"y\",\"domain\":[0.0,1.0],\"title\":{\"text\":\"Platform\"},\"showline\":true,\"linewidth\":1,\"linecolor\":\"black\"},\"yaxis\":{\"anchor\":\"x\",\"domain\":[0.0,1.0],\"title\":{\"text\":\"number of sales (in million)\"},\"showline\":true,\"linewidth\":1,\"linecolor\":\"black\"},\"legend\":{\"title\":{\"text\":\"  Area\"},\"tracegroupgap\":0,\"yanchor\":\"top\",\"y\":0.99,\"xanchor\":\"right\",\"x\":0.99},\"margin\":{\"t\":60},\"barmode\":\"relative\",\"plot_bgcolor\":\"white\",\"paper_bgcolor\":\"white\"},                        {\"responsive\": true}                    ).then(function(){\n                            \nvar gd = document.getElementById('43320f35-deb4-40b0-be8b-9f3b12fe1e2b');\nvar x = new MutationObserver(function (mutations, observer) {{\n        var display = window.getComputedStyle(gd).display;\n        if (!display || display === 'none') {{\n            console.log([gd, 'removed!']);\n            Plotly.purge(gd);\n            observer.disconnect();\n        }}\n}});\n\n// Listen for the removal of the full notebook cells\nvar notebookContainer = gd.closest('#notebook-container');\nif (notebookContainer) {{\n    x.observe(notebookContainer, {childList: true});\n}}\n\n// Listen for the clearing of the current output cell\nvar outputEl = gd.closest('.output');\nif (outputEl) {{\n    x.observe(outputEl, {childList: true});\n}}\n\n                        })                };                });            </script>        </div>"
     },
     "metadata": {},
     "output_type": "display_data"
    }
   ],
   "source": [
    "#stacked bar chart\n",
    "\n",
    "def stacked_bar_chart_plotly(main_filter, sales_filter):\n",
    "    # extract and copy date from df\n",
    "    df_bar = df[[main_filter,'North America', 'Europe', 'Japan', 'Others', 'Global']]\n",
    "    df_bar = df_bar[df_bar['Global'] > sales_filter]\n",
    "\n",
    "    # group by filter and sort by global sales\n",
    "    df_bar_grouped = df_bar.groupby([main_filter]).sum()\n",
    "    df_bar_grouped = df_bar_grouped.sort_values(by=['Global'], ascending=False)\n",
    "\n",
    "    #main filter as column in data frame\n",
    "    df_bar_grouped.reset_index(inplace=True)\n",
    "    df_bar_grouped = df_bar_grouped.rename(columns = {'index':main_filter})\n",
    "\n",
    "    # dropout Global Sales\n",
    "    df_bar_grouped = df_bar_grouped [[main_filter, 'North America', 'Europe', 'Japan', 'Others']]\n",
    "\n",
    "    fig = px.bar(df_bar_grouped, x=main_filter, y=['North America', 'Europe', 'Japan', 'Others'], color_discrete_sequence= ['#1a889d', '#4da3b3', '#80bdc9', '#b3d7de'])\n",
    "    fig.update_layout(plot_bgcolor='white',paper_bgcolor='white')\n",
    "    fig.update_xaxes(showline=True, linewidth=1, linecolor='black')\n",
    "    fig.update_yaxes(showline=True, linewidth=1, linecolor='black', title = 'number of sales (in million)')\n",
    "\n",
    "    # legend within the graph (not beside)\n",
    "    fig.update_layout(legend=dict(\n",
    "    title = '  Area',\n",
    "    yanchor=\"top\",\n",
    "    y=0.99,\n",
    "    xanchor=\"right\",\n",
    "    x=0.99\n",
    "))\n",
    "    return fig\n",
    "\n",
    "stacked_bar_chart_plotly('Platform', 10)"
   ],
   "metadata": {
    "collapsed": false
   }
  },
  {
   "cell_type": "markdown",
   "source": [
    "### andere Diagramme"
   ],
   "metadata": {
    "collapsed": false
   }
  },
  {
   "cell_type": "code",
   "execution_count": 43,
   "outputs": [
    {
     "data": {
      "application/vnd.plotly.v1+json": {
       "data": [
        {
         "hovertemplate": "Platform=2600<br>Year=%{x}<br>Global=%{y}<extra></extra>",
         "legendgroup": "2600",
         "line": {
          "color": "#015666",
          "dash": "solid"
         },
         "marker": {
          "symbol": "circle"
         },
         "mode": "lines",
         "name": "2600",
         "orientation": "v",
         "showlegend": true,
         "x": [
          1980.0,
          1981.0,
          1982.0,
          1983.0,
          1984.0,
          1985.0,
          1986.0,
          1987.0,
          1988.0,
          1989.0
         ],
         "xaxis": "x",
         "y": [
          11.379999999999999,
          35.77,
          28.86,
          5.83,
          0.27,
          0.45,
          0.6599999999999999,
          1.98,
          0.75,
          0.62
         ],
         "yaxis": "y",
         "type": "scatter"
        },
        {
         "hovertemplate": "Platform=NES<br>Year=%{x}<br>Global=%{y}<extra></extra>",
         "legendgroup": "NES",
         "line": {
          "color": "#1a889d",
          "dash": "solid"
         },
         "marker": {
          "symbol": "circle"
         },
         "mode": "lines",
         "name": "NES",
         "orientation": "v",
         "showlegend": true,
         "x": [
          1983.0,
          1984.0,
          1985.0,
          1986.0,
          1987.0,
          1988.0,
          1989.0,
          1990.0,
          1991.0,
          1992.0,
          1993.0,
          1994.0
         ],
         "xaxis": "x",
         "y": [
          10.96,
          50.089999999999996,
          53.440000000000005,
          36.41,
          19.759999999999998,
          45.01,
          7.85,
          15.74,
          6.11,
          1.9800000000000002,
          3.61,
          0.11
         ],
         "yaxis": "y",
         "type": "scatter"
        },
        {
         "hovertemplate": "Platform=DS<br>Year=%{x}<br>Global=%{y}<extra></extra>",
         "legendgroup": "DS",
         "line": {
          "color": "#4da3b3",
          "dash": "solid"
         },
         "marker": {
          "symbol": "circle"
         },
         "mode": "lines",
         "name": "DS",
         "orientation": "v",
         "showlegend": true,
         "x": [
          1985.0,
          2004.0,
          2005.0,
          2006.0,
          2007.0,
          2008.0,
          2009.0,
          2010.0,
          2011.0,
          2012.0,
          2013.0,
          2014.0,
          2020.0
         ],
         "xaxis": "x",
         "y": [
          0.02,
          17.46,
          131.4,
          121.15,
          149.36,
          147.89,
          121.99,
          87.98,
          27.8,
          11.64,
          1.96,
          0.02,
          0.29
         ],
         "yaxis": "y",
         "type": "scatter"
        },
        {
         "hovertemplate": "Platform=PC<br>Year=%{x}<br>Global=%{y}<extra></extra>",
         "legendgroup": "PC",
         "line": {
          "color": "#80bdc9",
          "dash": "solid"
         },
         "marker": {
          "symbol": "circle"
         },
         "mode": "lines",
         "name": "PC",
         "orientation": "v",
         "showlegend": true,
         "x": [
          1985.0,
          1988.0,
          1992.0,
          1994.0,
          1995.0,
          1996.0,
          1997.0,
          1998.0,
          1999.0,
          2000.0,
          2001.0,
          2002.0,
          2003.0,
          2004.0,
          2005.0,
          2006.0,
          2007.0,
          2008.0,
          2009.0,
          2010.0,
          2011.0,
          2012.0,
          2013.0,
          2014.0,
          2015.0,
          2016.0
         ],
         "xaxis": "x",
         "y": [
          0.03,
          0.03,
          3.02,
          12.85,
          4.2299999999999995,
          10.59,
          11.26,
          3.2800000000000002,
          4.75,
          4.680000000000001,
          5.510000000000001,
          8.6,
          8.959999999999999,
          10.46,
          4.47,
          2.97,
          9.4,
          12.67,
          17.16,
          24.46,
          35.25,
          23.53,
          12.83,
          13.39,
          8.07,
          2.6
         ],
         "yaxis": "y",
         "type": "scatter"
        },
        {
         "hovertemplate": "Platform=GB<br>Year=%{x}<br>Global=%{y}<extra></extra>",
         "legendgroup": "GB",
         "line": {
          "color": "#b3d7de",
          "dash": "solid"
         },
         "marker": {
          "symbol": "circle"
         },
         "mode": "lines",
         "name": "GB",
         "orientation": "v",
         "showlegend": true,
         "x": [
          1988.0,
          1989.0,
          1990.0,
          1991.0,
          1992.0,
          1994.0,
          1995.0,
          1996.0,
          1997.0,
          1998.0,
          1999.0,
          2000.0,
          2001.0
         ],
         "xaxis": "x",
         "y": [
          1.43,
          64.98,
          4.89,
          5.57,
          25.48,
          12.17,
          3.5999999999999996,
          36.02,
          6.37,
          26.900000000000002,
          38.01,
          19.76,
          9.24
         ],
         "yaxis": "y",
         "type": "scatter"
        },
        {
         "hovertemplate": "Platform=GEN<br>Year=%{x}<br>Global=%{y}<extra></extra>",
         "legendgroup": "GEN",
         "line": {
          "color": "#cce5e9",
          "dash": "solid"
         },
         "marker": {
          "symbol": "circle"
         },
         "mode": "lines",
         "name": "GEN",
         "orientation": "v",
         "showlegend": true,
         "x": [
          1990.0,
          1991.0,
          1992.0,
          1993.0,
          1994.0
         ],
         "xaxis": "x",
         "y": [
          2.6,
          4.34,
          12.66,
          0.65,
          8.11
         ],
         "yaxis": "y",
         "type": "scatter"
        },
        {
         "hovertemplate": "Platform=SNES<br>Year=%{x}<br>Global=%{y}<extra></extra>",
         "legendgroup": "SNES",
         "line": {
          "color": "#2b6b51",
          "dash": "solid"
         },
         "marker": {
          "symbol": "circle"
         },
         "mode": "lines",
         "name": "SNES",
         "orientation": "v",
         "showlegend": true,
         "x": [
          1990.0,
          1991.0,
          1992.0,
          1993.0,
          1994.0,
          1995.0,
          1996.0,
          1997.0,
          1998.0,
          1999.0
         ],
         "xaxis": "x",
         "y": [
          26.16,
          16.21,
          32.98,
          40.01,
          35.08,
          32.21,
          15.93,
          0.99,
          0.22000000000000003,
          0.26
         ],
         "yaxis": "y",
         "type": "scatter"
        },
        {
         "hovertemplate": "Platform=GG<br>Year=%{x}<br>Global=%{y}<extra></extra>",
         "legendgroup": "GG",
         "line": {
          "color": "#317a5c",
          "dash": "solid"
         },
         "marker": {
          "symbol": "circle"
         },
         "mode": "lines",
         "name": "GG",
         "orientation": "v",
         "showlegend": true,
         "x": [
          1992.0
         ],
         "xaxis": "x",
         "y": [
          0.04
         ],
         "yaxis": "y",
         "type": "scatter"
        },
        {
         "hovertemplate": "Platform=NG<br>Year=%{x}<br>Global=%{y}<extra></extra>",
         "legendgroup": "NG",
         "line": {
          "color": "#378a68",
          "dash": "solid"
         },
         "marker": {
          "symbol": "circle"
         },
         "mode": "lines",
         "name": "NG",
         "orientation": "v",
         "showlegend": true,
         "x": [
          1993.0,
          1994.0,
          1995.0,
          1996.0
         ],
         "xaxis": "x",
         "y": [
          0.21000000000000002,
          0.8,
          0.33,
          0.1
         ],
         "yaxis": "y",
         "type": "scatter"
        },
        {
         "hovertemplate": "Platform=SCD<br>Year=%{x}<br>Global=%{y}<extra></extra>",
         "legendgroup": "SCD",
         "line": {
          "color": "#50a381",
          "dash": "solid"
         },
         "marker": {
          "symbol": "circle"
         },
         "mode": "lines",
         "name": "SCD",
         "orientation": "v",
         "showlegend": true,
         "x": [
          1993.0,
          1994.0
         ],
         "xaxis": "x",
         "y": [
          1.5,
          0.37
         ],
         "yaxis": "y",
         "type": "scatter"
        },
        {
         "hovertemplate": "Platform=3DO<br>Year=%{x}<br>Global=%{y}<extra></extra>",
         "legendgroup": "3DO",
         "line": {
          "color": "#77b89d",
          "dash": "solid"
         },
         "marker": {
          "symbol": "circle"
         },
         "mode": "lines",
         "name": "3DO",
         "orientation": "v",
         "showlegend": true,
         "x": [
          1994.0,
          1995.0
         ],
         "xaxis": "x",
         "y": [
          0.02,
          0.08
         ],
         "yaxis": "y",
         "type": "scatter"
        },
        {
         "hovertemplate": "Platform=PS<br>Year=%{x}<br>Global=%{y}<extra></extra>",
         "legendgroup": "PS",
         "line": {
          "color": "#9eccb9",
          "dash": "solid"
         },
         "marker": {
          "symbol": "circle"
         },
         "mode": "lines",
         "name": "PS",
         "orientation": "v",
         "showlegend": true,
         "x": [
          1994.0,
          1995.0,
          1996.0,
          1997.0,
          1998.0,
          1999.0,
          2000.0,
          2001.0,
          2002.0,
          2003.0
         ],
         "xaxis": "x",
         "y": [
          6.0200000000000005,
          35.92,
          94.68,
          136.08,
          169.58,
          144.57,
          96.28,
          35.52,
          6.6899999999999995,
          2.05
         ],
         "yaxis": "y",
         "type": "scatter"
        },
        {
         "hovertemplate": "Platform=SAT<br>Year=%{x}<br>Global=%{y}<extra></extra>",
         "legendgroup": "SAT",
         "line": {
          "color": "#015666",
          "dash": "solid"
         },
         "marker": {
          "symbol": "circle"
         },
         "mode": "lines",
         "name": "SAT",
         "orientation": "v",
         "showlegend": true,
         "x": [
          1994.0,
          1995.0,
          1996.0,
          1997.0,
          1998.0,
          1999.0
         ],
         "xaxis": "x",
         "y": [
          3.64,
          11.58,
          7.69,
          6.7700000000000005,
          3.82,
          0.09
         ],
         "yaxis": "y",
         "type": "scatter"
        },
        {
         "hovertemplate": "Platform=TG16<br>Year=%{x}<br>Global=%{y}<extra></extra>",
         "legendgroup": "TG16",
         "line": {
          "color": "#1a889d",
          "dash": "solid"
         },
         "marker": {
          "symbol": "circle"
         },
         "mode": "lines",
         "name": "TG16",
         "orientation": "v",
         "showlegend": true,
         "x": [
          1995.0
         ],
         "xaxis": "x",
         "y": [
          0.16
         ],
         "yaxis": "y",
         "type": "scatter"
        },
        {
         "hovertemplate": "Platform=N64<br>Year=%{x}<br>Global=%{y}<extra></extra>",
         "legendgroup": "N64",
         "line": {
          "color": "#4da3b3",
          "dash": "solid"
         },
         "marker": {
          "symbol": "circle"
         },
         "mode": "lines",
         "name": "N64",
         "orientation": "v",
         "showlegend": true,
         "x": [
          1996.0,
          1997.0,
          1998.0,
          1999.0,
          2000.0,
          2001.0,
          2002.0
         ],
         "xaxis": "x",
         "y": [
          34.11,
          39.51,
          49.28,
          57.96,
          34.01,
          3.26,
          0.08
         ],
         "yaxis": "y",
         "type": "scatter"
        },
        {
         "hovertemplate": "Platform=PCFX<br>Year=%{x}<br>Global=%{y}<extra></extra>",
         "legendgroup": "PCFX",
         "line": {
          "color": "#80bdc9",
          "dash": "solid"
         },
         "marker": {
          "symbol": "circle"
         },
         "mode": "lines",
         "name": "PCFX",
         "orientation": "v",
         "showlegend": true,
         "x": [
          1996.0
         ],
         "xaxis": "x",
         "y": [
          0.03
         ],
         "yaxis": "y",
         "type": "scatter"
        },
        {
         "hovertemplate": "Platform=DC<br>Year=%{x}<br>Global=%{y}<extra></extra>",
         "legendgroup": "DC",
         "line": {
          "color": "#b3d7de",
          "dash": "solid"
         },
         "marker": {
          "symbol": "circle"
         },
         "mode": "lines",
         "name": "DC",
         "orientation": "v",
         "showlegend": true,
         "x": [
          1998.0,
          1999.0,
          2000.0,
          2001.0,
          2002.0,
          2007.0,
          2008.0
         ],
         "xaxis": "x",
         "y": [
          3.39,
          5.17,
          5.99,
          1.07,
          0.29,
          0.02,
          0.04
         ],
         "yaxis": "y",
         "type": "scatter"
        },
        {
         "hovertemplate": "Platform=WS<br>Year=%{x}<br>Global=%{y}<extra></extra>",
         "legendgroup": "WS",
         "line": {
          "color": "#cce5e9",
          "dash": "solid"
         },
         "marker": {
          "symbol": "circle"
         },
         "mode": "lines",
         "name": "WS",
         "orientation": "v",
         "showlegend": true,
         "x": [
          1999.0,
          2000.0,
          2001.0
         ],
         "xaxis": "x",
         "y": [
          0.46,
          0.68,
          0.28
         ],
         "yaxis": "y",
         "type": "scatter"
        },
        {
         "hovertemplate": "Platform=GBA<br>Year=%{x}<br>Global=%{y}<extra></extra>",
         "legendgroup": "GBA",
         "line": {
          "color": "#2b6b51",
          "dash": "solid"
         },
         "marker": {
          "symbol": "circle"
         },
         "mode": "lines",
         "name": "GBA",
         "orientation": "v",
         "showlegend": true,
         "x": [
          2000.0,
          2001.0,
          2002.0,
          2003.0,
          2004.0,
          2005.0,
          2006.0,
          2007.0
         ],
         "xaxis": "x",
         "y": [
          0.06,
          61.62,
          74.38,
          56.730000000000004,
          78.09,
          33.9,
          5.35,
          3.43
         ],
         "yaxis": "y",
         "type": "scatter"
        },
        {
         "hovertemplate": "Platform=PS2<br>Year=%{x}<br>Global=%{y}<extra></extra>",
         "legendgroup": "PS2",
         "line": {
          "color": "#317a5c",
          "dash": "solid"
         },
         "marker": {
          "symbol": "circle"
         },
         "mode": "lines",
         "name": "PS2",
         "orientation": "v",
         "showlegend": true,
         "x": [
          2000.0,
          2001.0,
          2002.0,
          2003.0,
          2004.0,
          2005.0,
          2006.0,
          2007.0,
          2008.0,
          2009.0,
          2010.0,
          2011.0
         ],
         "xaxis": "x",
         "y": [
          39.11,
          166.43,
          205.4,
          184.29,
          211.78,
          160.65,
          103.42,
          75.99,
          53.83,
          26.45,
          5.63,
          0.47000000000000003
         ],
         "yaxis": "y",
         "type": "scatter"
        },
        {
         "hovertemplate": "Platform=XB<br>Year=%{x}<br>Global=%{y}<extra></extra>",
         "legendgroup": "XB",
         "line": {
          "color": "#378a68",
          "dash": "solid"
         },
         "marker": {
          "symbol": "circle"
         },
         "mode": "lines",
         "name": "XB",
         "orientation": "v",
         "showlegend": true,
         "x": [
          2000.0,
          2001.0,
          2002.0,
          2003.0,
          2004.0,
          2005.0,
          2006.0,
          2007.0,
          2008.0
         ],
         "xaxis": "x",
         "y": [
          0.99,
          22.24,
          48.15,
          55.160000000000004,
          65.5,
          49.17,
          10.15,
          0.5499999999999999,
          0.18
         ],
         "yaxis": "y",
         "type": "scatter"
        },
        {
         "hovertemplate": "Platform=GC<br>Year=%{x}<br>Global=%{y}<extra></extra>",
         "legendgroup": "GC",
         "line": {
          "color": "#50a381",
          "dash": "solid"
         },
         "marker": {
          "symbol": "circle"
         },
         "mode": "lines",
         "name": "GC",
         "orientation": "v",
         "showlegend": true,
         "x": [
          2001.0,
          2002.0,
          2003.0,
          2004.0,
          2005.0,
          2006.0,
          2007.0
         ],
         "xaxis": "x",
         "y": [
          26.3,
          51.93,
          50.660000000000004,
          28.89,
          27.8,
          11.290000000000001,
          0.27
         ],
         "yaxis": "y",
         "type": "scatter"
        },
        {
         "hovertemplate": "Platform=PSP<br>Year=%{x}<br>Global=%{y}<extra></extra>",
         "legendgroup": "PSP",
         "line": {
          "color": "#77b89d",
          "dash": "solid"
         },
         "marker": {
          "symbol": "circle"
         },
         "mode": "lines",
         "name": "PSP",
         "orientation": "v",
         "showlegend": true,
         "x": [
          2004.0,
          2005.0,
          2006.0,
          2007.0,
          2008.0,
          2009.0,
          2010.0,
          2011.0,
          2012.0,
          2013.0,
          2014.0,
          2015.0
         ],
         "xaxis": "x",
         "y": [
          7.13,
          44.23,
          55.85,
          47.48,
          34.68,
          38.07,
          35.09,
          17.66,
          7.66,
          3.19,
          0.24,
          0.12
         ],
         "yaxis": "y",
         "type": "scatter"
        },
        {
         "hovertemplate": "Platform=X360<br>Year=%{x}<br>Global=%{y}<extra></extra>",
         "legendgroup": "X360",
         "line": {
          "color": "#9eccb9",
          "dash": "solid"
         },
         "marker": {
          "symbol": "circle"
         },
         "mode": "lines",
         "name": "X360",
         "orientation": "v",
         "showlegend": true,
         "x": [
          2005.0,
          2006.0,
          2007.0,
          2008.0,
          2009.0,
          2010.0,
          2011.0,
          2012.0,
          2013.0,
          2014.0,
          2015.0,
          2016.0
         ],
         "xaxis": "x",
         "y": [
          8.32,
          51.88,
          95.84,
          135.76,
          120.75,
          171.02,
          145.04,
          100.86,
          89.59,
          36.42,
          13.05,
          0.8300000000000001
         ],
         "yaxis": "y",
         "type": "scatter"
        },
        {
         "hovertemplate": "Platform=PS3<br>Year=%{x}<br>Global=%{y}<extra></extra>",
         "legendgroup": "PS3",
         "line": {
          "color": "#015666",
          "dash": "solid"
         },
         "marker": {
          "symbol": "circle"
         },
         "mode": "lines",
         "name": "PS3",
         "orientation": "v",
         "showlegend": true,
         "x": [
          2006.0,
          2007.0,
          2008.0,
          2009.0,
          2010.0,
          2011.0,
          2012.0,
          2013.0,
          2014.0,
          2015.0,
          2016.0
         ],
         "xaxis": "x",
         "y": [
          21.07,
          73.81,
          119.69,
          132.34,
          144.42,
          159.37,
          109.28,
          117.33,
          50.96,
          18.18,
          2.59
         ],
         "yaxis": "y",
         "type": "scatter"
        },
        {
         "hovertemplate": "Platform=Wii<br>Year=%{x}<br>Global=%{y}<extra></extra>",
         "legendgroup": "Wii",
         "line": {
          "color": "#1a889d",
          "dash": "solid"
         },
         "marker": {
          "symbol": "circle"
         },
         "mode": "lines",
         "name": "Wii",
         "orientation": "v",
         "showlegend": true,
         "x": [
          2006.0,
          2007.0,
          2008.0,
          2009.0,
          2010.0,
          2011.0,
          2012.0,
          2013.0,
          2014.0,
          2015.0
         ],
         "xaxis": "x",
         "y": [
          137.91,
          154.97,
          174.16,
          210.44,
          131.8,
          62.41,
          22.77,
          9.36,
          4.4399999999999995,
          1.55
         ],
         "yaxis": "y",
         "type": "scatter"
        },
        {
         "hovertemplate": "Platform=3DS<br>Year=%{x}<br>Global=%{y}<extra></extra>",
         "legendgroup": "3DS",
         "line": {
          "color": "#4da3b3",
          "dash": "solid"
         },
         "marker": {
          "symbol": "circle"
         },
         "mode": "lines",
         "name": "3DS",
         "orientation": "v",
         "showlegend": true,
         "x": [
          2011.0,
          2012.0,
          2013.0,
          2014.0,
          2015.0,
          2016.0
         ],
         "xaxis": "x",
         "y": [
          62.53,
          51.14,
          55.88,
          43.14,
          26.99,
          6.6000000000000005
         ],
         "yaxis": "y",
         "type": "scatter"
        },
        {
         "hovertemplate": "Platform=PSV<br>Year=%{x}<br>Global=%{y}<extra></extra>",
         "legendgroup": "PSV",
         "line": {
          "color": "#80bdc9",
          "dash": "solid"
         },
         "marker": {
          "symbol": "circle"
         },
         "mode": "lines",
         "name": "PSV",
         "orientation": "v",
         "showlegend": true,
         "x": [
          2011.0,
          2012.0,
          2013.0,
          2014.0,
          2015.0,
          2016.0,
          2017.0
         ],
         "xaxis": "x",
         "y": [
          5.15,
          18.53,
          12.48,
          14.5,
          7.0,
          3.4,
          0.02
         ],
         "yaxis": "y",
         "type": "scatter"
        },
        {
         "hovertemplate": "Platform=WiiU<br>Year=%{x}<br>Global=%{y}<extra></extra>",
         "legendgroup": "WiiU",
         "line": {
          "color": "#b3d7de",
          "dash": "solid"
         },
         "marker": {
          "symbol": "circle"
         },
         "mode": "lines",
         "name": "WiiU",
         "orientation": "v",
         "showlegend": true,
         "x": [
          2012.0,
          2013.0,
          2014.0,
          2015.0,
          2016.0
         ],
         "xaxis": "x",
         "y": [
          17.84,
          21.84,
          22.509999999999998,
          16.38,
          3.29
         ],
         "yaxis": "y",
         "type": "scatter"
        },
        {
         "hovertemplate": "Platform=PS4<br>Year=%{x}<br>Global=%{y}<extra></extra>",
         "legendgroup": "PS4",
         "line": {
          "color": "#cce5e9",
          "dash": "solid"
         },
         "marker": {
          "symbol": "circle"
         },
         "mode": "lines",
         "name": "PS4",
         "orientation": "v",
         "showlegend": true,
         "x": [
          2013.0,
          2014.0,
          2015.0,
          2016.0,
          2017.0
         ],
         "xaxis": "x",
         "y": [
          24.76,
          98.76,
          115.24,
          39.25,
          0.03
         ],
         "yaxis": "y",
         "type": "scatter"
        },
        {
         "hovertemplate": "Platform=XOne<br>Year=%{x}<br>Global=%{y}<extra></extra>",
         "legendgroup": "XOne",
         "line": {
          "color": "#2b6b51",
          "dash": "solid"
         },
         "marker": {
          "symbol": "circle"
         },
         "mode": "lines",
         "name": "XOne",
         "orientation": "v",
         "showlegend": true,
         "x": [
          2013.0,
          2014.0,
          2015.0,
          2016.0
         ],
         "xaxis": "x",
         "y": [
          18.6,
          52.43,
          57.66,
          12.37
         ],
         "yaxis": "y",
         "type": "scatter"
        }
       ],
       "layout": {
        "template": {
         "data": {
          "histogram2dcontour": [
           {
            "type": "histogram2dcontour",
            "colorbar": {
             "outlinewidth": 0,
             "ticks": ""
            },
            "colorscale": [
             [
              0.0,
              "#0d0887"
             ],
             [
              0.1111111111111111,
              "#46039f"
             ],
             [
              0.2222222222222222,
              "#7201a8"
             ],
             [
              0.3333333333333333,
              "#9c179e"
             ],
             [
              0.4444444444444444,
              "#bd3786"
             ],
             [
              0.5555555555555556,
              "#d8576b"
             ],
             [
              0.6666666666666666,
              "#ed7953"
             ],
             [
              0.7777777777777778,
              "#fb9f3a"
             ],
             [
              0.8888888888888888,
              "#fdca26"
             ],
             [
              1.0,
              "#f0f921"
             ]
            ]
           }
          ],
          "choropleth": [
           {
            "type": "choropleth",
            "colorbar": {
             "outlinewidth": 0,
             "ticks": ""
            }
           }
          ],
          "histogram2d": [
           {
            "type": "histogram2d",
            "colorbar": {
             "outlinewidth": 0,
             "ticks": ""
            },
            "colorscale": [
             [
              0.0,
              "#0d0887"
             ],
             [
              0.1111111111111111,
              "#46039f"
             ],
             [
              0.2222222222222222,
              "#7201a8"
             ],
             [
              0.3333333333333333,
              "#9c179e"
             ],
             [
              0.4444444444444444,
              "#bd3786"
             ],
             [
              0.5555555555555556,
              "#d8576b"
             ],
             [
              0.6666666666666666,
              "#ed7953"
             ],
             [
              0.7777777777777778,
              "#fb9f3a"
             ],
             [
              0.8888888888888888,
              "#fdca26"
             ],
             [
              1.0,
              "#f0f921"
             ]
            ]
           }
          ],
          "heatmap": [
           {
            "type": "heatmap",
            "colorbar": {
             "outlinewidth": 0,
             "ticks": ""
            },
            "colorscale": [
             [
              0.0,
              "#0d0887"
             ],
             [
              0.1111111111111111,
              "#46039f"
             ],
             [
              0.2222222222222222,
              "#7201a8"
             ],
             [
              0.3333333333333333,
              "#9c179e"
             ],
             [
              0.4444444444444444,
              "#bd3786"
             ],
             [
              0.5555555555555556,
              "#d8576b"
             ],
             [
              0.6666666666666666,
              "#ed7953"
             ],
             [
              0.7777777777777778,
              "#fb9f3a"
             ],
             [
              0.8888888888888888,
              "#fdca26"
             ],
             [
              1.0,
              "#f0f921"
             ]
            ]
           }
          ],
          "heatmapgl": [
           {
            "type": "heatmapgl",
            "colorbar": {
             "outlinewidth": 0,
             "ticks": ""
            },
            "colorscale": [
             [
              0.0,
              "#0d0887"
             ],
             [
              0.1111111111111111,
              "#46039f"
             ],
             [
              0.2222222222222222,
              "#7201a8"
             ],
             [
              0.3333333333333333,
              "#9c179e"
             ],
             [
              0.4444444444444444,
              "#bd3786"
             ],
             [
              0.5555555555555556,
              "#d8576b"
             ],
             [
              0.6666666666666666,
              "#ed7953"
             ],
             [
              0.7777777777777778,
              "#fb9f3a"
             ],
             [
              0.8888888888888888,
              "#fdca26"
             ],
             [
              1.0,
              "#f0f921"
             ]
            ]
           }
          ],
          "contourcarpet": [
           {
            "type": "contourcarpet",
            "colorbar": {
             "outlinewidth": 0,
             "ticks": ""
            }
           }
          ],
          "contour": [
           {
            "type": "contour",
            "colorbar": {
             "outlinewidth": 0,
             "ticks": ""
            },
            "colorscale": [
             [
              0.0,
              "#0d0887"
             ],
             [
              0.1111111111111111,
              "#46039f"
             ],
             [
              0.2222222222222222,
              "#7201a8"
             ],
             [
              0.3333333333333333,
              "#9c179e"
             ],
             [
              0.4444444444444444,
              "#bd3786"
             ],
             [
              0.5555555555555556,
              "#d8576b"
             ],
             [
              0.6666666666666666,
              "#ed7953"
             ],
             [
              0.7777777777777778,
              "#fb9f3a"
             ],
             [
              0.8888888888888888,
              "#fdca26"
             ],
             [
              1.0,
              "#f0f921"
             ]
            ]
           }
          ],
          "surface": [
           {
            "type": "surface",
            "colorbar": {
             "outlinewidth": 0,
             "ticks": ""
            },
            "colorscale": [
             [
              0.0,
              "#0d0887"
             ],
             [
              0.1111111111111111,
              "#46039f"
             ],
             [
              0.2222222222222222,
              "#7201a8"
             ],
             [
              0.3333333333333333,
              "#9c179e"
             ],
             [
              0.4444444444444444,
              "#bd3786"
             ],
             [
              0.5555555555555556,
              "#d8576b"
             ],
             [
              0.6666666666666666,
              "#ed7953"
             ],
             [
              0.7777777777777778,
              "#fb9f3a"
             ],
             [
              0.8888888888888888,
              "#fdca26"
             ],
             [
              1.0,
              "#f0f921"
             ]
            ]
           }
          ],
          "mesh3d": [
           {
            "type": "mesh3d",
            "colorbar": {
             "outlinewidth": 0,
             "ticks": ""
            }
           }
          ],
          "scatter": [
           {
            "fillpattern": {
             "fillmode": "overlay",
             "size": 10,
             "solidity": 0.2
            },
            "type": "scatter"
           }
          ],
          "parcoords": [
           {
            "type": "parcoords",
            "line": {
             "colorbar": {
              "outlinewidth": 0,
              "ticks": ""
             }
            }
           }
          ],
          "scatterpolargl": [
           {
            "type": "scatterpolargl",
            "marker": {
             "colorbar": {
              "outlinewidth": 0,
              "ticks": ""
             }
            }
           }
          ],
          "bar": [
           {
            "error_x": {
             "color": "#2a3f5f"
            },
            "error_y": {
             "color": "#2a3f5f"
            },
            "marker": {
             "line": {
              "color": "#E5ECF6",
              "width": 0.5
             },
             "pattern": {
              "fillmode": "overlay",
              "size": 10,
              "solidity": 0.2
             }
            },
            "type": "bar"
           }
          ],
          "scattergeo": [
           {
            "type": "scattergeo",
            "marker": {
             "colorbar": {
              "outlinewidth": 0,
              "ticks": ""
             }
            }
           }
          ],
          "scatterpolar": [
           {
            "type": "scatterpolar",
            "marker": {
             "colorbar": {
              "outlinewidth": 0,
              "ticks": ""
             }
            }
           }
          ],
          "histogram": [
           {
            "marker": {
             "pattern": {
              "fillmode": "overlay",
              "size": 10,
              "solidity": 0.2
             }
            },
            "type": "histogram"
           }
          ],
          "scattergl": [
           {
            "type": "scattergl",
            "marker": {
             "colorbar": {
              "outlinewidth": 0,
              "ticks": ""
             }
            }
           }
          ],
          "scatter3d": [
           {
            "type": "scatter3d",
            "line": {
             "colorbar": {
              "outlinewidth": 0,
              "ticks": ""
             }
            },
            "marker": {
             "colorbar": {
              "outlinewidth": 0,
              "ticks": ""
             }
            }
           }
          ],
          "scattermapbox": [
           {
            "type": "scattermapbox",
            "marker": {
             "colorbar": {
              "outlinewidth": 0,
              "ticks": ""
             }
            }
           }
          ],
          "scatterternary": [
           {
            "type": "scatterternary",
            "marker": {
             "colorbar": {
              "outlinewidth": 0,
              "ticks": ""
             }
            }
           }
          ],
          "scattercarpet": [
           {
            "type": "scattercarpet",
            "marker": {
             "colorbar": {
              "outlinewidth": 0,
              "ticks": ""
             }
            }
           }
          ],
          "carpet": [
           {
            "aaxis": {
             "endlinecolor": "#2a3f5f",
             "gridcolor": "white",
             "linecolor": "white",
             "minorgridcolor": "white",
             "startlinecolor": "#2a3f5f"
            },
            "baxis": {
             "endlinecolor": "#2a3f5f",
             "gridcolor": "white",
             "linecolor": "white",
             "minorgridcolor": "white",
             "startlinecolor": "#2a3f5f"
            },
            "type": "carpet"
           }
          ],
          "table": [
           {
            "cells": {
             "fill": {
              "color": "#EBF0F8"
             },
             "line": {
              "color": "white"
             }
            },
            "header": {
             "fill": {
              "color": "#C8D4E3"
             },
             "line": {
              "color": "white"
             }
            },
            "type": "table"
           }
          ],
          "barpolar": [
           {
            "marker": {
             "line": {
              "color": "#E5ECF6",
              "width": 0.5
             },
             "pattern": {
              "fillmode": "overlay",
              "size": 10,
              "solidity": 0.2
             }
            },
            "type": "barpolar"
           }
          ],
          "pie": [
           {
            "automargin": true,
            "type": "pie"
           }
          ]
         },
         "layout": {
          "autotypenumbers": "strict",
          "colorway": [
           "#636efa",
           "#EF553B",
           "#00cc96",
           "#ab63fa",
           "#FFA15A",
           "#19d3f3",
           "#FF6692",
           "#B6E880",
           "#FF97FF",
           "#FECB52"
          ],
          "font": {
           "color": "#2a3f5f"
          },
          "hovermode": "closest",
          "hoverlabel": {
           "align": "left"
          },
          "paper_bgcolor": "white",
          "plot_bgcolor": "#E5ECF6",
          "polar": {
           "bgcolor": "#E5ECF6",
           "angularaxis": {
            "gridcolor": "white",
            "linecolor": "white",
            "ticks": ""
           },
           "radialaxis": {
            "gridcolor": "white",
            "linecolor": "white",
            "ticks": ""
           }
          },
          "ternary": {
           "bgcolor": "#E5ECF6",
           "aaxis": {
            "gridcolor": "white",
            "linecolor": "white",
            "ticks": ""
           },
           "baxis": {
            "gridcolor": "white",
            "linecolor": "white",
            "ticks": ""
           },
           "caxis": {
            "gridcolor": "white",
            "linecolor": "white",
            "ticks": ""
           }
          },
          "coloraxis": {
           "colorbar": {
            "outlinewidth": 0,
            "ticks": ""
           }
          },
          "colorscale": {
           "sequential": [
            [
             0.0,
             "#0d0887"
            ],
            [
             0.1111111111111111,
             "#46039f"
            ],
            [
             0.2222222222222222,
             "#7201a8"
            ],
            [
             0.3333333333333333,
             "#9c179e"
            ],
            [
             0.4444444444444444,
             "#bd3786"
            ],
            [
             0.5555555555555556,
             "#d8576b"
            ],
            [
             0.6666666666666666,
             "#ed7953"
            ],
            [
             0.7777777777777778,
             "#fb9f3a"
            ],
            [
             0.8888888888888888,
             "#fdca26"
            ],
            [
             1.0,
             "#f0f921"
            ]
           ],
           "sequentialminus": [
            [
             0.0,
             "#0d0887"
            ],
            [
             0.1111111111111111,
             "#46039f"
            ],
            [
             0.2222222222222222,
             "#7201a8"
            ],
            [
             0.3333333333333333,
             "#9c179e"
            ],
            [
             0.4444444444444444,
             "#bd3786"
            ],
            [
             0.5555555555555556,
             "#d8576b"
            ],
            [
             0.6666666666666666,
             "#ed7953"
            ],
            [
             0.7777777777777778,
             "#fb9f3a"
            ],
            [
             0.8888888888888888,
             "#fdca26"
            ],
            [
             1.0,
             "#f0f921"
            ]
           ],
           "diverging": [
            [
             0,
             "#8e0152"
            ],
            [
             0.1,
             "#c51b7d"
            ],
            [
             0.2,
             "#de77ae"
            ],
            [
             0.3,
             "#f1b6da"
            ],
            [
             0.4,
             "#fde0ef"
            ],
            [
             0.5,
             "#f7f7f7"
            ],
            [
             0.6,
             "#e6f5d0"
            ],
            [
             0.7,
             "#b8e186"
            ],
            [
             0.8,
             "#7fbc41"
            ],
            [
             0.9,
             "#4d9221"
            ],
            [
             1,
             "#276419"
            ]
           ]
          },
          "xaxis": {
           "gridcolor": "white",
           "linecolor": "white",
           "ticks": "",
           "title": {
            "standoff": 15
           },
           "zerolinecolor": "white",
           "automargin": true,
           "zerolinewidth": 2
          },
          "yaxis": {
           "gridcolor": "white",
           "linecolor": "white",
           "ticks": "",
           "title": {
            "standoff": 15
           },
           "zerolinecolor": "white",
           "automargin": true,
           "zerolinewidth": 2
          },
          "scene": {
           "xaxis": {
            "backgroundcolor": "#E5ECF6",
            "gridcolor": "white",
            "linecolor": "white",
            "showbackground": true,
            "ticks": "",
            "zerolinecolor": "white",
            "gridwidth": 2
           },
           "yaxis": {
            "backgroundcolor": "#E5ECF6",
            "gridcolor": "white",
            "linecolor": "white",
            "showbackground": true,
            "ticks": "",
            "zerolinecolor": "white",
            "gridwidth": 2
           },
           "zaxis": {
            "backgroundcolor": "#E5ECF6",
            "gridcolor": "white",
            "linecolor": "white",
            "showbackground": true,
            "ticks": "",
            "zerolinecolor": "white",
            "gridwidth": 2
           }
          },
          "shapedefaults": {
           "line": {
            "color": "#2a3f5f"
           }
          },
          "annotationdefaults": {
           "arrowcolor": "#2a3f5f",
           "arrowhead": 0,
           "arrowwidth": 1
          },
          "geo": {
           "bgcolor": "white",
           "landcolor": "#E5ECF6",
           "subunitcolor": "white",
           "showland": true,
           "showlakes": true,
           "lakecolor": "white"
          },
          "title": {
           "x": 0.05
          },
          "mapbox": {
           "style": "light"
          }
         }
        },
        "xaxis": {
         "anchor": "y",
         "domain": [
          0.0,
          1.0
         ],
         "title": {
          "text": "Year"
         },
         "showline": true,
         "linewidth": 1,
         "linecolor": "black"
        },
        "yaxis": {
         "anchor": "x",
         "domain": [
          0.0,
          1.0
         ],
         "title": {
          "text": "Global"
         },
         "showline": true,
         "linewidth": 1,
         "linecolor": "black"
        },
        "legend": {
         "title": {
          "text": "Platform"
         },
         "tracegroupgap": 0
        },
        "margin": {
         "t": 60
        },
        "plot_bgcolor": "white",
        "paper_bgcolor": "white"
       },
       "config": {
        "plotlyServerURL": "https://plot.ly"
       }
      },
      "text/html": "<div>                            <div id=\"a5b654ba-6ce6-473f-8702-9971e3203360\" class=\"plotly-graph-div\" style=\"height:525px; width:100%;\"></div>            <script type=\"text/javascript\">                require([\"plotly\"], function(Plotly) {                    window.PLOTLYENV=window.PLOTLYENV || {};                                    if (document.getElementById(\"a5b654ba-6ce6-473f-8702-9971e3203360\")) {                    Plotly.newPlot(                        \"a5b654ba-6ce6-473f-8702-9971e3203360\",                        [{\"hovertemplate\":\"Platform=2600<br>Year=%{x}<br>Global=%{y}<extra></extra>\",\"legendgroup\":\"2600\",\"line\":{\"color\":\"#015666\",\"dash\":\"solid\"},\"marker\":{\"symbol\":\"circle\"},\"mode\":\"lines\",\"name\":\"2600\",\"orientation\":\"v\",\"showlegend\":true,\"x\":[1980.0,1981.0,1982.0,1983.0,1984.0,1985.0,1986.0,1987.0,1988.0,1989.0],\"xaxis\":\"x\",\"y\":[11.379999999999999,35.77,28.86,5.83,0.27,0.45,0.6599999999999999,1.98,0.75,0.62],\"yaxis\":\"y\",\"type\":\"scatter\"},{\"hovertemplate\":\"Platform=NES<br>Year=%{x}<br>Global=%{y}<extra></extra>\",\"legendgroup\":\"NES\",\"line\":{\"color\":\"#1a889d\",\"dash\":\"solid\"},\"marker\":{\"symbol\":\"circle\"},\"mode\":\"lines\",\"name\":\"NES\",\"orientation\":\"v\",\"showlegend\":true,\"x\":[1983.0,1984.0,1985.0,1986.0,1987.0,1988.0,1989.0,1990.0,1991.0,1992.0,1993.0,1994.0],\"xaxis\":\"x\",\"y\":[10.96,50.089999999999996,53.440000000000005,36.41,19.759999999999998,45.01,7.85,15.74,6.11,1.9800000000000002,3.61,0.11],\"yaxis\":\"y\",\"type\":\"scatter\"},{\"hovertemplate\":\"Platform=DS<br>Year=%{x}<br>Global=%{y}<extra></extra>\",\"legendgroup\":\"DS\",\"line\":{\"color\":\"#4da3b3\",\"dash\":\"solid\"},\"marker\":{\"symbol\":\"circle\"},\"mode\":\"lines\",\"name\":\"DS\",\"orientation\":\"v\",\"showlegend\":true,\"x\":[1985.0,2004.0,2005.0,2006.0,2007.0,2008.0,2009.0,2010.0,2011.0,2012.0,2013.0,2014.0,2020.0],\"xaxis\":\"x\",\"y\":[0.02,17.46,131.4,121.15,149.36,147.89,121.99,87.98,27.8,11.64,1.96,0.02,0.29],\"yaxis\":\"y\",\"type\":\"scatter\"},{\"hovertemplate\":\"Platform=PC<br>Year=%{x}<br>Global=%{y}<extra></extra>\",\"legendgroup\":\"PC\",\"line\":{\"color\":\"#80bdc9\",\"dash\":\"solid\"},\"marker\":{\"symbol\":\"circle\"},\"mode\":\"lines\",\"name\":\"PC\",\"orientation\":\"v\",\"showlegend\":true,\"x\":[1985.0,1988.0,1992.0,1994.0,1995.0,1996.0,1997.0,1998.0,1999.0,2000.0,2001.0,2002.0,2003.0,2004.0,2005.0,2006.0,2007.0,2008.0,2009.0,2010.0,2011.0,2012.0,2013.0,2014.0,2015.0,2016.0],\"xaxis\":\"x\",\"y\":[0.03,0.03,3.02,12.85,4.2299999999999995,10.59,11.26,3.2800000000000002,4.75,4.680000000000001,5.510000000000001,8.6,8.959999999999999,10.46,4.47,2.97,9.4,12.67,17.16,24.46,35.25,23.53,12.83,13.39,8.07,2.6],\"yaxis\":\"y\",\"type\":\"scatter\"},{\"hovertemplate\":\"Platform=GB<br>Year=%{x}<br>Global=%{y}<extra></extra>\",\"legendgroup\":\"GB\",\"line\":{\"color\":\"#b3d7de\",\"dash\":\"solid\"},\"marker\":{\"symbol\":\"circle\"},\"mode\":\"lines\",\"name\":\"GB\",\"orientation\":\"v\",\"showlegend\":true,\"x\":[1988.0,1989.0,1990.0,1991.0,1992.0,1994.0,1995.0,1996.0,1997.0,1998.0,1999.0,2000.0,2001.0],\"xaxis\":\"x\",\"y\":[1.43,64.98,4.89,5.57,25.48,12.17,3.5999999999999996,36.02,6.37,26.900000000000002,38.01,19.76,9.24],\"yaxis\":\"y\",\"type\":\"scatter\"},{\"hovertemplate\":\"Platform=GEN<br>Year=%{x}<br>Global=%{y}<extra></extra>\",\"legendgroup\":\"GEN\",\"line\":{\"color\":\"#cce5e9\",\"dash\":\"solid\"},\"marker\":{\"symbol\":\"circle\"},\"mode\":\"lines\",\"name\":\"GEN\",\"orientation\":\"v\",\"showlegend\":true,\"x\":[1990.0,1991.0,1992.0,1993.0,1994.0],\"xaxis\":\"x\",\"y\":[2.6,4.34,12.66,0.65,8.11],\"yaxis\":\"y\",\"type\":\"scatter\"},{\"hovertemplate\":\"Platform=SNES<br>Year=%{x}<br>Global=%{y}<extra></extra>\",\"legendgroup\":\"SNES\",\"line\":{\"color\":\"#2b6b51\",\"dash\":\"solid\"},\"marker\":{\"symbol\":\"circle\"},\"mode\":\"lines\",\"name\":\"SNES\",\"orientation\":\"v\",\"showlegend\":true,\"x\":[1990.0,1991.0,1992.0,1993.0,1994.0,1995.0,1996.0,1997.0,1998.0,1999.0],\"xaxis\":\"x\",\"y\":[26.16,16.21,32.98,40.01,35.08,32.21,15.93,0.99,0.22000000000000003,0.26],\"yaxis\":\"y\",\"type\":\"scatter\"},{\"hovertemplate\":\"Platform=GG<br>Year=%{x}<br>Global=%{y}<extra></extra>\",\"legendgroup\":\"GG\",\"line\":{\"color\":\"#317a5c\",\"dash\":\"solid\"},\"marker\":{\"symbol\":\"circle\"},\"mode\":\"lines\",\"name\":\"GG\",\"orientation\":\"v\",\"showlegend\":true,\"x\":[1992.0],\"xaxis\":\"x\",\"y\":[0.04],\"yaxis\":\"y\",\"type\":\"scatter\"},{\"hovertemplate\":\"Platform=NG<br>Year=%{x}<br>Global=%{y}<extra></extra>\",\"legendgroup\":\"NG\",\"line\":{\"color\":\"#378a68\",\"dash\":\"solid\"},\"marker\":{\"symbol\":\"circle\"},\"mode\":\"lines\",\"name\":\"NG\",\"orientation\":\"v\",\"showlegend\":true,\"x\":[1993.0,1994.0,1995.0,1996.0],\"xaxis\":\"x\",\"y\":[0.21000000000000002,0.8,0.33,0.1],\"yaxis\":\"y\",\"type\":\"scatter\"},{\"hovertemplate\":\"Platform=SCD<br>Year=%{x}<br>Global=%{y}<extra></extra>\",\"legendgroup\":\"SCD\",\"line\":{\"color\":\"#50a381\",\"dash\":\"solid\"},\"marker\":{\"symbol\":\"circle\"},\"mode\":\"lines\",\"name\":\"SCD\",\"orientation\":\"v\",\"showlegend\":true,\"x\":[1993.0,1994.0],\"xaxis\":\"x\",\"y\":[1.5,0.37],\"yaxis\":\"y\",\"type\":\"scatter\"},{\"hovertemplate\":\"Platform=3DO<br>Year=%{x}<br>Global=%{y}<extra></extra>\",\"legendgroup\":\"3DO\",\"line\":{\"color\":\"#77b89d\",\"dash\":\"solid\"},\"marker\":{\"symbol\":\"circle\"},\"mode\":\"lines\",\"name\":\"3DO\",\"orientation\":\"v\",\"showlegend\":true,\"x\":[1994.0,1995.0],\"xaxis\":\"x\",\"y\":[0.02,0.08],\"yaxis\":\"y\",\"type\":\"scatter\"},{\"hovertemplate\":\"Platform=PS<br>Year=%{x}<br>Global=%{y}<extra></extra>\",\"legendgroup\":\"PS\",\"line\":{\"color\":\"#9eccb9\",\"dash\":\"solid\"},\"marker\":{\"symbol\":\"circle\"},\"mode\":\"lines\",\"name\":\"PS\",\"orientation\":\"v\",\"showlegend\":true,\"x\":[1994.0,1995.0,1996.0,1997.0,1998.0,1999.0,2000.0,2001.0,2002.0,2003.0],\"xaxis\":\"x\",\"y\":[6.0200000000000005,35.92,94.68,136.08,169.58,144.57,96.28,35.52,6.6899999999999995,2.05],\"yaxis\":\"y\",\"type\":\"scatter\"},{\"hovertemplate\":\"Platform=SAT<br>Year=%{x}<br>Global=%{y}<extra></extra>\",\"legendgroup\":\"SAT\",\"line\":{\"color\":\"#015666\",\"dash\":\"solid\"},\"marker\":{\"symbol\":\"circle\"},\"mode\":\"lines\",\"name\":\"SAT\",\"orientation\":\"v\",\"showlegend\":true,\"x\":[1994.0,1995.0,1996.0,1997.0,1998.0,1999.0],\"xaxis\":\"x\",\"y\":[3.64,11.58,7.69,6.7700000000000005,3.82,0.09],\"yaxis\":\"y\",\"type\":\"scatter\"},{\"hovertemplate\":\"Platform=TG16<br>Year=%{x}<br>Global=%{y}<extra></extra>\",\"legendgroup\":\"TG16\",\"line\":{\"color\":\"#1a889d\",\"dash\":\"solid\"},\"marker\":{\"symbol\":\"circle\"},\"mode\":\"lines\",\"name\":\"TG16\",\"orientation\":\"v\",\"showlegend\":true,\"x\":[1995.0],\"xaxis\":\"x\",\"y\":[0.16],\"yaxis\":\"y\",\"type\":\"scatter\"},{\"hovertemplate\":\"Platform=N64<br>Year=%{x}<br>Global=%{y}<extra></extra>\",\"legendgroup\":\"N64\",\"line\":{\"color\":\"#4da3b3\",\"dash\":\"solid\"},\"marker\":{\"symbol\":\"circle\"},\"mode\":\"lines\",\"name\":\"N64\",\"orientation\":\"v\",\"showlegend\":true,\"x\":[1996.0,1997.0,1998.0,1999.0,2000.0,2001.0,2002.0],\"xaxis\":\"x\",\"y\":[34.11,39.51,49.28,57.96,34.01,3.26,0.08],\"yaxis\":\"y\",\"type\":\"scatter\"},{\"hovertemplate\":\"Platform=PCFX<br>Year=%{x}<br>Global=%{y}<extra></extra>\",\"legendgroup\":\"PCFX\",\"line\":{\"color\":\"#80bdc9\",\"dash\":\"solid\"},\"marker\":{\"symbol\":\"circle\"},\"mode\":\"lines\",\"name\":\"PCFX\",\"orientation\":\"v\",\"showlegend\":true,\"x\":[1996.0],\"xaxis\":\"x\",\"y\":[0.03],\"yaxis\":\"y\",\"type\":\"scatter\"},{\"hovertemplate\":\"Platform=DC<br>Year=%{x}<br>Global=%{y}<extra></extra>\",\"legendgroup\":\"DC\",\"line\":{\"color\":\"#b3d7de\",\"dash\":\"solid\"},\"marker\":{\"symbol\":\"circle\"},\"mode\":\"lines\",\"name\":\"DC\",\"orientation\":\"v\",\"showlegend\":true,\"x\":[1998.0,1999.0,2000.0,2001.0,2002.0,2007.0,2008.0],\"xaxis\":\"x\",\"y\":[3.39,5.17,5.99,1.07,0.29,0.02,0.04],\"yaxis\":\"y\",\"type\":\"scatter\"},{\"hovertemplate\":\"Platform=WS<br>Year=%{x}<br>Global=%{y}<extra></extra>\",\"legendgroup\":\"WS\",\"line\":{\"color\":\"#cce5e9\",\"dash\":\"solid\"},\"marker\":{\"symbol\":\"circle\"},\"mode\":\"lines\",\"name\":\"WS\",\"orientation\":\"v\",\"showlegend\":true,\"x\":[1999.0,2000.0,2001.0],\"xaxis\":\"x\",\"y\":[0.46,0.68,0.28],\"yaxis\":\"y\",\"type\":\"scatter\"},{\"hovertemplate\":\"Platform=GBA<br>Year=%{x}<br>Global=%{y}<extra></extra>\",\"legendgroup\":\"GBA\",\"line\":{\"color\":\"#2b6b51\",\"dash\":\"solid\"},\"marker\":{\"symbol\":\"circle\"},\"mode\":\"lines\",\"name\":\"GBA\",\"orientation\":\"v\",\"showlegend\":true,\"x\":[2000.0,2001.0,2002.0,2003.0,2004.0,2005.0,2006.0,2007.0],\"xaxis\":\"x\",\"y\":[0.06,61.62,74.38,56.730000000000004,78.09,33.9,5.35,3.43],\"yaxis\":\"y\",\"type\":\"scatter\"},{\"hovertemplate\":\"Platform=PS2<br>Year=%{x}<br>Global=%{y}<extra></extra>\",\"legendgroup\":\"PS2\",\"line\":{\"color\":\"#317a5c\",\"dash\":\"solid\"},\"marker\":{\"symbol\":\"circle\"},\"mode\":\"lines\",\"name\":\"PS2\",\"orientation\":\"v\",\"showlegend\":true,\"x\":[2000.0,2001.0,2002.0,2003.0,2004.0,2005.0,2006.0,2007.0,2008.0,2009.0,2010.0,2011.0],\"xaxis\":\"x\",\"y\":[39.11,166.43,205.4,184.29,211.78,160.65,103.42,75.99,53.83,26.45,5.63,0.47000000000000003],\"yaxis\":\"y\",\"type\":\"scatter\"},{\"hovertemplate\":\"Platform=XB<br>Year=%{x}<br>Global=%{y}<extra></extra>\",\"legendgroup\":\"XB\",\"line\":{\"color\":\"#378a68\",\"dash\":\"solid\"},\"marker\":{\"symbol\":\"circle\"},\"mode\":\"lines\",\"name\":\"XB\",\"orientation\":\"v\",\"showlegend\":true,\"x\":[2000.0,2001.0,2002.0,2003.0,2004.0,2005.0,2006.0,2007.0,2008.0],\"xaxis\":\"x\",\"y\":[0.99,22.24,48.15,55.160000000000004,65.5,49.17,10.15,0.5499999999999999,0.18],\"yaxis\":\"y\",\"type\":\"scatter\"},{\"hovertemplate\":\"Platform=GC<br>Year=%{x}<br>Global=%{y}<extra></extra>\",\"legendgroup\":\"GC\",\"line\":{\"color\":\"#50a381\",\"dash\":\"solid\"},\"marker\":{\"symbol\":\"circle\"},\"mode\":\"lines\",\"name\":\"GC\",\"orientation\":\"v\",\"showlegend\":true,\"x\":[2001.0,2002.0,2003.0,2004.0,2005.0,2006.0,2007.0],\"xaxis\":\"x\",\"y\":[26.3,51.93,50.660000000000004,28.89,27.8,11.290000000000001,0.27],\"yaxis\":\"y\",\"type\":\"scatter\"},{\"hovertemplate\":\"Platform=PSP<br>Year=%{x}<br>Global=%{y}<extra></extra>\",\"legendgroup\":\"PSP\",\"line\":{\"color\":\"#77b89d\",\"dash\":\"solid\"},\"marker\":{\"symbol\":\"circle\"},\"mode\":\"lines\",\"name\":\"PSP\",\"orientation\":\"v\",\"showlegend\":true,\"x\":[2004.0,2005.0,2006.0,2007.0,2008.0,2009.0,2010.0,2011.0,2012.0,2013.0,2014.0,2015.0],\"xaxis\":\"x\",\"y\":[7.13,44.23,55.85,47.48,34.68,38.07,35.09,17.66,7.66,3.19,0.24,0.12],\"yaxis\":\"y\",\"type\":\"scatter\"},{\"hovertemplate\":\"Platform=X360<br>Year=%{x}<br>Global=%{y}<extra></extra>\",\"legendgroup\":\"X360\",\"line\":{\"color\":\"#9eccb9\",\"dash\":\"solid\"},\"marker\":{\"symbol\":\"circle\"},\"mode\":\"lines\",\"name\":\"X360\",\"orientation\":\"v\",\"showlegend\":true,\"x\":[2005.0,2006.0,2007.0,2008.0,2009.0,2010.0,2011.0,2012.0,2013.0,2014.0,2015.0,2016.0],\"xaxis\":\"x\",\"y\":[8.32,51.88,95.84,135.76,120.75,171.02,145.04,100.86,89.59,36.42,13.05,0.8300000000000001],\"yaxis\":\"y\",\"type\":\"scatter\"},{\"hovertemplate\":\"Platform=PS3<br>Year=%{x}<br>Global=%{y}<extra></extra>\",\"legendgroup\":\"PS3\",\"line\":{\"color\":\"#015666\",\"dash\":\"solid\"},\"marker\":{\"symbol\":\"circle\"},\"mode\":\"lines\",\"name\":\"PS3\",\"orientation\":\"v\",\"showlegend\":true,\"x\":[2006.0,2007.0,2008.0,2009.0,2010.0,2011.0,2012.0,2013.0,2014.0,2015.0,2016.0],\"xaxis\":\"x\",\"y\":[21.07,73.81,119.69,132.34,144.42,159.37,109.28,117.33,50.96,18.18,2.59],\"yaxis\":\"y\",\"type\":\"scatter\"},{\"hovertemplate\":\"Platform=Wii<br>Year=%{x}<br>Global=%{y}<extra></extra>\",\"legendgroup\":\"Wii\",\"line\":{\"color\":\"#1a889d\",\"dash\":\"solid\"},\"marker\":{\"symbol\":\"circle\"},\"mode\":\"lines\",\"name\":\"Wii\",\"orientation\":\"v\",\"showlegend\":true,\"x\":[2006.0,2007.0,2008.0,2009.0,2010.0,2011.0,2012.0,2013.0,2014.0,2015.0],\"xaxis\":\"x\",\"y\":[137.91,154.97,174.16,210.44,131.8,62.41,22.77,9.36,4.4399999999999995,1.55],\"yaxis\":\"y\",\"type\":\"scatter\"},{\"hovertemplate\":\"Platform=3DS<br>Year=%{x}<br>Global=%{y}<extra></extra>\",\"legendgroup\":\"3DS\",\"line\":{\"color\":\"#4da3b3\",\"dash\":\"solid\"},\"marker\":{\"symbol\":\"circle\"},\"mode\":\"lines\",\"name\":\"3DS\",\"orientation\":\"v\",\"showlegend\":true,\"x\":[2011.0,2012.0,2013.0,2014.0,2015.0,2016.0],\"xaxis\":\"x\",\"y\":[62.53,51.14,55.88,43.14,26.99,6.6000000000000005],\"yaxis\":\"y\",\"type\":\"scatter\"},{\"hovertemplate\":\"Platform=PSV<br>Year=%{x}<br>Global=%{y}<extra></extra>\",\"legendgroup\":\"PSV\",\"line\":{\"color\":\"#80bdc9\",\"dash\":\"solid\"},\"marker\":{\"symbol\":\"circle\"},\"mode\":\"lines\",\"name\":\"PSV\",\"orientation\":\"v\",\"showlegend\":true,\"x\":[2011.0,2012.0,2013.0,2014.0,2015.0,2016.0,2017.0],\"xaxis\":\"x\",\"y\":[5.15,18.53,12.48,14.5,7.0,3.4,0.02],\"yaxis\":\"y\",\"type\":\"scatter\"},{\"hovertemplate\":\"Platform=WiiU<br>Year=%{x}<br>Global=%{y}<extra></extra>\",\"legendgroup\":\"WiiU\",\"line\":{\"color\":\"#b3d7de\",\"dash\":\"solid\"},\"marker\":{\"symbol\":\"circle\"},\"mode\":\"lines\",\"name\":\"WiiU\",\"orientation\":\"v\",\"showlegend\":true,\"x\":[2012.0,2013.0,2014.0,2015.0,2016.0],\"xaxis\":\"x\",\"y\":[17.84,21.84,22.509999999999998,16.38,3.29],\"yaxis\":\"y\",\"type\":\"scatter\"},{\"hovertemplate\":\"Platform=PS4<br>Year=%{x}<br>Global=%{y}<extra></extra>\",\"legendgroup\":\"PS4\",\"line\":{\"color\":\"#cce5e9\",\"dash\":\"solid\"},\"marker\":{\"symbol\":\"circle\"},\"mode\":\"lines\",\"name\":\"PS4\",\"orientation\":\"v\",\"showlegend\":true,\"x\":[2013.0,2014.0,2015.0,2016.0,2017.0],\"xaxis\":\"x\",\"y\":[24.76,98.76,115.24,39.25,0.03],\"yaxis\":\"y\",\"type\":\"scatter\"},{\"hovertemplate\":\"Platform=XOne<br>Year=%{x}<br>Global=%{y}<extra></extra>\",\"legendgroup\":\"XOne\",\"line\":{\"color\":\"#2b6b51\",\"dash\":\"solid\"},\"marker\":{\"symbol\":\"circle\"},\"mode\":\"lines\",\"name\":\"XOne\",\"orientation\":\"v\",\"showlegend\":true,\"x\":[2013.0,2014.0,2015.0,2016.0],\"xaxis\":\"x\",\"y\":[18.6,52.43,57.66,12.37],\"yaxis\":\"y\",\"type\":\"scatter\"}],                        {\"template\":{\"data\":{\"histogram2dcontour\":[{\"type\":\"histogram2dcontour\",\"colorbar\":{\"outlinewidth\":0,\"ticks\":\"\"},\"colorscale\":[[0.0,\"#0d0887\"],[0.1111111111111111,\"#46039f\"],[0.2222222222222222,\"#7201a8\"],[0.3333333333333333,\"#9c179e\"],[0.4444444444444444,\"#bd3786\"],[0.5555555555555556,\"#d8576b\"],[0.6666666666666666,\"#ed7953\"],[0.7777777777777778,\"#fb9f3a\"],[0.8888888888888888,\"#fdca26\"],[1.0,\"#f0f921\"]]}],\"choropleth\":[{\"type\":\"choropleth\",\"colorbar\":{\"outlinewidth\":0,\"ticks\":\"\"}}],\"histogram2d\":[{\"type\":\"histogram2d\",\"colorbar\":{\"outlinewidth\":0,\"ticks\":\"\"},\"colorscale\":[[0.0,\"#0d0887\"],[0.1111111111111111,\"#46039f\"],[0.2222222222222222,\"#7201a8\"],[0.3333333333333333,\"#9c179e\"],[0.4444444444444444,\"#bd3786\"],[0.5555555555555556,\"#d8576b\"],[0.6666666666666666,\"#ed7953\"],[0.7777777777777778,\"#fb9f3a\"],[0.8888888888888888,\"#fdca26\"],[1.0,\"#f0f921\"]]}],\"heatmap\":[{\"type\":\"heatmap\",\"colorbar\":{\"outlinewidth\":0,\"ticks\":\"\"},\"colorscale\":[[0.0,\"#0d0887\"],[0.1111111111111111,\"#46039f\"],[0.2222222222222222,\"#7201a8\"],[0.3333333333333333,\"#9c179e\"],[0.4444444444444444,\"#bd3786\"],[0.5555555555555556,\"#d8576b\"],[0.6666666666666666,\"#ed7953\"],[0.7777777777777778,\"#fb9f3a\"],[0.8888888888888888,\"#fdca26\"],[1.0,\"#f0f921\"]]}],\"heatmapgl\":[{\"type\":\"heatmapgl\",\"colorbar\":{\"outlinewidth\":0,\"ticks\":\"\"},\"colorscale\":[[0.0,\"#0d0887\"],[0.1111111111111111,\"#46039f\"],[0.2222222222222222,\"#7201a8\"],[0.3333333333333333,\"#9c179e\"],[0.4444444444444444,\"#bd3786\"],[0.5555555555555556,\"#d8576b\"],[0.6666666666666666,\"#ed7953\"],[0.7777777777777778,\"#fb9f3a\"],[0.8888888888888888,\"#fdca26\"],[1.0,\"#f0f921\"]]}],\"contourcarpet\":[{\"type\":\"contourcarpet\",\"colorbar\":{\"outlinewidth\":0,\"ticks\":\"\"}}],\"contour\":[{\"type\":\"contour\",\"colorbar\":{\"outlinewidth\":0,\"ticks\":\"\"},\"colorscale\":[[0.0,\"#0d0887\"],[0.1111111111111111,\"#46039f\"],[0.2222222222222222,\"#7201a8\"],[0.3333333333333333,\"#9c179e\"],[0.4444444444444444,\"#bd3786\"],[0.5555555555555556,\"#d8576b\"],[0.6666666666666666,\"#ed7953\"],[0.7777777777777778,\"#fb9f3a\"],[0.8888888888888888,\"#fdca26\"],[1.0,\"#f0f921\"]]}],\"surface\":[{\"type\":\"surface\",\"colorbar\":{\"outlinewidth\":0,\"ticks\":\"\"},\"colorscale\":[[0.0,\"#0d0887\"],[0.1111111111111111,\"#46039f\"],[0.2222222222222222,\"#7201a8\"],[0.3333333333333333,\"#9c179e\"],[0.4444444444444444,\"#bd3786\"],[0.5555555555555556,\"#d8576b\"],[0.6666666666666666,\"#ed7953\"],[0.7777777777777778,\"#fb9f3a\"],[0.8888888888888888,\"#fdca26\"],[1.0,\"#f0f921\"]]}],\"mesh3d\":[{\"type\":\"mesh3d\",\"colorbar\":{\"outlinewidth\":0,\"ticks\":\"\"}}],\"scatter\":[{\"fillpattern\":{\"fillmode\":\"overlay\",\"size\":10,\"solidity\":0.2},\"type\":\"scatter\"}],\"parcoords\":[{\"type\":\"parcoords\",\"line\":{\"colorbar\":{\"outlinewidth\":0,\"ticks\":\"\"}}}],\"scatterpolargl\":[{\"type\":\"scatterpolargl\",\"marker\":{\"colorbar\":{\"outlinewidth\":0,\"ticks\":\"\"}}}],\"bar\":[{\"error_x\":{\"color\":\"#2a3f5f\"},\"error_y\":{\"color\":\"#2a3f5f\"},\"marker\":{\"line\":{\"color\":\"#E5ECF6\",\"width\":0.5},\"pattern\":{\"fillmode\":\"overlay\",\"size\":10,\"solidity\":0.2}},\"type\":\"bar\"}],\"scattergeo\":[{\"type\":\"scattergeo\",\"marker\":{\"colorbar\":{\"outlinewidth\":0,\"ticks\":\"\"}}}],\"scatterpolar\":[{\"type\":\"scatterpolar\",\"marker\":{\"colorbar\":{\"outlinewidth\":0,\"ticks\":\"\"}}}],\"histogram\":[{\"marker\":{\"pattern\":{\"fillmode\":\"overlay\",\"size\":10,\"solidity\":0.2}},\"type\":\"histogram\"}],\"scattergl\":[{\"type\":\"scattergl\",\"marker\":{\"colorbar\":{\"outlinewidth\":0,\"ticks\":\"\"}}}],\"scatter3d\":[{\"type\":\"scatter3d\",\"line\":{\"colorbar\":{\"outlinewidth\":0,\"ticks\":\"\"}},\"marker\":{\"colorbar\":{\"outlinewidth\":0,\"ticks\":\"\"}}}],\"scattermapbox\":[{\"type\":\"scattermapbox\",\"marker\":{\"colorbar\":{\"outlinewidth\":0,\"ticks\":\"\"}}}],\"scatterternary\":[{\"type\":\"scatterternary\",\"marker\":{\"colorbar\":{\"outlinewidth\":0,\"ticks\":\"\"}}}],\"scattercarpet\":[{\"type\":\"scattercarpet\",\"marker\":{\"colorbar\":{\"outlinewidth\":0,\"ticks\":\"\"}}}],\"carpet\":[{\"aaxis\":{\"endlinecolor\":\"#2a3f5f\",\"gridcolor\":\"white\",\"linecolor\":\"white\",\"minorgridcolor\":\"white\",\"startlinecolor\":\"#2a3f5f\"},\"baxis\":{\"endlinecolor\":\"#2a3f5f\",\"gridcolor\":\"white\",\"linecolor\":\"white\",\"minorgridcolor\":\"white\",\"startlinecolor\":\"#2a3f5f\"},\"type\":\"carpet\"}],\"table\":[{\"cells\":{\"fill\":{\"color\":\"#EBF0F8\"},\"line\":{\"color\":\"white\"}},\"header\":{\"fill\":{\"color\":\"#C8D4E3\"},\"line\":{\"color\":\"white\"}},\"type\":\"table\"}],\"barpolar\":[{\"marker\":{\"line\":{\"color\":\"#E5ECF6\",\"width\":0.5},\"pattern\":{\"fillmode\":\"overlay\",\"size\":10,\"solidity\":0.2}},\"type\":\"barpolar\"}],\"pie\":[{\"automargin\":true,\"type\":\"pie\"}]},\"layout\":{\"autotypenumbers\":\"strict\",\"colorway\":[\"#636efa\",\"#EF553B\",\"#00cc96\",\"#ab63fa\",\"#FFA15A\",\"#19d3f3\",\"#FF6692\",\"#B6E880\",\"#FF97FF\",\"#FECB52\"],\"font\":{\"color\":\"#2a3f5f\"},\"hovermode\":\"closest\",\"hoverlabel\":{\"align\":\"left\"},\"paper_bgcolor\":\"white\",\"plot_bgcolor\":\"#E5ECF6\",\"polar\":{\"bgcolor\":\"#E5ECF6\",\"angularaxis\":{\"gridcolor\":\"white\",\"linecolor\":\"white\",\"ticks\":\"\"},\"radialaxis\":{\"gridcolor\":\"white\",\"linecolor\":\"white\",\"ticks\":\"\"}},\"ternary\":{\"bgcolor\":\"#E5ECF6\",\"aaxis\":{\"gridcolor\":\"white\",\"linecolor\":\"white\",\"ticks\":\"\"},\"baxis\":{\"gridcolor\":\"white\",\"linecolor\":\"white\",\"ticks\":\"\"},\"caxis\":{\"gridcolor\":\"white\",\"linecolor\":\"white\",\"ticks\":\"\"}},\"coloraxis\":{\"colorbar\":{\"outlinewidth\":0,\"ticks\":\"\"}},\"colorscale\":{\"sequential\":[[0.0,\"#0d0887\"],[0.1111111111111111,\"#46039f\"],[0.2222222222222222,\"#7201a8\"],[0.3333333333333333,\"#9c179e\"],[0.4444444444444444,\"#bd3786\"],[0.5555555555555556,\"#d8576b\"],[0.6666666666666666,\"#ed7953\"],[0.7777777777777778,\"#fb9f3a\"],[0.8888888888888888,\"#fdca26\"],[1.0,\"#f0f921\"]],\"sequentialminus\":[[0.0,\"#0d0887\"],[0.1111111111111111,\"#46039f\"],[0.2222222222222222,\"#7201a8\"],[0.3333333333333333,\"#9c179e\"],[0.4444444444444444,\"#bd3786\"],[0.5555555555555556,\"#d8576b\"],[0.6666666666666666,\"#ed7953\"],[0.7777777777777778,\"#fb9f3a\"],[0.8888888888888888,\"#fdca26\"],[1.0,\"#f0f921\"]],\"diverging\":[[0,\"#8e0152\"],[0.1,\"#c51b7d\"],[0.2,\"#de77ae\"],[0.3,\"#f1b6da\"],[0.4,\"#fde0ef\"],[0.5,\"#f7f7f7\"],[0.6,\"#e6f5d0\"],[0.7,\"#b8e186\"],[0.8,\"#7fbc41\"],[0.9,\"#4d9221\"],[1,\"#276419\"]]},\"xaxis\":{\"gridcolor\":\"white\",\"linecolor\":\"white\",\"ticks\":\"\",\"title\":{\"standoff\":15},\"zerolinecolor\":\"white\",\"automargin\":true,\"zerolinewidth\":2},\"yaxis\":{\"gridcolor\":\"white\",\"linecolor\":\"white\",\"ticks\":\"\",\"title\":{\"standoff\":15},\"zerolinecolor\":\"white\",\"automargin\":true,\"zerolinewidth\":2},\"scene\":{\"xaxis\":{\"backgroundcolor\":\"#E5ECF6\",\"gridcolor\":\"white\",\"linecolor\":\"white\",\"showbackground\":true,\"ticks\":\"\",\"zerolinecolor\":\"white\",\"gridwidth\":2},\"yaxis\":{\"backgroundcolor\":\"#E5ECF6\",\"gridcolor\":\"white\",\"linecolor\":\"white\",\"showbackground\":true,\"ticks\":\"\",\"zerolinecolor\":\"white\",\"gridwidth\":2},\"zaxis\":{\"backgroundcolor\":\"#E5ECF6\",\"gridcolor\":\"white\",\"linecolor\":\"white\",\"showbackground\":true,\"ticks\":\"\",\"zerolinecolor\":\"white\",\"gridwidth\":2}},\"shapedefaults\":{\"line\":{\"color\":\"#2a3f5f\"}},\"annotationdefaults\":{\"arrowcolor\":\"#2a3f5f\",\"arrowhead\":0,\"arrowwidth\":1},\"geo\":{\"bgcolor\":\"white\",\"landcolor\":\"#E5ECF6\",\"subunitcolor\":\"white\",\"showland\":true,\"showlakes\":true,\"lakecolor\":\"white\"},\"title\":{\"x\":0.05},\"mapbox\":{\"style\":\"light\"}}},\"xaxis\":{\"anchor\":\"y\",\"domain\":[0.0,1.0],\"title\":{\"text\":\"Year\"},\"showline\":true,\"linewidth\":1,\"linecolor\":\"black\"},\"yaxis\":{\"anchor\":\"x\",\"domain\":[0.0,1.0],\"title\":{\"text\":\"Global\"},\"showline\":true,\"linewidth\":1,\"linecolor\":\"black\"},\"legend\":{\"title\":{\"text\":\"Platform\"},\"tracegroupgap\":0},\"margin\":{\"t\":60},\"plot_bgcolor\":\"white\",\"paper_bgcolor\":\"white\"},                        {\"responsive\": true}                    ).then(function(){\n                            \nvar gd = document.getElementById('a5b654ba-6ce6-473f-8702-9971e3203360');\nvar x = new MutationObserver(function (mutations, observer) {{\n        var display = window.getComputedStyle(gd).display;\n        if (!display || display === 'none') {{\n            console.log([gd, 'removed!']);\n            Plotly.purge(gd);\n            observer.disconnect();\n        }}\n}});\n\n// Listen for the removal of the full notebook cells\nvar notebookContainer = gd.closest('#notebook-container');\nif (notebookContainer) {{\n    x.observe(notebookContainer, {childList: true});\n}}\n\n// Listen for the clearing of the current output cell\nvar outputEl = gd.closest('.output');\nif (outputEl) {{\n    x.observe(outputEl, {childList: true});\n}}\n\n                        })                };                });            </script>        </div>"
     },
     "metadata": {},
     "output_type": "display_data"
    }
   ],
   "source": [
    "# line diagram\n",
    "\n",
    "def line_diagram(main_filter, sales_filter):\n",
    "    df_l = df[df['Global'] > sales_filter]\n",
    "    df_l = df_l.groupby(['Year', main_filter], as_index=False)['Global'].sum()\n",
    "\n",
    "    line_fig = px.line(df_l, x='Year', y='Global', color=main_filter, color_discrete_sequence= ['#015666', '#1a889d', '#4da3b3', '#80bdc9', '#b3d7de', '#cce5e9',  '#2b6b51', '#317a5c','#378a68','#50a381', '#77b89d', '#9eccb9' ])\n",
    "    line_fig.update_layout(plot_bgcolor='white',paper_bgcolor='white')\n",
    "    line_fig.update_xaxes(showline=True, linewidth=1, linecolor='black')\n",
    "    line_fig.update_yaxes(showline=True, linewidth=1, linecolor='black')\n",
    "    return line_fig\n",
    "\n",
    "line_diagram('Platform', 0)"
   ],
   "metadata": {
    "collapsed": false
   }
  },
  {
   "cell_type": "code",
   "execution_count": null,
   "outputs": [],
   "source": [
    "# table1\n",
    "\n",
    "from dash import Dash, dash_table, dcc, html\n",
    "from dash.dependencies import Input, Output\n",
    "import pandas as pd\n",
    "\n",
    "app = Dash(__name__)\n",
    "\n",
    "df_liste = df[['Name', 'Platform', 'Genre', 'Global']]\n",
    "\n",
    "app.layout = html.Div([\n",
    "    dash_table.DataTable(\n",
    "        id='datatable_1',\n",
    "        columns=[\n",
    "            {'name': i, 'id': i, 'deletable': False, 'selectable': True} for i in df_liste.columns\n",
    "        ],\n",
    "        data=df_liste.to_dict('records'),\n",
    "        style_cell={'textAlign': 'left'},\n",
    "        editable=True,\n",
    "        filter_action='native',\n",
    "        sort_action='native',\n",
    "        #sort_mode='multi',\n",
    "        #column_selectable='single',\n",
    "        #row_selectable='multi',\n",
    "        #selected_columns=[],\n",
    "        #selected_rows=[],\n",
    "        #page_action='native',\n",
    "        page_current= 0,\n",
    "        page_size= 100,\n",
    "        style_header={\n",
    "            'backgroundColor': '#b3d7de',\n",
    "            'fontWeight': 'bold'},\n",
    "        style_data_conditional=[\n",
    "            {'if': {'row_index': 'odd'},\n",
    "            'backgroundColor': '#ecf5f1'}]\n",
    "    ),\n",
    "    html.Div(id='datatable-interactivity-container')\n",
    "])\n",
    "\n",
    "@app.callback(\n",
    "    Output('datatable_1', 'style_data_conditional'),\n",
    "    Input('datatable_1', 'selected_columns')\n",
    ")\n",
    "def update_styles(selected_columns):\n",
    "    return [{\n",
    "        'if': { 'column_id': i },\n",
    "        'background_color': '#D2F3FF'\n",
    "    } for i in selected_columns]\n",
    "\n",
    "\n",
    "if __name__ == '__main__':\n",
    "    app.run_server(debug=False, port = 8070)"
   ],
   "metadata": {
    "collapsed": false,
    "pycharm": {
     "is_executing": true
    }
   }
  },
  {
   "cell_type": "code",
   "execution_count": 31,
   "metadata": {},
   "outputs": [
    {
     "data": {
      "application/vnd.plotly.v1+json": {
       "data": [
        {
         "domain": {
          "x": [
           0,
           1
          ],
          "y": [
           0,
           1
          ]
         },
         "gauge": {
          "axis": {
           "range": [
            null,
            50
           ]
          },
          "bar": {
           "color": "#378a68"
          },
          "steps": [
           {
            "color": "#b3d7de",
            "range": [
             0,
             50
            ]
           }
          ]
         },
         "mode": "gauge+number",
         "number": {
          "suffix": "%"
         },
         "title": {
          "font": {
           "size": 42
          },
          "text": "North America"
         },
         "value": 49.3,
         "type": "indicator"
        }
       ],
       "layout": {
        "template": {
         "data": {
          "histogram2dcontour": [
           {
            "type": "histogram2dcontour",
            "colorbar": {
             "outlinewidth": 0,
             "ticks": ""
            },
            "colorscale": [
             [
              0.0,
              "#0d0887"
             ],
             [
              0.1111111111111111,
              "#46039f"
             ],
             [
              0.2222222222222222,
              "#7201a8"
             ],
             [
              0.3333333333333333,
              "#9c179e"
             ],
             [
              0.4444444444444444,
              "#bd3786"
             ],
             [
              0.5555555555555556,
              "#d8576b"
             ],
             [
              0.6666666666666666,
              "#ed7953"
             ],
             [
              0.7777777777777778,
              "#fb9f3a"
             ],
             [
              0.8888888888888888,
              "#fdca26"
             ],
             [
              1.0,
              "#f0f921"
             ]
            ]
           }
          ],
          "choropleth": [
           {
            "type": "choropleth",
            "colorbar": {
             "outlinewidth": 0,
             "ticks": ""
            }
           }
          ],
          "histogram2d": [
           {
            "type": "histogram2d",
            "colorbar": {
             "outlinewidth": 0,
             "ticks": ""
            },
            "colorscale": [
             [
              0.0,
              "#0d0887"
             ],
             [
              0.1111111111111111,
              "#46039f"
             ],
             [
              0.2222222222222222,
              "#7201a8"
             ],
             [
              0.3333333333333333,
              "#9c179e"
             ],
             [
              0.4444444444444444,
              "#bd3786"
             ],
             [
              0.5555555555555556,
              "#d8576b"
             ],
             [
              0.6666666666666666,
              "#ed7953"
             ],
             [
              0.7777777777777778,
              "#fb9f3a"
             ],
             [
              0.8888888888888888,
              "#fdca26"
             ],
             [
              1.0,
              "#f0f921"
             ]
            ]
           }
          ],
          "heatmap": [
           {
            "type": "heatmap",
            "colorbar": {
             "outlinewidth": 0,
             "ticks": ""
            },
            "colorscale": [
             [
              0.0,
              "#0d0887"
             ],
             [
              0.1111111111111111,
              "#46039f"
             ],
             [
              0.2222222222222222,
              "#7201a8"
             ],
             [
              0.3333333333333333,
              "#9c179e"
             ],
             [
              0.4444444444444444,
              "#bd3786"
             ],
             [
              0.5555555555555556,
              "#d8576b"
             ],
             [
              0.6666666666666666,
              "#ed7953"
             ],
             [
              0.7777777777777778,
              "#fb9f3a"
             ],
             [
              0.8888888888888888,
              "#fdca26"
             ],
             [
              1.0,
              "#f0f921"
             ]
            ]
           }
          ],
          "heatmapgl": [
           {
            "type": "heatmapgl",
            "colorbar": {
             "outlinewidth": 0,
             "ticks": ""
            },
            "colorscale": [
             [
              0.0,
              "#0d0887"
             ],
             [
              0.1111111111111111,
              "#46039f"
             ],
             [
              0.2222222222222222,
              "#7201a8"
             ],
             [
              0.3333333333333333,
              "#9c179e"
             ],
             [
              0.4444444444444444,
              "#bd3786"
             ],
             [
              0.5555555555555556,
              "#d8576b"
             ],
             [
              0.6666666666666666,
              "#ed7953"
             ],
             [
              0.7777777777777778,
              "#fb9f3a"
             ],
             [
              0.8888888888888888,
              "#fdca26"
             ],
             [
              1.0,
              "#f0f921"
             ]
            ]
           }
          ],
          "contourcarpet": [
           {
            "type": "contourcarpet",
            "colorbar": {
             "outlinewidth": 0,
             "ticks": ""
            }
           }
          ],
          "contour": [
           {
            "type": "contour",
            "colorbar": {
             "outlinewidth": 0,
             "ticks": ""
            },
            "colorscale": [
             [
              0.0,
              "#0d0887"
             ],
             [
              0.1111111111111111,
              "#46039f"
             ],
             [
              0.2222222222222222,
              "#7201a8"
             ],
             [
              0.3333333333333333,
              "#9c179e"
             ],
             [
              0.4444444444444444,
              "#bd3786"
             ],
             [
              0.5555555555555556,
              "#d8576b"
             ],
             [
              0.6666666666666666,
              "#ed7953"
             ],
             [
              0.7777777777777778,
              "#fb9f3a"
             ],
             [
              0.8888888888888888,
              "#fdca26"
             ],
             [
              1.0,
              "#f0f921"
             ]
            ]
           }
          ],
          "surface": [
           {
            "type": "surface",
            "colorbar": {
             "outlinewidth": 0,
             "ticks": ""
            },
            "colorscale": [
             [
              0.0,
              "#0d0887"
             ],
             [
              0.1111111111111111,
              "#46039f"
             ],
             [
              0.2222222222222222,
              "#7201a8"
             ],
             [
              0.3333333333333333,
              "#9c179e"
             ],
             [
              0.4444444444444444,
              "#bd3786"
             ],
             [
              0.5555555555555556,
              "#d8576b"
             ],
             [
              0.6666666666666666,
              "#ed7953"
             ],
             [
              0.7777777777777778,
              "#fb9f3a"
             ],
             [
              0.8888888888888888,
              "#fdca26"
             ],
             [
              1.0,
              "#f0f921"
             ]
            ]
           }
          ],
          "mesh3d": [
           {
            "type": "mesh3d",
            "colorbar": {
             "outlinewidth": 0,
             "ticks": ""
            }
           }
          ],
          "scatter": [
           {
            "fillpattern": {
             "fillmode": "overlay",
             "size": 10,
             "solidity": 0.2
            },
            "type": "scatter"
           }
          ],
          "parcoords": [
           {
            "type": "parcoords",
            "line": {
             "colorbar": {
              "outlinewidth": 0,
              "ticks": ""
             }
            }
           }
          ],
          "scatterpolargl": [
           {
            "type": "scatterpolargl",
            "marker": {
             "colorbar": {
              "outlinewidth": 0,
              "ticks": ""
             }
            }
           }
          ],
          "bar": [
           {
            "error_x": {
             "color": "#2a3f5f"
            },
            "error_y": {
             "color": "#2a3f5f"
            },
            "marker": {
             "line": {
              "color": "#E5ECF6",
              "width": 0.5
             },
             "pattern": {
              "fillmode": "overlay",
              "size": 10,
              "solidity": 0.2
             }
            },
            "type": "bar"
           }
          ],
          "scattergeo": [
           {
            "type": "scattergeo",
            "marker": {
             "colorbar": {
              "outlinewidth": 0,
              "ticks": ""
             }
            }
           }
          ],
          "scatterpolar": [
           {
            "type": "scatterpolar",
            "marker": {
             "colorbar": {
              "outlinewidth": 0,
              "ticks": ""
             }
            }
           }
          ],
          "histogram": [
           {
            "marker": {
             "pattern": {
              "fillmode": "overlay",
              "size": 10,
              "solidity": 0.2
             }
            },
            "type": "histogram"
           }
          ],
          "scattergl": [
           {
            "type": "scattergl",
            "marker": {
             "colorbar": {
              "outlinewidth": 0,
              "ticks": ""
             }
            }
           }
          ],
          "scatter3d": [
           {
            "type": "scatter3d",
            "line": {
             "colorbar": {
              "outlinewidth": 0,
              "ticks": ""
             }
            },
            "marker": {
             "colorbar": {
              "outlinewidth": 0,
              "ticks": ""
             }
            }
           }
          ],
          "scattermapbox": [
           {
            "type": "scattermapbox",
            "marker": {
             "colorbar": {
              "outlinewidth": 0,
              "ticks": ""
             }
            }
           }
          ],
          "scatterternary": [
           {
            "type": "scatterternary",
            "marker": {
             "colorbar": {
              "outlinewidth": 0,
              "ticks": ""
             }
            }
           }
          ],
          "scattercarpet": [
           {
            "type": "scattercarpet",
            "marker": {
             "colorbar": {
              "outlinewidth": 0,
              "ticks": ""
             }
            }
           }
          ],
          "carpet": [
           {
            "aaxis": {
             "endlinecolor": "#2a3f5f",
             "gridcolor": "white",
             "linecolor": "white",
             "minorgridcolor": "white",
             "startlinecolor": "#2a3f5f"
            },
            "baxis": {
             "endlinecolor": "#2a3f5f",
             "gridcolor": "white",
             "linecolor": "white",
             "minorgridcolor": "white",
             "startlinecolor": "#2a3f5f"
            },
            "type": "carpet"
           }
          ],
          "table": [
           {
            "cells": {
             "fill": {
              "color": "#EBF0F8"
             },
             "line": {
              "color": "white"
             }
            },
            "header": {
             "fill": {
              "color": "#C8D4E3"
             },
             "line": {
              "color": "white"
             }
            },
            "type": "table"
           }
          ],
          "barpolar": [
           {
            "marker": {
             "line": {
              "color": "#E5ECF6",
              "width": 0.5
             },
             "pattern": {
              "fillmode": "overlay",
              "size": 10,
              "solidity": 0.2
             }
            },
            "type": "barpolar"
           }
          ],
          "pie": [
           {
            "automargin": true,
            "type": "pie"
           }
          ]
         },
         "layout": {
          "autotypenumbers": "strict",
          "colorway": [
           "#636efa",
           "#EF553B",
           "#00cc96",
           "#ab63fa",
           "#FFA15A",
           "#19d3f3",
           "#FF6692",
           "#B6E880",
           "#FF97FF",
           "#FECB52"
          ],
          "font": {
           "color": "#2a3f5f"
          },
          "hovermode": "closest",
          "hoverlabel": {
           "align": "left"
          },
          "paper_bgcolor": "white",
          "plot_bgcolor": "#E5ECF6",
          "polar": {
           "bgcolor": "#E5ECF6",
           "angularaxis": {
            "gridcolor": "white",
            "linecolor": "white",
            "ticks": ""
           },
           "radialaxis": {
            "gridcolor": "white",
            "linecolor": "white",
            "ticks": ""
           }
          },
          "ternary": {
           "bgcolor": "#E5ECF6",
           "aaxis": {
            "gridcolor": "white",
            "linecolor": "white",
            "ticks": ""
           },
           "baxis": {
            "gridcolor": "white",
            "linecolor": "white",
            "ticks": ""
           },
           "caxis": {
            "gridcolor": "white",
            "linecolor": "white",
            "ticks": ""
           }
          },
          "coloraxis": {
           "colorbar": {
            "outlinewidth": 0,
            "ticks": ""
           }
          },
          "colorscale": {
           "sequential": [
            [
             0.0,
             "#0d0887"
            ],
            [
             0.1111111111111111,
             "#46039f"
            ],
            [
             0.2222222222222222,
             "#7201a8"
            ],
            [
             0.3333333333333333,
             "#9c179e"
            ],
            [
             0.4444444444444444,
             "#bd3786"
            ],
            [
             0.5555555555555556,
             "#d8576b"
            ],
            [
             0.6666666666666666,
             "#ed7953"
            ],
            [
             0.7777777777777778,
             "#fb9f3a"
            ],
            [
             0.8888888888888888,
             "#fdca26"
            ],
            [
             1.0,
             "#f0f921"
            ]
           ],
           "sequentialminus": [
            [
             0.0,
             "#0d0887"
            ],
            [
             0.1111111111111111,
             "#46039f"
            ],
            [
             0.2222222222222222,
             "#7201a8"
            ],
            [
             0.3333333333333333,
             "#9c179e"
            ],
            [
             0.4444444444444444,
             "#bd3786"
            ],
            [
             0.5555555555555556,
             "#d8576b"
            ],
            [
             0.6666666666666666,
             "#ed7953"
            ],
            [
             0.7777777777777778,
             "#fb9f3a"
            ],
            [
             0.8888888888888888,
             "#fdca26"
            ],
            [
             1.0,
             "#f0f921"
            ]
           ],
           "diverging": [
            [
             0,
             "#8e0152"
            ],
            [
             0.1,
             "#c51b7d"
            ],
            [
             0.2,
             "#de77ae"
            ],
            [
             0.3,
             "#f1b6da"
            ],
            [
             0.4,
             "#fde0ef"
            ],
            [
             0.5,
             "#f7f7f7"
            ],
            [
             0.6,
             "#e6f5d0"
            ],
            [
             0.7,
             "#b8e186"
            ],
            [
             0.8,
             "#7fbc41"
            ],
            [
             0.9,
             "#4d9221"
            ],
            [
             1,
             "#276419"
            ]
           ]
          },
          "xaxis": {
           "gridcolor": "white",
           "linecolor": "white",
           "ticks": "",
           "title": {
            "standoff": 15
           },
           "zerolinecolor": "white",
           "automargin": true,
           "zerolinewidth": 2
          },
          "yaxis": {
           "gridcolor": "white",
           "linecolor": "white",
           "ticks": "",
           "title": {
            "standoff": 15
           },
           "zerolinecolor": "white",
           "automargin": true,
           "zerolinewidth": 2
          },
          "scene": {
           "xaxis": {
            "backgroundcolor": "#E5ECF6",
            "gridcolor": "white",
            "linecolor": "white",
            "showbackground": true,
            "ticks": "",
            "zerolinecolor": "white",
            "gridwidth": 2
           },
           "yaxis": {
            "backgroundcolor": "#E5ECF6",
            "gridcolor": "white",
            "linecolor": "white",
            "showbackground": true,
            "ticks": "",
            "zerolinecolor": "white",
            "gridwidth": 2
           },
           "zaxis": {
            "backgroundcolor": "#E5ECF6",
            "gridcolor": "white",
            "linecolor": "white",
            "showbackground": true,
            "ticks": "",
            "zerolinecolor": "white",
            "gridwidth": 2
           }
          },
          "shapedefaults": {
           "line": {
            "color": "#2a3f5f"
           }
          },
          "annotationdefaults": {
           "arrowcolor": "#2a3f5f",
           "arrowhead": 0,
           "arrowwidth": 1
          },
          "geo": {
           "bgcolor": "white",
           "landcolor": "#E5ECF6",
           "subunitcolor": "white",
           "showland": true,
           "showlakes": true,
           "lakecolor": "white"
          },
          "title": {
           "x": 0.05
          },
          "mapbox": {
           "style": "light"
          }
         }
        }
       },
       "config": {
        "plotlyServerURL": "https://plot.ly"
       }
      },
      "text/html": "<div>                            <div id=\"f19e3744-aee5-46e9-890b-b40954e87425\" class=\"plotly-graph-div\" style=\"height:525px; width:100%;\"></div>            <script type=\"text/javascript\">                require([\"plotly\"], function(Plotly) {                    window.PLOTLYENV=window.PLOTLYENV || {};                                    if (document.getElementById(\"f19e3744-aee5-46e9-890b-b40954e87425\")) {                    Plotly.newPlot(                        \"f19e3744-aee5-46e9-890b-b40954e87425\",                        [{\"domain\":{\"x\":[0,1],\"y\":[0,1]},\"gauge\":{\"axis\":{\"range\":[null,50]},\"bar\":{\"color\":\"#378a68\"},\"steps\":[{\"color\":\"#b3d7de\",\"range\":[0,50]}]},\"mode\":\"gauge+number\",\"number\":{\"suffix\":\"%\"},\"title\":{\"font\":{\"size\":42},\"text\":\"North America\"},\"value\":49.3,\"type\":\"indicator\"}],                        {\"template\":{\"data\":{\"histogram2dcontour\":[{\"type\":\"histogram2dcontour\",\"colorbar\":{\"outlinewidth\":0,\"ticks\":\"\"},\"colorscale\":[[0.0,\"#0d0887\"],[0.1111111111111111,\"#46039f\"],[0.2222222222222222,\"#7201a8\"],[0.3333333333333333,\"#9c179e\"],[0.4444444444444444,\"#bd3786\"],[0.5555555555555556,\"#d8576b\"],[0.6666666666666666,\"#ed7953\"],[0.7777777777777778,\"#fb9f3a\"],[0.8888888888888888,\"#fdca26\"],[1.0,\"#f0f921\"]]}],\"choropleth\":[{\"type\":\"choropleth\",\"colorbar\":{\"outlinewidth\":0,\"ticks\":\"\"}}],\"histogram2d\":[{\"type\":\"histogram2d\",\"colorbar\":{\"outlinewidth\":0,\"ticks\":\"\"},\"colorscale\":[[0.0,\"#0d0887\"],[0.1111111111111111,\"#46039f\"],[0.2222222222222222,\"#7201a8\"],[0.3333333333333333,\"#9c179e\"],[0.4444444444444444,\"#bd3786\"],[0.5555555555555556,\"#d8576b\"],[0.6666666666666666,\"#ed7953\"],[0.7777777777777778,\"#fb9f3a\"],[0.8888888888888888,\"#fdca26\"],[1.0,\"#f0f921\"]]}],\"heatmap\":[{\"type\":\"heatmap\",\"colorbar\":{\"outlinewidth\":0,\"ticks\":\"\"},\"colorscale\":[[0.0,\"#0d0887\"],[0.1111111111111111,\"#46039f\"],[0.2222222222222222,\"#7201a8\"],[0.3333333333333333,\"#9c179e\"],[0.4444444444444444,\"#bd3786\"],[0.5555555555555556,\"#d8576b\"],[0.6666666666666666,\"#ed7953\"],[0.7777777777777778,\"#fb9f3a\"],[0.8888888888888888,\"#fdca26\"],[1.0,\"#f0f921\"]]}],\"heatmapgl\":[{\"type\":\"heatmapgl\",\"colorbar\":{\"outlinewidth\":0,\"ticks\":\"\"},\"colorscale\":[[0.0,\"#0d0887\"],[0.1111111111111111,\"#46039f\"],[0.2222222222222222,\"#7201a8\"],[0.3333333333333333,\"#9c179e\"],[0.4444444444444444,\"#bd3786\"],[0.5555555555555556,\"#d8576b\"],[0.6666666666666666,\"#ed7953\"],[0.7777777777777778,\"#fb9f3a\"],[0.8888888888888888,\"#fdca26\"],[1.0,\"#f0f921\"]]}],\"contourcarpet\":[{\"type\":\"contourcarpet\",\"colorbar\":{\"outlinewidth\":0,\"ticks\":\"\"}}],\"contour\":[{\"type\":\"contour\",\"colorbar\":{\"outlinewidth\":0,\"ticks\":\"\"},\"colorscale\":[[0.0,\"#0d0887\"],[0.1111111111111111,\"#46039f\"],[0.2222222222222222,\"#7201a8\"],[0.3333333333333333,\"#9c179e\"],[0.4444444444444444,\"#bd3786\"],[0.5555555555555556,\"#d8576b\"],[0.6666666666666666,\"#ed7953\"],[0.7777777777777778,\"#fb9f3a\"],[0.8888888888888888,\"#fdca26\"],[1.0,\"#f0f921\"]]}],\"surface\":[{\"type\":\"surface\",\"colorbar\":{\"outlinewidth\":0,\"ticks\":\"\"},\"colorscale\":[[0.0,\"#0d0887\"],[0.1111111111111111,\"#46039f\"],[0.2222222222222222,\"#7201a8\"],[0.3333333333333333,\"#9c179e\"],[0.4444444444444444,\"#bd3786\"],[0.5555555555555556,\"#d8576b\"],[0.6666666666666666,\"#ed7953\"],[0.7777777777777778,\"#fb9f3a\"],[0.8888888888888888,\"#fdca26\"],[1.0,\"#f0f921\"]]}],\"mesh3d\":[{\"type\":\"mesh3d\",\"colorbar\":{\"outlinewidth\":0,\"ticks\":\"\"}}],\"scatter\":[{\"fillpattern\":{\"fillmode\":\"overlay\",\"size\":10,\"solidity\":0.2},\"type\":\"scatter\"}],\"parcoords\":[{\"type\":\"parcoords\",\"line\":{\"colorbar\":{\"outlinewidth\":0,\"ticks\":\"\"}}}],\"scatterpolargl\":[{\"type\":\"scatterpolargl\",\"marker\":{\"colorbar\":{\"outlinewidth\":0,\"ticks\":\"\"}}}],\"bar\":[{\"error_x\":{\"color\":\"#2a3f5f\"},\"error_y\":{\"color\":\"#2a3f5f\"},\"marker\":{\"line\":{\"color\":\"#E5ECF6\",\"width\":0.5},\"pattern\":{\"fillmode\":\"overlay\",\"size\":10,\"solidity\":0.2}},\"type\":\"bar\"}],\"scattergeo\":[{\"type\":\"scattergeo\",\"marker\":{\"colorbar\":{\"outlinewidth\":0,\"ticks\":\"\"}}}],\"scatterpolar\":[{\"type\":\"scatterpolar\",\"marker\":{\"colorbar\":{\"outlinewidth\":0,\"ticks\":\"\"}}}],\"histogram\":[{\"marker\":{\"pattern\":{\"fillmode\":\"overlay\",\"size\":10,\"solidity\":0.2}},\"type\":\"histogram\"}],\"scattergl\":[{\"type\":\"scattergl\",\"marker\":{\"colorbar\":{\"outlinewidth\":0,\"ticks\":\"\"}}}],\"scatter3d\":[{\"type\":\"scatter3d\",\"line\":{\"colorbar\":{\"outlinewidth\":0,\"ticks\":\"\"}},\"marker\":{\"colorbar\":{\"outlinewidth\":0,\"ticks\":\"\"}}}],\"scattermapbox\":[{\"type\":\"scattermapbox\",\"marker\":{\"colorbar\":{\"outlinewidth\":0,\"ticks\":\"\"}}}],\"scatterternary\":[{\"type\":\"scatterternary\",\"marker\":{\"colorbar\":{\"outlinewidth\":0,\"ticks\":\"\"}}}],\"scattercarpet\":[{\"type\":\"scattercarpet\",\"marker\":{\"colorbar\":{\"outlinewidth\":0,\"ticks\":\"\"}}}],\"carpet\":[{\"aaxis\":{\"endlinecolor\":\"#2a3f5f\",\"gridcolor\":\"white\",\"linecolor\":\"white\",\"minorgridcolor\":\"white\",\"startlinecolor\":\"#2a3f5f\"},\"baxis\":{\"endlinecolor\":\"#2a3f5f\",\"gridcolor\":\"white\",\"linecolor\":\"white\",\"minorgridcolor\":\"white\",\"startlinecolor\":\"#2a3f5f\"},\"type\":\"carpet\"}],\"table\":[{\"cells\":{\"fill\":{\"color\":\"#EBF0F8\"},\"line\":{\"color\":\"white\"}},\"header\":{\"fill\":{\"color\":\"#C8D4E3\"},\"line\":{\"color\":\"white\"}},\"type\":\"table\"}],\"barpolar\":[{\"marker\":{\"line\":{\"color\":\"#E5ECF6\",\"width\":0.5},\"pattern\":{\"fillmode\":\"overlay\",\"size\":10,\"solidity\":0.2}},\"type\":\"barpolar\"}],\"pie\":[{\"automargin\":true,\"type\":\"pie\"}]},\"layout\":{\"autotypenumbers\":\"strict\",\"colorway\":[\"#636efa\",\"#EF553B\",\"#00cc96\",\"#ab63fa\",\"#FFA15A\",\"#19d3f3\",\"#FF6692\",\"#B6E880\",\"#FF97FF\",\"#FECB52\"],\"font\":{\"color\":\"#2a3f5f\"},\"hovermode\":\"closest\",\"hoverlabel\":{\"align\":\"left\"},\"paper_bgcolor\":\"white\",\"plot_bgcolor\":\"#E5ECF6\",\"polar\":{\"bgcolor\":\"#E5ECF6\",\"angularaxis\":{\"gridcolor\":\"white\",\"linecolor\":\"white\",\"ticks\":\"\"},\"radialaxis\":{\"gridcolor\":\"white\",\"linecolor\":\"white\",\"ticks\":\"\"}},\"ternary\":{\"bgcolor\":\"#E5ECF6\",\"aaxis\":{\"gridcolor\":\"white\",\"linecolor\":\"white\",\"ticks\":\"\"},\"baxis\":{\"gridcolor\":\"white\",\"linecolor\":\"white\",\"ticks\":\"\"},\"caxis\":{\"gridcolor\":\"white\",\"linecolor\":\"white\",\"ticks\":\"\"}},\"coloraxis\":{\"colorbar\":{\"outlinewidth\":0,\"ticks\":\"\"}},\"colorscale\":{\"sequential\":[[0.0,\"#0d0887\"],[0.1111111111111111,\"#46039f\"],[0.2222222222222222,\"#7201a8\"],[0.3333333333333333,\"#9c179e\"],[0.4444444444444444,\"#bd3786\"],[0.5555555555555556,\"#d8576b\"],[0.6666666666666666,\"#ed7953\"],[0.7777777777777778,\"#fb9f3a\"],[0.8888888888888888,\"#fdca26\"],[1.0,\"#f0f921\"]],\"sequentialminus\":[[0.0,\"#0d0887\"],[0.1111111111111111,\"#46039f\"],[0.2222222222222222,\"#7201a8\"],[0.3333333333333333,\"#9c179e\"],[0.4444444444444444,\"#bd3786\"],[0.5555555555555556,\"#d8576b\"],[0.6666666666666666,\"#ed7953\"],[0.7777777777777778,\"#fb9f3a\"],[0.8888888888888888,\"#fdca26\"],[1.0,\"#f0f921\"]],\"diverging\":[[0,\"#8e0152\"],[0.1,\"#c51b7d\"],[0.2,\"#de77ae\"],[0.3,\"#f1b6da\"],[0.4,\"#fde0ef\"],[0.5,\"#f7f7f7\"],[0.6,\"#e6f5d0\"],[0.7,\"#b8e186\"],[0.8,\"#7fbc41\"],[0.9,\"#4d9221\"],[1,\"#276419\"]]},\"xaxis\":{\"gridcolor\":\"white\",\"linecolor\":\"white\",\"ticks\":\"\",\"title\":{\"standoff\":15},\"zerolinecolor\":\"white\",\"automargin\":true,\"zerolinewidth\":2},\"yaxis\":{\"gridcolor\":\"white\",\"linecolor\":\"white\",\"ticks\":\"\",\"title\":{\"standoff\":15},\"zerolinecolor\":\"white\",\"automargin\":true,\"zerolinewidth\":2},\"scene\":{\"xaxis\":{\"backgroundcolor\":\"#E5ECF6\",\"gridcolor\":\"white\",\"linecolor\":\"white\",\"showbackground\":true,\"ticks\":\"\",\"zerolinecolor\":\"white\",\"gridwidth\":2},\"yaxis\":{\"backgroundcolor\":\"#E5ECF6\",\"gridcolor\":\"white\",\"linecolor\":\"white\",\"showbackground\":true,\"ticks\":\"\",\"zerolinecolor\":\"white\",\"gridwidth\":2},\"zaxis\":{\"backgroundcolor\":\"#E5ECF6\",\"gridcolor\":\"white\",\"linecolor\":\"white\",\"showbackground\":true,\"ticks\":\"\",\"zerolinecolor\":\"white\",\"gridwidth\":2}},\"shapedefaults\":{\"line\":{\"color\":\"#2a3f5f\"}},\"annotationdefaults\":{\"arrowcolor\":\"#2a3f5f\",\"arrowhead\":0,\"arrowwidth\":1},\"geo\":{\"bgcolor\":\"white\",\"landcolor\":\"#E5ECF6\",\"subunitcolor\":\"white\",\"showland\":true,\"showlakes\":true,\"lakecolor\":\"white\"},\"title\":{\"x\":0.05},\"mapbox\":{\"style\":\"light\"}}}},                        {\"responsive\": true}                    ).then(function(){\n                            \nvar gd = document.getElementById('f19e3744-aee5-46e9-890b-b40954e87425');\nvar x = new MutationObserver(function (mutations, observer) {{\n        var display = window.getComputedStyle(gd).display;\n        if (!display || display === 'none') {{\n            console.log([gd, 'removed!']);\n            Plotly.purge(gd);\n            observer.disconnect();\n        }}\n}});\n\n// Listen for the removal of the full notebook cells\nvar notebookContainer = gd.closest('#notebook-container');\nif (notebookContainer) {{\n    x.observe(notebookContainer, {childList: true});\n}}\n\n// Listen for the clearing of the current output cell\nvar outputEl = gd.closest('.output');\nif (outputEl) {{\n    x.observe(outputEl, {childList: true});\n}}\n\n                        })                };                });            </script>        </div>"
     },
     "metadata": {},
     "output_type": "display_data"
    }
   ],
   "source": [
    "# gauge chart\n",
    "\n",
    "def gauge_chart(main_filter, sales_filter):\n",
    "    regions = 'North America', 'Europe', 'Japan', 'Others'\n",
    "    for region in regions:\n",
    "        df_gauge = df[[main_filter,'North America', 'Europe', 'Japan', 'Others', 'Global']]\n",
    "        df_gauge = df_gauge[df_gauge['Global'] > sales_filter]\n",
    "\n",
    "        #calculate the market share\n",
    "        marktanteil_NA_Sales = round(df_gauge[region].sum() / df_gauge['Global'].sum()*100, 1)\n",
    "\n",
    "        #Gauge Chart\n",
    "        fig_gaug = go.Figure(go.Indicator(\n",
    "            domain = {'x': [0, 1], 'y': [0, 1]},\n",
    "            value = marktanteil_NA_Sales,\n",
    "            number=  {'suffix': '%' },\n",
    "            mode = 'gauge+number',\n",
    "            title = {'text': region, 'font': { 'size': 42 }},\n",
    "            gauge = {'axis': {'range': [None, 50]},\n",
    "                     'bar': {'color': '#378a68'},\n",
    "                     'steps' : [\n",
    "                         {'range': [0, 50], 'color': '#b3d7de'},\n",
    "                     ],\n",
    "                         #{'range': [50/3, 50/3*2], 'color': \"blue\"},\n",
    "                         #{'range': [50/3*2, 50], 'color': \"green\"}],\n",
    "                     }))        # 'threshold' : {'line': {'color': \"red\", 'width': 4},'thickness': 0.75, 'value': 0.09}\n",
    "\n",
    "        return fig_gaug\n",
    "\n",
    "gauge_chart('Platform', 0)\n"
   ]
  },
  {
   "cell_type": "markdown",
   "metadata": {},
   "source": [
    "### (b) Variabel Varianten\n",
    "In diesem Aufgabenteil sollen Sie das Diagramm aus (a) so erweitern, dass es Variationen in den visuellen Variablen erlaubt, also etwa eine andere Farbe, andere Formen, ein anderes Layout oder aber textuelle Ergänzungen. Erzeugen Sie einen Screenshot des Diagrammes und fügen Sie diesen in das Lösungs-pdf ein. (5 P.)"
   ]
  },
  {
   "cell_type": "code",
   "execution_count": 29,
   "outputs": [
    {
     "data": {
      "application/vnd.plotly.v1+json": {
       "data": [
        {
         "alignmentgroup": "True",
         "hovertemplate": "variable=North America<br>Genre=%{x}<br>value=%{y}<extra></extra>",
         "legendgroup": "North America",
         "marker": {
          "color": "#317a5c",
          "pattern": {
           "shape": ""
          }
         },
         "name": "North America",
         "offsetgroup": "North America",
         "orientation": "v",
         "showlegend": true,
         "textposition": "auto",
         "x": [
          "Platform",
          "Shooter",
          "Sports",
          "Role-Playing",
          "Action",
          "Racing",
          "Misc",
          "Puzzle",
          "Simulation",
          "Fighting",
          "Adventure"
         ],
         "xaxis": "x",
         "y": [
          117.23,
          104.36,
          75.27,
          57.95,
          61.19,
          47.24,
          39.8,
          26.64,
          11.620000000000001,
          6.75,
          6.16
         ],
         "yaxis": "y",
         "type": "bar"
        },
        {
         "alignmentgroup": "True",
         "hovertemplate": "variable=Europe<br>Genre=%{x}<br>value=%{y}<extra></extra>",
         "legendgroup": "Europe",
         "marker": {
          "color": "#378a68",
          "pattern": {
           "shape": ""
          }
         },
         "name": "Europe",
         "offsetgroup": "Europe",
         "orientation": "v",
         "showlegend": true,
         "textposition": "auto",
         "x": [
          "Platform",
          "Shooter",
          "Sports",
          "Role-Playing",
          "Action",
          "Racing",
          "Misc",
          "Puzzle",
          "Simulation",
          "Fighting",
          "Adventure"
         ],
         "xaxis": "x",
         "y": [
          44.27,
          47.67,
          56.65,
          41.88,
          40.42,
          38.21,
          26.549999999999997,
          7.62,
          14.52,
          2.61,
          2.04
         ],
         "yaxis": "y",
         "type": "bar"
        },
        {
         "alignmentgroup": "True",
         "hovertemplate": "variable=Japan<br>Genre=%{x}<br>value=%{y}<extra></extra>",
         "legendgroup": "Japan",
         "marker": {
          "color": "#50a381",
          "pattern": {
           "shape": ""
          }
         },
         "name": "Japan",
         "offsetgroup": "Japan",
         "orientation": "v",
         "showlegend": true,
         "textposition": "auto",
         "x": [
          "Platform",
          "Shooter",
          "Sports",
          "Role-Playing",
          "Action",
          "Racing",
          "Misc",
          "Puzzle",
          "Simulation",
          "Fighting",
          "Adventure"
         ],
         "xaxis": "x",
         "y": [
          38.18,
          3.19,
          13.18,
          48.18,
          7.109999999999999,
          16.91,
          7.33,
          9.54,
          7.26,
          2.66,
          2.69
         ],
         "yaxis": "y",
         "type": "bar"
        },
        {
         "alignmentgroup": "True",
         "hovertemplate": "variable=Others<br>Genre=%{x}<br>value=%{y}<extra></extra>",
         "legendgroup": "Others",
         "marker": {
          "color": "#77b89d",
          "pattern": {
           "shape": ""
          }
         },
         "name": "Others",
         "offsetgroup": "Others",
         "orientation": "v",
         "showlegend": true,
         "textposition": "auto",
         "x": [
          "Platform",
          "Shooter",
          "Sports",
          "Role-Playing",
          "Action",
          "Racing",
          "Misc",
          "Puzzle",
          "Simulation",
          "Fighting",
          "Adventure"
         ],
         "xaxis": "x",
         "y": [
          10.4,
          17.27,
          15.360000000000001,
          6.78,
          24.61,
          17.45,
          7.64,
          1.7599999999999998,
          3.63,
          1.02,
          0.29
         ],
         "yaxis": "y",
         "type": "bar"
        }
       ],
       "layout": {
        "template": {
         "data": {
          "histogram2dcontour": [
           {
            "type": "histogram2dcontour",
            "colorbar": {
             "outlinewidth": 0,
             "ticks": ""
            },
            "colorscale": [
             [
              0.0,
              "#0d0887"
             ],
             [
              0.1111111111111111,
              "#46039f"
             ],
             [
              0.2222222222222222,
              "#7201a8"
             ],
             [
              0.3333333333333333,
              "#9c179e"
             ],
             [
              0.4444444444444444,
              "#bd3786"
             ],
             [
              0.5555555555555556,
              "#d8576b"
             ],
             [
              0.6666666666666666,
              "#ed7953"
             ],
             [
              0.7777777777777778,
              "#fb9f3a"
             ],
             [
              0.8888888888888888,
              "#fdca26"
             ],
             [
              1.0,
              "#f0f921"
             ]
            ]
           }
          ],
          "choropleth": [
           {
            "type": "choropleth",
            "colorbar": {
             "outlinewidth": 0,
             "ticks": ""
            }
           }
          ],
          "histogram2d": [
           {
            "type": "histogram2d",
            "colorbar": {
             "outlinewidth": 0,
             "ticks": ""
            },
            "colorscale": [
             [
              0.0,
              "#0d0887"
             ],
             [
              0.1111111111111111,
              "#46039f"
             ],
             [
              0.2222222222222222,
              "#7201a8"
             ],
             [
              0.3333333333333333,
              "#9c179e"
             ],
             [
              0.4444444444444444,
              "#bd3786"
             ],
             [
              0.5555555555555556,
              "#d8576b"
             ],
             [
              0.6666666666666666,
              "#ed7953"
             ],
             [
              0.7777777777777778,
              "#fb9f3a"
             ],
             [
              0.8888888888888888,
              "#fdca26"
             ],
             [
              1.0,
              "#f0f921"
             ]
            ]
           }
          ],
          "heatmap": [
           {
            "type": "heatmap",
            "colorbar": {
             "outlinewidth": 0,
             "ticks": ""
            },
            "colorscale": [
             [
              0.0,
              "#0d0887"
             ],
             [
              0.1111111111111111,
              "#46039f"
             ],
             [
              0.2222222222222222,
              "#7201a8"
             ],
             [
              0.3333333333333333,
              "#9c179e"
             ],
             [
              0.4444444444444444,
              "#bd3786"
             ],
             [
              0.5555555555555556,
              "#d8576b"
             ],
             [
              0.6666666666666666,
              "#ed7953"
             ],
             [
              0.7777777777777778,
              "#fb9f3a"
             ],
             [
              0.8888888888888888,
              "#fdca26"
             ],
             [
              1.0,
              "#f0f921"
             ]
            ]
           }
          ],
          "heatmapgl": [
           {
            "type": "heatmapgl",
            "colorbar": {
             "outlinewidth": 0,
             "ticks": ""
            },
            "colorscale": [
             [
              0.0,
              "#0d0887"
             ],
             [
              0.1111111111111111,
              "#46039f"
             ],
             [
              0.2222222222222222,
              "#7201a8"
             ],
             [
              0.3333333333333333,
              "#9c179e"
             ],
             [
              0.4444444444444444,
              "#bd3786"
             ],
             [
              0.5555555555555556,
              "#d8576b"
             ],
             [
              0.6666666666666666,
              "#ed7953"
             ],
             [
              0.7777777777777778,
              "#fb9f3a"
             ],
             [
              0.8888888888888888,
              "#fdca26"
             ],
             [
              1.0,
              "#f0f921"
             ]
            ]
           }
          ],
          "contourcarpet": [
           {
            "type": "contourcarpet",
            "colorbar": {
             "outlinewidth": 0,
             "ticks": ""
            }
           }
          ],
          "contour": [
           {
            "type": "contour",
            "colorbar": {
             "outlinewidth": 0,
             "ticks": ""
            },
            "colorscale": [
             [
              0.0,
              "#0d0887"
             ],
             [
              0.1111111111111111,
              "#46039f"
             ],
             [
              0.2222222222222222,
              "#7201a8"
             ],
             [
              0.3333333333333333,
              "#9c179e"
             ],
             [
              0.4444444444444444,
              "#bd3786"
             ],
             [
              0.5555555555555556,
              "#d8576b"
             ],
             [
              0.6666666666666666,
              "#ed7953"
             ],
             [
              0.7777777777777778,
              "#fb9f3a"
             ],
             [
              0.8888888888888888,
              "#fdca26"
             ],
             [
              1.0,
              "#f0f921"
             ]
            ]
           }
          ],
          "surface": [
           {
            "type": "surface",
            "colorbar": {
             "outlinewidth": 0,
             "ticks": ""
            },
            "colorscale": [
             [
              0.0,
              "#0d0887"
             ],
             [
              0.1111111111111111,
              "#46039f"
             ],
             [
              0.2222222222222222,
              "#7201a8"
             ],
             [
              0.3333333333333333,
              "#9c179e"
             ],
             [
              0.4444444444444444,
              "#bd3786"
             ],
             [
              0.5555555555555556,
              "#d8576b"
             ],
             [
              0.6666666666666666,
              "#ed7953"
             ],
             [
              0.7777777777777778,
              "#fb9f3a"
             ],
             [
              0.8888888888888888,
              "#fdca26"
             ],
             [
              1.0,
              "#f0f921"
             ]
            ]
           }
          ],
          "mesh3d": [
           {
            "type": "mesh3d",
            "colorbar": {
             "outlinewidth": 0,
             "ticks": ""
            }
           }
          ],
          "scatter": [
           {
            "fillpattern": {
             "fillmode": "overlay",
             "size": 10,
             "solidity": 0.2
            },
            "type": "scatter"
           }
          ],
          "parcoords": [
           {
            "type": "parcoords",
            "line": {
             "colorbar": {
              "outlinewidth": 0,
              "ticks": ""
             }
            }
           }
          ],
          "scatterpolargl": [
           {
            "type": "scatterpolargl",
            "marker": {
             "colorbar": {
              "outlinewidth": 0,
              "ticks": ""
             }
            }
           }
          ],
          "bar": [
           {
            "error_x": {
             "color": "#2a3f5f"
            },
            "error_y": {
             "color": "#2a3f5f"
            },
            "marker": {
             "line": {
              "color": "#E5ECF6",
              "width": 0.5
             },
             "pattern": {
              "fillmode": "overlay",
              "size": 10,
              "solidity": 0.2
             }
            },
            "type": "bar"
           }
          ],
          "scattergeo": [
           {
            "type": "scattergeo",
            "marker": {
             "colorbar": {
              "outlinewidth": 0,
              "ticks": ""
             }
            }
           }
          ],
          "scatterpolar": [
           {
            "type": "scatterpolar",
            "marker": {
             "colorbar": {
              "outlinewidth": 0,
              "ticks": ""
             }
            }
           }
          ],
          "histogram": [
           {
            "marker": {
             "pattern": {
              "fillmode": "overlay",
              "size": 10,
              "solidity": 0.2
             }
            },
            "type": "histogram"
           }
          ],
          "scattergl": [
           {
            "type": "scattergl",
            "marker": {
             "colorbar": {
              "outlinewidth": 0,
              "ticks": ""
             }
            }
           }
          ],
          "scatter3d": [
           {
            "type": "scatter3d",
            "line": {
             "colorbar": {
              "outlinewidth": 0,
              "ticks": ""
             }
            },
            "marker": {
             "colorbar": {
              "outlinewidth": 0,
              "ticks": ""
             }
            }
           }
          ],
          "scattermapbox": [
           {
            "type": "scattermapbox",
            "marker": {
             "colorbar": {
              "outlinewidth": 0,
              "ticks": ""
             }
            }
           }
          ],
          "scatterternary": [
           {
            "type": "scatterternary",
            "marker": {
             "colorbar": {
              "outlinewidth": 0,
              "ticks": ""
             }
            }
           }
          ],
          "scattercarpet": [
           {
            "type": "scattercarpet",
            "marker": {
             "colorbar": {
              "outlinewidth": 0,
              "ticks": ""
             }
            }
           }
          ],
          "carpet": [
           {
            "aaxis": {
             "endlinecolor": "#2a3f5f",
             "gridcolor": "white",
             "linecolor": "white",
             "minorgridcolor": "white",
             "startlinecolor": "#2a3f5f"
            },
            "baxis": {
             "endlinecolor": "#2a3f5f",
             "gridcolor": "white",
             "linecolor": "white",
             "minorgridcolor": "white",
             "startlinecolor": "#2a3f5f"
            },
            "type": "carpet"
           }
          ],
          "table": [
           {
            "cells": {
             "fill": {
              "color": "#EBF0F8"
             },
             "line": {
              "color": "white"
             }
            },
            "header": {
             "fill": {
              "color": "#C8D4E3"
             },
             "line": {
              "color": "white"
             }
            },
            "type": "table"
           }
          ],
          "barpolar": [
           {
            "marker": {
             "line": {
              "color": "#E5ECF6",
              "width": 0.5
             },
             "pattern": {
              "fillmode": "overlay",
              "size": 10,
              "solidity": 0.2
             }
            },
            "type": "barpolar"
           }
          ],
          "pie": [
           {
            "automargin": true,
            "type": "pie"
           }
          ]
         },
         "layout": {
          "autotypenumbers": "strict",
          "colorway": [
           "#636efa",
           "#EF553B",
           "#00cc96",
           "#ab63fa",
           "#FFA15A",
           "#19d3f3",
           "#FF6692",
           "#B6E880",
           "#FF97FF",
           "#FECB52"
          ],
          "font": {
           "color": "#2a3f5f"
          },
          "hovermode": "closest",
          "hoverlabel": {
           "align": "left"
          },
          "paper_bgcolor": "white",
          "plot_bgcolor": "#E5ECF6",
          "polar": {
           "bgcolor": "#E5ECF6",
           "angularaxis": {
            "gridcolor": "white",
            "linecolor": "white",
            "ticks": ""
           },
           "radialaxis": {
            "gridcolor": "white",
            "linecolor": "white",
            "ticks": ""
           }
          },
          "ternary": {
           "bgcolor": "#E5ECF6",
           "aaxis": {
            "gridcolor": "white",
            "linecolor": "white",
            "ticks": ""
           },
           "baxis": {
            "gridcolor": "white",
            "linecolor": "white",
            "ticks": ""
           },
           "caxis": {
            "gridcolor": "white",
            "linecolor": "white",
            "ticks": ""
           }
          },
          "coloraxis": {
           "colorbar": {
            "outlinewidth": 0,
            "ticks": ""
           }
          },
          "colorscale": {
           "sequential": [
            [
             0.0,
             "#0d0887"
            ],
            [
             0.1111111111111111,
             "#46039f"
            ],
            [
             0.2222222222222222,
             "#7201a8"
            ],
            [
             0.3333333333333333,
             "#9c179e"
            ],
            [
             0.4444444444444444,
             "#bd3786"
            ],
            [
             0.5555555555555556,
             "#d8576b"
            ],
            [
             0.6666666666666666,
             "#ed7953"
            ],
            [
             0.7777777777777778,
             "#fb9f3a"
            ],
            [
             0.8888888888888888,
             "#fdca26"
            ],
            [
             1.0,
             "#f0f921"
            ]
           ],
           "sequentialminus": [
            [
             0.0,
             "#0d0887"
            ],
            [
             0.1111111111111111,
             "#46039f"
            ],
            [
             0.2222222222222222,
             "#7201a8"
            ],
            [
             0.3333333333333333,
             "#9c179e"
            ],
            [
             0.4444444444444444,
             "#bd3786"
            ],
            [
             0.5555555555555556,
             "#d8576b"
            ],
            [
             0.6666666666666666,
             "#ed7953"
            ],
            [
             0.7777777777777778,
             "#fb9f3a"
            ],
            [
             0.8888888888888888,
             "#fdca26"
            ],
            [
             1.0,
             "#f0f921"
            ]
           ],
           "diverging": [
            [
             0,
             "#8e0152"
            ],
            [
             0.1,
             "#c51b7d"
            ],
            [
             0.2,
             "#de77ae"
            ],
            [
             0.3,
             "#f1b6da"
            ],
            [
             0.4,
             "#fde0ef"
            ],
            [
             0.5,
             "#f7f7f7"
            ],
            [
             0.6,
             "#e6f5d0"
            ],
            [
             0.7,
             "#b8e186"
            ],
            [
             0.8,
             "#7fbc41"
            ],
            [
             0.9,
             "#4d9221"
            ],
            [
             1,
             "#276419"
            ]
           ]
          },
          "xaxis": {
           "gridcolor": "white",
           "linecolor": "white",
           "ticks": "",
           "title": {
            "standoff": 15
           },
           "zerolinecolor": "white",
           "automargin": true,
           "zerolinewidth": 2
          },
          "yaxis": {
           "gridcolor": "white",
           "linecolor": "white",
           "ticks": "",
           "title": {
            "standoff": 15
           },
           "zerolinecolor": "white",
           "automargin": true,
           "zerolinewidth": 2
          },
          "scene": {
           "xaxis": {
            "backgroundcolor": "#E5ECF6",
            "gridcolor": "white",
            "linecolor": "white",
            "showbackground": true,
            "ticks": "",
            "zerolinecolor": "white",
            "gridwidth": 2
           },
           "yaxis": {
            "backgroundcolor": "#E5ECF6",
            "gridcolor": "white",
            "linecolor": "white",
            "showbackground": true,
            "ticks": "",
            "zerolinecolor": "white",
            "gridwidth": 2
           },
           "zaxis": {
            "backgroundcolor": "#E5ECF6",
            "gridcolor": "white",
            "linecolor": "white",
            "showbackground": true,
            "ticks": "",
            "zerolinecolor": "white",
            "gridwidth": 2
           }
          },
          "shapedefaults": {
           "line": {
            "color": "#2a3f5f"
           }
          },
          "annotationdefaults": {
           "arrowcolor": "#2a3f5f",
           "arrowhead": 0,
           "arrowwidth": 1
          },
          "geo": {
           "bgcolor": "white",
           "landcolor": "#E5ECF6",
           "subunitcolor": "white",
           "showland": true,
           "showlakes": true,
           "lakecolor": "white"
          },
          "title": {
           "x": 0.05
          },
          "mapbox": {
           "style": "light"
          }
         }
        },
        "xaxis": {
         "anchor": "y",
         "domain": [
          0.0,
          1.0
         ],
         "title": {
          "text": "Genre"
         },
         "showline": true,
         "linewidth": 1,
         "linecolor": "black"
        },
        "yaxis": {
         "anchor": "x",
         "domain": [
          0.0,
          1.0
         ],
         "title": {
          "text": "number of sales (in million)"
         },
         "showline": true,
         "linewidth": 1,
         "linecolor": "black"
        },
        "legend": {
         "title": {
          "text": "  Area"
         },
         "tracegroupgap": 0,
         "yanchor": "top",
         "y": 0.99,
         "xanchor": "right",
         "x": 0.99
        },
        "margin": {
         "t": 60
        },
        "barmode": "relative",
        "plot_bgcolor": "white",
        "paper_bgcolor": "white"
       },
       "config": {
        "plotlyServerURL": "https://plot.ly"
       }
      },
      "text/html": "<div>                            <div id=\"40f7cc39-d480-4ee2-97f6-7cdfde4db8db\" class=\"plotly-graph-div\" style=\"height:525px; width:100%;\"></div>            <script type=\"text/javascript\">                require([\"plotly\"], function(Plotly) {                    window.PLOTLYENV=window.PLOTLYENV || {};                                    if (document.getElementById(\"40f7cc39-d480-4ee2-97f6-7cdfde4db8db\")) {                    Plotly.newPlot(                        \"40f7cc39-d480-4ee2-97f6-7cdfde4db8db\",                        [{\"alignmentgroup\":\"True\",\"hovertemplate\":\"variable=North America<br>Genre=%{x}<br>value=%{y}<extra></extra>\",\"legendgroup\":\"North America\",\"marker\":{\"color\":\"#317a5c\",\"pattern\":{\"shape\":\"\"}},\"name\":\"North America\",\"offsetgroup\":\"North America\",\"orientation\":\"v\",\"showlegend\":true,\"textposition\":\"auto\",\"x\":[\"Platform\",\"Shooter\",\"Sports\",\"Role-Playing\",\"Action\",\"Racing\",\"Misc\",\"Puzzle\",\"Simulation\",\"Fighting\",\"Adventure\"],\"xaxis\":\"x\",\"y\":[117.23,104.36,75.27,57.95,61.19,47.24,39.8,26.64,11.620000000000001,6.75,6.16],\"yaxis\":\"y\",\"type\":\"bar\"},{\"alignmentgroup\":\"True\",\"hovertemplate\":\"variable=Europe<br>Genre=%{x}<br>value=%{y}<extra></extra>\",\"legendgroup\":\"Europe\",\"marker\":{\"color\":\"#378a68\",\"pattern\":{\"shape\":\"\"}},\"name\":\"Europe\",\"offsetgroup\":\"Europe\",\"orientation\":\"v\",\"showlegend\":true,\"textposition\":\"auto\",\"x\":[\"Platform\",\"Shooter\",\"Sports\",\"Role-Playing\",\"Action\",\"Racing\",\"Misc\",\"Puzzle\",\"Simulation\",\"Fighting\",\"Adventure\"],\"xaxis\":\"x\",\"y\":[44.27,47.67,56.65,41.88,40.42,38.21,26.549999999999997,7.62,14.52,2.61,2.04],\"yaxis\":\"y\",\"type\":\"bar\"},{\"alignmentgroup\":\"True\",\"hovertemplate\":\"variable=Japan<br>Genre=%{x}<br>value=%{y}<extra></extra>\",\"legendgroup\":\"Japan\",\"marker\":{\"color\":\"#50a381\",\"pattern\":{\"shape\":\"\"}},\"name\":\"Japan\",\"offsetgroup\":\"Japan\",\"orientation\":\"v\",\"showlegend\":true,\"textposition\":\"auto\",\"x\":[\"Platform\",\"Shooter\",\"Sports\",\"Role-Playing\",\"Action\",\"Racing\",\"Misc\",\"Puzzle\",\"Simulation\",\"Fighting\",\"Adventure\"],\"xaxis\":\"x\",\"y\":[38.18,3.19,13.18,48.18,7.109999999999999,16.91,7.33,9.54,7.26,2.66,2.69],\"yaxis\":\"y\",\"type\":\"bar\"},{\"alignmentgroup\":\"True\",\"hovertemplate\":\"variable=Others<br>Genre=%{x}<br>value=%{y}<extra></extra>\",\"legendgroup\":\"Others\",\"marker\":{\"color\":\"#77b89d\",\"pattern\":{\"shape\":\"\"}},\"name\":\"Others\",\"offsetgroup\":\"Others\",\"orientation\":\"v\",\"showlegend\":true,\"textposition\":\"auto\",\"x\":[\"Platform\",\"Shooter\",\"Sports\",\"Role-Playing\",\"Action\",\"Racing\",\"Misc\",\"Puzzle\",\"Simulation\",\"Fighting\",\"Adventure\"],\"xaxis\":\"x\",\"y\":[10.4,17.27,15.360000000000001,6.78,24.61,17.45,7.64,1.7599999999999998,3.63,1.02,0.29],\"yaxis\":\"y\",\"type\":\"bar\"}],                        {\"template\":{\"data\":{\"histogram2dcontour\":[{\"type\":\"histogram2dcontour\",\"colorbar\":{\"outlinewidth\":0,\"ticks\":\"\"},\"colorscale\":[[0.0,\"#0d0887\"],[0.1111111111111111,\"#46039f\"],[0.2222222222222222,\"#7201a8\"],[0.3333333333333333,\"#9c179e\"],[0.4444444444444444,\"#bd3786\"],[0.5555555555555556,\"#d8576b\"],[0.6666666666666666,\"#ed7953\"],[0.7777777777777778,\"#fb9f3a\"],[0.8888888888888888,\"#fdca26\"],[1.0,\"#f0f921\"]]}],\"choropleth\":[{\"type\":\"choropleth\",\"colorbar\":{\"outlinewidth\":0,\"ticks\":\"\"}}],\"histogram2d\":[{\"type\":\"histogram2d\",\"colorbar\":{\"outlinewidth\":0,\"ticks\":\"\"},\"colorscale\":[[0.0,\"#0d0887\"],[0.1111111111111111,\"#46039f\"],[0.2222222222222222,\"#7201a8\"],[0.3333333333333333,\"#9c179e\"],[0.4444444444444444,\"#bd3786\"],[0.5555555555555556,\"#d8576b\"],[0.6666666666666666,\"#ed7953\"],[0.7777777777777778,\"#fb9f3a\"],[0.8888888888888888,\"#fdca26\"],[1.0,\"#f0f921\"]]}],\"heatmap\":[{\"type\":\"heatmap\",\"colorbar\":{\"outlinewidth\":0,\"ticks\":\"\"},\"colorscale\":[[0.0,\"#0d0887\"],[0.1111111111111111,\"#46039f\"],[0.2222222222222222,\"#7201a8\"],[0.3333333333333333,\"#9c179e\"],[0.4444444444444444,\"#bd3786\"],[0.5555555555555556,\"#d8576b\"],[0.6666666666666666,\"#ed7953\"],[0.7777777777777778,\"#fb9f3a\"],[0.8888888888888888,\"#fdca26\"],[1.0,\"#f0f921\"]]}],\"heatmapgl\":[{\"type\":\"heatmapgl\",\"colorbar\":{\"outlinewidth\":0,\"ticks\":\"\"},\"colorscale\":[[0.0,\"#0d0887\"],[0.1111111111111111,\"#46039f\"],[0.2222222222222222,\"#7201a8\"],[0.3333333333333333,\"#9c179e\"],[0.4444444444444444,\"#bd3786\"],[0.5555555555555556,\"#d8576b\"],[0.6666666666666666,\"#ed7953\"],[0.7777777777777778,\"#fb9f3a\"],[0.8888888888888888,\"#fdca26\"],[1.0,\"#f0f921\"]]}],\"contourcarpet\":[{\"type\":\"contourcarpet\",\"colorbar\":{\"outlinewidth\":0,\"ticks\":\"\"}}],\"contour\":[{\"type\":\"contour\",\"colorbar\":{\"outlinewidth\":0,\"ticks\":\"\"},\"colorscale\":[[0.0,\"#0d0887\"],[0.1111111111111111,\"#46039f\"],[0.2222222222222222,\"#7201a8\"],[0.3333333333333333,\"#9c179e\"],[0.4444444444444444,\"#bd3786\"],[0.5555555555555556,\"#d8576b\"],[0.6666666666666666,\"#ed7953\"],[0.7777777777777778,\"#fb9f3a\"],[0.8888888888888888,\"#fdca26\"],[1.0,\"#f0f921\"]]}],\"surface\":[{\"type\":\"surface\",\"colorbar\":{\"outlinewidth\":0,\"ticks\":\"\"},\"colorscale\":[[0.0,\"#0d0887\"],[0.1111111111111111,\"#46039f\"],[0.2222222222222222,\"#7201a8\"],[0.3333333333333333,\"#9c179e\"],[0.4444444444444444,\"#bd3786\"],[0.5555555555555556,\"#d8576b\"],[0.6666666666666666,\"#ed7953\"],[0.7777777777777778,\"#fb9f3a\"],[0.8888888888888888,\"#fdca26\"],[1.0,\"#f0f921\"]]}],\"mesh3d\":[{\"type\":\"mesh3d\",\"colorbar\":{\"outlinewidth\":0,\"ticks\":\"\"}}],\"scatter\":[{\"fillpattern\":{\"fillmode\":\"overlay\",\"size\":10,\"solidity\":0.2},\"type\":\"scatter\"}],\"parcoords\":[{\"type\":\"parcoords\",\"line\":{\"colorbar\":{\"outlinewidth\":0,\"ticks\":\"\"}}}],\"scatterpolargl\":[{\"type\":\"scatterpolargl\",\"marker\":{\"colorbar\":{\"outlinewidth\":0,\"ticks\":\"\"}}}],\"bar\":[{\"error_x\":{\"color\":\"#2a3f5f\"},\"error_y\":{\"color\":\"#2a3f5f\"},\"marker\":{\"line\":{\"color\":\"#E5ECF6\",\"width\":0.5},\"pattern\":{\"fillmode\":\"overlay\",\"size\":10,\"solidity\":0.2}},\"type\":\"bar\"}],\"scattergeo\":[{\"type\":\"scattergeo\",\"marker\":{\"colorbar\":{\"outlinewidth\":0,\"ticks\":\"\"}}}],\"scatterpolar\":[{\"type\":\"scatterpolar\",\"marker\":{\"colorbar\":{\"outlinewidth\":0,\"ticks\":\"\"}}}],\"histogram\":[{\"marker\":{\"pattern\":{\"fillmode\":\"overlay\",\"size\":10,\"solidity\":0.2}},\"type\":\"histogram\"}],\"scattergl\":[{\"type\":\"scattergl\",\"marker\":{\"colorbar\":{\"outlinewidth\":0,\"ticks\":\"\"}}}],\"scatter3d\":[{\"type\":\"scatter3d\",\"line\":{\"colorbar\":{\"outlinewidth\":0,\"ticks\":\"\"}},\"marker\":{\"colorbar\":{\"outlinewidth\":0,\"ticks\":\"\"}}}],\"scattermapbox\":[{\"type\":\"scattermapbox\",\"marker\":{\"colorbar\":{\"outlinewidth\":0,\"ticks\":\"\"}}}],\"scatterternary\":[{\"type\":\"scatterternary\",\"marker\":{\"colorbar\":{\"outlinewidth\":0,\"ticks\":\"\"}}}],\"scattercarpet\":[{\"type\":\"scattercarpet\",\"marker\":{\"colorbar\":{\"outlinewidth\":0,\"ticks\":\"\"}}}],\"carpet\":[{\"aaxis\":{\"endlinecolor\":\"#2a3f5f\",\"gridcolor\":\"white\",\"linecolor\":\"white\",\"minorgridcolor\":\"white\",\"startlinecolor\":\"#2a3f5f\"},\"baxis\":{\"endlinecolor\":\"#2a3f5f\",\"gridcolor\":\"white\",\"linecolor\":\"white\",\"minorgridcolor\":\"white\",\"startlinecolor\":\"#2a3f5f\"},\"type\":\"carpet\"}],\"table\":[{\"cells\":{\"fill\":{\"color\":\"#EBF0F8\"},\"line\":{\"color\":\"white\"}},\"header\":{\"fill\":{\"color\":\"#C8D4E3\"},\"line\":{\"color\":\"white\"}},\"type\":\"table\"}],\"barpolar\":[{\"marker\":{\"line\":{\"color\":\"#E5ECF6\",\"width\":0.5},\"pattern\":{\"fillmode\":\"overlay\",\"size\":10,\"solidity\":0.2}},\"type\":\"barpolar\"}],\"pie\":[{\"automargin\":true,\"type\":\"pie\"}]},\"layout\":{\"autotypenumbers\":\"strict\",\"colorway\":[\"#636efa\",\"#EF553B\",\"#00cc96\",\"#ab63fa\",\"#FFA15A\",\"#19d3f3\",\"#FF6692\",\"#B6E880\",\"#FF97FF\",\"#FECB52\"],\"font\":{\"color\":\"#2a3f5f\"},\"hovermode\":\"closest\",\"hoverlabel\":{\"align\":\"left\"},\"paper_bgcolor\":\"white\",\"plot_bgcolor\":\"#E5ECF6\",\"polar\":{\"bgcolor\":\"#E5ECF6\",\"angularaxis\":{\"gridcolor\":\"white\",\"linecolor\":\"white\",\"ticks\":\"\"},\"radialaxis\":{\"gridcolor\":\"white\",\"linecolor\":\"white\",\"ticks\":\"\"}},\"ternary\":{\"bgcolor\":\"#E5ECF6\",\"aaxis\":{\"gridcolor\":\"white\",\"linecolor\":\"white\",\"ticks\":\"\"},\"baxis\":{\"gridcolor\":\"white\",\"linecolor\":\"white\",\"ticks\":\"\"},\"caxis\":{\"gridcolor\":\"white\",\"linecolor\":\"white\",\"ticks\":\"\"}},\"coloraxis\":{\"colorbar\":{\"outlinewidth\":0,\"ticks\":\"\"}},\"colorscale\":{\"sequential\":[[0.0,\"#0d0887\"],[0.1111111111111111,\"#46039f\"],[0.2222222222222222,\"#7201a8\"],[0.3333333333333333,\"#9c179e\"],[0.4444444444444444,\"#bd3786\"],[0.5555555555555556,\"#d8576b\"],[0.6666666666666666,\"#ed7953\"],[0.7777777777777778,\"#fb9f3a\"],[0.8888888888888888,\"#fdca26\"],[1.0,\"#f0f921\"]],\"sequentialminus\":[[0.0,\"#0d0887\"],[0.1111111111111111,\"#46039f\"],[0.2222222222222222,\"#7201a8\"],[0.3333333333333333,\"#9c179e\"],[0.4444444444444444,\"#bd3786\"],[0.5555555555555556,\"#d8576b\"],[0.6666666666666666,\"#ed7953\"],[0.7777777777777778,\"#fb9f3a\"],[0.8888888888888888,\"#fdca26\"],[1.0,\"#f0f921\"]],\"diverging\":[[0,\"#8e0152\"],[0.1,\"#c51b7d\"],[0.2,\"#de77ae\"],[0.3,\"#f1b6da\"],[0.4,\"#fde0ef\"],[0.5,\"#f7f7f7\"],[0.6,\"#e6f5d0\"],[0.7,\"#b8e186\"],[0.8,\"#7fbc41\"],[0.9,\"#4d9221\"],[1,\"#276419\"]]},\"xaxis\":{\"gridcolor\":\"white\",\"linecolor\":\"white\",\"ticks\":\"\",\"title\":{\"standoff\":15},\"zerolinecolor\":\"white\",\"automargin\":true,\"zerolinewidth\":2},\"yaxis\":{\"gridcolor\":\"white\",\"linecolor\":\"white\",\"ticks\":\"\",\"title\":{\"standoff\":15},\"zerolinecolor\":\"white\",\"automargin\":true,\"zerolinewidth\":2},\"scene\":{\"xaxis\":{\"backgroundcolor\":\"#E5ECF6\",\"gridcolor\":\"white\",\"linecolor\":\"white\",\"showbackground\":true,\"ticks\":\"\",\"zerolinecolor\":\"white\",\"gridwidth\":2},\"yaxis\":{\"backgroundcolor\":\"#E5ECF6\",\"gridcolor\":\"white\",\"linecolor\":\"white\",\"showbackground\":true,\"ticks\":\"\",\"zerolinecolor\":\"white\",\"gridwidth\":2},\"zaxis\":{\"backgroundcolor\":\"#E5ECF6\",\"gridcolor\":\"white\",\"linecolor\":\"white\",\"showbackground\":true,\"ticks\":\"\",\"zerolinecolor\":\"white\",\"gridwidth\":2}},\"shapedefaults\":{\"line\":{\"color\":\"#2a3f5f\"}},\"annotationdefaults\":{\"arrowcolor\":\"#2a3f5f\",\"arrowhead\":0,\"arrowwidth\":1},\"geo\":{\"bgcolor\":\"white\",\"landcolor\":\"#E5ECF6\",\"subunitcolor\":\"white\",\"showland\":true,\"showlakes\":true,\"lakecolor\":\"white\"},\"title\":{\"x\":0.05},\"mapbox\":{\"style\":\"light\"}}},\"xaxis\":{\"anchor\":\"y\",\"domain\":[0.0,1.0],\"title\":{\"text\":\"Genre\"},\"showline\":true,\"linewidth\":1,\"linecolor\":\"black\"},\"yaxis\":{\"anchor\":\"x\",\"domain\":[0.0,1.0],\"title\":{\"text\":\"number of sales (in million)\"},\"showline\":true,\"linewidth\":1,\"linecolor\":\"black\"},\"legend\":{\"title\":{\"text\":\"  Area\"},\"tracegroupgap\":0,\"yanchor\":\"top\",\"y\":0.99,\"xanchor\":\"right\",\"x\":0.99},\"margin\":{\"t\":60},\"barmode\":\"relative\",\"plot_bgcolor\":\"white\",\"paper_bgcolor\":\"white\"},                        {\"responsive\": true}                    ).then(function(){\n                            \nvar gd = document.getElementById('40f7cc39-d480-4ee2-97f6-7cdfde4db8db');\nvar x = new MutationObserver(function (mutations, observer) {{\n        var display = window.getComputedStyle(gd).display;\n        if (!display || display === 'none') {{\n            console.log([gd, 'removed!']);\n            Plotly.purge(gd);\n            observer.disconnect();\n        }}\n}});\n\n// Listen for the removal of the full notebook cells\nvar notebookContainer = gd.closest('#notebook-container');\nif (notebookContainer) {{\n    x.observe(notebookContainer, {childList: true});\n}}\n\n// Listen for the clearing of the current output cell\nvar outputEl = gd.closest('.output');\nif (outputEl) {{\n    x.observe(outputEl, {childList: true});\n}}\n\n                        })                };                });            </script>        </div>"
     },
     "metadata": {},
     "output_type": "display_data"
    }
   ],
   "source": [
    "def stacked_bar_chart_plotly(main_filter, sales_filter, color_choice):\n",
    "    if color_choice == 'green':\n",
    "        colortheme = ['#317a5c','#378a68','#50a381', '#77b89d']\n",
    "    else:\n",
    "        colortheme = ['#1a889d', '#4da3b3', '#80bdc9', '#b3d7de']\n",
    "\n",
    "    # extract and copy date from df\n",
    "    df_bar = df[[main_filter,'North America', 'Europe', 'Japan', 'Others', 'Global']]\n",
    "    df_bar = df_bar[df_bar['Global'] > sales_filter]\n",
    "\n",
    "    # group by filter and sort by global sales\n",
    "    df_bar_grouped = df_bar.groupby([main_filter]).sum()\n",
    "    df_bar_grouped = df_bar_grouped.sort_values(by=['Global'], ascending=False)\n",
    "\n",
    "    #main filter as column\n",
    "    df_bar_grouped.reset_index(inplace=True)\n",
    "    df_bar_grouped = df_bar_grouped.rename(columns = {'index':main_filter})\n",
    "\n",
    "    # Global Sales not shown\n",
    "    df_bar_grouped = df_bar_grouped [[main_filter, 'North America', 'Europe', 'Japan', 'Others']]\n",
    "\n",
    "    fig = px.bar(df_bar_grouped, x=main_filter, y=['North America', 'Europe', 'Japan', 'Others'], color_discrete_sequence= colortheme)\n",
    "    fig.update_layout(plot_bgcolor='white',paper_bgcolor='white')\n",
    "    fig.update_xaxes(showline=True, linewidth=1, linecolor='black')\n",
    "    fig.update_yaxes(showline=True, linewidth=1, linecolor='black', title = 'number of sales (in million)')\n",
    "\n",
    "    fig.update_layout(legend=dict(\n",
    "    title = '  Area',\n",
    "    yanchor=\"top\",\n",
    "    y=0.99,\n",
    "    xanchor=\"right\",\n",
    "    x=0.99\n",
    "))\n",
    "    return fig\n",
    "\n",
    "stacked_bar_chart_plotly('Genre', 10, 'green')"
   ],
   "metadata": {
    "collapsed": false
   }
  },
  {
   "cell_type": "code",
   "execution_count": 32,
   "outputs": [
    {
     "name": "stdout",
     "output_type": "stream",
     "text": [
      "Dash is running on http://127.0.0.1:8050/\n",
      "\n",
      " * Serving Flask app '__main__'\n",
      " * Debug mode: off\n"
     ]
    },
    {
     "name": "stderr",
     "output_type": "stream",
     "text": [
      "WARNING: This is a development server. Do not use it in a production deployment. Use a production WSGI server instead.\n",
      " * Running on http://127.0.0.1:8050\n",
      "Press CTRL+C to quit\n",
      "127.0.0.1 - - [07/May/2023 12:57:52] \"GET / HTTP/1.1\" 200 -\n",
      "127.0.0.1 - - [07/May/2023 12:57:52] \"GET /_dash-layout HTTP/1.1\" 200 -\n",
      "127.0.0.1 - - [07/May/2023 12:57:52] \"GET /_dash-dependencies HTTP/1.1\" 200 -\n",
      "127.0.0.1 - - [07/May/2023 12:57:52] \"GET /_dash-component-suites/dash/dcc/async-graph.js HTTP/1.1\" 304 -\n",
      "127.0.0.1 - - [07/May/2023 12:57:53] \"GET /_dash-component-suites/dash/dcc/async-plotlyjs.js HTTP/1.1\" 304 -\n",
      "127.0.0.1 - - [07/May/2023 12:57:53] \"POST /_dash-update-component HTTP/1.1\" 200 -\n",
      "127.0.0.1 - - [07/May/2023 12:58:03] \"POST /_dash-update-component HTTP/1.1\" 200 -\n",
      "127.0.0.1 - - [07/May/2023 12:58:05] \"POST /_dash-update-component HTTP/1.1\" 200 -\n",
      "127.0.0.1 - - [07/May/2023 12:58:07] \"POST /_dash-update-component HTTP/1.1\" 200 -\n",
      "127.0.0.1 - - [07/May/2023 12:58:10] \"POST /_dash-update-component HTTP/1.1\" 200 -\n",
      "127.0.0.1 - - [07/May/2023 12:58:12] \"POST /_dash-update-component HTTP/1.1\" 200 -\n",
      "127.0.0.1 - - [07/May/2023 12:58:15] \"POST /_dash-update-component HTTP/1.1\" 200 -\n"
     ]
    }
   ],
   "source": [
    "app = Dash(__name__)\n",
    "\n",
    "dcc.Checklist(\n",
    "   options=['New York City', 'Montreal', 'San Francisco'],\n",
    "   value=['Montreal']\n",
    ")\n",
    "\n",
    "app.layout = html.Div([\n",
    "    dcc.RadioItems(id='check_choice',\n",
    "                  options=['Platform','Genre','Console', 'Company','Publisher'],\n",
    "                  value='Platform',\n",
    "                  inline=True\n",
    "    ),\n",
    "    dcc.RadioItems(id='sales_filter',\n",
    "                  options=[0, 10],\n",
    "                  value=10,\n",
    "                  inline=True),\n",
    "    dcc.RadioItems(id='check_color',\n",
    "                  options=['green','blue'],\n",
    "                  value='blue',\n",
    "                  inline=True\n",
    "                  ),\n",
    "    dcc.Graph(id='stable_diagram'),\n",
    "])\n",
    "@app.callback(\n",
    "    Output('stable_diagram', 'figure'),\n",
    "    Input('check_choice', 'value'),\n",
    "    Input('sales_filter', 'value'),\n",
    "    Input('check_color', 'value')\n",
    ")\n",
    "def update_output(main_filter, sales_filter, color_choice):\n",
    "    return stacked_bar_chart_plotly(main_filter, sales_filter, color_choice)\n",
    "\n",
    "if __name__ == '__main__':\n",
    "    app.run_server(debug=False)"
   ],
   "metadata": {
    "collapsed": false
   }
  },
  {
   "cell_type": "code",
   "execution_count": null,
   "outputs": [],
   "source": [],
   "metadata": {
    "collapsed": false
   }
  }
 ],
 "metadata": {
  "kernelspec": {
   "display_name": "Python 3 (ipykernel)",
   "language": "python",
   "name": "python3"
  },
  "language_info": {
   "codemirror_mode": {
    "name": "ipython",
    "version": 3
   },
   "file_extension": ".py",
   "mimetype": "text/x-python",
   "name": "python",
   "nbconvert_exporter": "python",
   "pygments_lexer": "ipython3",
   "version": "3.10.7"
  }
 },
 "nbformat": 4,
 "nbformat_minor": 1
}
