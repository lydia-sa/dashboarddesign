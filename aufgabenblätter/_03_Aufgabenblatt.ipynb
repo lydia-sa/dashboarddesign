{
 "cells": [
  {
   "cell_type": "markdown",
   "source": [
    "##Aufgabenblatt 3"
   ],
   "metadata": {
    "collapsed": false
   }
  },
  {
   "cell_type": "markdown",
   "source": [
    "#Aufgabe 5 – Wertintervalle und vertauschte Inputs"
   ],
   "metadata": {
    "collapsed": false
   }
  },
  {
   "cell_type": "code",
   "execution_count": 1,
   "outputs": [
    {
     "name": "stdout",
     "output_type": "stream",
     "text": [
      "Requirement already satisfied: dash-bootstrap-components in c:\\users\\annak\\appdata\\local\\programs\\python\\python310\\lib\\site-packages (1.4.1)\n",
      "Requirement already satisfied: dash>=2.0.0 in c:\\users\\annak\\appdata\\local\\programs\\python\\python310\\lib\\site-packages (from dash-bootstrap-components) (2.9.3)\n",
      "Requirement already satisfied: plotly>=5.0.0 in c:\\users\\annak\\appdata\\local\\programs\\python\\python310\\lib\\site-packages (from dash>=2.0.0->dash-bootstrap-components) (5.13.0)\n",
      "Requirement already satisfied: dash-html-components==2.0.0 in c:\\users\\annak\\appdata\\local\\programs\\python\\python310\\lib\\site-packages (from dash>=2.0.0->dash-bootstrap-components) (2.0.0)\n",
      "Requirement already satisfied: dash-table==5.0.0 in c:\\users\\annak\\appdata\\local\\programs\\python\\python310\\lib\\site-packages (from dash>=2.0.0->dash-bootstrap-components) (5.0.0)\n",
      "Requirement already satisfied: dash-core-components==2.0.0 in c:\\users\\annak\\appdata\\local\\programs\\python\\python310\\lib\\site-packages (from dash>=2.0.0->dash-bootstrap-components) (2.0.0)\n",
      "Requirement already satisfied: Flask>=1.0.4 in c:\\users\\annak\\appdata\\local\\programs\\python\\python310\\lib\\site-packages (from dash>=2.0.0->dash-bootstrap-components) (2.3.2)\n",
      "Requirement already satisfied: Jinja2>=3.1.2 in c:\\users\\annak\\appdata\\local\\programs\\python\\python310\\lib\\site-packages (from Flask>=1.0.4->dash>=2.0.0->dash-bootstrap-components) (3.1.2)\n",
      "Requirement already satisfied: blinker>=1.6.2 in c:\\users\\annak\\appdata\\local\\programs\\python\\python310\\lib\\site-packages (from Flask>=1.0.4->dash>=2.0.0->dash-bootstrap-components) (1.6.2)\n",
      "Requirement already satisfied: Werkzeug>=2.3.3 in c:\\users\\annak\\appdata\\local\\programs\\python\\python310\\lib\\site-packages (from Flask>=1.0.4->dash>=2.0.0->dash-bootstrap-components) (2.3.4)\n",
      "Requirement already satisfied: click>=8.1.3 in c:\\users\\annak\\appdata\\local\\programs\\python\\python310\\lib\\site-packages (from Flask>=1.0.4->dash>=2.0.0->dash-bootstrap-components) (8.1.3)\n",
      "Requirement already satisfied: itsdangerous>=2.1.2 in c:\\users\\annak\\appdata\\local\\programs\\python\\python310\\lib\\site-packages (from Flask>=1.0.4->dash>=2.0.0->dash-bootstrap-components) (2.1.2)\n",
      "Requirement already satisfied: tenacity>=6.2.0 in c:\\users\\annak\\appdata\\local\\programs\\python\\python310\\lib\\site-packages (from plotly>=5.0.0->dash>=2.0.0->dash-bootstrap-components) (8.1.0)\n",
      "Requirement already satisfied: colorama in c:\\users\\annak\\appdata\\local\\programs\\python\\python310\\lib\\site-packages (from click>=8.1.3->Flask>=1.0.4->dash>=2.0.0->dash-bootstrap-components) (0.4.6)\n",
      "Requirement already satisfied: MarkupSafe>=2.0 in c:\\users\\annak\\appdata\\local\\programs\\python\\python310\\lib\\site-packages (from Jinja2>=3.1.2->Flask>=1.0.4->dash>=2.0.0->dash-bootstrap-components) (2.1.1)\n"
     ]
    },
    {
     "name": "stderr",
     "output_type": "stream",
     "text": [
      "\n",
      "[notice] A new release of pip available: 22.2.2 -> 23.1.2\n",
      "[notice] To update, run: python.exe -m pip install --upgrade pip\n"
     ]
    }
   ],
   "source": [
    "#Dashboard 2\n",
    "import math\n",
    "from dash import Dash, dcc, html, Input, Output\n",
    "import numpy as np\n",
    "import pandas as pd\n",
    "!pip install dash-bootstrap-components\n",
    "import dash_bootstrap_components as dbc\n",
    "import dash\n",
    "import plotly.express as px"
   ],
   "metadata": {
    "collapsed": false
   }
  },
  {
   "cell_type": "code",
   "execution_count": 2,
   "outputs": [
    {
     "name": "stdout",
     "output_type": "stream",
     "text": [
      "Dash is running on http://127.0.0.1:8000/\n",
      "\n",
      " * Serving Flask app '__main__'\n",
      " * Debug mode: off\n"
     ]
    },
    {
     "name": "stderr",
     "output_type": "stream",
     "text": [
      "WARNING: This is a development server. Do not use it in a production deployment. Use a production WSGI server instead.\n",
      " * Running on http://127.0.0.1:8000\n",
      "Press CTRL+C to quit\n",
      "127.0.0.1 - - [23/May/2023 09:09:00] \"GET / HTTP/1.1\" 200 -\n",
      "127.0.0.1 - - [23/May/2023 09:09:01] \"GET /_dash-layout HTTP/1.1\" 200 -\n",
      "127.0.0.1 - - [23/May/2023 09:09:01] \"GET /_dash-dependencies HTTP/1.1\" 200 -\n",
      "127.0.0.1 - - [23/May/2023 09:09:01] \"GET /_dash-component-suites/dash/dcc/async-dropdown.js HTTP/1.1\" 304 -\n",
      "127.0.0.1 - - [23/May/2023 09:09:01] \"GET /_dash-component-suites/dash/dcc/async-slider.js HTTP/1.1\" 304 -\n",
      "127.0.0.1 - - [23/May/2023 09:09:01] \"GET /_dash-component-suites/dash/dcc/async-graph.js HTTP/1.1\" 304 -\n",
      "127.0.0.1 - - [23/May/2023 09:09:01] \"GET /_dash-component-suites/dash/dcc/async-plotlyjs.js HTTP/1.1\" 304 -\n",
      "127.0.0.1 - - [23/May/2023 09:09:02] \"POST /_dash-update-component HTTP/1.1\" 200 -\n",
      "127.0.0.1 - - [23/May/2023 09:09:02] \"POST /_dash-update-component HTTP/1.1\" 200 -\n",
      "127.0.0.1 - - [23/May/2023 09:09:15] \"POST /_dash-update-component HTTP/1.1\" 200 -\n",
      "127.0.0.1 - - [23/May/2023 09:09:18] \"POST /_dash-update-component HTTP/1.1\" 200 -\n"
     ]
    }
   ],
   "source": [
    "#a)\n",
    "app = Dash(__name__, external_stylesheets=[dbc.themes.BOOTSTRAP])\n",
    "\n",
    "df = pd.DataFrame({'y': np.random.normal(loc=0, scale=10, size=1000),\n",
    "                   'x': np.random.normal(loc=10, scale=2, size=1000)})\n",
    "\n",
    "app.layout = html.Div([\n",
    "    html.H1(\"Dashboard 2\"),\n",
    "    dbc.Row([\n",
    "        dbc.Col([\n",
    "            dcc.Dropdown(options=['yellow', 'lime', 'skyblue'], value='yellow', id='color', multi=False)\n",
    "        ], width=6),\n",
    "        dbc.Col([\n",
    "            dcc.RangeSlider(\n",
    "                min=math.floor(df['y'].min()),\n",
    "                max=math.ceil(df['y'].max()),\n",
    "                value=[math.floor(df['y'].min()), math.ceil(df['y'].max())],\n",
    "                id=\"value_range\"\n",
    "            )\n",
    "        ], width=6)\n",
    "    ]),\n",
    "    dbc.Row([\n",
    "        dbc.Col([dcc.Graph(id=\"graph_1\")], width=6),\n",
    "        dbc.Col([dcc.Graph(id=\"graph_2\")], width=6)\n",
    "    ])\n",
    "], className=\"m-4\")\n",
    "\n",
    "@app.callback(Output(\"graph_1\", \"figure\"), Input(\"color\", \"value\"))\n",
    "\n",
    "def update_graph_1(dropdown_value_color):\n",
    "    fig = px.histogram(df, x=\"y\", color_discrete_sequence=[dropdown_value_color])\n",
    "    fig.update_layout()\n",
    "    return fig\n",
    "\n",
    "@app.callback(Output(\"graph_2\", \"figure\"), Input(\"value_range\", \"value\"))\n",
    "\n",
    "def update_graph_2(value_range):\n",
    "    min_value, max_value = value_range\n",
    "    dff = df[(df['y'] > min_value) & (df['y'] < max_value)]\n",
    "    fig = px.scatter(dff, x='x', y='y')\n",
    "    fig.update_layout()\n",
    "    return fig\n",
    "\n",
    "if __name__ == '__main__':\n",
    "    app.run_server(debug=False, port=8000)"
   ],
   "metadata": {
    "collapsed": false
   }
  },
  {
   "cell_type": "code",
   "execution_count": 3,
   "outputs": [
    {
     "name": "stdout",
     "output_type": "stream",
     "text": [
      "Dash is running on http://127.0.0.1:8000/\n",
      "\n",
      " * Serving Flask app '__main__'\n",
      " * Debug mode: off\n"
     ]
    },
    {
     "name": "stderr",
     "output_type": "stream",
     "text": [
      "WARNING: This is a development server. Do not use it in a production deployment. Use a production WSGI server instead.\n",
      " * Running on http://127.0.0.1:8000\n",
      "Press CTRL+C to quit\n",
      "127.0.0.1 - - [23/May/2023 09:09:29] \"GET / HTTP/1.1\" 200 -\n",
      "127.0.0.1 - - [23/May/2023 09:09:30] \"GET /_dash-layout HTTP/1.1\" 200 -\n",
      "127.0.0.1 - - [23/May/2023 09:09:30] \"GET /_dash-dependencies HTTP/1.1\" 200 -\n",
      "127.0.0.1 - - [23/May/2023 09:09:30] \"GET /_dash-component-suites/dash/dcc/async-slider.js HTTP/1.1\" 304 -\n",
      "127.0.0.1 - - [23/May/2023 09:09:30] \"GET /_dash-component-suites/dash/dcc/async-dropdown.js HTTP/1.1\" 304 -\n",
      "127.0.0.1 - - [23/May/2023 09:09:30] \"GET /_dash-component-suites/dash/dcc/async-graph.js HTTP/1.1\" 304 -\n",
      "127.0.0.1 - - [23/May/2023 09:09:30] \"GET /_dash-component-suites/dash/dcc/async-plotlyjs.js HTTP/1.1\" 304 -\n",
      "127.0.0.1 - - [23/May/2023 09:09:30] \"POST /_dash-update-component HTTP/1.1\" 200 -\n",
      "127.0.0.1 - - [23/May/2023 09:09:30] \"POST /_dash-update-component HTTP/1.1\" 200 -\n",
      "127.0.0.1 - - [23/May/2023 09:09:38] \"POST /_dash-update-component HTTP/1.1\" 200 -\n",
      "127.0.0.1 - - [23/May/2023 09:09:44] \"POST /_dash-update-component HTTP/1.1\" 200 -\n"
     ]
    }
   ],
   "source": [
    "#b)\n",
    "app = dash.Dash(__name__, external_stylesheets=[dbc.themes.BOOTSTRAP])\n",
    "\n",
    "df = pd.DataFrame({'y': np.random.normal(loc=0, scale=10, size=1000),\n",
    "                   'x': np.random.normal(loc=10, scale=2, size=1000)})\n",
    "\n",
    "app.layout = html.Div([\n",
    "    html.H1(\"Dashboard 2\"),\n",
    "    dbc.Row([\n",
    "        dbc.Col([\n",
    "            dcc.Slider(\n",
    "                min=math.floor(df['y'].min()),\n",
    "                max=math.ceil(df['y'].max()),\n",
    "                value=math.ceil(df['y'].max()),\n",
    "                id=\"slider\"\n",
    "            )\n",
    "        ], width=6),\n",
    "        dbc.Col([\n",
    "            dcc.Dropdown(\n",
    "                options=[\n",
    "                    {'label': 'Yellow', 'value': 'yellow'},\n",
    "                    {'label': 'Lime', 'value': 'lime'},\n",
    "                    {'label': 'Skyblue', 'value': 'skyblue'}\n",
    "                ],\n",
    "                value='yellow',\n",
    "                id='color-dropdown',\n",
    "                multi=False\n",
    "            )\n",
    "        ], width=6)\n",
    "    ]),\n",
    "    dbc.Row([\n",
    "        dbc.Col([dcc.Graph(id=\"histogram\")], width=6),\n",
    "        dbc.Col([dcc.Graph(id=\"scatter-plot\")], width=6)\n",
    "    ])\n",
    "], className=\"m-4\")\n",
    "\n",
    "@app.callback(Output(\"scatter-plot\", \"figure\"), Input(\"color-dropdown\", \"value\"))\n",
    "def update_scatter_plot(color_value):\n",
    "    fig = px.scatter(df, x='x', y='y', color_discrete_sequence=[color_value])\n",
    "    fig.update_layout()\n",
    "    return fig\n",
    "\n",
    "@app.callback(Output(\"histogram\", \"figure\"), Input(\"slider\", \"value\"))\n",
    "def update_histogram(slider_value):\n",
    "    dff = df[df['y'] > slider_value]\n",
    "    fig = px.histogram(dff, x='y')\n",
    "    fig.update_layout()\n",
    "    return fig\n",
    "\n",
    "if __name__ == '__main__':\n",
    "    app.run_server(debug=False, port=8000)"
   ],
   "metadata": {
    "collapsed": false
   }
  },
  {
   "cell_type": "markdown",
   "source": [
    "#Aufgabe 6 – Tab Funktionalität und weiterer Tab"
   ],
   "metadata": {
    "collapsed": false
   }
  },
  {
   "cell_type": "code",
   "execution_count": 4,
   "outputs": [
    {
     "name": "stdout",
     "output_type": "stream",
     "text": [
      "Dash is running on http://127.0.0.1:8000/\n",
      "\n",
      " * Serving Flask app '__main__'\n",
      " * Debug mode: off\n"
     ]
    },
    {
     "name": "stderr",
     "output_type": "stream",
     "text": [
      "WARNING: This is a development server. Do not use it in a production deployment. Use a production WSGI server instead.\n",
      " * Running on http://127.0.0.1:8000\n",
      "Press CTRL+C to quit\n",
      "127.0.0.1 - - [23/May/2023 09:09:54] \"GET / HTTP/1.1\" 200 -\n",
      "127.0.0.1 - - [23/May/2023 09:09:54] \"GET /_dash-layout HTTP/1.1\" 200 -\n",
      "127.0.0.1 - - [23/May/2023 09:09:54] \"GET /_dash-dependencies HTTP/1.1\" 200 -\n",
      "127.0.0.1 - - [23/May/2023 09:09:54] \"GET /_dash-component-suites/dash/dcc/async-dropdown.js HTTP/1.1\" 304 -\n",
      "127.0.0.1 - - [23/May/2023 09:09:54] \"GET /_dash-component-suites/dash/dcc/async-slider.js HTTP/1.1\" 304 -\n",
      "127.0.0.1 - - [23/May/2023 09:09:54] \"GET /_dash-component-suites/dash/dcc/async-graph.js HTTP/1.1\" 304 -\n",
      "127.0.0.1 - - [23/May/2023 09:09:54] \"GET /_dash-component-suites/dash/dcc/async-plotlyjs.js HTTP/1.1\" 304 -\n",
      "127.0.0.1 - - [23/May/2023 09:09:55] \"POST /_dash-update-component HTTP/1.1\" 200 -\n",
      "127.0.0.1 - - [23/May/2023 09:09:55] \"POST /_dash-update-component HTTP/1.1\" 200 -\n",
      "127.0.0.1 - - [23/May/2023 09:09:55] \"POST /_dash-update-component HTTP/1.1\" 200 -\n",
      "127.0.0.1 - - [23/May/2023 09:09:55] \"POST /_dash-update-component HTTP/1.1\" 200 -\n",
      "127.0.0.1 - - [23/May/2023 09:10:08] \"POST /_dash-update-component HTTP/1.1\" 200 -\n",
      "127.0.0.1 - - [23/May/2023 09:10:11] \"POST /_dash-update-component HTTP/1.1\" 200 -\n",
      "127.0.0.1 - - [23/May/2023 09:10:14] \"POST /_dash-update-component HTTP/1.1\" 200 -\n"
     ]
    }
   ],
   "source": [
    "#a)\n",
    "from dash.dependencies import State\n",
    "\n",
    "app = Dash(__name__, external_stylesheets=[dbc.themes.BOOTSTRAP])\n",
    "\n",
    "df = pd.DataFrame({'y': np.random.normal(loc=0, scale=10, size=1000), 'x': np.random.normal(loc=10, scale=2, size=1000)})\n",
    "\n",
    "app.layout = html.Div([\n",
    "    html.Div([html.H1(\"Dashboard 3\")], className=\"header\"),\n",
    "    html.Div([\n",
    "        dcc.Tabs(id=\"tabs\", children=[\n",
    "            dcc.Tab(label='Tab One', id=\"tab_1_graphs\", children=[\n",
    "                html.Div([\n",
    "                    dbc.Row([\n",
    "                        dbc.Col([dcc.Dropdown(options=['red', 'green', 'blue'], value='red', id='color', multi=False)], width=6),\n",
    "                        dbc.Col([dcc.Slider(min=math.floor(df['y'].min()), max=math.ceil(df['y'].max()), id=\"min_value\")], width=6)\n",
    "                    ]),\n",
    "                    dbc.Row([\n",
    "                        dbc.Col([dcc.Graph(id=\"graph_1\")], width=6),\n",
    "                        dbc.Col([dcc.Graph(id=\"graph_2\")], width=6)\n",
    "                    ])\n",
    "                ], className=\"tab_content\")\n",
    "            ]),\n",
    "            dcc.Tab(label='Tab Two', id=\"tab_2_graphs\", children=[\n",
    "                html.Div([\n",
    "                    html.H2(\"Funktionalität 1 - Texteingabe\"),\n",
    "                    dcc.Input(id='input-text', type='text', placeholder='Text eingeben'),\n",
    "                    html.Button('Submit', id='submit-button', n_clicks=0),\n",
    "                    html.Div(id='output-text'),\n",
    "\n",
    "                    html.H2(\"Funktionalität 2 - Checkbox\"),\n",
    "                    dcc.Checklist(\n",
    "                        id='city-checkboxes',\n",
    "                        options=[\n",
    "                            {'label': 'Zürich', 'value': 'Zurich'},\n",
    "                            {'label': 'Chur', 'value': 'Chur'},\n",
    "                            {'label': 'Luzern', 'value': 'Luzern'}\n",
    "                        ],\n",
    "                        value=[]\n",
    "                    ),\n",
    "                    html.Div(id='selected-cities')\n",
    "                ], className=\"tab_content\")\n",
    "            ])\n",
    "        ])\n",
    "    ], className=\"content\")\n",
    "])\n",
    "\n",
    "@app.callback(Output('output-text', 'children'), [Input('submit-button', 'n_clicks')], [State('input-text', 'value')])\n",
    "def update_output_text(n_clicks, input_value):\n",
    "    if n_clicks > 0:\n",
    "        if input_value:\n",
    "            return f'Du hast \"{input_value}\" eingegeben.'\n",
    "        else:\n",
    "            return 'Gib etwas Text ein und klicke auf Submit.'\n",
    "    else:\n",
    "        return ''\n",
    "\n",
    "@app.callback(Output('selected-cities', 'children'), [Input('city-checkboxes', 'value')])\n",
    "def update_selected_cities(selected_cities):\n",
    "    if selected_cities:\n",
    "        return f'Du hast folgende Städte ausgewählt: {\", \".join(selected_cities)}'\n",
    "    else:\n",
    "        return 'Wähle eine oder mehrere Städte aus.'\n",
    "\n",
    "@app.callback(Output(\"graph_1\", \"figure\"), Input(\"color\", \"value\"))\n",
    "def update_graph_1(dropdown_value_color):\n",
    "    fig = px.histogram(df, x=\"y\", color_discrete_sequence=[dropdown_value_color])\n",
    "    fig.update_layout(template=\"plotly_white\")\n",
    "    return fig\n",
    "\n",
    "@app.callback(Output(\"graph_2\", \"figure\"), Input(\"min_value\", \"value\"))\n",
    "def update_graph_2(min_value):\n",
    "    if min_value:\n",
    "        dff = df[df['y'] > min_value]\n",
    "    else:\n",
    "        dff = df\n",
    "    fig = px.scatter(dff, x='x', y='y')\n",
    "    fig.update_layout(template=\"plotly_white\")\n",
    "    return fig\n",
    "\n",
    "if __name__ == '__main__':\n",
    "    app.run_server(debug=False, port=8000)\n"
   ],
   "metadata": {
    "collapsed": false
   }
  },
  {
   "cell_type": "code",
   "execution_count": 15,
   "outputs": [
    {
     "data": {
      "application/vnd.plotly.v1+json": {
       "data": [
        {
         "hovertemplate": "Platform=2600<br>Year=%{x}<br>Global=%{y}<extra></extra>",
         "legendgroup": "2600",
         "line": {
          "color": "#015666",
          "dash": "solid"
         },
         "marker": {
          "symbol": "circle"
         },
         "mode": "lines",
         "name": "2600",
         "orientation": "v",
         "showlegend": true,
         "x": [
          1980.0,
          1981.0,
          1982.0,
          1983.0,
          1984.0,
          1985.0,
          1986.0,
          1987.0,
          1988.0,
          1989.0
         ],
         "xaxis": "x",
         "y": [
          11.379999999999999,
          35.77,
          28.86,
          5.83,
          0.27,
          0.45,
          0.6599999999999999,
          1.98,
          0.75,
          0.62
         ],
         "yaxis": "y",
         "type": "scatter"
        },
        {
         "hovertemplate": "Platform=NES<br>Year=%{x}<br>Global=%{y}<extra></extra>",
         "legendgroup": "NES",
         "line": {
          "color": "#1a889d",
          "dash": "solid"
         },
         "marker": {
          "symbol": "circle"
         },
         "mode": "lines",
         "name": "NES",
         "orientation": "v",
         "showlegend": true,
         "x": [
          1983.0,
          1984.0,
          1985.0,
          1986.0,
          1987.0,
          1988.0,
          1989.0,
          1990.0,
          1991.0,
          1992.0,
          1993.0,
          1994.0
         ],
         "xaxis": "x",
         "y": [
          10.96,
          50.089999999999996,
          53.440000000000005,
          36.41,
          19.759999999999998,
          45.01,
          7.85,
          15.74,
          6.11,
          1.9800000000000002,
          3.61,
          0.11
         ],
         "yaxis": "y",
         "type": "scatter"
        },
        {
         "hovertemplate": "Platform=DS<br>Year=%{x}<br>Global=%{y}<extra></extra>",
         "legendgroup": "DS",
         "line": {
          "color": "#4da3b3",
          "dash": "solid"
         },
         "marker": {
          "symbol": "circle"
         },
         "mode": "lines",
         "name": "DS",
         "orientation": "v",
         "showlegend": true,
         "x": [
          1985.0,
          2004.0,
          2005.0,
          2006.0,
          2007.0,
          2008.0,
          2009.0,
          2010.0,
          2011.0,
          2012.0,
          2013.0,
          2014.0,
          2020.0
         ],
         "xaxis": "x",
         "y": [
          0.02,
          17.46,
          131.4,
          121.15,
          149.36,
          147.89,
          121.99,
          87.98,
          27.8,
          11.64,
          1.96,
          0.02,
          0.29
         ],
         "yaxis": "y",
         "type": "scatter"
        },
        {
         "hovertemplate": "Platform=PC<br>Year=%{x}<br>Global=%{y}<extra></extra>",
         "legendgroup": "PC",
         "line": {
          "color": "#80bdc9",
          "dash": "solid"
         },
         "marker": {
          "symbol": "circle"
         },
         "mode": "lines",
         "name": "PC",
         "orientation": "v",
         "showlegend": true,
         "x": [
          1985.0,
          1988.0,
          1992.0,
          1994.0,
          1995.0,
          1996.0,
          1997.0,
          1998.0,
          1999.0,
          2000.0,
          2001.0,
          2002.0,
          2003.0,
          2004.0,
          2005.0,
          2006.0,
          2007.0,
          2008.0,
          2009.0,
          2010.0,
          2011.0,
          2012.0,
          2013.0,
          2014.0,
          2015.0,
          2016.0
         ],
         "xaxis": "x",
         "y": [
          0.03,
          0.03,
          3.02,
          12.85,
          4.2299999999999995,
          10.59,
          11.26,
          3.2800000000000002,
          4.75,
          4.680000000000001,
          5.510000000000001,
          8.6,
          8.959999999999999,
          10.46,
          4.47,
          2.97,
          9.4,
          12.67,
          17.16,
          24.46,
          35.25,
          23.53,
          12.83,
          13.39,
          8.07,
          2.6
         ],
         "yaxis": "y",
         "type": "scatter"
        },
        {
         "hovertemplate": "Platform=GB<br>Year=%{x}<br>Global=%{y}<extra></extra>",
         "legendgroup": "GB",
         "line": {
          "color": "#b3d7de",
          "dash": "solid"
         },
         "marker": {
          "symbol": "circle"
         },
         "mode": "lines",
         "name": "GB",
         "orientation": "v",
         "showlegend": true,
         "x": [
          1988.0,
          1989.0,
          1990.0,
          1991.0,
          1992.0,
          1994.0,
          1995.0,
          1996.0,
          1997.0,
          1998.0,
          1999.0,
          2000.0,
          2001.0
         ],
         "xaxis": "x",
         "y": [
          1.43,
          64.98,
          4.89,
          5.57,
          25.48,
          12.17,
          3.5999999999999996,
          36.02,
          6.37,
          26.900000000000002,
          38.01,
          19.76,
          9.24
         ],
         "yaxis": "y",
         "type": "scatter"
        },
        {
         "hovertemplate": "Platform=GEN<br>Year=%{x}<br>Global=%{y}<extra></extra>",
         "legendgroup": "GEN",
         "line": {
          "color": "#cce5e9",
          "dash": "solid"
         },
         "marker": {
          "symbol": "circle"
         },
         "mode": "lines",
         "name": "GEN",
         "orientation": "v",
         "showlegend": true,
         "x": [
          1990.0,
          1991.0,
          1992.0,
          1993.0,
          1994.0
         ],
         "xaxis": "x",
         "y": [
          2.6,
          4.34,
          12.66,
          0.65,
          8.11
         ],
         "yaxis": "y",
         "type": "scatter"
        },
        {
         "hovertemplate": "Platform=SNES<br>Year=%{x}<br>Global=%{y}<extra></extra>",
         "legendgroup": "SNES",
         "line": {
          "color": "#2b6b51",
          "dash": "solid"
         },
         "marker": {
          "symbol": "circle"
         },
         "mode": "lines",
         "name": "SNES",
         "orientation": "v",
         "showlegend": true,
         "x": [
          1990.0,
          1991.0,
          1992.0,
          1993.0,
          1994.0,
          1995.0,
          1996.0,
          1997.0,
          1998.0,
          1999.0
         ],
         "xaxis": "x",
         "y": [
          26.16,
          16.21,
          32.98,
          40.01,
          35.08,
          32.21,
          15.93,
          0.99,
          0.22000000000000003,
          0.26
         ],
         "yaxis": "y",
         "type": "scatter"
        },
        {
         "hovertemplate": "Platform=GG<br>Year=%{x}<br>Global=%{y}<extra></extra>",
         "legendgroup": "GG",
         "line": {
          "color": "#317a5c",
          "dash": "solid"
         },
         "marker": {
          "symbol": "circle"
         },
         "mode": "lines",
         "name": "GG",
         "orientation": "v",
         "showlegend": true,
         "x": [
          1992.0
         ],
         "xaxis": "x",
         "y": [
          0.04
         ],
         "yaxis": "y",
         "type": "scatter"
        },
        {
         "hovertemplate": "Platform=NG<br>Year=%{x}<br>Global=%{y}<extra></extra>",
         "legendgroup": "NG",
         "line": {
          "color": "#378a68",
          "dash": "solid"
         },
         "marker": {
          "symbol": "circle"
         },
         "mode": "lines",
         "name": "NG",
         "orientation": "v",
         "showlegend": true,
         "x": [
          1993.0,
          1994.0,
          1995.0,
          1996.0
         ],
         "xaxis": "x",
         "y": [
          0.21000000000000002,
          0.8,
          0.33,
          0.1
         ],
         "yaxis": "y",
         "type": "scatter"
        },
        {
         "hovertemplate": "Platform=SCD<br>Year=%{x}<br>Global=%{y}<extra></extra>",
         "legendgroup": "SCD",
         "line": {
          "color": "#50a381",
          "dash": "solid"
         },
         "marker": {
          "symbol": "circle"
         },
         "mode": "lines",
         "name": "SCD",
         "orientation": "v",
         "showlegend": true,
         "x": [
          1993.0,
          1994.0
         ],
         "xaxis": "x",
         "y": [
          1.5,
          0.37
         ],
         "yaxis": "y",
         "type": "scatter"
        },
        {
         "hovertemplate": "Platform=3DO<br>Year=%{x}<br>Global=%{y}<extra></extra>",
         "legendgroup": "3DO",
         "line": {
          "color": "#77b89d",
          "dash": "solid"
         },
         "marker": {
          "symbol": "circle"
         },
         "mode": "lines",
         "name": "3DO",
         "orientation": "v",
         "showlegend": true,
         "x": [
          1994.0,
          1995.0
         ],
         "xaxis": "x",
         "y": [
          0.02,
          0.08
         ],
         "yaxis": "y",
         "type": "scatter"
        },
        {
         "hovertemplate": "Platform=PS<br>Year=%{x}<br>Global=%{y}<extra></extra>",
         "legendgroup": "PS",
         "line": {
          "color": "#9eccb9",
          "dash": "solid"
         },
         "marker": {
          "symbol": "circle"
         },
         "mode": "lines",
         "name": "PS",
         "orientation": "v",
         "showlegend": true,
         "x": [
          1994.0,
          1995.0,
          1996.0,
          1997.0,
          1998.0,
          1999.0,
          2000.0,
          2001.0,
          2002.0,
          2003.0
         ],
         "xaxis": "x",
         "y": [
          6.0200000000000005,
          35.92,
          94.68,
          136.08,
          169.58,
          144.57,
          96.28,
          35.52,
          6.6899999999999995,
          2.05
         ],
         "yaxis": "y",
         "type": "scatter"
        },
        {
         "hovertemplate": "Platform=SAT<br>Year=%{x}<br>Global=%{y}<extra></extra>",
         "legendgroup": "SAT",
         "line": {
          "color": "#015666",
          "dash": "solid"
         },
         "marker": {
          "symbol": "circle"
         },
         "mode": "lines",
         "name": "SAT",
         "orientation": "v",
         "showlegend": true,
         "x": [
          1994.0,
          1995.0,
          1996.0,
          1997.0,
          1998.0,
          1999.0
         ],
         "xaxis": "x",
         "y": [
          3.64,
          11.58,
          7.69,
          6.7700000000000005,
          3.82,
          0.09
         ],
         "yaxis": "y",
         "type": "scatter"
        },
        {
         "hovertemplate": "Platform=TG16<br>Year=%{x}<br>Global=%{y}<extra></extra>",
         "legendgroup": "TG16",
         "line": {
          "color": "#1a889d",
          "dash": "solid"
         },
         "marker": {
          "symbol": "circle"
         },
         "mode": "lines",
         "name": "TG16",
         "orientation": "v",
         "showlegend": true,
         "x": [
          1995.0
         ],
         "xaxis": "x",
         "y": [
          0.16
         ],
         "yaxis": "y",
         "type": "scatter"
        },
        {
         "hovertemplate": "Platform=N64<br>Year=%{x}<br>Global=%{y}<extra></extra>",
         "legendgroup": "N64",
         "line": {
          "color": "#4da3b3",
          "dash": "solid"
         },
         "marker": {
          "symbol": "circle"
         },
         "mode": "lines",
         "name": "N64",
         "orientation": "v",
         "showlegend": true,
         "x": [
          1996.0,
          1997.0,
          1998.0,
          1999.0,
          2000.0,
          2001.0,
          2002.0
         ],
         "xaxis": "x",
         "y": [
          34.11,
          39.51,
          49.28,
          57.96,
          34.01,
          3.26,
          0.08
         ],
         "yaxis": "y",
         "type": "scatter"
        },
        {
         "hovertemplate": "Platform=PCFX<br>Year=%{x}<br>Global=%{y}<extra></extra>",
         "legendgroup": "PCFX",
         "line": {
          "color": "#80bdc9",
          "dash": "solid"
         },
         "marker": {
          "symbol": "circle"
         },
         "mode": "lines",
         "name": "PCFX",
         "orientation": "v",
         "showlegend": true,
         "x": [
          1996.0
         ],
         "xaxis": "x",
         "y": [
          0.03
         ],
         "yaxis": "y",
         "type": "scatter"
        },
        {
         "hovertemplate": "Platform=DC<br>Year=%{x}<br>Global=%{y}<extra></extra>",
         "legendgroup": "DC",
         "line": {
          "color": "#b3d7de",
          "dash": "solid"
         },
         "marker": {
          "symbol": "circle"
         },
         "mode": "lines",
         "name": "DC",
         "orientation": "v",
         "showlegend": true,
         "x": [
          1998.0,
          1999.0,
          2000.0,
          2001.0,
          2002.0,
          2007.0,
          2008.0
         ],
         "xaxis": "x",
         "y": [
          3.39,
          5.17,
          5.99,
          1.07,
          0.29,
          0.02,
          0.04
         ],
         "yaxis": "y",
         "type": "scatter"
        },
        {
         "hovertemplate": "Platform=WS<br>Year=%{x}<br>Global=%{y}<extra></extra>",
         "legendgroup": "WS",
         "line": {
          "color": "#cce5e9",
          "dash": "solid"
         },
         "marker": {
          "symbol": "circle"
         },
         "mode": "lines",
         "name": "WS",
         "orientation": "v",
         "showlegend": true,
         "x": [
          1999.0,
          2000.0,
          2001.0
         ],
         "xaxis": "x",
         "y": [
          0.46,
          0.68,
          0.28
         ],
         "yaxis": "y",
         "type": "scatter"
        },
        {
         "hovertemplate": "Platform=GBA<br>Year=%{x}<br>Global=%{y}<extra></extra>",
         "legendgroup": "GBA",
         "line": {
          "color": "#2b6b51",
          "dash": "solid"
         },
         "marker": {
          "symbol": "circle"
         },
         "mode": "lines",
         "name": "GBA",
         "orientation": "v",
         "showlegend": true,
         "x": [
          2000.0,
          2001.0,
          2002.0,
          2003.0,
          2004.0,
          2005.0,
          2006.0,
          2007.0
         ],
         "xaxis": "x",
         "y": [
          0.06,
          61.62,
          74.38,
          56.730000000000004,
          78.09,
          33.9,
          5.35,
          3.43
         ],
         "yaxis": "y",
         "type": "scatter"
        },
        {
         "hovertemplate": "Platform=PS2<br>Year=%{x}<br>Global=%{y}<extra></extra>",
         "legendgroup": "PS2",
         "line": {
          "color": "#317a5c",
          "dash": "solid"
         },
         "marker": {
          "symbol": "circle"
         },
         "mode": "lines",
         "name": "PS2",
         "orientation": "v",
         "showlegend": true,
         "x": [
          2000.0,
          2001.0,
          2002.0,
          2003.0,
          2004.0,
          2005.0,
          2006.0,
          2007.0,
          2008.0,
          2009.0,
          2010.0,
          2011.0
         ],
         "xaxis": "x",
         "y": [
          39.11,
          166.43,
          205.4,
          184.29,
          211.78,
          160.65,
          103.42,
          75.99,
          53.83,
          26.45,
          5.63,
          0.47000000000000003
         ],
         "yaxis": "y",
         "type": "scatter"
        },
        {
         "hovertemplate": "Platform=XB<br>Year=%{x}<br>Global=%{y}<extra></extra>",
         "legendgroup": "XB",
         "line": {
          "color": "#378a68",
          "dash": "solid"
         },
         "marker": {
          "symbol": "circle"
         },
         "mode": "lines",
         "name": "XB",
         "orientation": "v",
         "showlegend": true,
         "x": [
          2000.0,
          2001.0,
          2002.0,
          2003.0,
          2004.0,
          2005.0,
          2006.0,
          2007.0,
          2008.0
         ],
         "xaxis": "x",
         "y": [
          0.99,
          22.24,
          48.15,
          55.160000000000004,
          65.5,
          49.17,
          10.15,
          0.5499999999999999,
          0.18
         ],
         "yaxis": "y",
         "type": "scatter"
        },
        {
         "hovertemplate": "Platform=GC<br>Year=%{x}<br>Global=%{y}<extra></extra>",
         "legendgroup": "GC",
         "line": {
          "color": "#50a381",
          "dash": "solid"
         },
         "marker": {
          "symbol": "circle"
         },
         "mode": "lines",
         "name": "GC",
         "orientation": "v",
         "showlegend": true,
         "x": [
          2001.0,
          2002.0,
          2003.0,
          2004.0,
          2005.0,
          2006.0,
          2007.0
         ],
         "xaxis": "x",
         "y": [
          26.3,
          51.93,
          50.660000000000004,
          28.89,
          27.8,
          11.290000000000001,
          0.27
         ],
         "yaxis": "y",
         "type": "scatter"
        },
        {
         "hovertemplate": "Platform=PSP<br>Year=%{x}<br>Global=%{y}<extra></extra>",
         "legendgroup": "PSP",
         "line": {
          "color": "#77b89d",
          "dash": "solid"
         },
         "marker": {
          "symbol": "circle"
         },
         "mode": "lines",
         "name": "PSP",
         "orientation": "v",
         "showlegend": true,
         "x": [
          2004.0,
          2005.0,
          2006.0,
          2007.0,
          2008.0,
          2009.0,
          2010.0,
          2011.0,
          2012.0,
          2013.0,
          2014.0,
          2015.0
         ],
         "xaxis": "x",
         "y": [
          7.13,
          44.23,
          55.85,
          47.48,
          34.68,
          38.07,
          35.09,
          17.66,
          7.66,
          3.19,
          0.24,
          0.12
         ],
         "yaxis": "y",
         "type": "scatter"
        },
        {
         "hovertemplate": "Platform=X360<br>Year=%{x}<br>Global=%{y}<extra></extra>",
         "legendgroup": "X360",
         "line": {
          "color": "#9eccb9",
          "dash": "solid"
         },
         "marker": {
          "symbol": "circle"
         },
         "mode": "lines",
         "name": "X360",
         "orientation": "v",
         "showlegend": true,
         "x": [
          2005.0,
          2006.0,
          2007.0,
          2008.0,
          2009.0,
          2010.0,
          2011.0,
          2012.0,
          2013.0,
          2014.0,
          2015.0,
          2016.0
         ],
         "xaxis": "x",
         "y": [
          8.32,
          51.88,
          95.84,
          135.76,
          120.75,
          171.02,
          145.04,
          100.86,
          89.59,
          36.42,
          13.05,
          0.8300000000000001
         ],
         "yaxis": "y",
         "type": "scatter"
        },
        {
         "hovertemplate": "Platform=PS3<br>Year=%{x}<br>Global=%{y}<extra></extra>",
         "legendgroup": "PS3",
         "line": {
          "color": "#015666",
          "dash": "solid"
         },
         "marker": {
          "symbol": "circle"
         },
         "mode": "lines",
         "name": "PS3",
         "orientation": "v",
         "showlegend": true,
         "x": [
          2006.0,
          2007.0,
          2008.0,
          2009.0,
          2010.0,
          2011.0,
          2012.0,
          2013.0,
          2014.0,
          2015.0,
          2016.0
         ],
         "xaxis": "x",
         "y": [
          21.07,
          73.81,
          119.69,
          132.34,
          144.42,
          159.37,
          109.28,
          117.33,
          50.96,
          18.18,
          2.59
         ],
         "yaxis": "y",
         "type": "scatter"
        },
        {
         "hovertemplate": "Platform=Wii<br>Year=%{x}<br>Global=%{y}<extra></extra>",
         "legendgroup": "Wii",
         "line": {
          "color": "#1a889d",
          "dash": "solid"
         },
         "marker": {
          "symbol": "circle"
         },
         "mode": "lines",
         "name": "Wii",
         "orientation": "v",
         "showlegend": true,
         "x": [
          2006.0,
          2007.0,
          2008.0,
          2009.0,
          2010.0,
          2011.0,
          2012.0,
          2013.0,
          2014.0,
          2015.0
         ],
         "xaxis": "x",
         "y": [
          137.91,
          154.97,
          174.16,
          210.44,
          131.8,
          62.41,
          22.77,
          9.36,
          4.4399999999999995,
          1.55
         ],
         "yaxis": "y",
         "type": "scatter"
        },
        {
         "hovertemplate": "Platform=3DS<br>Year=%{x}<br>Global=%{y}<extra></extra>",
         "legendgroup": "3DS",
         "line": {
          "color": "#4da3b3",
          "dash": "solid"
         },
         "marker": {
          "symbol": "circle"
         },
         "mode": "lines",
         "name": "3DS",
         "orientation": "v",
         "showlegend": true,
         "x": [
          2011.0,
          2012.0,
          2013.0,
          2014.0,
          2015.0,
          2016.0
         ],
         "xaxis": "x",
         "y": [
          62.53,
          51.14,
          55.88,
          43.14,
          26.99,
          6.6000000000000005
         ],
         "yaxis": "y",
         "type": "scatter"
        },
        {
         "hovertemplate": "Platform=PSV<br>Year=%{x}<br>Global=%{y}<extra></extra>",
         "legendgroup": "PSV",
         "line": {
          "color": "#80bdc9",
          "dash": "solid"
         },
         "marker": {
          "symbol": "circle"
         },
         "mode": "lines",
         "name": "PSV",
         "orientation": "v",
         "showlegend": true,
         "x": [
          2011.0,
          2012.0,
          2013.0,
          2014.0,
          2015.0,
          2016.0,
          2017.0
         ],
         "xaxis": "x",
         "y": [
          5.15,
          18.53,
          12.48,
          14.5,
          7.0,
          3.4,
          0.02
         ],
         "yaxis": "y",
         "type": "scatter"
        },
        {
         "hovertemplate": "Platform=WiiU<br>Year=%{x}<br>Global=%{y}<extra></extra>",
         "legendgroup": "WiiU",
         "line": {
          "color": "#b3d7de",
          "dash": "solid"
         },
         "marker": {
          "symbol": "circle"
         },
         "mode": "lines",
         "name": "WiiU",
         "orientation": "v",
         "showlegend": true,
         "x": [
          2012.0,
          2013.0,
          2014.0,
          2015.0,
          2016.0
         ],
         "xaxis": "x",
         "y": [
          17.84,
          21.84,
          22.509999999999998,
          16.38,
          3.29
         ],
         "yaxis": "y",
         "type": "scatter"
        },
        {
         "hovertemplate": "Platform=PS4<br>Year=%{x}<br>Global=%{y}<extra></extra>",
         "legendgroup": "PS4",
         "line": {
          "color": "#cce5e9",
          "dash": "solid"
         },
         "marker": {
          "symbol": "circle"
         },
         "mode": "lines",
         "name": "PS4",
         "orientation": "v",
         "showlegend": true,
         "x": [
          2013.0,
          2014.0,
          2015.0,
          2016.0,
          2017.0
         ],
         "xaxis": "x",
         "y": [
          24.76,
          98.76,
          115.24,
          39.25,
          0.03
         ],
         "yaxis": "y",
         "type": "scatter"
        },
        {
         "hovertemplate": "Platform=XOne<br>Year=%{x}<br>Global=%{y}<extra></extra>",
         "legendgroup": "XOne",
         "line": {
          "color": "#2b6b51",
          "dash": "solid"
         },
         "marker": {
          "symbol": "circle"
         },
         "mode": "lines",
         "name": "XOne",
         "orientation": "v",
         "showlegend": true,
         "x": [
          2013.0,
          2014.0,
          2015.0,
          2016.0
         ],
         "xaxis": "x",
         "y": [
          18.6,
          52.43,
          57.66,
          12.37
         ],
         "yaxis": "y",
         "type": "scatter"
        }
       ],
       "layout": {
        "template": {
         "data": {
          "histogram2dcontour": [
           {
            "type": "histogram2dcontour",
            "colorbar": {
             "outlinewidth": 0,
             "ticks": ""
            },
            "colorscale": [
             [
              0.0,
              "#0d0887"
             ],
             [
              0.1111111111111111,
              "#46039f"
             ],
             [
              0.2222222222222222,
              "#7201a8"
             ],
             [
              0.3333333333333333,
              "#9c179e"
             ],
             [
              0.4444444444444444,
              "#bd3786"
             ],
             [
              0.5555555555555556,
              "#d8576b"
             ],
             [
              0.6666666666666666,
              "#ed7953"
             ],
             [
              0.7777777777777778,
              "#fb9f3a"
             ],
             [
              0.8888888888888888,
              "#fdca26"
             ],
             [
              1.0,
              "#f0f921"
             ]
            ]
           }
          ],
          "choropleth": [
           {
            "type": "choropleth",
            "colorbar": {
             "outlinewidth": 0,
             "ticks": ""
            }
           }
          ],
          "histogram2d": [
           {
            "type": "histogram2d",
            "colorbar": {
             "outlinewidth": 0,
             "ticks": ""
            },
            "colorscale": [
             [
              0.0,
              "#0d0887"
             ],
             [
              0.1111111111111111,
              "#46039f"
             ],
             [
              0.2222222222222222,
              "#7201a8"
             ],
             [
              0.3333333333333333,
              "#9c179e"
             ],
             [
              0.4444444444444444,
              "#bd3786"
             ],
             [
              0.5555555555555556,
              "#d8576b"
             ],
             [
              0.6666666666666666,
              "#ed7953"
             ],
             [
              0.7777777777777778,
              "#fb9f3a"
             ],
             [
              0.8888888888888888,
              "#fdca26"
             ],
             [
              1.0,
              "#f0f921"
             ]
            ]
           }
          ],
          "heatmap": [
           {
            "type": "heatmap",
            "colorbar": {
             "outlinewidth": 0,
             "ticks": ""
            },
            "colorscale": [
             [
              0.0,
              "#0d0887"
             ],
             [
              0.1111111111111111,
              "#46039f"
             ],
             [
              0.2222222222222222,
              "#7201a8"
             ],
             [
              0.3333333333333333,
              "#9c179e"
             ],
             [
              0.4444444444444444,
              "#bd3786"
             ],
             [
              0.5555555555555556,
              "#d8576b"
             ],
             [
              0.6666666666666666,
              "#ed7953"
             ],
             [
              0.7777777777777778,
              "#fb9f3a"
             ],
             [
              0.8888888888888888,
              "#fdca26"
             ],
             [
              1.0,
              "#f0f921"
             ]
            ]
           }
          ],
          "heatmapgl": [
           {
            "type": "heatmapgl",
            "colorbar": {
             "outlinewidth": 0,
             "ticks": ""
            },
            "colorscale": [
             [
              0.0,
              "#0d0887"
             ],
             [
              0.1111111111111111,
              "#46039f"
             ],
             [
              0.2222222222222222,
              "#7201a8"
             ],
             [
              0.3333333333333333,
              "#9c179e"
             ],
             [
              0.4444444444444444,
              "#bd3786"
             ],
             [
              0.5555555555555556,
              "#d8576b"
             ],
             [
              0.6666666666666666,
              "#ed7953"
             ],
             [
              0.7777777777777778,
              "#fb9f3a"
             ],
             [
              0.8888888888888888,
              "#fdca26"
             ],
             [
              1.0,
              "#f0f921"
             ]
            ]
           }
          ],
          "contourcarpet": [
           {
            "type": "contourcarpet",
            "colorbar": {
             "outlinewidth": 0,
             "ticks": ""
            }
           }
          ],
          "contour": [
           {
            "type": "contour",
            "colorbar": {
             "outlinewidth": 0,
             "ticks": ""
            },
            "colorscale": [
             [
              0.0,
              "#0d0887"
             ],
             [
              0.1111111111111111,
              "#46039f"
             ],
             [
              0.2222222222222222,
              "#7201a8"
             ],
             [
              0.3333333333333333,
              "#9c179e"
             ],
             [
              0.4444444444444444,
              "#bd3786"
             ],
             [
              0.5555555555555556,
              "#d8576b"
             ],
             [
              0.6666666666666666,
              "#ed7953"
             ],
             [
              0.7777777777777778,
              "#fb9f3a"
             ],
             [
              0.8888888888888888,
              "#fdca26"
             ],
             [
              1.0,
              "#f0f921"
             ]
            ]
           }
          ],
          "surface": [
           {
            "type": "surface",
            "colorbar": {
             "outlinewidth": 0,
             "ticks": ""
            },
            "colorscale": [
             [
              0.0,
              "#0d0887"
             ],
             [
              0.1111111111111111,
              "#46039f"
             ],
             [
              0.2222222222222222,
              "#7201a8"
             ],
             [
              0.3333333333333333,
              "#9c179e"
             ],
             [
              0.4444444444444444,
              "#bd3786"
             ],
             [
              0.5555555555555556,
              "#d8576b"
             ],
             [
              0.6666666666666666,
              "#ed7953"
             ],
             [
              0.7777777777777778,
              "#fb9f3a"
             ],
             [
              0.8888888888888888,
              "#fdca26"
             ],
             [
              1.0,
              "#f0f921"
             ]
            ]
           }
          ],
          "mesh3d": [
           {
            "type": "mesh3d",
            "colorbar": {
             "outlinewidth": 0,
             "ticks": ""
            }
           }
          ],
          "scatter": [
           {
            "fillpattern": {
             "fillmode": "overlay",
             "size": 10,
             "solidity": 0.2
            },
            "type": "scatter"
           }
          ],
          "parcoords": [
           {
            "type": "parcoords",
            "line": {
             "colorbar": {
              "outlinewidth": 0,
              "ticks": ""
             }
            }
           }
          ],
          "scatterpolargl": [
           {
            "type": "scatterpolargl",
            "marker": {
             "colorbar": {
              "outlinewidth": 0,
              "ticks": ""
             }
            }
           }
          ],
          "bar": [
           {
            "error_x": {
             "color": "#2a3f5f"
            },
            "error_y": {
             "color": "#2a3f5f"
            },
            "marker": {
             "line": {
              "color": "#E5ECF6",
              "width": 0.5
             },
             "pattern": {
              "fillmode": "overlay",
              "size": 10,
              "solidity": 0.2
             }
            },
            "type": "bar"
           }
          ],
          "scattergeo": [
           {
            "type": "scattergeo",
            "marker": {
             "colorbar": {
              "outlinewidth": 0,
              "ticks": ""
             }
            }
           }
          ],
          "scatterpolar": [
           {
            "type": "scatterpolar",
            "marker": {
             "colorbar": {
              "outlinewidth": 0,
              "ticks": ""
             }
            }
           }
          ],
          "histogram": [
           {
            "marker": {
             "pattern": {
              "fillmode": "overlay",
              "size": 10,
              "solidity": 0.2
             }
            },
            "type": "histogram"
           }
          ],
          "scattergl": [
           {
            "type": "scattergl",
            "marker": {
             "colorbar": {
              "outlinewidth": 0,
              "ticks": ""
             }
            }
           }
          ],
          "scatter3d": [
           {
            "type": "scatter3d",
            "line": {
             "colorbar": {
              "outlinewidth": 0,
              "ticks": ""
             }
            },
            "marker": {
             "colorbar": {
              "outlinewidth": 0,
              "ticks": ""
             }
            }
           }
          ],
          "scattermapbox": [
           {
            "type": "scattermapbox",
            "marker": {
             "colorbar": {
              "outlinewidth": 0,
              "ticks": ""
             }
            }
           }
          ],
          "scatterternary": [
           {
            "type": "scatterternary",
            "marker": {
             "colorbar": {
              "outlinewidth": 0,
              "ticks": ""
             }
            }
           }
          ],
          "scattercarpet": [
           {
            "type": "scattercarpet",
            "marker": {
             "colorbar": {
              "outlinewidth": 0,
              "ticks": ""
             }
            }
           }
          ],
          "carpet": [
           {
            "aaxis": {
             "endlinecolor": "#2a3f5f",
             "gridcolor": "white",
             "linecolor": "white",
             "minorgridcolor": "white",
             "startlinecolor": "#2a3f5f"
            },
            "baxis": {
             "endlinecolor": "#2a3f5f",
             "gridcolor": "white",
             "linecolor": "white",
             "minorgridcolor": "white",
             "startlinecolor": "#2a3f5f"
            },
            "type": "carpet"
           }
          ],
          "table": [
           {
            "cells": {
             "fill": {
              "color": "#EBF0F8"
             },
             "line": {
              "color": "white"
             }
            },
            "header": {
             "fill": {
              "color": "#C8D4E3"
             },
             "line": {
              "color": "white"
             }
            },
            "type": "table"
           }
          ],
          "barpolar": [
           {
            "marker": {
             "line": {
              "color": "#E5ECF6",
              "width": 0.5
             },
             "pattern": {
              "fillmode": "overlay",
              "size": 10,
              "solidity": 0.2
             }
            },
            "type": "barpolar"
           }
          ],
          "pie": [
           {
            "automargin": true,
            "type": "pie"
           }
          ]
         },
         "layout": {
          "autotypenumbers": "strict",
          "colorway": [
           "#636efa",
           "#EF553B",
           "#00cc96",
           "#ab63fa",
           "#FFA15A",
           "#19d3f3",
           "#FF6692",
           "#B6E880",
           "#FF97FF",
           "#FECB52"
          ],
          "font": {
           "color": "#2a3f5f"
          },
          "hovermode": "closest",
          "hoverlabel": {
           "align": "left"
          },
          "paper_bgcolor": "white",
          "plot_bgcolor": "#E5ECF6",
          "polar": {
           "bgcolor": "#E5ECF6",
           "angularaxis": {
            "gridcolor": "white",
            "linecolor": "white",
            "ticks": ""
           },
           "radialaxis": {
            "gridcolor": "white",
            "linecolor": "white",
            "ticks": ""
           }
          },
          "ternary": {
           "bgcolor": "#E5ECF6",
           "aaxis": {
            "gridcolor": "white",
            "linecolor": "white",
            "ticks": ""
           },
           "baxis": {
            "gridcolor": "white",
            "linecolor": "white",
            "ticks": ""
           },
           "caxis": {
            "gridcolor": "white",
            "linecolor": "white",
            "ticks": ""
           }
          },
          "coloraxis": {
           "colorbar": {
            "outlinewidth": 0,
            "ticks": ""
           }
          },
          "colorscale": {
           "sequential": [
            [
             0.0,
             "#0d0887"
            ],
            [
             0.1111111111111111,
             "#46039f"
            ],
            [
             0.2222222222222222,
             "#7201a8"
            ],
            [
             0.3333333333333333,
             "#9c179e"
            ],
            [
             0.4444444444444444,
             "#bd3786"
            ],
            [
             0.5555555555555556,
             "#d8576b"
            ],
            [
             0.6666666666666666,
             "#ed7953"
            ],
            [
             0.7777777777777778,
             "#fb9f3a"
            ],
            [
             0.8888888888888888,
             "#fdca26"
            ],
            [
             1.0,
             "#f0f921"
            ]
           ],
           "sequentialminus": [
            [
             0.0,
             "#0d0887"
            ],
            [
             0.1111111111111111,
             "#46039f"
            ],
            [
             0.2222222222222222,
             "#7201a8"
            ],
            [
             0.3333333333333333,
             "#9c179e"
            ],
            [
             0.4444444444444444,
             "#bd3786"
            ],
            [
             0.5555555555555556,
             "#d8576b"
            ],
            [
             0.6666666666666666,
             "#ed7953"
            ],
            [
             0.7777777777777778,
             "#fb9f3a"
            ],
            [
             0.8888888888888888,
             "#fdca26"
            ],
            [
             1.0,
             "#f0f921"
            ]
           ],
           "diverging": [
            [
             0,
             "#8e0152"
            ],
            [
             0.1,
             "#c51b7d"
            ],
            [
             0.2,
             "#de77ae"
            ],
            [
             0.3,
             "#f1b6da"
            ],
            [
             0.4,
             "#fde0ef"
            ],
            [
             0.5,
             "#f7f7f7"
            ],
            [
             0.6,
             "#e6f5d0"
            ],
            [
             0.7,
             "#b8e186"
            ],
            [
             0.8,
             "#7fbc41"
            ],
            [
             0.9,
             "#4d9221"
            ],
            [
             1,
             "#276419"
            ]
           ]
          },
          "xaxis": {
           "gridcolor": "white",
           "linecolor": "white",
           "ticks": "",
           "title": {
            "standoff": 15
           },
           "zerolinecolor": "white",
           "automargin": true,
           "zerolinewidth": 2
          },
          "yaxis": {
           "gridcolor": "white",
           "linecolor": "white",
           "ticks": "",
           "title": {
            "standoff": 15
           },
           "zerolinecolor": "white",
           "automargin": true,
           "zerolinewidth": 2
          },
          "scene": {
           "xaxis": {
            "backgroundcolor": "#E5ECF6",
            "gridcolor": "white",
            "linecolor": "white",
            "showbackground": true,
            "ticks": "",
            "zerolinecolor": "white",
            "gridwidth": 2
           },
           "yaxis": {
            "backgroundcolor": "#E5ECF6",
            "gridcolor": "white",
            "linecolor": "white",
            "showbackground": true,
            "ticks": "",
            "zerolinecolor": "white",
            "gridwidth": 2
           },
           "zaxis": {
            "backgroundcolor": "#E5ECF6",
            "gridcolor": "white",
            "linecolor": "white",
            "showbackground": true,
            "ticks": "",
            "zerolinecolor": "white",
            "gridwidth": 2
           }
          },
          "shapedefaults": {
           "line": {
            "color": "#2a3f5f"
           }
          },
          "annotationdefaults": {
           "arrowcolor": "#2a3f5f",
           "arrowhead": 0,
           "arrowwidth": 1
          },
          "geo": {
           "bgcolor": "white",
           "landcolor": "#E5ECF6",
           "subunitcolor": "white",
           "showland": true,
           "showlakes": true,
           "lakecolor": "white"
          },
          "title": {
           "x": 0.05
          },
          "mapbox": {
           "style": "light"
          }
         }
        },
        "xaxis": {
         "anchor": "y",
         "domain": [
          0.0,
          1.0
         ],
         "title": {
          "text": "Year"
         },
         "showline": true,
         "linewidth": 1,
         "linecolor": "black"
        },
        "yaxis": {
         "anchor": "x",
         "domain": [
          0.0,
          1.0
         ],
         "title": {
          "text": "Global"
         },
         "showline": true,
         "linewidth": 1,
         "linecolor": "black"
        },
        "legend": {
         "title": {
          "text": "Platform"
         },
         "tracegroupgap": 0
        },
        "margin": {
         "t": 60
        },
        "plot_bgcolor": "white",
        "paper_bgcolor": "white"
       },
       "config": {
        "plotlyServerURL": "https://plot.ly"
       }
      },
      "text/html": "<div>                            <div id=\"cadf320f-a90f-44f3-8e66-b54dfb4aa548\" class=\"plotly-graph-div\" style=\"height:525px; width:100%;\"></div>            <script type=\"text/javascript\">                require([\"plotly\"], function(Plotly) {                    window.PLOTLYENV=window.PLOTLYENV || {};                                    if (document.getElementById(\"cadf320f-a90f-44f3-8e66-b54dfb4aa548\")) {                    Plotly.newPlot(                        \"cadf320f-a90f-44f3-8e66-b54dfb4aa548\",                        [{\"hovertemplate\":\"Platform=2600<br>Year=%{x}<br>Global=%{y}<extra></extra>\",\"legendgroup\":\"2600\",\"line\":{\"color\":\"#015666\",\"dash\":\"solid\"},\"marker\":{\"symbol\":\"circle\"},\"mode\":\"lines\",\"name\":\"2600\",\"orientation\":\"v\",\"showlegend\":true,\"x\":[1980.0,1981.0,1982.0,1983.0,1984.0,1985.0,1986.0,1987.0,1988.0,1989.0],\"xaxis\":\"x\",\"y\":[11.379999999999999,35.77,28.86,5.83,0.27,0.45,0.6599999999999999,1.98,0.75,0.62],\"yaxis\":\"y\",\"type\":\"scatter\"},{\"hovertemplate\":\"Platform=NES<br>Year=%{x}<br>Global=%{y}<extra></extra>\",\"legendgroup\":\"NES\",\"line\":{\"color\":\"#1a889d\",\"dash\":\"solid\"},\"marker\":{\"symbol\":\"circle\"},\"mode\":\"lines\",\"name\":\"NES\",\"orientation\":\"v\",\"showlegend\":true,\"x\":[1983.0,1984.0,1985.0,1986.0,1987.0,1988.0,1989.0,1990.0,1991.0,1992.0,1993.0,1994.0],\"xaxis\":\"x\",\"y\":[10.96,50.089999999999996,53.440000000000005,36.41,19.759999999999998,45.01,7.85,15.74,6.11,1.9800000000000002,3.61,0.11],\"yaxis\":\"y\",\"type\":\"scatter\"},{\"hovertemplate\":\"Platform=DS<br>Year=%{x}<br>Global=%{y}<extra></extra>\",\"legendgroup\":\"DS\",\"line\":{\"color\":\"#4da3b3\",\"dash\":\"solid\"},\"marker\":{\"symbol\":\"circle\"},\"mode\":\"lines\",\"name\":\"DS\",\"orientation\":\"v\",\"showlegend\":true,\"x\":[1985.0,2004.0,2005.0,2006.0,2007.0,2008.0,2009.0,2010.0,2011.0,2012.0,2013.0,2014.0,2020.0],\"xaxis\":\"x\",\"y\":[0.02,17.46,131.4,121.15,149.36,147.89,121.99,87.98,27.8,11.64,1.96,0.02,0.29],\"yaxis\":\"y\",\"type\":\"scatter\"},{\"hovertemplate\":\"Platform=PC<br>Year=%{x}<br>Global=%{y}<extra></extra>\",\"legendgroup\":\"PC\",\"line\":{\"color\":\"#80bdc9\",\"dash\":\"solid\"},\"marker\":{\"symbol\":\"circle\"},\"mode\":\"lines\",\"name\":\"PC\",\"orientation\":\"v\",\"showlegend\":true,\"x\":[1985.0,1988.0,1992.0,1994.0,1995.0,1996.0,1997.0,1998.0,1999.0,2000.0,2001.0,2002.0,2003.0,2004.0,2005.0,2006.0,2007.0,2008.0,2009.0,2010.0,2011.0,2012.0,2013.0,2014.0,2015.0,2016.0],\"xaxis\":\"x\",\"y\":[0.03,0.03,3.02,12.85,4.2299999999999995,10.59,11.26,3.2800000000000002,4.75,4.680000000000001,5.510000000000001,8.6,8.959999999999999,10.46,4.47,2.97,9.4,12.67,17.16,24.46,35.25,23.53,12.83,13.39,8.07,2.6],\"yaxis\":\"y\",\"type\":\"scatter\"},{\"hovertemplate\":\"Platform=GB<br>Year=%{x}<br>Global=%{y}<extra></extra>\",\"legendgroup\":\"GB\",\"line\":{\"color\":\"#b3d7de\",\"dash\":\"solid\"},\"marker\":{\"symbol\":\"circle\"},\"mode\":\"lines\",\"name\":\"GB\",\"orientation\":\"v\",\"showlegend\":true,\"x\":[1988.0,1989.0,1990.0,1991.0,1992.0,1994.0,1995.0,1996.0,1997.0,1998.0,1999.0,2000.0,2001.0],\"xaxis\":\"x\",\"y\":[1.43,64.98,4.89,5.57,25.48,12.17,3.5999999999999996,36.02,6.37,26.900000000000002,38.01,19.76,9.24],\"yaxis\":\"y\",\"type\":\"scatter\"},{\"hovertemplate\":\"Platform=GEN<br>Year=%{x}<br>Global=%{y}<extra></extra>\",\"legendgroup\":\"GEN\",\"line\":{\"color\":\"#cce5e9\",\"dash\":\"solid\"},\"marker\":{\"symbol\":\"circle\"},\"mode\":\"lines\",\"name\":\"GEN\",\"orientation\":\"v\",\"showlegend\":true,\"x\":[1990.0,1991.0,1992.0,1993.0,1994.0],\"xaxis\":\"x\",\"y\":[2.6,4.34,12.66,0.65,8.11],\"yaxis\":\"y\",\"type\":\"scatter\"},{\"hovertemplate\":\"Platform=SNES<br>Year=%{x}<br>Global=%{y}<extra></extra>\",\"legendgroup\":\"SNES\",\"line\":{\"color\":\"#2b6b51\",\"dash\":\"solid\"},\"marker\":{\"symbol\":\"circle\"},\"mode\":\"lines\",\"name\":\"SNES\",\"orientation\":\"v\",\"showlegend\":true,\"x\":[1990.0,1991.0,1992.0,1993.0,1994.0,1995.0,1996.0,1997.0,1998.0,1999.0],\"xaxis\":\"x\",\"y\":[26.16,16.21,32.98,40.01,35.08,32.21,15.93,0.99,0.22000000000000003,0.26],\"yaxis\":\"y\",\"type\":\"scatter\"},{\"hovertemplate\":\"Platform=GG<br>Year=%{x}<br>Global=%{y}<extra></extra>\",\"legendgroup\":\"GG\",\"line\":{\"color\":\"#317a5c\",\"dash\":\"solid\"},\"marker\":{\"symbol\":\"circle\"},\"mode\":\"lines\",\"name\":\"GG\",\"orientation\":\"v\",\"showlegend\":true,\"x\":[1992.0],\"xaxis\":\"x\",\"y\":[0.04],\"yaxis\":\"y\",\"type\":\"scatter\"},{\"hovertemplate\":\"Platform=NG<br>Year=%{x}<br>Global=%{y}<extra></extra>\",\"legendgroup\":\"NG\",\"line\":{\"color\":\"#378a68\",\"dash\":\"solid\"},\"marker\":{\"symbol\":\"circle\"},\"mode\":\"lines\",\"name\":\"NG\",\"orientation\":\"v\",\"showlegend\":true,\"x\":[1993.0,1994.0,1995.0,1996.0],\"xaxis\":\"x\",\"y\":[0.21000000000000002,0.8,0.33,0.1],\"yaxis\":\"y\",\"type\":\"scatter\"},{\"hovertemplate\":\"Platform=SCD<br>Year=%{x}<br>Global=%{y}<extra></extra>\",\"legendgroup\":\"SCD\",\"line\":{\"color\":\"#50a381\",\"dash\":\"solid\"},\"marker\":{\"symbol\":\"circle\"},\"mode\":\"lines\",\"name\":\"SCD\",\"orientation\":\"v\",\"showlegend\":true,\"x\":[1993.0,1994.0],\"xaxis\":\"x\",\"y\":[1.5,0.37],\"yaxis\":\"y\",\"type\":\"scatter\"},{\"hovertemplate\":\"Platform=3DO<br>Year=%{x}<br>Global=%{y}<extra></extra>\",\"legendgroup\":\"3DO\",\"line\":{\"color\":\"#77b89d\",\"dash\":\"solid\"},\"marker\":{\"symbol\":\"circle\"},\"mode\":\"lines\",\"name\":\"3DO\",\"orientation\":\"v\",\"showlegend\":true,\"x\":[1994.0,1995.0],\"xaxis\":\"x\",\"y\":[0.02,0.08],\"yaxis\":\"y\",\"type\":\"scatter\"},{\"hovertemplate\":\"Platform=PS<br>Year=%{x}<br>Global=%{y}<extra></extra>\",\"legendgroup\":\"PS\",\"line\":{\"color\":\"#9eccb9\",\"dash\":\"solid\"},\"marker\":{\"symbol\":\"circle\"},\"mode\":\"lines\",\"name\":\"PS\",\"orientation\":\"v\",\"showlegend\":true,\"x\":[1994.0,1995.0,1996.0,1997.0,1998.0,1999.0,2000.0,2001.0,2002.0,2003.0],\"xaxis\":\"x\",\"y\":[6.0200000000000005,35.92,94.68,136.08,169.58,144.57,96.28,35.52,6.6899999999999995,2.05],\"yaxis\":\"y\",\"type\":\"scatter\"},{\"hovertemplate\":\"Platform=SAT<br>Year=%{x}<br>Global=%{y}<extra></extra>\",\"legendgroup\":\"SAT\",\"line\":{\"color\":\"#015666\",\"dash\":\"solid\"},\"marker\":{\"symbol\":\"circle\"},\"mode\":\"lines\",\"name\":\"SAT\",\"orientation\":\"v\",\"showlegend\":true,\"x\":[1994.0,1995.0,1996.0,1997.0,1998.0,1999.0],\"xaxis\":\"x\",\"y\":[3.64,11.58,7.69,6.7700000000000005,3.82,0.09],\"yaxis\":\"y\",\"type\":\"scatter\"},{\"hovertemplate\":\"Platform=TG16<br>Year=%{x}<br>Global=%{y}<extra></extra>\",\"legendgroup\":\"TG16\",\"line\":{\"color\":\"#1a889d\",\"dash\":\"solid\"},\"marker\":{\"symbol\":\"circle\"},\"mode\":\"lines\",\"name\":\"TG16\",\"orientation\":\"v\",\"showlegend\":true,\"x\":[1995.0],\"xaxis\":\"x\",\"y\":[0.16],\"yaxis\":\"y\",\"type\":\"scatter\"},{\"hovertemplate\":\"Platform=N64<br>Year=%{x}<br>Global=%{y}<extra></extra>\",\"legendgroup\":\"N64\",\"line\":{\"color\":\"#4da3b3\",\"dash\":\"solid\"},\"marker\":{\"symbol\":\"circle\"},\"mode\":\"lines\",\"name\":\"N64\",\"orientation\":\"v\",\"showlegend\":true,\"x\":[1996.0,1997.0,1998.0,1999.0,2000.0,2001.0,2002.0],\"xaxis\":\"x\",\"y\":[34.11,39.51,49.28,57.96,34.01,3.26,0.08],\"yaxis\":\"y\",\"type\":\"scatter\"},{\"hovertemplate\":\"Platform=PCFX<br>Year=%{x}<br>Global=%{y}<extra></extra>\",\"legendgroup\":\"PCFX\",\"line\":{\"color\":\"#80bdc9\",\"dash\":\"solid\"},\"marker\":{\"symbol\":\"circle\"},\"mode\":\"lines\",\"name\":\"PCFX\",\"orientation\":\"v\",\"showlegend\":true,\"x\":[1996.0],\"xaxis\":\"x\",\"y\":[0.03],\"yaxis\":\"y\",\"type\":\"scatter\"},{\"hovertemplate\":\"Platform=DC<br>Year=%{x}<br>Global=%{y}<extra></extra>\",\"legendgroup\":\"DC\",\"line\":{\"color\":\"#b3d7de\",\"dash\":\"solid\"},\"marker\":{\"symbol\":\"circle\"},\"mode\":\"lines\",\"name\":\"DC\",\"orientation\":\"v\",\"showlegend\":true,\"x\":[1998.0,1999.0,2000.0,2001.0,2002.0,2007.0,2008.0],\"xaxis\":\"x\",\"y\":[3.39,5.17,5.99,1.07,0.29,0.02,0.04],\"yaxis\":\"y\",\"type\":\"scatter\"},{\"hovertemplate\":\"Platform=WS<br>Year=%{x}<br>Global=%{y}<extra></extra>\",\"legendgroup\":\"WS\",\"line\":{\"color\":\"#cce5e9\",\"dash\":\"solid\"},\"marker\":{\"symbol\":\"circle\"},\"mode\":\"lines\",\"name\":\"WS\",\"orientation\":\"v\",\"showlegend\":true,\"x\":[1999.0,2000.0,2001.0],\"xaxis\":\"x\",\"y\":[0.46,0.68,0.28],\"yaxis\":\"y\",\"type\":\"scatter\"},{\"hovertemplate\":\"Platform=GBA<br>Year=%{x}<br>Global=%{y}<extra></extra>\",\"legendgroup\":\"GBA\",\"line\":{\"color\":\"#2b6b51\",\"dash\":\"solid\"},\"marker\":{\"symbol\":\"circle\"},\"mode\":\"lines\",\"name\":\"GBA\",\"orientation\":\"v\",\"showlegend\":true,\"x\":[2000.0,2001.0,2002.0,2003.0,2004.0,2005.0,2006.0,2007.0],\"xaxis\":\"x\",\"y\":[0.06,61.62,74.38,56.730000000000004,78.09,33.9,5.35,3.43],\"yaxis\":\"y\",\"type\":\"scatter\"},{\"hovertemplate\":\"Platform=PS2<br>Year=%{x}<br>Global=%{y}<extra></extra>\",\"legendgroup\":\"PS2\",\"line\":{\"color\":\"#317a5c\",\"dash\":\"solid\"},\"marker\":{\"symbol\":\"circle\"},\"mode\":\"lines\",\"name\":\"PS2\",\"orientation\":\"v\",\"showlegend\":true,\"x\":[2000.0,2001.0,2002.0,2003.0,2004.0,2005.0,2006.0,2007.0,2008.0,2009.0,2010.0,2011.0],\"xaxis\":\"x\",\"y\":[39.11,166.43,205.4,184.29,211.78,160.65,103.42,75.99,53.83,26.45,5.63,0.47000000000000003],\"yaxis\":\"y\",\"type\":\"scatter\"},{\"hovertemplate\":\"Platform=XB<br>Year=%{x}<br>Global=%{y}<extra></extra>\",\"legendgroup\":\"XB\",\"line\":{\"color\":\"#378a68\",\"dash\":\"solid\"},\"marker\":{\"symbol\":\"circle\"},\"mode\":\"lines\",\"name\":\"XB\",\"orientation\":\"v\",\"showlegend\":true,\"x\":[2000.0,2001.0,2002.0,2003.0,2004.0,2005.0,2006.0,2007.0,2008.0],\"xaxis\":\"x\",\"y\":[0.99,22.24,48.15,55.160000000000004,65.5,49.17,10.15,0.5499999999999999,0.18],\"yaxis\":\"y\",\"type\":\"scatter\"},{\"hovertemplate\":\"Platform=GC<br>Year=%{x}<br>Global=%{y}<extra></extra>\",\"legendgroup\":\"GC\",\"line\":{\"color\":\"#50a381\",\"dash\":\"solid\"},\"marker\":{\"symbol\":\"circle\"},\"mode\":\"lines\",\"name\":\"GC\",\"orientation\":\"v\",\"showlegend\":true,\"x\":[2001.0,2002.0,2003.0,2004.0,2005.0,2006.0,2007.0],\"xaxis\":\"x\",\"y\":[26.3,51.93,50.660000000000004,28.89,27.8,11.290000000000001,0.27],\"yaxis\":\"y\",\"type\":\"scatter\"},{\"hovertemplate\":\"Platform=PSP<br>Year=%{x}<br>Global=%{y}<extra></extra>\",\"legendgroup\":\"PSP\",\"line\":{\"color\":\"#77b89d\",\"dash\":\"solid\"},\"marker\":{\"symbol\":\"circle\"},\"mode\":\"lines\",\"name\":\"PSP\",\"orientation\":\"v\",\"showlegend\":true,\"x\":[2004.0,2005.0,2006.0,2007.0,2008.0,2009.0,2010.0,2011.0,2012.0,2013.0,2014.0,2015.0],\"xaxis\":\"x\",\"y\":[7.13,44.23,55.85,47.48,34.68,38.07,35.09,17.66,7.66,3.19,0.24,0.12],\"yaxis\":\"y\",\"type\":\"scatter\"},{\"hovertemplate\":\"Platform=X360<br>Year=%{x}<br>Global=%{y}<extra></extra>\",\"legendgroup\":\"X360\",\"line\":{\"color\":\"#9eccb9\",\"dash\":\"solid\"},\"marker\":{\"symbol\":\"circle\"},\"mode\":\"lines\",\"name\":\"X360\",\"orientation\":\"v\",\"showlegend\":true,\"x\":[2005.0,2006.0,2007.0,2008.0,2009.0,2010.0,2011.0,2012.0,2013.0,2014.0,2015.0,2016.0],\"xaxis\":\"x\",\"y\":[8.32,51.88,95.84,135.76,120.75,171.02,145.04,100.86,89.59,36.42,13.05,0.8300000000000001],\"yaxis\":\"y\",\"type\":\"scatter\"},{\"hovertemplate\":\"Platform=PS3<br>Year=%{x}<br>Global=%{y}<extra></extra>\",\"legendgroup\":\"PS3\",\"line\":{\"color\":\"#015666\",\"dash\":\"solid\"},\"marker\":{\"symbol\":\"circle\"},\"mode\":\"lines\",\"name\":\"PS3\",\"orientation\":\"v\",\"showlegend\":true,\"x\":[2006.0,2007.0,2008.0,2009.0,2010.0,2011.0,2012.0,2013.0,2014.0,2015.0,2016.0],\"xaxis\":\"x\",\"y\":[21.07,73.81,119.69,132.34,144.42,159.37,109.28,117.33,50.96,18.18,2.59],\"yaxis\":\"y\",\"type\":\"scatter\"},{\"hovertemplate\":\"Platform=Wii<br>Year=%{x}<br>Global=%{y}<extra></extra>\",\"legendgroup\":\"Wii\",\"line\":{\"color\":\"#1a889d\",\"dash\":\"solid\"},\"marker\":{\"symbol\":\"circle\"},\"mode\":\"lines\",\"name\":\"Wii\",\"orientation\":\"v\",\"showlegend\":true,\"x\":[2006.0,2007.0,2008.0,2009.0,2010.0,2011.0,2012.0,2013.0,2014.0,2015.0],\"xaxis\":\"x\",\"y\":[137.91,154.97,174.16,210.44,131.8,62.41,22.77,9.36,4.4399999999999995,1.55],\"yaxis\":\"y\",\"type\":\"scatter\"},{\"hovertemplate\":\"Platform=3DS<br>Year=%{x}<br>Global=%{y}<extra></extra>\",\"legendgroup\":\"3DS\",\"line\":{\"color\":\"#4da3b3\",\"dash\":\"solid\"},\"marker\":{\"symbol\":\"circle\"},\"mode\":\"lines\",\"name\":\"3DS\",\"orientation\":\"v\",\"showlegend\":true,\"x\":[2011.0,2012.0,2013.0,2014.0,2015.0,2016.0],\"xaxis\":\"x\",\"y\":[62.53,51.14,55.88,43.14,26.99,6.6000000000000005],\"yaxis\":\"y\",\"type\":\"scatter\"},{\"hovertemplate\":\"Platform=PSV<br>Year=%{x}<br>Global=%{y}<extra></extra>\",\"legendgroup\":\"PSV\",\"line\":{\"color\":\"#80bdc9\",\"dash\":\"solid\"},\"marker\":{\"symbol\":\"circle\"},\"mode\":\"lines\",\"name\":\"PSV\",\"orientation\":\"v\",\"showlegend\":true,\"x\":[2011.0,2012.0,2013.0,2014.0,2015.0,2016.0,2017.0],\"xaxis\":\"x\",\"y\":[5.15,18.53,12.48,14.5,7.0,3.4,0.02],\"yaxis\":\"y\",\"type\":\"scatter\"},{\"hovertemplate\":\"Platform=WiiU<br>Year=%{x}<br>Global=%{y}<extra></extra>\",\"legendgroup\":\"WiiU\",\"line\":{\"color\":\"#b3d7de\",\"dash\":\"solid\"},\"marker\":{\"symbol\":\"circle\"},\"mode\":\"lines\",\"name\":\"WiiU\",\"orientation\":\"v\",\"showlegend\":true,\"x\":[2012.0,2013.0,2014.0,2015.0,2016.0],\"xaxis\":\"x\",\"y\":[17.84,21.84,22.509999999999998,16.38,3.29],\"yaxis\":\"y\",\"type\":\"scatter\"},{\"hovertemplate\":\"Platform=PS4<br>Year=%{x}<br>Global=%{y}<extra></extra>\",\"legendgroup\":\"PS4\",\"line\":{\"color\":\"#cce5e9\",\"dash\":\"solid\"},\"marker\":{\"symbol\":\"circle\"},\"mode\":\"lines\",\"name\":\"PS4\",\"orientation\":\"v\",\"showlegend\":true,\"x\":[2013.0,2014.0,2015.0,2016.0,2017.0],\"xaxis\":\"x\",\"y\":[24.76,98.76,115.24,39.25,0.03],\"yaxis\":\"y\",\"type\":\"scatter\"},{\"hovertemplate\":\"Platform=XOne<br>Year=%{x}<br>Global=%{y}<extra></extra>\",\"legendgroup\":\"XOne\",\"line\":{\"color\":\"#2b6b51\",\"dash\":\"solid\"},\"marker\":{\"symbol\":\"circle\"},\"mode\":\"lines\",\"name\":\"XOne\",\"orientation\":\"v\",\"showlegend\":true,\"x\":[2013.0,2014.0,2015.0,2016.0],\"xaxis\":\"x\",\"y\":[18.6,52.43,57.66,12.37],\"yaxis\":\"y\",\"type\":\"scatter\"}],                        {\"template\":{\"data\":{\"histogram2dcontour\":[{\"type\":\"histogram2dcontour\",\"colorbar\":{\"outlinewidth\":0,\"ticks\":\"\"},\"colorscale\":[[0.0,\"#0d0887\"],[0.1111111111111111,\"#46039f\"],[0.2222222222222222,\"#7201a8\"],[0.3333333333333333,\"#9c179e\"],[0.4444444444444444,\"#bd3786\"],[0.5555555555555556,\"#d8576b\"],[0.6666666666666666,\"#ed7953\"],[0.7777777777777778,\"#fb9f3a\"],[0.8888888888888888,\"#fdca26\"],[1.0,\"#f0f921\"]]}],\"choropleth\":[{\"type\":\"choropleth\",\"colorbar\":{\"outlinewidth\":0,\"ticks\":\"\"}}],\"histogram2d\":[{\"type\":\"histogram2d\",\"colorbar\":{\"outlinewidth\":0,\"ticks\":\"\"},\"colorscale\":[[0.0,\"#0d0887\"],[0.1111111111111111,\"#46039f\"],[0.2222222222222222,\"#7201a8\"],[0.3333333333333333,\"#9c179e\"],[0.4444444444444444,\"#bd3786\"],[0.5555555555555556,\"#d8576b\"],[0.6666666666666666,\"#ed7953\"],[0.7777777777777778,\"#fb9f3a\"],[0.8888888888888888,\"#fdca26\"],[1.0,\"#f0f921\"]]}],\"heatmap\":[{\"type\":\"heatmap\",\"colorbar\":{\"outlinewidth\":0,\"ticks\":\"\"},\"colorscale\":[[0.0,\"#0d0887\"],[0.1111111111111111,\"#46039f\"],[0.2222222222222222,\"#7201a8\"],[0.3333333333333333,\"#9c179e\"],[0.4444444444444444,\"#bd3786\"],[0.5555555555555556,\"#d8576b\"],[0.6666666666666666,\"#ed7953\"],[0.7777777777777778,\"#fb9f3a\"],[0.8888888888888888,\"#fdca26\"],[1.0,\"#f0f921\"]]}],\"heatmapgl\":[{\"type\":\"heatmapgl\",\"colorbar\":{\"outlinewidth\":0,\"ticks\":\"\"},\"colorscale\":[[0.0,\"#0d0887\"],[0.1111111111111111,\"#46039f\"],[0.2222222222222222,\"#7201a8\"],[0.3333333333333333,\"#9c179e\"],[0.4444444444444444,\"#bd3786\"],[0.5555555555555556,\"#d8576b\"],[0.6666666666666666,\"#ed7953\"],[0.7777777777777778,\"#fb9f3a\"],[0.8888888888888888,\"#fdca26\"],[1.0,\"#f0f921\"]]}],\"contourcarpet\":[{\"type\":\"contourcarpet\",\"colorbar\":{\"outlinewidth\":0,\"ticks\":\"\"}}],\"contour\":[{\"type\":\"contour\",\"colorbar\":{\"outlinewidth\":0,\"ticks\":\"\"},\"colorscale\":[[0.0,\"#0d0887\"],[0.1111111111111111,\"#46039f\"],[0.2222222222222222,\"#7201a8\"],[0.3333333333333333,\"#9c179e\"],[0.4444444444444444,\"#bd3786\"],[0.5555555555555556,\"#d8576b\"],[0.6666666666666666,\"#ed7953\"],[0.7777777777777778,\"#fb9f3a\"],[0.8888888888888888,\"#fdca26\"],[1.0,\"#f0f921\"]]}],\"surface\":[{\"type\":\"surface\",\"colorbar\":{\"outlinewidth\":0,\"ticks\":\"\"},\"colorscale\":[[0.0,\"#0d0887\"],[0.1111111111111111,\"#46039f\"],[0.2222222222222222,\"#7201a8\"],[0.3333333333333333,\"#9c179e\"],[0.4444444444444444,\"#bd3786\"],[0.5555555555555556,\"#d8576b\"],[0.6666666666666666,\"#ed7953\"],[0.7777777777777778,\"#fb9f3a\"],[0.8888888888888888,\"#fdca26\"],[1.0,\"#f0f921\"]]}],\"mesh3d\":[{\"type\":\"mesh3d\",\"colorbar\":{\"outlinewidth\":0,\"ticks\":\"\"}}],\"scatter\":[{\"fillpattern\":{\"fillmode\":\"overlay\",\"size\":10,\"solidity\":0.2},\"type\":\"scatter\"}],\"parcoords\":[{\"type\":\"parcoords\",\"line\":{\"colorbar\":{\"outlinewidth\":0,\"ticks\":\"\"}}}],\"scatterpolargl\":[{\"type\":\"scatterpolargl\",\"marker\":{\"colorbar\":{\"outlinewidth\":0,\"ticks\":\"\"}}}],\"bar\":[{\"error_x\":{\"color\":\"#2a3f5f\"},\"error_y\":{\"color\":\"#2a3f5f\"},\"marker\":{\"line\":{\"color\":\"#E5ECF6\",\"width\":0.5},\"pattern\":{\"fillmode\":\"overlay\",\"size\":10,\"solidity\":0.2}},\"type\":\"bar\"}],\"scattergeo\":[{\"type\":\"scattergeo\",\"marker\":{\"colorbar\":{\"outlinewidth\":0,\"ticks\":\"\"}}}],\"scatterpolar\":[{\"type\":\"scatterpolar\",\"marker\":{\"colorbar\":{\"outlinewidth\":0,\"ticks\":\"\"}}}],\"histogram\":[{\"marker\":{\"pattern\":{\"fillmode\":\"overlay\",\"size\":10,\"solidity\":0.2}},\"type\":\"histogram\"}],\"scattergl\":[{\"type\":\"scattergl\",\"marker\":{\"colorbar\":{\"outlinewidth\":0,\"ticks\":\"\"}}}],\"scatter3d\":[{\"type\":\"scatter3d\",\"line\":{\"colorbar\":{\"outlinewidth\":0,\"ticks\":\"\"}},\"marker\":{\"colorbar\":{\"outlinewidth\":0,\"ticks\":\"\"}}}],\"scattermapbox\":[{\"type\":\"scattermapbox\",\"marker\":{\"colorbar\":{\"outlinewidth\":0,\"ticks\":\"\"}}}],\"scatterternary\":[{\"type\":\"scatterternary\",\"marker\":{\"colorbar\":{\"outlinewidth\":0,\"ticks\":\"\"}}}],\"scattercarpet\":[{\"type\":\"scattercarpet\",\"marker\":{\"colorbar\":{\"outlinewidth\":0,\"ticks\":\"\"}}}],\"carpet\":[{\"aaxis\":{\"endlinecolor\":\"#2a3f5f\",\"gridcolor\":\"white\",\"linecolor\":\"white\",\"minorgridcolor\":\"white\",\"startlinecolor\":\"#2a3f5f\"},\"baxis\":{\"endlinecolor\":\"#2a3f5f\",\"gridcolor\":\"white\",\"linecolor\":\"white\",\"minorgridcolor\":\"white\",\"startlinecolor\":\"#2a3f5f\"},\"type\":\"carpet\"}],\"table\":[{\"cells\":{\"fill\":{\"color\":\"#EBF0F8\"},\"line\":{\"color\":\"white\"}},\"header\":{\"fill\":{\"color\":\"#C8D4E3\"},\"line\":{\"color\":\"white\"}},\"type\":\"table\"}],\"barpolar\":[{\"marker\":{\"line\":{\"color\":\"#E5ECF6\",\"width\":0.5},\"pattern\":{\"fillmode\":\"overlay\",\"size\":10,\"solidity\":0.2}},\"type\":\"barpolar\"}],\"pie\":[{\"automargin\":true,\"type\":\"pie\"}]},\"layout\":{\"autotypenumbers\":\"strict\",\"colorway\":[\"#636efa\",\"#EF553B\",\"#00cc96\",\"#ab63fa\",\"#FFA15A\",\"#19d3f3\",\"#FF6692\",\"#B6E880\",\"#FF97FF\",\"#FECB52\"],\"font\":{\"color\":\"#2a3f5f\"},\"hovermode\":\"closest\",\"hoverlabel\":{\"align\":\"left\"},\"paper_bgcolor\":\"white\",\"plot_bgcolor\":\"#E5ECF6\",\"polar\":{\"bgcolor\":\"#E5ECF6\",\"angularaxis\":{\"gridcolor\":\"white\",\"linecolor\":\"white\",\"ticks\":\"\"},\"radialaxis\":{\"gridcolor\":\"white\",\"linecolor\":\"white\",\"ticks\":\"\"}},\"ternary\":{\"bgcolor\":\"#E5ECF6\",\"aaxis\":{\"gridcolor\":\"white\",\"linecolor\":\"white\",\"ticks\":\"\"},\"baxis\":{\"gridcolor\":\"white\",\"linecolor\":\"white\",\"ticks\":\"\"},\"caxis\":{\"gridcolor\":\"white\",\"linecolor\":\"white\",\"ticks\":\"\"}},\"coloraxis\":{\"colorbar\":{\"outlinewidth\":0,\"ticks\":\"\"}},\"colorscale\":{\"sequential\":[[0.0,\"#0d0887\"],[0.1111111111111111,\"#46039f\"],[0.2222222222222222,\"#7201a8\"],[0.3333333333333333,\"#9c179e\"],[0.4444444444444444,\"#bd3786\"],[0.5555555555555556,\"#d8576b\"],[0.6666666666666666,\"#ed7953\"],[0.7777777777777778,\"#fb9f3a\"],[0.8888888888888888,\"#fdca26\"],[1.0,\"#f0f921\"]],\"sequentialminus\":[[0.0,\"#0d0887\"],[0.1111111111111111,\"#46039f\"],[0.2222222222222222,\"#7201a8\"],[0.3333333333333333,\"#9c179e\"],[0.4444444444444444,\"#bd3786\"],[0.5555555555555556,\"#d8576b\"],[0.6666666666666666,\"#ed7953\"],[0.7777777777777778,\"#fb9f3a\"],[0.8888888888888888,\"#fdca26\"],[1.0,\"#f0f921\"]],\"diverging\":[[0,\"#8e0152\"],[0.1,\"#c51b7d\"],[0.2,\"#de77ae\"],[0.3,\"#f1b6da\"],[0.4,\"#fde0ef\"],[0.5,\"#f7f7f7\"],[0.6,\"#e6f5d0\"],[0.7,\"#b8e186\"],[0.8,\"#7fbc41\"],[0.9,\"#4d9221\"],[1,\"#276419\"]]},\"xaxis\":{\"gridcolor\":\"white\",\"linecolor\":\"white\",\"ticks\":\"\",\"title\":{\"standoff\":15},\"zerolinecolor\":\"white\",\"automargin\":true,\"zerolinewidth\":2},\"yaxis\":{\"gridcolor\":\"white\",\"linecolor\":\"white\",\"ticks\":\"\",\"title\":{\"standoff\":15},\"zerolinecolor\":\"white\",\"automargin\":true,\"zerolinewidth\":2},\"scene\":{\"xaxis\":{\"backgroundcolor\":\"#E5ECF6\",\"gridcolor\":\"white\",\"linecolor\":\"white\",\"showbackground\":true,\"ticks\":\"\",\"zerolinecolor\":\"white\",\"gridwidth\":2},\"yaxis\":{\"backgroundcolor\":\"#E5ECF6\",\"gridcolor\":\"white\",\"linecolor\":\"white\",\"showbackground\":true,\"ticks\":\"\",\"zerolinecolor\":\"white\",\"gridwidth\":2},\"zaxis\":{\"backgroundcolor\":\"#E5ECF6\",\"gridcolor\":\"white\",\"linecolor\":\"white\",\"showbackground\":true,\"ticks\":\"\",\"zerolinecolor\":\"white\",\"gridwidth\":2}},\"shapedefaults\":{\"line\":{\"color\":\"#2a3f5f\"}},\"annotationdefaults\":{\"arrowcolor\":\"#2a3f5f\",\"arrowhead\":0,\"arrowwidth\":1},\"geo\":{\"bgcolor\":\"white\",\"landcolor\":\"#E5ECF6\",\"subunitcolor\":\"white\",\"showland\":true,\"showlakes\":true,\"lakecolor\":\"white\"},\"title\":{\"x\":0.05},\"mapbox\":{\"style\":\"light\"}}},\"xaxis\":{\"anchor\":\"y\",\"domain\":[0.0,1.0],\"title\":{\"text\":\"Year\"},\"showline\":true,\"linewidth\":1,\"linecolor\":\"black\"},\"yaxis\":{\"anchor\":\"x\",\"domain\":[0.0,1.0],\"title\":{\"text\":\"Global\"},\"showline\":true,\"linewidth\":1,\"linecolor\":\"black\"},\"legend\":{\"title\":{\"text\":\"Platform\"},\"tracegroupgap\":0},\"margin\":{\"t\":60},\"plot_bgcolor\":\"white\",\"paper_bgcolor\":\"white\"},                        {\"responsive\": true}                    ).then(function(){\n                            \nvar gd = document.getElementById('cadf320f-a90f-44f3-8e66-b54dfb4aa548');\nvar x = new MutationObserver(function (mutations, observer) {{\n        var display = window.getComputedStyle(gd).display;\n        if (!display || display === 'none') {{\n            console.log([gd, 'removed!']);\n            Plotly.purge(gd);\n            observer.disconnect();\n        }}\n}});\n\n// Listen for the removal of the full notebook cells\nvar notebookContainer = gd.closest('#notebook-container');\nif (notebookContainer) {{\n    x.observe(notebookContainer, {childList: true});\n}}\n\n// Listen for the clearing of the current output cell\nvar outputEl = gd.closest('.output');\nif (outputEl) {{\n    x.observe(outputEl, {childList: true});\n}}\n\n                        })                };                });            </script>        </div>"
     },
     "metadata": {},
     "output_type": "display_data"
    }
   ],
   "source": [
    "#b\n",
    "#Zuerst werden die Daten und Funktion für Linien Diagram vorbereitet\n",
    "df_1 = pd.read_csv(\"D:/Studium/FS 2023/Dashboard Design/Aufgaben/Dataset_videogames sales CSV.csv\", sep=\";\")\n",
    "\n",
    "df_1.columns = df_1.columns.str.replace('Global_Sales', 'Global')\n",
    "df_1.columns = df_1.columns.str.replace('NA_Sales', 'North America')\n",
    "df_1.columns = df_1.columns.str.replace('EU_Sales', 'Europe')\n",
    "df_1.columns = df_1.columns.str.replace('JP_Sales', 'Japan')\n",
    "df_1.columns = df_1.columns.str.replace('Other_Sales', 'Others')\n",
    "df_1.columns = df_1.columns.str.replace('type of console', 'Console')\n",
    "df_1.columns = df_1.columns.str.replace('Platform Company', 'Company')\n",
    "\n",
    "df_1['Platform'] = df_1['Platform'].map(str)\n",
    "\n",
    "# fill na\n",
    "df_1[['Name', 'Platform', 'Company', 'Console', 'Genre', 'Publisher']] = df_1[\n",
    "    ['Name', 'Platform', 'Company', 'Console', 'Genre', 'Publisher']].fillna('none')\n",
    "\n",
    "# line diagram\n",
    "def line_diagram(main_filter, sales_filter):\n",
    "    df_l = df_1[df_1['Global'] > sales_filter]\n",
    "    df_l = df_l.groupby(['Year', main_filter], as_index=False)['Global'].sum()\n",
    "\n",
    "    line_fig = px.line(df_l, x='Year', y='Global', color=main_filter, color_discrete_sequence= ['#015666', '#1a889d', '#4da3b3', '#80bdc9', '#b3d7de', '#cce5e9',  '#2b6b51', '#317a5c','#378a68','#50a381', '#77b89d', '#9eccb9' ])\n",
    "    line_fig.update_layout(plot_bgcolor='white',paper_bgcolor='white')\n",
    "    line_fig.update_xaxes(showline=True, linewidth=1, linecolor='black')\n",
    "    line_fig.update_yaxes(showline=True, linewidth=1, linecolor='black')\n",
    "    return line_fig\n",
    "\n",
    "line_diagram('Platform', 0)"
   ],
   "metadata": {
    "collapsed": false
   }
  },
  {
   "cell_type": "code",
   "execution_count": 16,
   "outputs": [
    {
     "name": "stdout",
     "output_type": "stream",
     "text": [
      "Dash is running on http://127.0.0.1:8000/\n",
      "\n",
      " * Serving Flask app '__main__'\n",
      " * Debug mode: off\n"
     ]
    }
   ],
   "source": [
    "#Implementierung\n",
    "app = Dash(__name__, external_stylesheets=[dbc.themes.BOOTSTRAP])\n",
    "\n",
    "df = pd.DataFrame({'y': np.random.normal(loc=0, scale=10, size=1000), 'x': np.random.normal(loc=10, scale=2, size=1000)})\n",
    "\n",
    "app.layout = html.Div([\n",
    "    html.Div([html.H1(\"Dashboard 3\")], className=\"header\"),\n",
    "    html.Div([\n",
    "        dcc.Tabs(id=\"tabs\", children=[\n",
    "            dcc.Tab(label='Tab One', id=\"tab_1_graphs\", children=[\n",
    "                html.Div([\n",
    "                    dbc.Row([\n",
    "                        dbc.Col([dcc.Dropdown(options=['red', 'green', 'blue'], value='red', id='color', multi=False)], width=6),\n",
    "                        dbc.Col([dcc.Slider(min=math.floor(df['y'].min()), max=math.ceil(df['y'].max()), id=\"min_value\")], width=6)\n",
    "                    ]),\n",
    "                    dbc.Row([\n",
    "                        dbc.Col([dcc.Graph(id=\"graph_1\")], width=6),\n",
    "                        dbc.Col([dcc.Graph(id=\"graph_2\")], width=6)\n",
    "                    ])\n",
    "                ], className=\"tab_content\")\n",
    "            ]),\n",
    "            dcc.Tab(label='Tab Two', id=\"tab_2_graphs\", children=[\n",
    "                html.Div([\n",
    "                    html.H2(\"Funktionalität 1 - Texteingabe\"),\n",
    "                    dcc.Input(id='input-text', type='text', placeholder='Text eingeben'),\n",
    "                    html.Button('Submit', id='submit-button', n_clicks=0),\n",
    "                    html.Div(id='output-text'),\n",
    "\n",
    "                    html.H2(\"Funktionalität 2 - Checkbox\"),\n",
    "                    dcc.Checklist(\n",
    "                        id='city-checkboxes',\n",
    "                        options=[\n",
    "                            {'label': 'Zürich', 'value': 'Zurich'},\n",
    "                            {'label': 'Chur', 'value': 'Chur'},\n",
    "                            {'label': 'Luzern', 'value': 'Luzern'}\n",
    "                        ],\n",
    "                        value=[]\n",
    "                    ),\n",
    "                    html.Div(id='selected-cities')\n",
    "                ], className=\"tab_content\")\n",
    "            ]),\n",
    "            dcc.Tab(label='Tab Three', id=\"tab_3_graphs\", children=[\n",
    "                html.Div([\n",
    "                    html.H2(\"Linien-Diagramm\"),\n",
    "                    dcc.RadioItems(\n",
    "                        id='check_choice',\n",
    "                        options=[{'label': 'Platform', 'value': 'Platform'},\n",
    "                                {'label': 'Genre', 'value': 'Genre'},\n",
    "                                {'label': 'Console', 'value': 'Console'},\n",
    "                                {'label': 'Company', 'value': 'Company'},\n",
    "                                {'label': 'Publisher', 'value': 'Publisher'}],\n",
    "                        value='Platform',\n",
    "                        inline=True),\n",
    "                    dcc.RadioItems(\n",
    "                        id='sales_filter',\n",
    "                        options=[{'label': '0', 'value': 0},\n",
    "                                {'label': '10', 'value': 10}],\n",
    "                        value=0,\n",
    "                        inline=True),\n",
    "                    dcc.Graph(id=\"line_diagram\"),\n",
    "                ], className=\"tab_content\")\n",
    "            ]),\n",
    "        ]),\n",
    "    ], className=\"content\" )\n",
    "])\n",
    "\n",
    "@app.callback(Output('output-text', 'children'), Input('submit-button', 'n_clicks'), [State('input-text', 'value')])\n",
    "def update_output_text(n_clicks, input_value):\n",
    "    if n_clicks > 0:\n",
    "        if input_value:\n",
    "            return f'Du hast \"{input_value}\" eingegeben.'\n",
    "        else:\n",
    "            return 'Gib etwas Text ein und klicke auf Submit.'\n",
    "    else:\n",
    "        return ''\n",
    "\n",
    "@app.callback(Output('selected-cities', 'children'), Input('city-checkboxes', 'value'))\n",
    "def update_selected_cities(selected_cities):\n",
    "    if selected_cities:\n",
    "        return f'Du hast folgende Städte ausgewählt: {\", \".join(selected_cities)}'\n",
    "    else:\n",
    "        return 'Wähle eine oder mehrere Städte aus.'\n",
    "\n",
    "@app.callback(Output(\"graph_1\", \"figure\"), Input(\"color\", \"value\"))\n",
    "def update_graph_1(dropdown_value_color):\n",
    "    fig = px.histogram(df, x=\"y\", color_discrete_sequence=[dropdown_value_color])\n",
    "    fig.update_layout(template=\"plotly_white\")\n",
    "    return fig\n",
    "\n",
    "@app.callback(Output(\"graph_2\", \"figure\"), Input(\"min_value\", \"value\"))\n",
    "def update_graph_2(min_value):\n",
    "    if min_value:\n",
    "        dff = df[df['y'] > min_value]\n",
    "    else:\n",
    "        dff = df\n",
    "    fig = px.scatter(dff, x='x', y='y')\n",
    "    fig.update_layout(template=\"plotly_white\")\n",
    "    return fig\n",
    "\n",
    "@app.callback(Output('line_diagram', 'figure'), Input('check_choice', 'value'), Input('sales_filter', 'value'))\n",
    "def update_line_diagram(main_filter, sales_filter):\n",
    "    return line_diagram(main_filter, sales_filter)\n",
    "\n",
    "if __name__ == '__main__':\n",
    "    app.run_server(debug=False, port=8000)"
   ],
   "metadata": {
    "collapsed": false
   }
  },
  {
   "cell_type": "code",
   "execution_count": 24,
   "outputs": [],
   "source": [],
   "metadata": {
    "collapsed": false
   }
  },
  {
   "cell_type": "code",
   "execution_count": 129,
   "outputs": [],
   "source": [],
   "metadata": {
    "collapsed": false
   }
  }
 ],
 "metadata": {
  "kernelspec": {
   "display_name": "Python 3",
   "language": "python",
   "name": "python3"
  },
  "language_info": {
   "codemirror_mode": {
    "name": "ipython",
    "version": 2
   },
   "file_extension": ".py",
   "mimetype": "text/x-python",
   "name": "python",
   "nbconvert_exporter": "python",
   "pygments_lexer": "ipython2",
   "version": "2.7.6"
  }
 },
 "nbformat": 4,
 "nbformat_minor": 0
}
