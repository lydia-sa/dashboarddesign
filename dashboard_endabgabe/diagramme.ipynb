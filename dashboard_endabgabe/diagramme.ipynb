{
 "cells": [
  {
   "cell_type": "code",
   "execution_count": 12,
   "metadata": {
    "collapsed": true
   },
   "outputs": [],
   "source": [
    "import pandas as pd\n",
    "import plotly.graph_objects as go\n",
    "from dash import Dash, dcc, html, Input, Output, callback\n",
    "import plotly.express as px\n",
    "from dash import Dash, dash_table, dcc, html\n",
    "from dash.dependencies import Input, Output\n",
    "%run dataimport_cleaning.ipynb"
   ]
  },
  {
   "cell_type": "markdown",
   "source": [
    "## stacked bar chart"
   ],
   "metadata": {
    "collapsed": false
   }
  },
  {
   "cell_type": "code",
   "execution_count": 13,
   "outputs": [],
   "source": [
    "def stacked_bar_chart_plotly(main_filter, sales_filter):\n",
    "    # extract and copy date from df\n",
    "    df_bar = df[[main_filter,'North America', 'Europe', 'Japan', 'Others', 'Global']]\n",
    "    df_bar = df_bar[df_bar['Global'] > sales_filter]\n",
    "\n",
    "    # group by filter and sort by global sales\n",
    "    df_bar_grouped = df_bar.groupby([main_filter]).sum()\n",
    "    df_bar_grouped = df_bar_grouped.sort_values(by=['Global'], ascending=False)\n",
    "\n",
    "    #main filter as column in data frame\n",
    "    df_bar_grouped.reset_index(inplace=True)\n",
    "    df_bar_grouped = df_bar_grouped.rename(columns = {'index':main_filter})\n",
    "\n",
    "    # dropout Global Sales\n",
    "    df_bar_grouped = df_bar_grouped [[main_filter, 'North America', 'Europe', 'Japan', 'Others']]\n",
    "\n",
    "    fig = px.bar(df_bar_grouped, x=main_filter, y=['North America', 'Europe', 'Japan', 'Others'], color_discrete_sequence= ['#1a889d', '#4da3b3', '#80bdc9', '#b3d7de'])\n",
    "    fig.update_layout(plot_bgcolor='white',paper_bgcolor='white')\n",
    "    fig.update_xaxes(showline=True, linewidth=1, linecolor='black')\n",
    "    fig.update_yaxes(showline=True, linewidth=1, linecolor='black', title = 'number of sales (in million)')\n",
    "\n",
    "    # legend within the graph (not beside)\n",
    "    fig.update_layout(legend=dict(\n",
    "    title = '  Area',\n",
    "    yanchor=\"top\",\n",
    "    y=0.99,\n",
    "    xanchor=\"right\",\n",
    "    x=0.99\n",
    "))\n",
    "    return fig"
   ],
   "metadata": {
    "collapsed": false
   }
  },
  {
   "cell_type": "markdown",
   "source": [
    "## line chart"
   ],
   "metadata": {
    "collapsed": false
   }
  },
  {
   "cell_type": "code",
   "execution_count": 9,
   "outputs": [],
   "source": [
    "def line_diagram(main_filter, sales_filter):\n",
    "    df_l = df[df['Global'] > sales_filter]\n",
    "    df_l = df_l.groupby(['Year', main_filter], as_index=False)['Global'].sum()\n",
    "\n",
    "    line_fig = px.line(df_l, x='Year', y='Global', color=main_filter, color_discrete_sequence= ['#015666', '#1a889d', '#4da3b3', '#80bdc9', '#b3d7de', '#cce5e9',  '#2b6b51', '#317a5c','#378a68','#50a381', '#77b89d', '#9eccb9' ])\n",
    "    line_fig.update_layout(plot_bgcolor='white',paper_bgcolor='white')\n",
    "    line_fig.update_xaxes(showline=True, linewidth=1, linecolor='black')\n",
    "    line_fig.update_yaxes(showline=True, linewidth=1, linecolor='black')\n",
    "    return line_fig"
   ],
   "metadata": {
    "collapsed": false
   }
  },
  {
   "cell_type": "markdown",
   "source": [
    "## table1"
   ],
   "metadata": {
    "collapsed": false
   }
  },
  {
   "cell_type": "code",
   "execution_count": 10,
   "outputs": [
    {
     "ename": "NameError",
     "evalue": "name 'df' is not defined",
     "output_type": "error",
     "traceback": [
      "\u001B[1;31m---------------------------------------------------------------------------\u001B[0m",
      "\u001B[1;31mNameError\u001B[0m                                 Traceback (most recent call last)",
      "Cell \u001B[1;32mIn[10], line 3\u001B[0m\n\u001B[0;32m      1\u001B[0m app \u001B[38;5;241m=\u001B[39m Dash(\u001B[38;5;18m__name__\u001B[39m)\n\u001B[1;32m----> 3\u001B[0m df_liste \u001B[38;5;241m=\u001B[39m \u001B[43mdf\u001B[49m[[\u001B[38;5;124m'\u001B[39m\u001B[38;5;124mName\u001B[39m\u001B[38;5;124m'\u001B[39m, \u001B[38;5;124m'\u001B[39m\u001B[38;5;124mPlatform\u001B[39m\u001B[38;5;124m'\u001B[39m, \u001B[38;5;124m'\u001B[39m\u001B[38;5;124mGenre\u001B[39m\u001B[38;5;124m'\u001B[39m, \u001B[38;5;124m'\u001B[39m\u001B[38;5;124mGlobal\u001B[39m\u001B[38;5;124m'\u001B[39m]]\n\u001B[0;32m      5\u001B[0m app\u001B[38;5;241m.\u001B[39mlayout \u001B[38;5;241m=\u001B[39m html\u001B[38;5;241m.\u001B[39mDiv([\n\u001B[0;32m      6\u001B[0m     dash_table\u001B[38;5;241m.\u001B[39mDataTable(\n\u001B[0;32m      7\u001B[0m         \u001B[38;5;28mid\u001B[39m\u001B[38;5;241m=\u001B[39m\u001B[38;5;124m'\u001B[39m\u001B[38;5;124mdatatable_1\u001B[39m\u001B[38;5;124m'\u001B[39m,\n\u001B[1;32m   (...)\u001B[0m\n\u001B[0;32m     31\u001B[0m     html\u001B[38;5;241m.\u001B[39mDiv(\u001B[38;5;28mid\u001B[39m\u001B[38;5;241m=\u001B[39m\u001B[38;5;124m'\u001B[39m\u001B[38;5;124mdatatable-interactivity-container\u001B[39m\u001B[38;5;124m'\u001B[39m)\n\u001B[0;32m     32\u001B[0m ])\n\u001B[0;32m     34\u001B[0m \u001B[38;5;129m@app\u001B[39m\u001B[38;5;241m.\u001B[39mcallback(\n\u001B[0;32m     35\u001B[0m     Output(\u001B[38;5;124m'\u001B[39m\u001B[38;5;124mdatatable_1\u001B[39m\u001B[38;5;124m'\u001B[39m, \u001B[38;5;124m'\u001B[39m\u001B[38;5;124mstyle_data_conditional\u001B[39m\u001B[38;5;124m'\u001B[39m),\n\u001B[0;32m     36\u001B[0m     Input(\u001B[38;5;124m'\u001B[39m\u001B[38;5;124mdatatable_1\u001B[39m\u001B[38;5;124m'\u001B[39m, \u001B[38;5;124m'\u001B[39m\u001B[38;5;124mselected_columns\u001B[39m\u001B[38;5;124m'\u001B[39m)\n\u001B[0;32m     37\u001B[0m )\n\u001B[0;32m     38\u001B[0m \u001B[38;5;28;01mdef\u001B[39;00m \u001B[38;5;21mupdate_styles\u001B[39m(selected_columns):\n",
      "\u001B[1;31mNameError\u001B[0m: name 'df' is not defined"
     ]
    }
   ],
   "source": [
    "app = Dash(__name__)\n",
    "\n",
    "df_liste = df[['Name', 'Platform', 'Genre', 'Global']]\n",
    "\n",
    "app.layout = html.Div([\n",
    "    dash_table.DataTable(\n",
    "        id='datatable_1',\n",
    "        columns=[\n",
    "            {'name': i, 'id': i, 'deletable': False, 'selectable': True} for i in df_liste.columns\n",
    "        ],\n",
    "        data=df_liste.to_dict('records'),\n",
    "        style_cell={'textAlign': 'left'},\n",
    "        editable=True,\n",
    "        filter_action='native',\n",
    "        sort_action='native',\n",
    "        #sort_mode='multi',\n",
    "        #column_selectable='single',\n",
    "        #row_selectable='multi',\n",
    "        #selected_columns=[],\n",
    "        #selected_rows=[],\n",
    "        #page_action='native',\n",
    "        page_current= 0,\n",
    "        page_size= 100,\n",
    "        style_header={\n",
    "            'backgroundColor': '#b3d7de',\n",
    "            'fontWeight': 'bold'},\n",
    "        style_data_conditional=[\n",
    "            {'if': {'row_index': 'odd'},\n",
    "            'backgroundColor': '#ecf5f1'}]\n",
    "    ),\n",
    "    html.Div(id='datatable-interactivity-container')\n",
    "])\n",
    "\n",
    "@app.callback(\n",
    "    Output('datatable_1', 'style_data_conditional'),\n",
    "    Input('datatable_1', 'selected_columns')\n",
    ")\n",
    "def update_styles(selected_columns):\n",
    "    return [{\n",
    "        'if': { 'column_id': i },\n",
    "        'background_color': '#D2F3FF'\n",
    "    } for i in selected_columns]\n",
    "\n",
    "\n",
    "if __name__ == '__main__':\n",
    "    app.run_server(debug=False, port = 8070)"
   ],
   "metadata": {
    "collapsed": false
   }
  },
  {
   "cell_type": "markdown",
   "source": [
    "## gauge chart"
   ],
   "metadata": {
    "collapsed": false
   }
  },
  {
   "cell_type": "code",
   "execution_count": 11,
   "outputs": [],
   "source": [
    "\n",
    "def gauge_chart(main_filter, sales_filter):\n",
    "    regions = 'North America', 'Europe', 'Japan', 'Others'\n",
    "    for region in regions:\n",
    "        df_gauge = df[[main_filter,'North America', 'Europe', 'Japan', 'Others', 'Global']]\n",
    "        df_gauge = df_gauge[df_gauge['Global'] > sales_filter]\n",
    "\n",
    "        #calculate the market share\n",
    "        marktanteil_NA_Sales = round(df_gauge[region].sum() / df_gauge['Global'].sum()*100, 1)\n",
    "\n",
    "        #Gauge Chart\n",
    "        fig_gaug = go.Figure(go.Indicator(\n",
    "            domain = {'x': [0, 1], 'y': [0, 1]},\n",
    "            value = marktanteil_NA_Sales,\n",
    "            number=  {'suffix': '%' },\n",
    "            mode = 'gauge+number',\n",
    "            title = {'text': region, 'font': { 'size': 42 }},\n",
    "            gauge = {'axis': {'range': [None, 50]},\n",
    "                     'bar': {'color': '#378a68'},\n",
    "                     'steps' : [\n",
    "                         {'range': [0, 50], 'color': '#b3d7de'},\n",
    "                     ],\n",
    "                         #{'range': [50/3, 50/3*2], 'color': \"blue\"},\n",
    "                         #{'range': [50/3*2, 50], 'color': \"green\"}],\n",
    "                     }))        # 'threshold' : {'line': {'color': \"red\", 'width': 4},'thickness': 0.75, 'value': 0.09}\n",
    "\n",
    "        return fig_gaug"
   ],
   "metadata": {
    "collapsed": false
   }
  },
  {
   "cell_type": "code",
   "execution_count": null,
   "outputs": [],
   "source": [],
   "metadata": {
    "collapsed": false
   }
  }
 ],
 "metadata": {
  "kernelspec": {
   "display_name": "Python 3",
   "language": "python",
   "name": "python3"
  },
  "language_info": {
   "codemirror_mode": {
    "name": "ipython",
    "version": 2
   },
   "file_extension": ".py",
   "mimetype": "text/x-python",
   "name": "python",
   "nbconvert_exporter": "python",
   "pygments_lexer": "ipython2",
   "version": "2.7.6"
  }
 },
 "nbformat": 4,
 "nbformat_minor": 0
}
