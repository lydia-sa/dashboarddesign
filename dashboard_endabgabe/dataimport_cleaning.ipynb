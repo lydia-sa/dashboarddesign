{
 "cells": [
  {
   "cell_type": "code",
   "execution_count": 2,
   "metadata": {
    "collapsed": true
   },
   "outputs": [],
   "source": [
    "import pandas as pd"
   ]
  },
  {
   "cell_type": "code",
   "execution_count": 6,
   "outputs": [],
   "source": [
    "#import data\n",
    "def get_data():\n",
    "    df = pd.read_csv('Dataset_videogames sales.csv', sep=';')\n",
    "\n",
    "    #transform column title to short name\n",
    "    df.columns = df.columns.str.replace('Global_Sales', 'Global')\n",
    "    df.columns = df.columns.str.replace('NA_Sales', 'North America')\n",
    "    df.columns = df.columns.str.replace('EU_Sales', 'Europe')\n",
    "    df.columns = df.columns.str.replace('JP_Sales', 'Japan')\n",
    "    df.columns = df.columns.str.replace('Other_Sales', 'Others')\n",
    "    df.columns = df.columns.str.replace('type of console', 'Console')\n",
    "    df.columns = df.columns.str.replace('Platform Company', 'Company')\n",
    "\n",
    "    # all values in column \"Platform\" to strings (for sorting filter and so on):\n",
    "    df['Platform'] = df['Platform'].map(str)\n",
    "\n",
    "    # fill na\n",
    "    df[['Name', 'Platform','Company','Console','Genre','Publisher']] = df[['Name', 'Platform','Company','Console','Genre','Publisher']].fillna('none')\n",
    "    return df"
   ],
   "metadata": {
    "collapsed": false
   }
  },
  {
   "cell_type": "code",
   "execution_count": null,
   "outputs": [],
   "source": [],
   "metadata": {
    "collapsed": false
   }
  }
 ],
 "metadata": {
  "kernelspec": {
   "display_name": "Python 3",
   "language": "python",
   "name": "python3"
  },
  "language_info": {
   "codemirror_mode": {
    "name": "ipython",
    "version": 2
   },
   "file_extension": ".py",
   "mimetype": "text/x-python",
   "name": "python",
   "nbconvert_exporter": "python",
   "pygments_lexer": "ipython2",
   "version": "2.7.6"
  }
 },
 "nbformat": 4,
 "nbformat_minor": 0
}
