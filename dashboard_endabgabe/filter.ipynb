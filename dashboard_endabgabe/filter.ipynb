{
 "cells": [
  {
   "cell_type": "markdown",
   "source": [
    "## dropdown (dd) filter on top"
   ],
   "metadata": {
    "collapsed": false
   }
  },
  {
   "cell_type": "code",
   "execution_count": null,
   "outputs": [],
   "source": [
    "dcc.Dropdown(id='dd_platform',\n",
    "            options=sorted([{'label': i, 'value': i} for i in df['Platform'].unique()], key = lambda x: x['label']),\n",
    "            placeholder='select a platform',\n",
    "            #style= {'width':'50%'}\n",
    "            )"
   ],
   "metadata": {
    "collapsed": false
   }
  },
  {
   "cell_type": "code",
   "execution_count": null,
   "outputs": [],
   "source": [
    "dcc.Dropdown(id='dd_genre',\n",
    "            options=sorted([{'label': i, 'value': i} for i in df['Genre'].unique()], key = lambda x: x['label']),\n",
    "            placeholder='select a genre',\n",
    "            #style= {'width':'50%'}\n",
    "            )"
   ],
   "metadata": {
    "collapsed": false
   }
  },
  {
   "cell_type": "code",
   "execution_count": null,
   "outputs": [],
   "source": [
    "dcc.Dropdown(id='dd_console',\n",
    "            options=sorted([{'label': i, 'value': i} for i in df['Console'].unique()], key = lambda x: x['label']),\n",
    "            placeholder='select a console',\n",
    "            #style= {'width':'50%'}\n",
    "            )"
   ],
   "metadata": {
    "collapsed": false
   }
  },
  {
   "cell_type": "code",
   "execution_count": null,
   "outputs": [],
   "source": [
    "dcc.Dropdown(id='dd_company',\n",
    "            options=sorted([{'label': i, 'value': i} for i in df['Company'].unique()], key = lambda x: x['label']),\n",
    "            placeholder='select a company',\n",
    "            #style= {'width':'50%'}\n",
    "            )"
   ],
   "metadata": {
    "collapsed": false
   }
  },
  {
   "cell_type": "code",
   "execution_count": null,
   "outputs": [],
   "source": [
    "dcc.Dropdown(id='dd_publisher',\n",
    "            options=sorted([{'label': i, 'value': i} for i in df['Publisher'].unique()], key = lambda x: x['label']),\n",
    "            placeholder='select a publisher',\n",
    "            #style= {'width':'50%'}\n",
    "            )"
   ],
   "metadata": {
    "collapsed": false
   }
  },
  {
   "cell_type": "markdown",
   "source": [
    "## Check Choice"
   ],
   "metadata": {
    "collapsed": false
   }
  },
  {
   "cell_type": "code",
   "execution_count": null,
   "outputs": [],
   "source": [
    "dcc.RadioItems(id='check_choice',\n",
    "                options=['Platform','Genre','Console', 'Company','Publisher'],\n",
    "                value='Platform',\n",
    "                inline=True\n",
    "                )"
   ],
   "metadata": {
    "collapsed": false
   }
  },
  {
   "cell_type": "markdown",
   "source": [
    "## Slider"
   ],
   "metadata": {
    "collapsed": false
   }
  },
  {
   "cell_type": "code",
   "execution_count": null,
   "outputs": [],
   "source": [
    "dcc.Slider(min=math.floor(df['y'].min()),\n",
    "           max=math.ceil(df['y'].max()),\n",
    "           id='min_value')"
   ],
   "metadata": {
    "collapsed": false
   }
  },
  {
   "cell_type": "code",
   "execution_count": null,
   "outputs": [],
   "source": [
    "\n",
    "import pandas as pd\n",
    "import plotly.graph_objects as go\n",
    "from dash import Dash, dcc, html, Input, Output, callback\n",
    "import plotly.express as px\n",
    "import math\n",
    "import dash_bootstrap_components as dbc\n",
    "\n",
    "%run dataimport_cleaning.ipynb\n",
    "%run diagramme.ipynb\n",
    "\n",
    "\n",
    "\n",
    "\n",
    "\n",
    "\n",
    "\n",
    "dcc.RangeSlider(min=math.floor(df['year'].min()),\n",
    "                max=math.ceil(df['year'].max()),\n",
    "                value=[math.floor(df['year'].min()), math.ceil(df['year'].max())],\n",
    "                id='slider_year')"
   ],
   "metadata": {
    "collapsed": false
   }
  }
 ],
 "metadata": {
  "kernelspec": {
   "display_name": "Python 3",
   "language": "python",
   "name": "python3"
  },
  "language_info": {
   "codemirror_mode": {
    "name": "ipython",
    "version": 2
   },
   "file_extension": ".py",
   "mimetype": "text/x-python",
   "name": "python",
   "nbconvert_exporter": "python",
   "pygments_lexer": "ipython2",
   "version": "2.7.6"
  }
 },
 "nbformat": 4,
 "nbformat_minor": 0
}
