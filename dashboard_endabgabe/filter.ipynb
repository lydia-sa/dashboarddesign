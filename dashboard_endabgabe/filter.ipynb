{
 "cells": [
  {
   "cell_type": "code",
   "execution_count": 12,
   "metadata": {
    "collapsed": true
   },
   "outputs": [
    {
     "ename": "NameError",
     "evalue": "name 'df' is not defined",
     "output_type": "error",
     "traceback": [
      "\u001B[1;31m---------------------------------------------------------------------------\u001B[0m",
      "\u001B[1;31mNameError\u001B[0m                                 Traceback (most recent call last)",
      "File \u001B[1;32m~\\AppData\\Local\\Temp\\ipykernel_13120\\1589282158.py:3\u001B[0m\n\u001B[0;32m      1\u001B[0m app \u001B[38;5;241m=\u001B[39m Dash(\u001B[38;5;18m__name__\u001B[39m)\n\u001B[1;32m----> 3\u001B[0m df_liste \u001B[38;5;241m=\u001B[39m \u001B[43mdf\u001B[49m[[\u001B[38;5;124m'\u001B[39m\u001B[38;5;124mName\u001B[39m\u001B[38;5;124m'\u001B[39m, \u001B[38;5;124m'\u001B[39m\u001B[38;5;124mPlatform\u001B[39m\u001B[38;5;124m'\u001B[39m, \u001B[38;5;124m'\u001B[39m\u001B[38;5;124mGenre\u001B[39m\u001B[38;5;124m'\u001B[39m, \u001B[38;5;124m'\u001B[39m\u001B[38;5;124mGlobal\u001B[39m\u001B[38;5;124m'\u001B[39m]]\n\u001B[0;32m      5\u001B[0m app\u001B[38;5;241m.\u001B[39mlayout \u001B[38;5;241m=\u001B[39m html\u001B[38;5;241m.\u001B[39mDiv([\n\u001B[0;32m      6\u001B[0m     dash_table\u001B[38;5;241m.\u001B[39mDataTable(\n\u001B[0;32m      7\u001B[0m         \u001B[38;5;28mid\u001B[39m\u001B[38;5;241m=\u001B[39m\u001B[38;5;124m'\u001B[39m\u001B[38;5;124mdatatable_1\u001B[39m\u001B[38;5;124m'\u001B[39m,\n\u001B[1;32m   (...)\u001B[0m\n\u001B[0;32m     31\u001B[0m     html\u001B[38;5;241m.\u001B[39mDiv(\u001B[38;5;28mid\u001B[39m\u001B[38;5;241m=\u001B[39m\u001B[38;5;124m'\u001B[39m\u001B[38;5;124mdatatable-interactivity-container\u001B[39m\u001B[38;5;124m'\u001B[39m)\n\u001B[0;32m     32\u001B[0m ])\n\u001B[0;32m     34\u001B[0m \u001B[38;5;129m@app\u001B[39m\u001B[38;5;241m.\u001B[39mcallback(\n\u001B[0;32m     35\u001B[0m     Output(\u001B[38;5;124m'\u001B[39m\u001B[38;5;124mdatatable_1\u001B[39m\u001B[38;5;124m'\u001B[39m, \u001B[38;5;124m'\u001B[39m\u001B[38;5;124mstyle_data_conditional\u001B[39m\u001B[38;5;124m'\u001B[39m),\n\u001B[0;32m     36\u001B[0m     Input(\u001B[38;5;124m'\u001B[39m\u001B[38;5;124mdatatable_1\u001B[39m\u001B[38;5;124m'\u001B[39m, \u001B[38;5;124m'\u001B[39m\u001B[38;5;124mselected_columns\u001B[39m\u001B[38;5;124m'\u001B[39m)\n\u001B[0;32m     37\u001B[0m )\n\u001B[0;32m     38\u001B[0m \u001B[38;5;28;01mdef\u001B[39;00m \u001B[38;5;21mupdate_styles\u001B[39m(selected_columns):\n",
      "\u001B[1;31mNameError\u001B[0m: name 'df' is not defined"
     ]
    },
    {
     "ename": "NameError",
     "evalue": "name 'df' is not defined",
     "output_type": "error",
     "traceback": [
      "\u001B[1;31m---------------------------------------------------------------------------\u001B[0m",
      "\u001B[1;31mNameError\u001B[0m                                 Traceback (most recent call last)",
      "Cell \u001B[1;32mIn[12], line 6\u001B[0m\n\u001B[0;32m      4\u001B[0m \u001B[38;5;28;01mimport\u001B[39;00m \u001B[38;5;21;01mplotly\u001B[39;00m\u001B[38;5;21;01m.\u001B[39;00m\u001B[38;5;21;01mexpress\u001B[39;00m \u001B[38;5;28;01mas\u001B[39;00m \u001B[38;5;21;01mpx\u001B[39;00m\n\u001B[0;32m      5\u001B[0m get_ipython()\u001B[38;5;241m.\u001B[39mrun_line_magic(\u001B[38;5;124m'\u001B[39m\u001B[38;5;124mrun\u001B[39m\u001B[38;5;124m'\u001B[39m, \u001B[38;5;124m'\u001B[39m\u001B[38;5;124mdataimport_cleaning.ipynb\u001B[39m\u001B[38;5;124m'\u001B[39m)\n\u001B[1;32m----> 6\u001B[0m \u001B[43mget_ipython\u001B[49m\u001B[43m(\u001B[49m\u001B[43m)\u001B[49m\u001B[38;5;241;43m.\u001B[39;49m\u001B[43mrun_line_magic\u001B[49m\u001B[43m(\u001B[49m\u001B[38;5;124;43m'\u001B[39;49m\u001B[38;5;124;43mrun\u001B[39;49m\u001B[38;5;124;43m'\u001B[39;49m\u001B[43m,\u001B[49m\u001B[43m \u001B[49m\u001B[38;5;124;43m'\u001B[39;49m\u001B[38;5;124;43mdiagramme.ipynb\u001B[39;49m\u001B[38;5;124;43m'\u001B[39;49m\u001B[43m)\u001B[49m\n",
      "File \u001B[1;32m~\\AppData\\Local\\Programs\\Python\\Python310\\GitHub\\lib\\site-packages\\IPython\\core\\interactiveshell.py:2417\u001B[0m, in \u001B[0;36mInteractiveShell.run_line_magic\u001B[1;34m(self, magic_name, line, _stack_depth)\u001B[0m\n\u001B[0;32m   2415\u001B[0m     kwargs[\u001B[38;5;124m'\u001B[39m\u001B[38;5;124mlocal_ns\u001B[39m\u001B[38;5;124m'\u001B[39m] \u001B[38;5;241m=\u001B[39m \u001B[38;5;28mself\u001B[39m\u001B[38;5;241m.\u001B[39mget_local_scope(stack_depth)\n\u001B[0;32m   2416\u001B[0m \u001B[38;5;28;01mwith\u001B[39;00m \u001B[38;5;28mself\u001B[39m\u001B[38;5;241m.\u001B[39mbuiltin_trap:\n\u001B[1;32m-> 2417\u001B[0m     result \u001B[38;5;241m=\u001B[39m fn(\u001B[38;5;241m*\u001B[39margs, \u001B[38;5;241m*\u001B[39m\u001B[38;5;241m*\u001B[39mkwargs)\n\u001B[0;32m   2419\u001B[0m \u001B[38;5;66;03m# The code below prevents the output from being displayed\u001B[39;00m\n\u001B[0;32m   2420\u001B[0m \u001B[38;5;66;03m# when using magics with decodator @output_can_be_silenced\u001B[39;00m\n\u001B[0;32m   2421\u001B[0m \u001B[38;5;66;03m# when the last Python token in the expression is a ';'.\u001B[39;00m\n\u001B[0;32m   2422\u001B[0m \u001B[38;5;28;01mif\u001B[39;00m \u001B[38;5;28mgetattr\u001B[39m(fn, magic\u001B[38;5;241m.\u001B[39mMAGIC_OUTPUT_CAN_BE_SILENCED, \u001B[38;5;28;01mFalse\u001B[39;00m):\n",
      "File \u001B[1;32m~\\AppData\\Local\\Programs\\Python\\Python310\\GitHub\\lib\\site-packages\\IPython\\core\\magics\\execution.py:722\u001B[0m, in \u001B[0;36mExecutionMagics.run\u001B[1;34m(self, parameter_s, runner, file_finder)\u001B[0m\n\u001B[0;32m    720\u001B[0m     \u001B[38;5;28;01mwith\u001B[39;00m preserve_keys(\u001B[38;5;28mself\u001B[39m\u001B[38;5;241m.\u001B[39mshell\u001B[38;5;241m.\u001B[39muser_ns, \u001B[38;5;124m'\u001B[39m\u001B[38;5;124m__file__\u001B[39m\u001B[38;5;124m'\u001B[39m):\n\u001B[0;32m    721\u001B[0m         \u001B[38;5;28mself\u001B[39m\u001B[38;5;241m.\u001B[39mshell\u001B[38;5;241m.\u001B[39muser_ns[\u001B[38;5;124m'\u001B[39m\u001B[38;5;124m__file__\u001B[39m\u001B[38;5;124m'\u001B[39m] \u001B[38;5;241m=\u001B[39m filename\n\u001B[1;32m--> 722\u001B[0m         \u001B[38;5;28;43mself\u001B[39;49m\u001B[38;5;241;43m.\u001B[39;49m\u001B[43mshell\u001B[49m\u001B[38;5;241;43m.\u001B[39;49m\u001B[43msafe_execfile_ipy\u001B[49m\u001B[43m(\u001B[49m\u001B[43mfilename\u001B[49m\u001B[43m,\u001B[49m\u001B[43m \u001B[49m\u001B[43mraise_exceptions\u001B[49m\u001B[38;5;241;43m=\u001B[39;49m\u001B[38;5;28;43;01mTrue\u001B[39;49;00m\u001B[43m)\u001B[49m\n\u001B[0;32m    723\u001B[0m     \u001B[38;5;28;01mreturn\u001B[39;00m\n\u001B[0;32m    725\u001B[0m \u001B[38;5;66;03m# Control the response to exit() calls made by the script being run\u001B[39;00m\n",
      "File \u001B[1;32m~\\AppData\\Local\\Programs\\Python\\Python310\\GitHub\\lib\\site-packages\\IPython\\core\\interactiveshell.py:2939\u001B[0m, in \u001B[0;36mInteractiveShell.safe_execfile_ipy\u001B[1;34m(self, fname, shell_futures, raise_exceptions)\u001B[0m\n\u001B[0;32m   2937\u001B[0m result \u001B[38;5;241m=\u001B[39m \u001B[38;5;28mself\u001B[39m\u001B[38;5;241m.\u001B[39mrun_cell(cell, silent\u001B[38;5;241m=\u001B[39m\u001B[38;5;28;01mTrue\u001B[39;00m, shell_futures\u001B[38;5;241m=\u001B[39mshell_futures)\n\u001B[0;32m   2938\u001B[0m \u001B[38;5;28;01mif\u001B[39;00m raise_exceptions:\n\u001B[1;32m-> 2939\u001B[0m     \u001B[43mresult\u001B[49m\u001B[38;5;241;43m.\u001B[39;49m\u001B[43mraise_error\u001B[49m\u001B[43m(\u001B[49m\u001B[43m)\u001B[49m\n\u001B[0;32m   2940\u001B[0m \u001B[38;5;28;01melif\u001B[39;00m \u001B[38;5;129;01mnot\u001B[39;00m result\u001B[38;5;241m.\u001B[39msuccess:\n\u001B[0;32m   2941\u001B[0m     \u001B[38;5;28;01mbreak\u001B[39;00m\n",
      "File \u001B[1;32m~\\AppData\\Local\\Programs\\Python\\Python310\\GitHub\\lib\\site-packages\\IPython\\core\\interactiveshell.py:268\u001B[0m, in \u001B[0;36mExecutionResult.raise_error\u001B[1;34m(self)\u001B[0m\n\u001B[0;32m    266\u001B[0m     \u001B[38;5;28;01mraise\u001B[39;00m \u001B[38;5;28mself\u001B[39m\u001B[38;5;241m.\u001B[39merror_before_exec\n\u001B[0;32m    267\u001B[0m \u001B[38;5;28;01mif\u001B[39;00m \u001B[38;5;28mself\u001B[39m\u001B[38;5;241m.\u001B[39merror_in_exec \u001B[38;5;129;01mis\u001B[39;00m \u001B[38;5;129;01mnot\u001B[39;00m \u001B[38;5;28;01mNone\u001B[39;00m:\n\u001B[1;32m--> 268\u001B[0m     \u001B[38;5;28;01mraise\u001B[39;00m \u001B[38;5;28mself\u001B[39m\u001B[38;5;241m.\u001B[39merror_in_exec\n",
      "    \u001B[1;31m[... skipping hidden 1 frame]\u001B[0m\n",
      "File \u001B[1;32m~\\AppData\\Local\\Temp\\ipykernel_13120\\1589282158.py:3\u001B[0m\n\u001B[0;32m      1\u001B[0m app \u001B[38;5;241m=\u001B[39m Dash(\u001B[38;5;18m__name__\u001B[39m)\n\u001B[1;32m----> 3\u001B[0m df_liste \u001B[38;5;241m=\u001B[39m \u001B[43mdf\u001B[49m[[\u001B[38;5;124m'\u001B[39m\u001B[38;5;124mName\u001B[39m\u001B[38;5;124m'\u001B[39m, \u001B[38;5;124m'\u001B[39m\u001B[38;5;124mPlatform\u001B[39m\u001B[38;5;124m'\u001B[39m, \u001B[38;5;124m'\u001B[39m\u001B[38;5;124mGenre\u001B[39m\u001B[38;5;124m'\u001B[39m, \u001B[38;5;124m'\u001B[39m\u001B[38;5;124mGlobal\u001B[39m\u001B[38;5;124m'\u001B[39m]]\n\u001B[0;32m      5\u001B[0m app\u001B[38;5;241m.\u001B[39mlayout \u001B[38;5;241m=\u001B[39m html\u001B[38;5;241m.\u001B[39mDiv([\n\u001B[0;32m      6\u001B[0m     dash_table\u001B[38;5;241m.\u001B[39mDataTable(\n\u001B[0;32m      7\u001B[0m         \u001B[38;5;28mid\u001B[39m\u001B[38;5;241m=\u001B[39m\u001B[38;5;124m'\u001B[39m\u001B[38;5;124mdatatable_1\u001B[39m\u001B[38;5;124m'\u001B[39m,\n\u001B[1;32m   (...)\u001B[0m\n\u001B[0;32m     31\u001B[0m     html\u001B[38;5;241m.\u001B[39mDiv(\u001B[38;5;28mid\u001B[39m\u001B[38;5;241m=\u001B[39m\u001B[38;5;124m'\u001B[39m\u001B[38;5;124mdatatable-interactivity-container\u001B[39m\u001B[38;5;124m'\u001B[39m)\n\u001B[0;32m     32\u001B[0m ])\n\u001B[0;32m     34\u001B[0m \u001B[38;5;129m@app\u001B[39m\u001B[38;5;241m.\u001B[39mcallback(\n\u001B[0;32m     35\u001B[0m     Output(\u001B[38;5;124m'\u001B[39m\u001B[38;5;124mdatatable_1\u001B[39m\u001B[38;5;124m'\u001B[39m, \u001B[38;5;124m'\u001B[39m\u001B[38;5;124mstyle_data_conditional\u001B[39m\u001B[38;5;124m'\u001B[39m),\n\u001B[0;32m     36\u001B[0m     Input(\u001B[38;5;124m'\u001B[39m\u001B[38;5;124mdatatable_1\u001B[39m\u001B[38;5;124m'\u001B[39m, \u001B[38;5;124m'\u001B[39m\u001B[38;5;124mselected_columns\u001B[39m\u001B[38;5;124m'\u001B[39m)\n\u001B[0;32m     37\u001B[0m )\n\u001B[0;32m     38\u001B[0m \u001B[38;5;28;01mdef\u001B[39;00m \u001B[38;5;21mupdate_styles\u001B[39m(selected_columns):\n",
      "\u001B[1;31mNameError\u001B[0m: name 'df' is not defined"
     ]
    }
   ],
   "source": [
    "import pandas as pd\n",
    "import plotly.graph_objects as go\n",
    "from dash import Dash, dcc, html, Input, Output, callback\n",
    "import plotly.express as px\n",
    "%run dataimport_cleaning.ipynb\n",
    "%run diagramme.ipynb\n"
   ]
  },
  {
   "cell_type": "markdown",
   "source": [
    "## dropdown (dd) filter on top"
   ],
   "metadata": {
    "collapsed": false
   }
  },
  {
   "cell_type": "code",
   "execution_count": 9,
   "outputs": [
    {
     "ename": "NameError",
     "evalue": "name 'df' is not defined",
     "output_type": "error",
     "traceback": [
      "\u001B[1;31m---------------------------------------------------------------------------\u001B[0m",
      "\u001B[1;31mNameError\u001B[0m                                 Traceback (most recent call last)",
      "Cell \u001B[1;32mIn[9], line 5\u001B[0m\n\u001B[0;32m      1\u001B[0m app \u001B[38;5;241m=\u001B[39m Dash(\u001B[38;5;18m__name__\u001B[39m)\n\u001B[0;32m      3\u001B[0m app\u001B[38;5;241m.\u001B[39mlayout \u001B[38;5;241m=\u001B[39m html\u001B[38;5;241m.\u001B[39mDiv([\n\u001B[0;32m      4\u001B[0m     dcc\u001B[38;5;241m.\u001B[39mDropdown(\u001B[38;5;28mid\u001B[39m\u001B[38;5;241m=\u001B[39m\u001B[38;5;124m'\u001B[39m\u001B[38;5;124mdd_platform\u001B[39m\u001B[38;5;124m'\u001B[39m,\n\u001B[1;32m----> 5\u001B[0m                  options\u001B[38;5;241m=\u001B[39m\u001B[38;5;28msorted\u001B[39m([{\u001B[38;5;124m'\u001B[39m\u001B[38;5;124mlabel\u001B[39m\u001B[38;5;124m'\u001B[39m: i, \u001B[38;5;124m'\u001B[39m\u001B[38;5;124mvalue\u001B[39m\u001B[38;5;124m'\u001B[39m: i} \u001B[38;5;28;01mfor\u001B[39;00m i \u001B[38;5;129;01min\u001B[39;00m \u001B[43mdf\u001B[49m[\u001B[38;5;124m'\u001B[39m\u001B[38;5;124mPlatform\u001B[39m\u001B[38;5;124m'\u001B[39m]\u001B[38;5;241m.\u001B[39munique()], key \u001B[38;5;241m=\u001B[39m \u001B[38;5;28;01mlambda\u001B[39;00m x: x[\u001B[38;5;124m'\u001B[39m\u001B[38;5;124mlabel\u001B[39m\u001B[38;5;124m'\u001B[39m]),\n\u001B[0;32m      6\u001B[0m                  placeholder\u001B[38;5;241m=\u001B[39m\u001B[38;5;124m'\u001B[39m\u001B[38;5;124mselect a platform\u001B[39m\u001B[38;5;124m'\u001B[39m,\n\u001B[0;32m      7\u001B[0m                  style\u001B[38;5;241m=\u001B[39m {\u001B[38;5;124m'\u001B[39m\u001B[38;5;124mwidth\u001B[39m\u001B[38;5;124m'\u001B[39m:\u001B[38;5;124m'\u001B[39m\u001B[38;5;124m50\u001B[39m\u001B[38;5;124m%\u001B[39m\u001B[38;5;124m'\u001B[39m}\n\u001B[0;32m      8\u001B[0m                  ),\n\u001B[0;32m      9\u001B[0m \n\u001B[0;32m     10\u001B[0m     dcc\u001B[38;5;241m.\u001B[39mDropdown(\u001B[38;5;28mid\u001B[39m\u001B[38;5;241m=\u001B[39m\u001B[38;5;124m'\u001B[39m\u001B[38;5;124mdd_genre\u001B[39m\u001B[38;5;124m'\u001B[39m,\n\u001B[0;32m     11\u001B[0m                  options\u001B[38;5;241m=\u001B[39m\u001B[38;5;28msorted\u001B[39m([{\u001B[38;5;124m'\u001B[39m\u001B[38;5;124mlabel\u001B[39m\u001B[38;5;124m'\u001B[39m: i, \u001B[38;5;124m'\u001B[39m\u001B[38;5;124mvalue\u001B[39m\u001B[38;5;124m'\u001B[39m: i} \u001B[38;5;28;01mfor\u001B[39;00m i \u001B[38;5;129;01min\u001B[39;00m df[\u001B[38;5;124m'\u001B[39m\u001B[38;5;124mGenre\u001B[39m\u001B[38;5;124m'\u001B[39m]\u001B[38;5;241m.\u001B[39munique()], key \u001B[38;5;241m=\u001B[39m \u001B[38;5;28;01mlambda\u001B[39;00m x: x[\u001B[38;5;124m'\u001B[39m\u001B[38;5;124mlabel\u001B[39m\u001B[38;5;124m'\u001B[39m]),\n\u001B[0;32m     12\u001B[0m                  placeholder\u001B[38;5;241m=\u001B[39m\u001B[38;5;124m'\u001B[39m\u001B[38;5;124mselect a genre\u001B[39m\u001B[38;5;124m'\u001B[39m,\n\u001B[0;32m     13\u001B[0m                  style\u001B[38;5;241m=\u001B[39m {\u001B[38;5;124m'\u001B[39m\u001B[38;5;124mwidth\u001B[39m\u001B[38;5;124m'\u001B[39m:\u001B[38;5;124m'\u001B[39m\u001B[38;5;124m50\u001B[39m\u001B[38;5;124m%\u001B[39m\u001B[38;5;124m'\u001B[39m}\n\u001B[0;32m     14\u001B[0m                  ),\n\u001B[0;32m     15\u001B[0m \n\u001B[0;32m     16\u001B[0m     dcc\u001B[38;5;241m.\u001B[39mDropdown(\u001B[38;5;28mid\u001B[39m\u001B[38;5;241m=\u001B[39m\u001B[38;5;124m'\u001B[39m\u001B[38;5;124mdd_console\u001B[39m\u001B[38;5;124m'\u001B[39m,\n\u001B[0;32m     17\u001B[0m                  options\u001B[38;5;241m=\u001B[39m\u001B[38;5;28msorted\u001B[39m([{\u001B[38;5;124m'\u001B[39m\u001B[38;5;124mlabel\u001B[39m\u001B[38;5;124m'\u001B[39m: i, \u001B[38;5;124m'\u001B[39m\u001B[38;5;124mvalue\u001B[39m\u001B[38;5;124m'\u001B[39m: i} \u001B[38;5;28;01mfor\u001B[39;00m i \u001B[38;5;129;01min\u001B[39;00m df[\u001B[38;5;124m'\u001B[39m\u001B[38;5;124mConsole\u001B[39m\u001B[38;5;124m'\u001B[39m]\u001B[38;5;241m.\u001B[39munique()], key \u001B[38;5;241m=\u001B[39m \u001B[38;5;28;01mlambda\u001B[39;00m x: x[\u001B[38;5;124m'\u001B[39m\u001B[38;5;124mlabel\u001B[39m\u001B[38;5;124m'\u001B[39m]),\n\u001B[0;32m     18\u001B[0m                  placeholder\u001B[38;5;241m=\u001B[39m\u001B[38;5;124m'\u001B[39m\u001B[38;5;124mselect a console\u001B[39m\u001B[38;5;124m'\u001B[39m,\n\u001B[0;32m     19\u001B[0m                  style\u001B[38;5;241m=\u001B[39m {\u001B[38;5;124m'\u001B[39m\u001B[38;5;124mwidth\u001B[39m\u001B[38;5;124m'\u001B[39m:\u001B[38;5;124m'\u001B[39m\u001B[38;5;124m50\u001B[39m\u001B[38;5;124m%\u001B[39m\u001B[38;5;124m'\u001B[39m}\n\u001B[0;32m     20\u001B[0m                  ),\n\u001B[0;32m     21\u001B[0m \n\u001B[0;32m     22\u001B[0m     dcc\u001B[38;5;241m.\u001B[39mDropdown(\u001B[38;5;28mid\u001B[39m\u001B[38;5;241m=\u001B[39m\u001B[38;5;124m'\u001B[39m\u001B[38;5;124mdd_company\u001B[39m\u001B[38;5;124m'\u001B[39m,\n\u001B[0;32m     23\u001B[0m                  options\u001B[38;5;241m=\u001B[39m\u001B[38;5;28msorted\u001B[39m([{\u001B[38;5;124m'\u001B[39m\u001B[38;5;124mlabel\u001B[39m\u001B[38;5;124m'\u001B[39m: i, \u001B[38;5;124m'\u001B[39m\u001B[38;5;124mvalue\u001B[39m\u001B[38;5;124m'\u001B[39m: i} \u001B[38;5;28;01mfor\u001B[39;00m i \u001B[38;5;129;01min\u001B[39;00m df[\u001B[38;5;124m'\u001B[39m\u001B[38;5;124mCompany\u001B[39m\u001B[38;5;124m'\u001B[39m]\u001B[38;5;241m.\u001B[39munique()], key \u001B[38;5;241m=\u001B[39m \u001B[38;5;28;01mlambda\u001B[39;00m x: x[\u001B[38;5;124m'\u001B[39m\u001B[38;5;124mlabel\u001B[39m\u001B[38;5;124m'\u001B[39m]),\n\u001B[0;32m     24\u001B[0m                  placeholder\u001B[38;5;241m=\u001B[39m\u001B[38;5;124m'\u001B[39m\u001B[38;5;124mselect a company\u001B[39m\u001B[38;5;124m'\u001B[39m,\n\u001B[0;32m     25\u001B[0m                  style\u001B[38;5;241m=\u001B[39m {\u001B[38;5;124m'\u001B[39m\u001B[38;5;124mwidth\u001B[39m\u001B[38;5;124m'\u001B[39m:\u001B[38;5;124m'\u001B[39m\u001B[38;5;124m50\u001B[39m\u001B[38;5;124m%\u001B[39m\u001B[38;5;124m'\u001B[39m}\n\u001B[0;32m     26\u001B[0m                  ),\n\u001B[0;32m     27\u001B[0m \n\u001B[0;32m     28\u001B[0m     dcc\u001B[38;5;241m.\u001B[39mDropdown(\u001B[38;5;28mid\u001B[39m\u001B[38;5;241m=\u001B[39m\u001B[38;5;124m'\u001B[39m\u001B[38;5;124mdd_publisher\u001B[39m\u001B[38;5;124m'\u001B[39m,\n\u001B[0;32m     29\u001B[0m                  options\u001B[38;5;241m=\u001B[39m\u001B[38;5;28msorted\u001B[39m([{\u001B[38;5;124m'\u001B[39m\u001B[38;5;124mlabel\u001B[39m\u001B[38;5;124m'\u001B[39m: i, \u001B[38;5;124m'\u001B[39m\u001B[38;5;124mvalue\u001B[39m\u001B[38;5;124m'\u001B[39m: i} \u001B[38;5;28;01mfor\u001B[39;00m i \u001B[38;5;129;01min\u001B[39;00m df[\u001B[38;5;124m'\u001B[39m\u001B[38;5;124mPublisher\u001B[39m\u001B[38;5;124m'\u001B[39m]\u001B[38;5;241m.\u001B[39munique()], key \u001B[38;5;241m=\u001B[39m \u001B[38;5;28;01mlambda\u001B[39;00m x: x[\u001B[38;5;124m'\u001B[39m\u001B[38;5;124mlabel\u001B[39m\u001B[38;5;124m'\u001B[39m]),\n\u001B[0;32m     30\u001B[0m                  placeholder\u001B[38;5;241m=\u001B[39m\u001B[38;5;124m'\u001B[39m\u001B[38;5;124mselect a publisher\u001B[39m\u001B[38;5;124m'\u001B[39m,\n\u001B[0;32m     31\u001B[0m                  style\u001B[38;5;241m=\u001B[39m {\u001B[38;5;124m'\u001B[39m\u001B[38;5;124mwidth\u001B[39m\u001B[38;5;124m'\u001B[39m:\u001B[38;5;124m'\u001B[39m\u001B[38;5;124m50\u001B[39m\u001B[38;5;124m%\u001B[39m\u001B[38;5;124m'\u001B[39m}\n\u001B[0;32m     32\u001B[0m                  ),\n\u001B[0;32m     33\u001B[0m \n\u001B[0;32m     34\u001B[0m     html\u001B[38;5;241m.\u001B[39mDiv(\u001B[38;5;28mid\u001B[39m\u001B[38;5;241m=\u001B[39m\u001B[38;5;124m'\u001B[39m\u001B[38;5;124moutput-container\u001B[39m\u001B[38;5;124m'\u001B[39m)\n\u001B[0;32m     35\u001B[0m ])\n\u001B[0;32m     37\u001B[0m \u001B[38;5;129m@app\u001B[39m\u001B[38;5;241m.\u001B[39mcallback(\n\u001B[0;32m     38\u001B[0m     Output(\u001B[38;5;124m'\u001B[39m\u001B[38;5;124moutput-container\u001B[39m\u001B[38;5;124m'\u001B[39m, \u001B[38;5;124m'\u001B[39m\u001B[38;5;124mchildren\u001B[39m\u001B[38;5;124m'\u001B[39m),\n\u001B[0;32m     39\u001B[0m     Input(\u001B[38;5;124m'\u001B[39m\u001B[38;5;124mdd_platform\u001B[39m\u001B[38;5;124m'\u001B[39m, \u001B[38;5;124m'\u001B[39m\u001B[38;5;124mvalue\u001B[39m\u001B[38;5;124m'\u001B[39m),\n\u001B[1;32m   (...)\u001B[0m\n\u001B[0;32m     44\u001B[0m )\n\u001B[0;32m     45\u001B[0m \u001B[38;5;28;01mdef\u001B[39;00m \u001B[38;5;21mupdate_output\u001B[39m(dd_platform_value, dd_genre_value, dd_console_value, dd_company_value, dd_publisher_value):\n\u001B[0;32m     46\u001B[0m     dff \u001B[38;5;241m=\u001B[39m df\u001B[38;5;241m.\u001B[39mcopy()\n",
      "\u001B[1;31mNameError\u001B[0m: name 'df' is not defined"
     ]
    }
   ],
   "source": [
    "app = Dash(__name__)\n",
    "\n",
    "app.layout = html.Div([\n",
    "    dcc.Dropdown(id='dd_platform',\n",
    "                 options=sorted([{'label': i, 'value': i} for i in df['Platform'].unique()], key = lambda x: x['label']),\n",
    "                 placeholder='select a platform',\n",
    "                 style= {'width':'50%'}\n",
    "                 ),\n",
    "\n",
    "    dcc.Dropdown(id='dd_genre',\n",
    "                 options=sorted([{'label': i, 'value': i} for i in df['Genre'].unique()], key = lambda x: x['label']),\n",
    "                 placeholder='select a genre',\n",
    "                 style= {'width':'50%'}\n",
    "                 ),\n",
    "\n",
    "    dcc.Dropdown(id='dd_console',\n",
    "                 options=sorted([{'label': i, 'value': i} for i in df['Console'].unique()], key = lambda x: x['label']),\n",
    "                 placeholder='select a console',\n",
    "                 style= {'width':'50%'}\n",
    "                 ),\n",
    "\n",
    "    dcc.Dropdown(id='dd_company',\n",
    "                 options=sorted([{'label': i, 'value': i} for i in df['Company'].unique()], key = lambda x: x['label']),\n",
    "                 placeholder='select a company',\n",
    "                 style= {'width':'50%'}\n",
    "                 ),\n",
    "\n",
    "    dcc.Dropdown(id='dd_publisher',\n",
    "                 options=sorted([{'label': i, 'value': i} for i in df['Publisher'].unique()], key = lambda x: x['label']),\n",
    "                 placeholder='select a publisher',\n",
    "                 style= {'width':'50%'}\n",
    "                 ),\n",
    "\n",
    "    html.Div(id='output-container')\n",
    "])\n",
    "\n",
    "@app.callback(\n",
    "    Output('output-container', 'children'),\n",
    "    Input('dd_platform', 'value'),\n",
    "    Input('dd_genre', 'value'),\n",
    "    Input('dd_console', 'value'),\n",
    "    Input('dd_company', 'value'),\n",
    "    Input('dd_publisher', 'value'),\n",
    ")\n",
    "def update_output(dd_platform_value, dd_genre_value, dd_console_value, dd_company_value, dd_publisher_value):\n",
    "    dff = df.copy()\n",
    "\n",
    "    #Platform column filtering\n",
    "    if dd_platform_value != None:\n",
    "    #dff = df[df.Platform.str.contains('|'.join(dd_value))]  # Option für Mehrfachfilter\n",
    "        dff = dff[dff['Platform'] == dd_platform_value]\n",
    "\n",
    "    #Genre column filtering\n",
    "    if dd_genre_value != None:\n",
    "        dff = dff[dff['Genre'] == dd_genre_value]\n",
    "\n",
    "    #Console column filtering\n",
    "    if dd_console_value != None:\n",
    "        dff = dff[dff['Console'] == dd_console_value]\n",
    "\n",
    "    #Company column filtering\n",
    "    if dd_company_value != None:\n",
    "        dff = dff[dff['Company'] == dd_company_value]\n",
    "\n",
    "    #Publisher column filtering\n",
    "    if dd_publisher_value != None:\n",
    "        dff = dff[dff['Publisher'] == dd_publisher_value]\n",
    "\n",
    "    else:\n",
    "        dff = dff\n",
    "    return dff"
   ],
   "metadata": {
    "collapsed": false
   }
  },
  {
   "cell_type": "markdown",
   "source": [
    "## dropdown (dd) filter on top"
   ],
   "metadata": {
    "collapsed": false
   }
  },
  {
   "cell_type": "code",
   "execution_count": 6,
   "outputs": [
    {
     "name": "stdout",
     "output_type": "stream",
     "text": [
      "Dash is running on http://127.0.0.1:8050/\n",
      "\n",
      " * Serving Flask app '__main__'\n",
      " * Debug mode: off\n"
     ]
    },
    {
     "name": "stderr",
     "output_type": "stream",
     "text": [
      "WARNING: This is a development server. Do not use it in a production deployment. Use a production WSGI server instead.\n",
      " * Running on http://127.0.0.1:8050\n",
      "Press CTRL+C to quit\n",
      "127.0.0.1 - - [18/May/2023 21:33:14] \"GET / HTTP/1.1\" 200 -\n",
      "127.0.0.1 - - [18/May/2023 21:33:14] \"GET /_dash-layout HTTP/1.1\" 200 -\n",
      "127.0.0.1 - - [18/May/2023 21:33:14] \"GET /_dash-dependencies HTTP/1.1\" 200 -\n"
     ]
    }
   ],
   "source": [
    "app = Dash(__name__)\n",
    "\n",
    "app.layout = html.Div([\n",
    "    dcc.RadioItems(id='check_choice',\n",
    "                  options=['Platform','Genre','Console', 'Company','Publisher'],\n",
    "                  value='Platform',\n",
    "                  inline=True\n",
    "                   ),\n",
    "    html.Div(id='output-container')\n",
    "])\n",
    "@app.callback(\n",
    "    Output('output-container', 'children'),\n",
    "    Input('check_choice', 'value'),\n",
    "    Input('sales_filter', 'value'),\n",
    "    Input('check_color', 'value')\n",
    ")\n",
    "def update_output(main_filter, sales_filter, color_choice):\n",
    "    return stacked_bar_chart_plotly(main_filter, sales_filter, color_choice)\n",
    "\n",
    "if __name__ == '__main__':\n",
    "    app.run_server(debug=False)"
   ],
   "metadata": {
    "collapsed": false
   }
  },
  {
   "cell_type": "code",
   "execution_count": null,
   "outputs": [],
   "source": [],
   "metadata": {
    "collapsed": false
   }
  }
 ],
 "metadata": {
  "kernelspec": {
   "display_name": "Python 3",
   "language": "python",
   "name": "python3"
  },
  "language_info": {
   "codemirror_mode": {
    "name": "ipython",
    "version": 2
   },
   "file_extension": ".py",
   "mimetype": "text/x-python",
   "name": "python",
   "nbconvert_exporter": "python",
   "pygments_lexer": "ipython2",
   "version": "2.7.6"
  }
 },
 "nbformat": 4,
 "nbformat_minor": 0
}
