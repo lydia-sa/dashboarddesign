{
 "cells": [
  {
   "cell_type": "code",
   "execution_count": 8,
   "outputs": [],
   "source": [
    "import math\n",
    "from dash import Dash, dcc, html, Input, Output\n",
    "import plotly.express as px\n",
    "import plotly.graph_objects as go\n",
    "import numpy as np\n",
    "import pandas as pd\n",
    "import dash_bootstrap_components as dbc\n",
    "from sklearn.datasets import make_blobs\n",
    "\n",
    "import warnings\n",
    "warnings.filterwarnings(\"ignore\", message=\"To exit: use 'exit', 'quit', or Ctrl-D.\")"
   ],
   "metadata": {
    "collapsed": false
   }
  },
  {
   "cell_type": "code",
   "execution_count": 9,
   "outputs": [],
   "source": [
    "\n",
    "app = Dash(__name__, external_stylesheets=[dbc.themes.BOOTSTRAP])\n",
    "\n",
    "df = pd.DataFrame({'y': np.random.normal(loc=0, scale=10, size=1000),\n",
    "                   'x': np.random.normal(loc=10, scale=2, size=1000)})"
   ],
   "metadata": {
    "collapsed": false
   }
  },
  {
   "cell_type": "code",
   "execution_count": 10,
   "outputs": [],
   "source": [
    "\n",
    "COLORS = {'0': \"red\", '1': \"blue\", '2': \"grey\"}\n",
    "\n",
    "@app.callback(Output(\"graph_1\", \"figure\"), Input(\"color\", \"value\"))\n",
    "def update_graph_1(dropdown_value_color):\n",
    "    fig = px.histogram(df, x=\"y\", color_discrete_sequence=[dropdown_value_color])\n",
    "    fig.update_layout(template=\"plotly_white\")\n",
    "    return fig"
   ],
   "metadata": {
    "collapsed": false
   }
  },
  {
   "cell_type": "code",
   "execution_count": 11,
   "outputs": [],
   "source": [
    "\n",
    "@app.callback(Output(\"graph_2\", \"figure\"), Input(\"min_value\", \"value\"))\n",
    "def update_graph_2(min_value):\n",
    "    if min_value:\n",
    "        dff = df[df['y'] > min_value]\n",
    "    else:\n",
    "        dff = df\n",
    "    fig = px.scatter(dff, x='x', y='y')\n",
    "    fig.update_layout(template=\"plotly_white\")\n",
    "    return fig"
   ],
   "metadata": {
    "collapsed": false
   }
  },
  {
   "cell_type": "code",
   "execution_count": 12,
   "outputs": [],
   "source": [
    "\n",
    "from _04_Aufgabenblatt import cluster_df\n",
    "\n",
    "\n",
    "@app.callback(Output(\"graph_3\", \"figure\"), Output(\"graph_4\", \"figure\"), Input(\"graph_3\", \"selectedData\"))\n",
    "def update_graph_3_and_4(selected_data):\n",
    "    if selected_data is None or not selected_data[\"points\"]:\n",
    "        cluster_dff = cluster_df\n",
    "    else:\n",
    "        selected_points = [point[\"pointIndex\"] for point in selected_data[\"points\"]]\n",
    "        cluster_dff = cluster_df.iloc[selected_points]\n",
    "\n",
    "    fig3 = px.scatter(cluster_dff, x=\"X\", y=\"Y\", color=\"cluster\", color_discrete_map=COLORS,\n",
    "                      category_orders={\"cluster\": cluster_dff[\"cluster\"].unique()}, height=750)\n",
    "    fig3.update_layout(template=\"plotly_white\", coloraxis_showscale=False)\n",
    "    fig3.update_traces(marker=dict(size=8))\n",
    "\n",
    "    group_counts = cluster_dff.groupby('cluster').size().reset_index(name='counts')\n",
    "\n",
    "    fig4 = go.Figure(data=[go.Bar(x=group_counts['cluster'], y=group_counts['counts'],\n",
    "                                 marker=dict(color=[COLORS.get(str(i), 'gray') for i in group_counts['cluster']]))])\n",
    "\n",
    "    fig4.update_layout(height=750, template=\"plotly_white\", title=\"<b>Counts per cluster</b>\", xaxis_title=\"Cluster\",\n",
    "                       title_font_size=25)\n",
    "    return fig3, fig4"
   ],
   "metadata": {
    "collapsed": false
   }
  },
  {
   "cell_type": "code",
   "execution_count": 13,
   "outputs": [],
   "source": [
    "\n",
    "@app.callback(Output(\"graph_3\", \"selectedData\"), Output(\"graph_4\", \"selectedData\"), Input(\"graph_3\", \"clickData\"))\n",
    "def update_selected_data(click_data):\n",
    "    return click_data, None if click_data else None"
   ],
   "metadata": {
    "collapsed": false
   }
  },
  {
   "cell_type": "code",
   "execution_count": 14,
   "outputs": [
    {
     "name": "stdout",
     "output_type": "stream",
     "text": [
      "Dash is running on http://127.0.0.1:8012/\n",
      "\n",
      " * Serving Flask app '__main__'\n",
      " * Debug mode: off\n"
     ]
    },
    {
     "name": "stderr",
     "output_type": "stream",
     "text": [
      "WARNING: This is a development server. Do not use it in a production deployment. Use a production WSGI server instead.\n",
      " * Running on http://127.0.0.1:8012\n",
      "Press CTRL+C to quit\n",
      "127.0.0.1 - - [04/Jun/2023 19:34:59] \"GET / HTTP/1.1\" 200 -\n",
      "127.0.0.1 - - [04/Jun/2023 19:34:59] \"GET /_dash-layout HTTP/1.1\" 200 -\n",
      "127.0.0.1 - - [04/Jun/2023 19:34:59] \"GET /_dash-dependencies HTTP/1.1\" 200 -\n",
      "127.0.0.1 - - [04/Jun/2023 19:34:59] \"GET /_favicon.ico?v=2.10.2 HTTP/1.1\" 200 -\n",
      "127.0.0.1 - - [04/Jun/2023 19:34:59] \"GET /_dash-component-suites/dash/dcc/async-dropdown.js HTTP/1.1\" 304 -\n",
      "127.0.0.1 - - [04/Jun/2023 19:34:59] \"GET /_dash-component-suites/dash/dcc/async-slider.js HTTP/1.1\" 304 -\n",
      "127.0.0.1 - - [04/Jun/2023 19:34:59] \"GET /_dash-component-suites/dash/dcc/async-graph.js HTTP/1.1\" 304 -\n",
      "127.0.0.1 - - [04/Jun/2023 19:34:59] \"GET /_dash-component-suites/dash/dcc/async-plotlyjs.js HTTP/1.1\" 304 -\n",
      "127.0.0.1 - - [04/Jun/2023 19:36:32] \"GET / HTTP/1.1\" 200 -\n",
      "127.0.0.1 - - [04/Jun/2023 19:36:32] \"GET /_dash-layout HTTP/1.1\" 200 -\n",
      "127.0.0.1 - - [04/Jun/2023 19:36:32] \"GET /_dash-dependencies HTTP/1.1\" 200 -\n",
      "127.0.0.1 - - [04/Jun/2023 19:36:32] \"GET /_favicon.ico?v=2.10.2 HTTP/1.1\" 200 -\n",
      "127.0.0.1 - - [04/Jun/2023 19:36:32] \"GET /_dash-component-suites/dash/dcc/async-dropdown.js HTTP/1.1\" 304 -\n",
      "127.0.0.1 - - [04/Jun/2023 19:36:32] \"GET /_dash-component-suites/dash/dcc/async-slider.js HTTP/1.1\" 304 -\n",
      "127.0.0.1 - - [04/Jun/2023 19:36:32] \"GET /_dash-component-suites/dash/dcc/async-graph.js HTTP/1.1\" 304 -\n",
      "127.0.0.1 - - [04/Jun/2023 19:36:32] \"GET /_dash-component-suites/dash/dcc/async-plotlyjs.js HTTP/1.1\" 304 -\n",
      "127.0.0.1 - - [04/Jun/2023 19:37:42] \"GET / HTTP/1.1\" 200 -\n",
      "127.0.0.1 - - [04/Jun/2023 19:37:42] \"GET /_dash-layout HTTP/1.1\" 200 -\n",
      "127.0.0.1 - - [04/Jun/2023 19:37:42] \"GET /_dash-dependencies HTTP/1.1\" 200 -\n",
      "127.0.0.1 - - [04/Jun/2023 19:37:42] \"GET /_favicon.ico?v=2.10.2 HTTP/1.1\" 200 -\n",
      "127.0.0.1 - - [04/Jun/2023 19:37:42] \"GET /_dash-component-suites/dash/dcc/async-dropdown.js HTTP/1.1\" 304 -\n",
      "127.0.0.1 - - [04/Jun/2023 19:37:42] \"GET /_dash-component-suites/dash/dcc/async-slider.js HTTP/1.1\" 304 -\n",
      "127.0.0.1 - - [04/Jun/2023 19:37:42] \"GET /_dash-component-suites/dash/dcc/async-graph.js HTTP/1.1\" 304 -\n",
      "127.0.0.1 - - [04/Jun/2023 19:37:42] \"GET /_dash-component-suites/dash/dcc/async-plotlyjs.js HTTP/1.1\" 304 -\n",
      "127.0.0.1 - - [04/Jun/2023 19:44:32] \"GET / HTTP/1.1\" 200 -\n",
      "127.0.0.1 - - [04/Jun/2023 19:44:32] \"GET /_dash-layout HTTP/1.1\" 200 -\n",
      "127.0.0.1 - - [04/Jun/2023 19:44:32] \"GET /_dash-dependencies HTTP/1.1\" 200 -\n",
      "127.0.0.1 - - [04/Jun/2023 19:44:32] \"GET /_favicon.ico?v=2.10.2 HTTP/1.1\" 200 -\n",
      "127.0.0.1 - - [04/Jun/2023 19:44:32] \"GET /_dash-component-suites/dash/dcc/async-dropdown.js HTTP/1.1\" 304 -\n",
      "127.0.0.1 - - [04/Jun/2023 19:44:32] \"GET /_dash-component-suites/dash/dcc/async-slider.js HTTP/1.1\" 304 -\n",
      "127.0.0.1 - - [04/Jun/2023 19:44:32] \"GET /_dash-component-suites/dash/dcc/async-graph.js HTTP/1.1\" 304 -\n",
      "127.0.0.1 - - [04/Jun/2023 19:44:32] \"GET /_dash-component-suites/dash/dcc/async-plotlyjs.js HTTP/1.1\" 304 -\n"
     ]
    }
   ],
   "source": [
    "\n",
    "@app.callback(Output(\"graph_3\", \"figure\"), Output(\"graph_4\", \"figure\"), Input(\"slider_clusters\", \"value\"))\n",
    "def update_cluster_data(num_clusters):\n",
    "    X, y = make_blobs(n_samples=100, centers=num_clusters, n_features=2, random_state=0)\n",
    "    cluster_df = pd.DataFrame(data=X, columns=[\"X\", \"Y\"])\n",
    "    cluster_df['cluster'] = [str(i) for i in y]\n",
    "\n",
    "    fig3 = px.scatter(cluster_df, x=\"X\", y=\"Y\", color=\"cluster\", color_discrete_map=COLORS,\n",
    "                      category_orders={\"cluster\": cluster_df[\"cluster\"].unique()}, height=750)\n",
    "    fig3.update_layout(template=\"plotly_white\", coloraxis_showscale=False)\n",
    "    fig3.update_traces(marker=dict(size=8))\n",
    "\n",
    "    group_counts = cluster_df.groupby('cluster').size().reset_index(name='counts')\n",
    "\n",
    "    fig4 = go.Figure(data=[go.Bar(x=group_counts['cluster'], y=group_counts['counts'],\n",
    "                                 marker=dict(color=[COLORS.get(str(i), 'gray') for i in group_counts['cluster']]))])\n",
    "\n",
    "    fig4.update_layout(height=750, template=\"plotly_white\", title=\"<b>Counts per cluster</b>\", xaxis_title=\"Cluster\",\n",
    "                       title_font_size=25)\n",
    "    return fig3, fig4\n",
    "\n",
    "app.layout = html.Div([\n",
    "    html.Div([html.H1(\"Dashboard 4\")], className=\"header\"),\n",
    "    html.Div([\n",
    "        dcc.Tabs(id=\"tabs\", children=[\n",
    "            dcc.Tab(label='Tab One', id=\"tab_1_graphs\", children=[html.Div([\n",
    "                dbc.Row([\n",
    "                    dbc.Col([dcc.Dropdown(options=['red', 'green', 'blue'], value='red', id='color', multi=False)], width=6),\n",
    "                    dbc.Col([dcc.Slider(min=math.floor(df['y'].min()), max=math.ceil(df['y'].max()), id=\"min_value\")], width=6)\n",
    "                ]),\n",
    "                dbc.Row([\n",
    "                    dbc.Col([dcc.Graph(id=\"graph_1\")], width=6),\n",
    "                    dbc.Col([dcc.Graph(id=\"graph_2\")], width=6)\n",
    "                ])\n",
    "            ], className=\"tab_content\")]),\n",
    "            dcc.Tab(label='Tab Two', id=\"tab_2_graphs\", children=[html.Div([\n",
    "                dbc.Row([\n",
    "                    dbc.Col([dcc.Graph(id=\"graph_3\", selectedData=None, relayoutData=None)], width=8),\n",
    "                    dbc.Col([dcc.Graph(id=\"graph_4\")], width=4)\n",
    "                ]),\n",
    "                dbc.Row([\n",
    "                    dbc.Col([dcc.Slider(min=1, max=10, value=3, id=\"slider_clusters\")], width=12)\n",
    "                ])\n",
    "            ], className=\"tab_content\")])\n",
    "        ])\n",
    "    ], className=\"content\")\n",
    "])\n",
    "\n",
    "if __name__ == '__main__':\n",
    "    app.run_server(debug=False, port=8012)\n"
   ],
   "metadata": {
    "collapsed": false
   }
  }
 ],
 "metadata": {
  "kernelspec": {
   "display_name": "Python 3",
   "language": "python",
   "name": "python3"
  },
  "language_info": {
   "codemirror_mode": {
    "name": "ipython",
    "version": 2
   },
   "file_extension": ".py",
   "mimetype": "text/x-python",
   "name": "python",
   "nbconvert_exporter": "python",
   "pygments_lexer": "ipython2",
   "version": "2.7.6"
  }
 },
 "nbformat": 4,
 "nbformat_minor": 0
}
