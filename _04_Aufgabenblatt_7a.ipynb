{
 "cells": [
  {
   "cell_type": "code",
   "execution_count": 86,
   "outputs": [],
   "source": [
    "import math\n",
    "from dash import Dash, dcc, html, Input, Output\n",
    "import plotly.express as px\n",
    "import plotly.graph_objects as go\n",
    "import numpy as np\n",
    "import pandas as pd\n",
    "import dash_bootstrap_components as dbc\n",
    "from sklearn.datasets import make_blobs\n",
    "\n",
    "import warnings\n",
    "warnings.filterwarnings(\"ignore\", message=\"To exit: use 'exit', 'quit', or Ctrl-D.\")"
   ],
   "metadata": {
    "collapsed": false
   }
  },
  {
   "cell_type": "code",
   "execution_count": 87,
   "outputs": [],
   "source": [
    "app = Dash(__name__, external_stylesheets=[dbc.themes.BOOTSTRAP])\n",
    "\n",
    "df = pd.DataFrame({'y': np.random.normal(loc=0, scale=10, size=1000),\n",
    "                   'x': np.random.normal(loc=10, scale=2, size=1000)})"
   ],
   "metadata": {
    "collapsed": false
   }
  },
  {
   "cell_type": "code",
   "execution_count": 88,
   "outputs": [],
   "source": [
    "COLORS = {'0': \"red\", '1': \"blue\", '2': \"grey\"}\n",
    "\n",
    "# Neue Datenpunkte\n",
    "X = np.array([[1, 2], [3, 4], [5, 6]])  # Beispielwerte, passen Sie sie entsprechend an\n",
    "y = np.array([0, 1, 2])  # Beispielwerte, passen Sie sie entsprechend an\n",
    "\n",
    "cluster_df = pd.DataFrame(data=X, columns=[\"X\", \"Y\"])\n",
    "cluster_df['cluster'] = [str(i) for i in y]\n"
   ],
   "metadata": {
    "collapsed": false
   }
  },
  {
   "cell_type": "code",
   "execution_count": 89,
   "outputs": [],
   "source": [
    "app.layout = html.Div([\n",
    "    html.Div([html.H1(\"Dashboard 4\")], className=\"header\"),\n",
    "    html.Div([\n",
    "        dcc.Tabs(id=\"tabs\", children=[\n",
    "            dcc.Tab(label='Tab One', id=\"tab_1_graphs\", children=[html.Div([\n",
    "                dbc.Row([\n",
    "                    dbc.Col([dcc.Dropdown(options=['red', 'green', 'blue'], value='red', id='color', multi=False)], width=6),\n",
    "                    dbc.Col([dcc.Slider(min=math.floor(df['y'].min()), max=math.ceil(df['y'].max()), id=\"min_value\")], width=6)\n",
    "                ]),\n",
    "                dbc.Row([\n",
    "                    dbc.Col([dcc.Graph(id=\"graph_1\")], width=6),\n",
    "                    dbc.Col([dcc.Graph(id=\"graph_2\")], width=6)\n",
    "                ])\n",
    "            ], className=\"tab_content\")]),\n",
    "            dcc.Tab(label='Tab Two', id=\"tab_2_graphs\", children=[html.Div([\n",
    "                dbc.Row([\n",
    "                    dbc.Col([dcc.Graph(id=\"graph_3\", selectedData=None, relayoutData=None)], width=8),\n",
    "                    dbc.Col([dcc.Graph(id=\"graph_4\")], width=4)\n",
    "                ])\n",
    "            ], className=\"tab_content\")])\n",
    "        ])\n",
    "    ], className=\"content\")\n",
    "])"
   ],
   "metadata": {
    "collapsed": false
   }
  },
  {
   "cell_type": "code",
   "execution_count": 90,
   "outputs": [],
   "source": [
    "@app.callback(Output(\"graph_1\", \"figure\"), Input(\"color\", \"value\"))\n",
    "def update_graph_1(dropdown_value_color):\n",
    "    fig = px.histogram(df, x=\"y\", color_discrete_sequence=[dropdown_value_color])\n",
    "    fig.update_layout(template=\"plotly_white\")\n",
    "    return fig"
   ],
   "metadata": {
    "collapsed": false
   }
  },
  {
   "cell_type": "code",
   "execution_count": 91,
   "outputs": [],
   "source": [
    "@app.callback(Output(\"graph_2\", \"figure\"), Input(\"min_value\", \"value\"))\n",
    "def update_graph_2(min_value):\n",
    "    if min_value:\n",
    "        dff = df[df['y'] > min_value]\n",
    "    else:\n",
    "        dff = df\n",
    "    fig = px.scatter(dff, x='x', y='y')\n",
    "    fig.update_layout(template=\"plotly_white\")\n",
    "    return fig"
   ],
   "metadata": {
    "collapsed": false
   }
  },
  {
   "cell_type": "code",
   "execution_count": 92,
   "outputs": [],
   "source": [
    "@app.callback(Output(\"graph_3\", \"figure\"), Output(\"graph_4\", \"figure\"), Input(\"graph_3\", \"selectedData\"))\n",
    "def update_graph_3_and_4(selected_data):\n",
    "    if selected_data is None or not selected_data[\"points\"]:\n",
    "        cluster_dff = cluster_df\n",
    "    else:\n",
    "        selected_points = [point[\"pointIndex\"] for point in selected_data[\"points\"]]\n",
    "        cluster_dff = cluster_df.iloc[selected_points]\n",
    "\n",
    "    fig3 = px.scatter(cluster_dff, x=\"X\", y=\"Y\", color=\"cluster\", color_discrete_map=COLORS,\n",
    "                      category_orders={\"cluster\": [\"0\", \"1\", \"2\"]}, height=750)\n",
    "    fig3.update_layout(template=\"plotly_white\", coloraxis_showscale=False)\n",
    "    fig3.update_traces(marker=dict(size=8))\n",
    "\n",
    "    group_counts = cluster_dff[['cluster', 'X']].groupby('cluster').count()\n",
    "\n",
    "    fig4 = go.Figure(data=[go.Bar(x=group_counts.index, y=group_counts['X'], marker=dict(color=[COLORS.get(str(i), 'gray') for i in group_counts.index]))])\n",
    "\n",
    "    fig4.update_layout(height=750, template=\"plotly_white\", title=\"<b>Counts per cluster</b>\", xaxis_title=\"cluster\",\n",
    "                       title_font_size=25)\n",
    "    return fig3, fig4"
   ],
   "metadata": {
    "collapsed": false
   }
  },
  {
   "cell_type": "code",
   "execution_count": 93,
   "outputs": [
    {
     "name": "stdout",
     "output_type": "stream",
     "text": [
      "Dash is running on http://127.0.0.1:8012/\n",
      "\n",
      " * Serving Flask app '__main__'\n",
      " * Debug mode: off\n"
     ]
    },
    {
     "name": "stderr",
     "output_type": "stream",
     "text": [
      "WARNING: This is a development server. Do not use it in a production deployment. Use a production WSGI server instead.\n",
      " * Running on http://127.0.0.1:8012\n",
      "Press CTRL+C to quit\n"
     ]
    }
   ],
   "source": [
    "@app.callback(Output(\"graph_3\", \"selectedData\"), Output(\"graph_4\", \"selectedData\"), Input(\"graph_3\", \"clickData\"))\n",
    "def update_selected_data(click_data):\n",
    "    return click_data, None if click_data else None\n",
    "\n",
    "if __name__ == '__main__':\n",
    "    app.run_server(debug=False, port=8012)"
   ],
   "metadata": {
    "collapsed": false
   }
  }
 ],
 "metadata": {
  "kernelspec": {
   "display_name": "Python 3",
   "language": "python",
   "name": "python3"
  },
  "language_info": {
   "codemirror_mode": {
    "name": "ipython",
    "version": 2
   },
   "file_extension": ".py",
   "mimetype": "text/x-python",
   "name": "python",
   "nbconvert_exporter": "python",
   "pygments_lexer": "ipython2",
   "version": "2.7.6"
  }
 },
 "nbformat": 4,
 "nbformat_minor": 0
}
